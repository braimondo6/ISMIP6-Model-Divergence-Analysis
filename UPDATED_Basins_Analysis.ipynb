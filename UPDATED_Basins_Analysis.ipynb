{
 "cells": [
  {
   "cell_type": "code",
   "execution_count": 3,
   "id": "2c70d521",
   "metadata": {},
   "outputs": [
    {
     "name": "stderr",
     "output_type": "stream",
     "text": [
      "C:\\Users\\benra\\AppData\\Local\\Temp\\ipykernel_25176\\2860484646.py:66: SerializationWarning: Unable to decode time axis into full numpy.datetime64[ns] objects, continuing using cftime.datetime objects instead, reason: dates out of range. To silence this warning use a coarser resolution 'time_unit' or specify 'use_cftime=True'.\n",
      "  ds = xr.open_dataset(file)\n",
      "C:\\Users\\benra\\AppData\\Local\\Temp\\ipykernel_25176\\2860484646.py:66: SerializationWarning: Unable to decode time axis into full numpy.datetime64[ns] objects, continuing using cftime.datetime objects instead, reason: dates out of range. To silence this warning use a coarser resolution 'time_unit' or specify 'use_cftime=True'.\n",
      "  ds = xr.open_dataset(file)\n"
     ]
    },
    {
     "name": "stdout",
     "output_type": "stream",
     "text": [
      "\n",
      " Processing: 2015-2025...\n"
     ]
    },
    {
     "name": "stderr",
     "output_type": "stream",
     "text": [
      "C:\\Users\\benra\\anaconda3\\Lib\\site-packages\\sklearn\\cluster\\_kmeans.py:1382: UserWarning: KMeans is known to have a memory leak on Windows with MKL, when there are less chunks than available threads. You can avoid it by setting the environment variable OMP_NUM_THREADS=1.\n",
      "  warnings.warn(\n"
     ]
    },
    {
     "name": "stdout",
     "output_type": "stream",
     "text": [
      "  Basin 1: Top 3 outlier models are: ['VUW', 'UAF', 'MUN']\n"
     ]
    },
    {
     "name": "stderr",
     "output_type": "stream",
     "text": [
      "C:\\Users\\benra\\anaconda3\\Lib\\site-packages\\sklearn\\cluster\\_kmeans.py:1382: UserWarning: KMeans is known to have a memory leak on Windows with MKL, when there are less chunks than available threads. You can avoid it by setting the environment variable OMP_NUM_THREADS=1.\n",
      "  warnings.warn(\n"
     ]
    },
    {
     "name": "stdout",
     "output_type": "stream",
     "text": [
      "  Basin 2: Top 3 outlier models are: ['UCIJPL', 'VUW', 'UAF']\n"
     ]
    },
    {
     "name": "stderr",
     "output_type": "stream",
     "text": [
      "C:\\Users\\benra\\anaconda3\\Lib\\site-packages\\sklearn\\cluster\\_kmeans.py:1382: UserWarning: KMeans is known to have a memory leak on Windows with MKL, when there are less chunks than available threads. You can avoid it by setting the environment variable OMP_NUM_THREADS=1.\n",
      "  warnings.warn(\n"
     ]
    },
    {
     "name": "stdout",
     "output_type": "stream",
     "text": [
      "  Basin 3: Top 3 outlier models are: ['VUW', 'UCIJPL', 'UCIJPL']\n"
     ]
    },
    {
     "name": "stderr",
     "output_type": "stream",
     "text": [
      "C:\\Users\\benra\\anaconda3\\Lib\\site-packages\\sklearn\\cluster\\_kmeans.py:1382: UserWarning: KMeans is known to have a memory leak on Windows with MKL, when there are less chunks than available threads. You can avoid it by setting the environment variable OMP_NUM_THREADS=1.\n",
      "  warnings.warn(\n"
     ]
    },
    {
     "name": "stdout",
     "output_type": "stream",
     "text": [
      "  Basin 4: Top 3 outlier models are: ['VUW', 'AWI', 'AWI']\n"
     ]
    },
    {
     "name": "stderr",
     "output_type": "stream",
     "text": [
      "C:\\Users\\benra\\anaconda3\\Lib\\site-packages\\sklearn\\cluster\\_kmeans.py:1382: UserWarning: KMeans is known to have a memory leak on Windows with MKL, when there are less chunks than available threads. You can avoid it by setting the environment variable OMP_NUM_THREADS=1.\n",
      "  warnings.warn(\n"
     ]
    },
    {
     "name": "stdout",
     "output_type": "stream",
     "text": [
      "  Basin 5: Top 3 outlier models are: ['VUW', 'UAF', 'UCIJPL']\n"
     ]
    },
    {
     "name": "stderr",
     "output_type": "stream",
     "text": [
      "C:\\Users\\benra\\anaconda3\\Lib\\site-packages\\sklearn\\cluster\\_kmeans.py:1382: UserWarning: KMeans is known to have a memory leak on Windows with MKL, when there are less chunks than available threads. You can avoid it by setting the environment variable OMP_NUM_THREADS=1.\n",
      "  warnings.warn(\n"
     ]
    },
    {
     "name": "stdout",
     "output_type": "stream",
     "text": [
      "  Basin 6: Top 3 outlier models are: ['VUW', 'UCIJPL', 'UAF']\n"
     ]
    },
    {
     "name": "stderr",
     "output_type": "stream",
     "text": [
      "C:\\Users\\benra\\anaconda3\\Lib\\site-packages\\sklearn\\cluster\\_kmeans.py:1382: UserWarning: KMeans is known to have a memory leak on Windows with MKL, when there are less chunks than available threads. You can avoid it by setting the environment variable OMP_NUM_THREADS=1.\n",
      "  warnings.warn(\n"
     ]
    },
    {
     "name": "stdout",
     "output_type": "stream",
     "text": [
      "  Basin 7: Top 3 outlier models are: ['VUW', 'UCIJPL', 'UCIJPL']\n",
      "\n",
      " Processing: 2015-2035...\n"
     ]
    },
    {
     "name": "stderr",
     "output_type": "stream",
     "text": [
      "C:\\Users\\benra\\anaconda3\\Lib\\site-packages\\sklearn\\cluster\\_kmeans.py:1382: UserWarning: KMeans is known to have a memory leak on Windows with MKL, when there are less chunks than available threads. You can avoid it by setting the environment variable OMP_NUM_THREADS=1.\n",
      "  warnings.warn(\n"
     ]
    },
    {
     "name": "stdout",
     "output_type": "stream",
     "text": [
      "  Basin 1: Top 3 outlier models are: ['VUW', 'UAF', 'MUN']\n"
     ]
    },
    {
     "name": "stderr",
     "output_type": "stream",
     "text": [
      "C:\\Users\\benra\\anaconda3\\Lib\\site-packages\\sklearn\\cluster\\_kmeans.py:1382: UserWarning: KMeans is known to have a memory leak on Windows with MKL, when there are less chunks than available threads. You can avoid it by setting the environment variable OMP_NUM_THREADS=1.\n",
      "  warnings.warn(\n"
     ]
    },
    {
     "name": "stdout",
     "output_type": "stream",
     "text": [
      "  Basin 2: Top 3 outlier models are: ['UCIJPL', 'VUW', 'UAF']\n"
     ]
    },
    {
     "name": "stderr",
     "output_type": "stream",
     "text": [
      "C:\\Users\\benra\\anaconda3\\Lib\\site-packages\\sklearn\\cluster\\_kmeans.py:1382: UserWarning: KMeans is known to have a memory leak on Windows with MKL, when there are less chunks than available threads. You can avoid it by setting the environment variable OMP_NUM_THREADS=1.\n",
      "  warnings.warn(\n"
     ]
    },
    {
     "name": "stdout",
     "output_type": "stream",
     "text": [
      "  Basin 3: Top 3 outlier models are: ['VUW', 'UCIJPL', 'UCIJPL']\n"
     ]
    },
    {
     "name": "stderr",
     "output_type": "stream",
     "text": [
      "C:\\Users\\benra\\anaconda3\\Lib\\site-packages\\sklearn\\cluster\\_kmeans.py:1382: UserWarning: KMeans is known to have a memory leak on Windows with MKL, when there are less chunks than available threads. You can avoid it by setting the environment variable OMP_NUM_THREADS=1.\n",
      "  warnings.warn(\n"
     ]
    },
    {
     "name": "stdout",
     "output_type": "stream",
     "text": [
      "  Basin 4: Top 3 outlier models are: ['VUW', 'AWI', 'AWI']\n"
     ]
    },
    {
     "name": "stderr",
     "output_type": "stream",
     "text": [
      "C:\\Users\\benra\\anaconda3\\Lib\\site-packages\\sklearn\\cluster\\_kmeans.py:1382: UserWarning: KMeans is known to have a memory leak on Windows with MKL, when there are less chunks than available threads. You can avoid it by setting the environment variable OMP_NUM_THREADS=1.\n",
      "  warnings.warn(\n"
     ]
    },
    {
     "name": "stdout",
     "output_type": "stream",
     "text": [
      "  Basin 5: Top 3 outlier models are: ['VUW', 'UAF', 'UCIJPL']\n"
     ]
    },
    {
     "name": "stderr",
     "output_type": "stream",
     "text": [
      "C:\\Users\\benra\\anaconda3\\Lib\\site-packages\\sklearn\\cluster\\_kmeans.py:1382: UserWarning: KMeans is known to have a memory leak on Windows with MKL, when there are less chunks than available threads. You can avoid it by setting the environment variable OMP_NUM_THREADS=1.\n",
      "  warnings.warn(\n"
     ]
    },
    {
     "name": "stdout",
     "output_type": "stream",
     "text": [
      "  Basin 6: Top 3 outlier models are: ['VUW', 'UCIJPL', 'UAF']\n"
     ]
    },
    {
     "name": "stderr",
     "output_type": "stream",
     "text": [
      "C:\\Users\\benra\\anaconda3\\Lib\\site-packages\\sklearn\\cluster\\_kmeans.py:1382: UserWarning: KMeans is known to have a memory leak on Windows with MKL, when there are less chunks than available threads. You can avoid it by setting the environment variable OMP_NUM_THREADS=1.\n",
      "  warnings.warn(\n"
     ]
    },
    {
     "name": "stdout",
     "output_type": "stream",
     "text": [
      "  Basin 7: Top 3 outlier models are: ['VUW', 'UCIJPL', 'UCIJPL']\n",
      "\n",
      " Processing: 2015-2045...\n"
     ]
    },
    {
     "name": "stderr",
     "output_type": "stream",
     "text": [
      "C:\\Users\\benra\\anaconda3\\Lib\\site-packages\\sklearn\\cluster\\_kmeans.py:1382: UserWarning: KMeans is known to have a memory leak on Windows with MKL, when there are less chunks than available threads. You can avoid it by setting the environment variable OMP_NUM_THREADS=1.\n",
      "  warnings.warn(\n"
     ]
    },
    {
     "name": "stdout",
     "output_type": "stream",
     "text": [
      "  Basin 1: Top 3 outlier models are: ['VUW', 'UAF', 'MUN']\n"
     ]
    },
    {
     "name": "stderr",
     "output_type": "stream",
     "text": [
      "C:\\Users\\benra\\anaconda3\\Lib\\site-packages\\sklearn\\cluster\\_kmeans.py:1382: UserWarning: KMeans is known to have a memory leak on Windows with MKL, when there are less chunks than available threads. You can avoid it by setting the environment variable OMP_NUM_THREADS=1.\n",
      "  warnings.warn(\n"
     ]
    },
    {
     "name": "stdout",
     "output_type": "stream",
     "text": [
      "  Basin 2: Top 3 outlier models are: ['UCIJPL', 'VUW', 'UAF']\n"
     ]
    },
    {
     "name": "stderr",
     "output_type": "stream",
     "text": [
      "C:\\Users\\benra\\anaconda3\\Lib\\site-packages\\sklearn\\cluster\\_kmeans.py:1382: UserWarning: KMeans is known to have a memory leak on Windows with MKL, when there are less chunks than available threads. You can avoid it by setting the environment variable OMP_NUM_THREADS=1.\n",
      "  warnings.warn(\n"
     ]
    },
    {
     "name": "stdout",
     "output_type": "stream",
     "text": [
      "  Basin 3: Top 3 outlier models are: ['VUW', 'UCIJPL', 'UCIJPL']\n"
     ]
    },
    {
     "name": "stderr",
     "output_type": "stream",
     "text": [
      "C:\\Users\\benra\\anaconda3\\Lib\\site-packages\\sklearn\\cluster\\_kmeans.py:1382: UserWarning: KMeans is known to have a memory leak on Windows with MKL, when there are less chunks than available threads. You can avoid it by setting the environment variable OMP_NUM_THREADS=1.\n",
      "  warnings.warn(\n"
     ]
    },
    {
     "name": "stdout",
     "output_type": "stream",
     "text": [
      "  Basin 4: Top 3 outlier models are: ['VUW', 'AWI', 'AWI']\n"
     ]
    },
    {
     "name": "stderr",
     "output_type": "stream",
     "text": [
      "C:\\Users\\benra\\anaconda3\\Lib\\site-packages\\sklearn\\cluster\\_kmeans.py:1382: UserWarning: KMeans is known to have a memory leak on Windows with MKL, when there are less chunks than available threads. You can avoid it by setting the environment variable OMP_NUM_THREADS=1.\n",
      "  warnings.warn(\n"
     ]
    },
    {
     "name": "stdout",
     "output_type": "stream",
     "text": [
      "  Basin 5: Top 3 outlier models are: ['VUW', 'UAF', 'UCIJPL']\n"
     ]
    },
    {
     "name": "stderr",
     "output_type": "stream",
     "text": [
      "C:\\Users\\benra\\anaconda3\\Lib\\site-packages\\sklearn\\cluster\\_kmeans.py:1382: UserWarning: KMeans is known to have a memory leak on Windows with MKL, when there are less chunks than available threads. You can avoid it by setting the environment variable OMP_NUM_THREADS=1.\n",
      "  warnings.warn(\n"
     ]
    },
    {
     "name": "stdout",
     "output_type": "stream",
     "text": [
      "  Basin 6: Top 3 outlier models are: ['VUW', 'UCIJPL', 'UAF']\n"
     ]
    },
    {
     "name": "stderr",
     "output_type": "stream",
     "text": [
      "C:\\Users\\benra\\anaconda3\\Lib\\site-packages\\sklearn\\cluster\\_kmeans.py:1382: UserWarning: KMeans is known to have a memory leak on Windows with MKL, when there are less chunks than available threads. You can avoid it by setting the environment variable OMP_NUM_THREADS=1.\n",
      "  warnings.warn(\n"
     ]
    },
    {
     "name": "stdout",
     "output_type": "stream",
     "text": [
      "  Basin 7: Top 3 outlier models are: ['VUW', 'UCIJPL', 'UCIJPL']\n",
      "\n",
      " Processing: 2015-2055...\n"
     ]
    },
    {
     "name": "stderr",
     "output_type": "stream",
     "text": [
      "C:\\Users\\benra\\anaconda3\\Lib\\site-packages\\sklearn\\cluster\\_kmeans.py:1382: UserWarning: KMeans is known to have a memory leak on Windows with MKL, when there are less chunks than available threads. You can avoid it by setting the environment variable OMP_NUM_THREADS=1.\n",
      "  warnings.warn(\n"
     ]
    },
    {
     "name": "stdout",
     "output_type": "stream",
     "text": [
      "  Basin 1: Top 3 outlier models are: ['VUW', 'UAF', 'MUN']\n"
     ]
    },
    {
     "name": "stderr",
     "output_type": "stream",
     "text": [
      "C:\\Users\\benra\\anaconda3\\Lib\\site-packages\\sklearn\\cluster\\_kmeans.py:1382: UserWarning: KMeans is known to have a memory leak on Windows with MKL, when there are less chunks than available threads. You can avoid it by setting the environment variable OMP_NUM_THREADS=1.\n",
      "  warnings.warn(\n"
     ]
    },
    {
     "name": "stdout",
     "output_type": "stream",
     "text": [
      "  Basin 2: Top 3 outlier models are: ['UCIJPL', 'VUW', 'UAF']\n"
     ]
    },
    {
     "name": "stderr",
     "output_type": "stream",
     "text": [
      "C:\\Users\\benra\\anaconda3\\Lib\\site-packages\\sklearn\\cluster\\_kmeans.py:1382: UserWarning: KMeans is known to have a memory leak on Windows with MKL, when there are less chunks than available threads. You can avoid it by setting the environment variable OMP_NUM_THREADS=1.\n",
      "  warnings.warn(\n"
     ]
    },
    {
     "name": "stdout",
     "output_type": "stream",
     "text": [
      "  Basin 3: Top 3 outlier models are: ['VUW', 'UCIJPL', 'UCIJPL']\n"
     ]
    },
    {
     "name": "stderr",
     "output_type": "stream",
     "text": [
      "C:\\Users\\benra\\anaconda3\\Lib\\site-packages\\sklearn\\cluster\\_kmeans.py:1382: UserWarning: KMeans is known to have a memory leak on Windows with MKL, when there are less chunks than available threads. You can avoid it by setting the environment variable OMP_NUM_THREADS=1.\n",
      "  warnings.warn(\n"
     ]
    },
    {
     "name": "stdout",
     "output_type": "stream",
     "text": [
      "  Basin 4: Top 3 outlier models are: ['VUW', 'AWI', 'AWI']\n"
     ]
    },
    {
     "name": "stderr",
     "output_type": "stream",
     "text": [
      "C:\\Users\\benra\\anaconda3\\Lib\\site-packages\\sklearn\\cluster\\_kmeans.py:1382: UserWarning: KMeans is known to have a memory leak on Windows with MKL, when there are less chunks than available threads. You can avoid it by setting the environment variable OMP_NUM_THREADS=1.\n",
      "  warnings.warn(\n"
     ]
    },
    {
     "name": "stdout",
     "output_type": "stream",
     "text": [
      "  Basin 5: Top 3 outlier models are: ['VUW', 'UAF', 'UCIJPL']\n"
     ]
    },
    {
     "name": "stderr",
     "output_type": "stream",
     "text": [
      "C:\\Users\\benra\\anaconda3\\Lib\\site-packages\\sklearn\\cluster\\_kmeans.py:1382: UserWarning: KMeans is known to have a memory leak on Windows with MKL, when there are less chunks than available threads. You can avoid it by setting the environment variable OMP_NUM_THREADS=1.\n",
      "  warnings.warn(\n"
     ]
    },
    {
     "name": "stdout",
     "output_type": "stream",
     "text": [
      "  Basin 6: Top 3 outlier models are: ['VUW', 'UCIJPL', 'UAF']\n"
     ]
    },
    {
     "name": "stderr",
     "output_type": "stream",
     "text": [
      "C:\\Users\\benra\\anaconda3\\Lib\\site-packages\\sklearn\\cluster\\_kmeans.py:1382: UserWarning: KMeans is known to have a memory leak on Windows with MKL, when there are less chunks than available threads. You can avoid it by setting the environment variable OMP_NUM_THREADS=1.\n",
      "  warnings.warn(\n"
     ]
    },
    {
     "name": "stdout",
     "output_type": "stream",
     "text": [
      "  Basin 7: Top 3 outlier models are: ['VUW', 'UCIJPL', 'UCIJPL']\n",
      "\n",
      " Processing: 2015-2065...\n"
     ]
    },
    {
     "name": "stderr",
     "output_type": "stream",
     "text": [
      "C:\\Users\\benra\\anaconda3\\Lib\\site-packages\\sklearn\\cluster\\_kmeans.py:1382: UserWarning: KMeans is known to have a memory leak on Windows with MKL, when there are less chunks than available threads. You can avoid it by setting the environment variable OMP_NUM_THREADS=1.\n",
      "  warnings.warn(\n"
     ]
    },
    {
     "name": "stdout",
     "output_type": "stream",
     "text": [
      "  Basin 1: Top 3 outlier models are: ['VUW', 'UAF', 'MUN']\n"
     ]
    },
    {
     "name": "stderr",
     "output_type": "stream",
     "text": [
      "C:\\Users\\benra\\anaconda3\\Lib\\site-packages\\sklearn\\cluster\\_kmeans.py:1382: UserWarning: KMeans is known to have a memory leak on Windows with MKL, when there are less chunks than available threads. You can avoid it by setting the environment variable OMP_NUM_THREADS=1.\n",
      "  warnings.warn(\n"
     ]
    },
    {
     "name": "stdout",
     "output_type": "stream",
     "text": [
      "  Basin 2: Top 3 outlier models are: ['UCIJPL', 'VUW', 'UAF']\n"
     ]
    },
    {
     "name": "stderr",
     "output_type": "stream",
     "text": [
      "C:\\Users\\benra\\anaconda3\\Lib\\site-packages\\sklearn\\cluster\\_kmeans.py:1382: UserWarning: KMeans is known to have a memory leak on Windows with MKL, when there are less chunks than available threads. You can avoid it by setting the environment variable OMP_NUM_THREADS=1.\n",
      "  warnings.warn(\n"
     ]
    },
    {
     "name": "stdout",
     "output_type": "stream",
     "text": [
      "  Basin 3: Top 3 outlier models are: ['VUW', 'UCIJPL', 'UCIJPL']\n"
     ]
    },
    {
     "name": "stderr",
     "output_type": "stream",
     "text": [
      "C:\\Users\\benra\\anaconda3\\Lib\\site-packages\\sklearn\\cluster\\_kmeans.py:1382: UserWarning: KMeans is known to have a memory leak on Windows with MKL, when there are less chunks than available threads. You can avoid it by setting the environment variable OMP_NUM_THREADS=1.\n",
      "  warnings.warn(\n"
     ]
    },
    {
     "name": "stdout",
     "output_type": "stream",
     "text": [
      "  Basin 4: Top 3 outlier models are: ['VUW', 'AWI', 'AWI']\n"
     ]
    },
    {
     "name": "stderr",
     "output_type": "stream",
     "text": [
      "C:\\Users\\benra\\anaconda3\\Lib\\site-packages\\sklearn\\cluster\\_kmeans.py:1382: UserWarning: KMeans is known to have a memory leak on Windows with MKL, when there are less chunks than available threads. You can avoid it by setting the environment variable OMP_NUM_THREADS=1.\n",
      "  warnings.warn(\n"
     ]
    },
    {
     "name": "stdout",
     "output_type": "stream",
     "text": [
      "  Basin 5: Top 3 outlier models are: ['VUW', 'UAF', 'UCIJPL']\n"
     ]
    },
    {
     "name": "stderr",
     "output_type": "stream",
     "text": [
      "C:\\Users\\benra\\anaconda3\\Lib\\site-packages\\sklearn\\cluster\\_kmeans.py:1382: UserWarning: KMeans is known to have a memory leak on Windows with MKL, when there are less chunks than available threads. You can avoid it by setting the environment variable OMP_NUM_THREADS=1.\n",
      "  warnings.warn(\n"
     ]
    },
    {
     "name": "stdout",
     "output_type": "stream",
     "text": [
      "  Basin 6: Top 3 outlier models are: ['VUW', 'UCIJPL', 'UAF']\n"
     ]
    },
    {
     "name": "stderr",
     "output_type": "stream",
     "text": [
      "C:\\Users\\benra\\anaconda3\\Lib\\site-packages\\sklearn\\cluster\\_kmeans.py:1382: UserWarning: KMeans is known to have a memory leak on Windows with MKL, when there are less chunks than available threads. You can avoid it by setting the environment variable OMP_NUM_THREADS=1.\n",
      "  warnings.warn(\n"
     ]
    },
    {
     "name": "stdout",
     "output_type": "stream",
     "text": [
      "  Basin 7: Top 3 outlier models are: ['VUW', 'UCIJPL', 'UCIJPL']\n",
      "\n",
      " Processing: 2015-2075...\n"
     ]
    },
    {
     "name": "stderr",
     "output_type": "stream",
     "text": [
      "C:\\Users\\benra\\anaconda3\\Lib\\site-packages\\sklearn\\cluster\\_kmeans.py:1382: UserWarning: KMeans is known to have a memory leak on Windows with MKL, when there are less chunks than available threads. You can avoid it by setting the environment variable OMP_NUM_THREADS=1.\n",
      "  warnings.warn(\n"
     ]
    },
    {
     "name": "stdout",
     "output_type": "stream",
     "text": [
      "  Basin 1: Top 3 outlier models are: ['VUW', 'UAF', 'MUN']\n"
     ]
    },
    {
     "name": "stderr",
     "output_type": "stream",
     "text": [
      "C:\\Users\\benra\\anaconda3\\Lib\\site-packages\\sklearn\\cluster\\_kmeans.py:1382: UserWarning: KMeans is known to have a memory leak on Windows with MKL, when there are less chunks than available threads. You can avoid it by setting the environment variable OMP_NUM_THREADS=1.\n",
      "  warnings.warn(\n"
     ]
    },
    {
     "name": "stdout",
     "output_type": "stream",
     "text": [
      "  Basin 2: Top 3 outlier models are: ['UCIJPL', 'VUW', 'UAF']\n"
     ]
    },
    {
     "name": "stderr",
     "output_type": "stream",
     "text": [
      "C:\\Users\\benra\\anaconda3\\Lib\\site-packages\\sklearn\\cluster\\_kmeans.py:1382: UserWarning: KMeans is known to have a memory leak on Windows with MKL, when there are less chunks than available threads. You can avoid it by setting the environment variable OMP_NUM_THREADS=1.\n",
      "  warnings.warn(\n"
     ]
    },
    {
     "name": "stdout",
     "output_type": "stream",
     "text": [
      "  Basin 3: Top 3 outlier models are: ['VUW', 'UCIJPL', 'UCIJPL']\n"
     ]
    },
    {
     "name": "stderr",
     "output_type": "stream",
     "text": [
      "C:\\Users\\benra\\anaconda3\\Lib\\site-packages\\sklearn\\cluster\\_kmeans.py:1382: UserWarning: KMeans is known to have a memory leak on Windows with MKL, when there are less chunks than available threads. You can avoid it by setting the environment variable OMP_NUM_THREADS=1.\n",
      "  warnings.warn(\n"
     ]
    },
    {
     "name": "stdout",
     "output_type": "stream",
     "text": [
      "  Basin 4: Top 3 outlier models are: ['VUW', 'AWI', 'AWI']\n"
     ]
    },
    {
     "name": "stderr",
     "output_type": "stream",
     "text": [
      "C:\\Users\\benra\\anaconda3\\Lib\\site-packages\\sklearn\\cluster\\_kmeans.py:1382: UserWarning: KMeans is known to have a memory leak on Windows with MKL, when there are less chunks than available threads. You can avoid it by setting the environment variable OMP_NUM_THREADS=1.\n",
      "  warnings.warn(\n"
     ]
    },
    {
     "name": "stdout",
     "output_type": "stream",
     "text": [
      "  Basin 5: Top 3 outlier models are: ['VUW', 'UAF', 'UCIJPL']\n"
     ]
    },
    {
     "name": "stderr",
     "output_type": "stream",
     "text": [
      "C:\\Users\\benra\\anaconda3\\Lib\\site-packages\\sklearn\\cluster\\_kmeans.py:1382: UserWarning: KMeans is known to have a memory leak on Windows with MKL, when there are less chunks than available threads. You can avoid it by setting the environment variable OMP_NUM_THREADS=1.\n",
      "  warnings.warn(\n"
     ]
    },
    {
     "name": "stdout",
     "output_type": "stream",
     "text": [
      "  Basin 6: Top 3 outlier models are: ['VUW', 'UCIJPL', 'UAF']\n"
     ]
    },
    {
     "name": "stderr",
     "output_type": "stream",
     "text": [
      "C:\\Users\\benra\\anaconda3\\Lib\\site-packages\\sklearn\\cluster\\_kmeans.py:1382: UserWarning: KMeans is known to have a memory leak on Windows with MKL, when there are less chunks than available threads. You can avoid it by setting the environment variable OMP_NUM_THREADS=1.\n",
      "  warnings.warn(\n"
     ]
    },
    {
     "name": "stdout",
     "output_type": "stream",
     "text": [
      "  Basin 7: Top 3 outlier models are: ['VUW', 'UCIJPL', 'UCIJPL']\n",
      "\n",
      " Processing: 2015-2085...\n"
     ]
    },
    {
     "name": "stderr",
     "output_type": "stream",
     "text": [
      "C:\\Users\\benra\\anaconda3\\Lib\\site-packages\\sklearn\\cluster\\_kmeans.py:1382: UserWarning: KMeans is known to have a memory leak on Windows with MKL, when there are less chunks than available threads. You can avoid it by setting the environment variable OMP_NUM_THREADS=1.\n",
      "  warnings.warn(\n"
     ]
    },
    {
     "name": "stdout",
     "output_type": "stream",
     "text": [
      "  Basin 1: Top 3 outlier models are: ['VUW', 'UAF', 'MUN']\n"
     ]
    },
    {
     "name": "stderr",
     "output_type": "stream",
     "text": [
      "C:\\Users\\benra\\anaconda3\\Lib\\site-packages\\sklearn\\cluster\\_kmeans.py:1382: UserWarning: KMeans is known to have a memory leak on Windows with MKL, when there are less chunks than available threads. You can avoid it by setting the environment variable OMP_NUM_THREADS=1.\n",
      "  warnings.warn(\n"
     ]
    },
    {
     "name": "stdout",
     "output_type": "stream",
     "text": [
      "  Basin 2: Top 3 outlier models are: ['UCIJPL', 'VUW', 'UAF']\n"
     ]
    },
    {
     "name": "stderr",
     "output_type": "stream",
     "text": [
      "C:\\Users\\benra\\anaconda3\\Lib\\site-packages\\sklearn\\cluster\\_kmeans.py:1382: UserWarning: KMeans is known to have a memory leak on Windows with MKL, when there are less chunks than available threads. You can avoid it by setting the environment variable OMP_NUM_THREADS=1.\n",
      "  warnings.warn(\n"
     ]
    },
    {
     "name": "stdout",
     "output_type": "stream",
     "text": [
      "  Basin 3: Top 3 outlier models are: ['VUW', 'UCIJPL', 'UCIJPL']\n"
     ]
    },
    {
     "name": "stderr",
     "output_type": "stream",
     "text": [
      "C:\\Users\\benra\\anaconda3\\Lib\\site-packages\\sklearn\\cluster\\_kmeans.py:1382: UserWarning: KMeans is known to have a memory leak on Windows with MKL, when there are less chunks than available threads. You can avoid it by setting the environment variable OMP_NUM_THREADS=1.\n",
      "  warnings.warn(\n"
     ]
    },
    {
     "name": "stdout",
     "output_type": "stream",
     "text": [
      "  Basin 4: Top 3 outlier models are: ['VUW', 'AWI', 'AWI']\n"
     ]
    },
    {
     "name": "stderr",
     "output_type": "stream",
     "text": [
      "C:\\Users\\benra\\anaconda3\\Lib\\site-packages\\sklearn\\cluster\\_kmeans.py:1382: UserWarning: KMeans is known to have a memory leak on Windows with MKL, when there are less chunks than available threads. You can avoid it by setting the environment variable OMP_NUM_THREADS=1.\n",
      "  warnings.warn(\n"
     ]
    },
    {
     "name": "stdout",
     "output_type": "stream",
     "text": [
      "  Basin 5: Top 3 outlier models are: ['VUW', 'UAF', 'UCIJPL']\n"
     ]
    },
    {
     "name": "stderr",
     "output_type": "stream",
     "text": [
      "C:\\Users\\benra\\anaconda3\\Lib\\site-packages\\sklearn\\cluster\\_kmeans.py:1382: UserWarning: KMeans is known to have a memory leak on Windows with MKL, when there are less chunks than available threads. You can avoid it by setting the environment variable OMP_NUM_THREADS=1.\n",
      "  warnings.warn(\n"
     ]
    },
    {
     "name": "stdout",
     "output_type": "stream",
     "text": [
      "  Basin 6: Top 3 outlier models are: ['VUW', 'UCIJPL', 'UAF']\n"
     ]
    },
    {
     "name": "stderr",
     "output_type": "stream",
     "text": [
      "C:\\Users\\benra\\anaconda3\\Lib\\site-packages\\sklearn\\cluster\\_kmeans.py:1382: UserWarning: KMeans is known to have a memory leak on Windows with MKL, when there are less chunks than available threads. You can avoid it by setting the environment variable OMP_NUM_THREADS=1.\n",
      "  warnings.warn(\n"
     ]
    },
    {
     "name": "stdout",
     "output_type": "stream",
     "text": [
      "  Basin 7: Top 3 outlier models are: ['VUW', 'UCIJPL', 'UCIJPL']\n",
      "\n",
      " Processing: 2015-2100...\n"
     ]
    },
    {
     "name": "stderr",
     "output_type": "stream",
     "text": [
      "C:\\Users\\benra\\anaconda3\\Lib\\site-packages\\sklearn\\cluster\\_kmeans.py:1382: UserWarning: KMeans is known to have a memory leak on Windows with MKL, when there are less chunks than available threads. You can avoid it by setting the environment variable OMP_NUM_THREADS=1.\n",
      "  warnings.warn(\n"
     ]
    },
    {
     "name": "stdout",
     "output_type": "stream",
     "text": [
      "  Basin 1: Top 3 outlier models are: ['VUW', 'UAF', 'MUN']\n"
     ]
    },
    {
     "name": "stderr",
     "output_type": "stream",
     "text": [
      "C:\\Users\\benra\\anaconda3\\Lib\\site-packages\\sklearn\\cluster\\_kmeans.py:1382: UserWarning: KMeans is known to have a memory leak on Windows with MKL, when there are less chunks than available threads. You can avoid it by setting the environment variable OMP_NUM_THREADS=1.\n",
      "  warnings.warn(\n"
     ]
    },
    {
     "name": "stdout",
     "output_type": "stream",
     "text": [
      "  Basin 2: Top 3 outlier models are: ['UCIJPL', 'VUW', 'UAF']\n"
     ]
    },
    {
     "name": "stderr",
     "output_type": "stream",
     "text": [
      "C:\\Users\\benra\\anaconda3\\Lib\\site-packages\\sklearn\\cluster\\_kmeans.py:1382: UserWarning: KMeans is known to have a memory leak on Windows with MKL, when there are less chunks than available threads. You can avoid it by setting the environment variable OMP_NUM_THREADS=1.\n",
      "  warnings.warn(\n"
     ]
    },
    {
     "name": "stdout",
     "output_type": "stream",
     "text": [
      "  Basin 3: Top 3 outlier models are: ['VUW', 'UCIJPL', 'UCIJPL']\n"
     ]
    },
    {
     "name": "stderr",
     "output_type": "stream",
     "text": [
      "C:\\Users\\benra\\anaconda3\\Lib\\site-packages\\sklearn\\cluster\\_kmeans.py:1382: UserWarning: KMeans is known to have a memory leak on Windows with MKL, when there are less chunks than available threads. You can avoid it by setting the environment variable OMP_NUM_THREADS=1.\n",
      "  warnings.warn(\n"
     ]
    },
    {
     "name": "stdout",
     "output_type": "stream",
     "text": [
      "  Basin 4: Top 3 outlier models are: ['VUW', 'AWI', 'AWI']\n"
     ]
    },
    {
     "name": "stderr",
     "output_type": "stream",
     "text": [
      "C:\\Users\\benra\\anaconda3\\Lib\\site-packages\\sklearn\\cluster\\_kmeans.py:1382: UserWarning: KMeans is known to have a memory leak on Windows with MKL, when there are less chunks than available threads. You can avoid it by setting the environment variable OMP_NUM_THREADS=1.\n",
      "  warnings.warn(\n"
     ]
    },
    {
     "name": "stdout",
     "output_type": "stream",
     "text": [
      "  Basin 5: Top 3 outlier models are: ['VUW', 'UAF', 'UCIJPL']\n"
     ]
    },
    {
     "name": "stderr",
     "output_type": "stream",
     "text": [
      "C:\\Users\\benra\\anaconda3\\Lib\\site-packages\\sklearn\\cluster\\_kmeans.py:1382: UserWarning: KMeans is known to have a memory leak on Windows with MKL, when there are less chunks than available threads. You can avoid it by setting the environment variable OMP_NUM_THREADS=1.\n",
      "  warnings.warn(\n"
     ]
    },
    {
     "name": "stdout",
     "output_type": "stream",
     "text": [
      "  Basin 6: Top 3 outlier models are: ['VUW', 'UCIJPL', 'UAF']\n"
     ]
    },
    {
     "name": "stderr",
     "output_type": "stream",
     "text": [
      "C:\\Users\\benra\\anaconda3\\Lib\\site-packages\\sklearn\\cluster\\_kmeans.py:1382: UserWarning: KMeans is known to have a memory leak on Windows with MKL, when there are less chunks than available threads. You can avoid it by setting the environment variable OMP_NUM_THREADS=1.\n",
      "  warnings.warn(\n"
     ]
    },
    {
     "name": "stdout",
     "output_type": "stream",
     "text": [
      "  Basin 7: Top 3 outlier models are: ['VUW', 'UCIJPL', 'UCIJPL']\n"
     ]
    },
    {
     "data": {
      "image/png": "[encoded data removed]",
      "text/plain": [
       "<Figure size 800x1000 with 2 Axes>"
      ]
     },
     "metadata": {},
     "output_type": "display_data"
    }
   ],
   "source": [
    "import xarray as xr\n",
    "import numpy as np\n",
    "import os\n",
    "import pandas as pd\n",
    "from sklearn.decomposition import PCA\n",
    "from sklearn.preprocessing import StandardScaler\n",
    "import matplotlib.pyplot as plt\n",
    "import seaborn as sns\n",
    "from glob import glob\n",
    "from sklearn.cluster import KMeans\n",
    "from scipy.ndimage import center_of_mass\n",
    "\n",
    "# === USER INPUTS ===\n",
    "model_nc_folder = r\"C:\\Users\\benra\\lithk_exp06\"  # <-- change this for other experiments\n",
    "basin_mask_path = r\"C:\\Users\\benra\\output_combined_masked_basins.nc\"\n",
    "variable_name = \"lithk\"\n",
    "exp_id = \"exp06\"\n",
    "start_year = 2015\n",
    "end_year = 2100\n",
    "\n",
    "# --- Number of top outlier models to highlight per basin ---\n",
    "N_TOP_OUTLIERS_PER_BASIN = 3 \n",
    "\n",
    "# --- Basin Names Mapping ---\n",
    "basin_names = {\n",
    "    1: 'NO',\n",
    "    2: 'NE',\n",
    "    3: 'CE',\n",
    "    4: 'SE',\n",
    "    5: 'SW',\n",
    "    6: 'CW',\n",
    "    7: 'NW'\n",
    "}\n",
    "\n",
    "# === DEFINE OUTPUT DIRECTORY\n",
    "base_output_dir = os.path.join(\"Research_Plots\", \"Basin Outlier Distances\")\n",
    "os.makedirs(base_output_dir, exist_ok=True)\n",
    "\n",
    "# === DEFINE TIME WINDOWS ===\n",
    "time_windows = {\n",
    "    '2015-2025': (0, 10),\n",
    "    '2015-2035': (0, 20),\n",
    "    '2015-2045': (0, 30),\n",
    "    '2015-2055': (0, 40),\n",
    "    '2015-2065': (0, 50),\n",
    "    '2015-2075': (0, 60),\n",
    "    '2015-2085': (0, 70),\n",
    "    '2015-2100': (0, 85)  # full time series\n",
    "}\n",
    "\n",
    "# === LOAD BASIN MASK ===\n",
    "basin_mask_ds = xr.open_dataset(basin_mask_path)\n",
    "basin_mask = basin_mask_ds[\"IDs\"].values \n",
    "\n",
    "basin_ids = np.unique(basin_mask[~np.isnan(basin_mask)]).astype(int)\n",
    "n_basins = len(basin_ids)\n",
    "\n",
    "# === LOAD MODEL FILES ===\n",
    "model_files = sorted(glob(os.path.join(model_nc_folder, \"*.nc\")))\n",
    "model_ids = [os.path.basename(f).split('_')[2] for f in model_files]\n",
    "\n",
    "# === PARSE ALL MODELS TO BUILD BASIN DATA ===\n",
    "basin_data_dict = {b: [] for b in basin_ids}\n",
    "\n",
    "for file, model in zip(model_files, model_ids):\n",
    "    ds = xr.open_dataset(file)\n",
    "    try:\n",
    "        var = ds[variable_name]\n",
    "    except KeyError:\n",
    "        print(f\"Variable {variable_name} not found in {file}\")\n",
    "        continue\n",
    "\n",
    "    # Find time indices\n",
    "    time_years = ds['time'].dt.year.values\n",
    "\n",
    "    t_start_idx = np.argmin(np.abs(time_years - start_year))\n",
    "    t_end_idx = np.argmin(np.abs(time_years - end_year))\n",
    "\n",
    "    if abs(time_years[t_start_idx] - start_year) > 1 or abs(time_years[t_end_idx] - end_year) > 1:\n",
    "        print(f\"Closest match for {file}: start={time_years[t_start_idx]}, end={time_years[t_end_idx]}\")\n",
    "\n",
    "    delta = var.isel(time=t_end_idx) - var.isel(time=t_start_idx)\n",
    "    delta_data = delta.values  # convert to numpy\n",
    "\n",
    "    for b in basin_ids:\n",
    "        basin_mask_bool = (basin_mask == b)\n",
    "        basin_values = delta_data[basin_mask_bool]\n",
    "\n",
    "        if np.isnan(basin_values).all():\n",
    "            continue\n",
    "\n",
    "        basin_data_dict[b].append(basin_values.flatten())\n",
    "\n",
    "# === STANDARDIZE AND RUN PCA BY BASIN AND TIMESTEP ===\n",
    "results = []\n",
    "outlier_models_per_basin_time = {}\n",
    "\n",
    "for time_window_label, (t_start, t_end) in time_windows.items():\n",
    "    print(f\"\\n Processing: {time_window_label}...\")\n",
    "\n",
    "    folder_name = time_window_label.replace(\" \", \"_\").replace(\"(\",\"\").replace(\")\", \"\")\n",
    "    time_window_output_dir = os.path.join(base_output_dir, folder_name)\n",
    "    os.makedirs(time_window_output_dir, exist_ok=True)\n",
    "\n",
    "    outlier_models_per_basin_time[time_window_label] = {}\n",
    "\n",
    "    for basin, model_data_list in basin_data_dict.items():\n",
    "        if len(model_data_list) < 4:\n",
    "            continue\n",
    "\n",
    "        X_raw = np.array(model_data_list)\n",
    "\n",
    "        valid_mask = ~np.isnan(X_raw).any(axis=0)\n",
    "\n",
    "        if valid_mask.sum() < 5:\n",
    "            print(f\"Skipping basin {basin}: too few valid gridpoints after removing NaNs.\")\n",
    "            continue\n",
    "\n",
    "        X = X_raw[:, valid_mask]\n",
    "        model_ids_in_basin = model_ids[:X.shape[0]]\n",
    "\n",
    "        X_scaled = StandardScaler().fit_transform(X)\n",
    "        pcs = PCA(n_components=2).fit_transform(X_scaled)\n",
    "\n",
    "        n_clusters_kmeans = min(len(model_ids_in_basin), 5)\n",
    "        if n_clusters_kmeans < 2:\n",
    "            print(f\"Skipping basin {basin}: not enough models for KMeans clustering (need at least 2).\")\n",
    "            continue\n",
    "\n",
    "        kmeans = KMeans(n_clusters=n_clusters_kmeans, random_state=0, n_init='auto').fit(pcs)\n",
    "        labels = kmeans.labels_\n",
    "        centroids = kmeans.cluster_centers_\n",
    "\n",
    "        # Find the main cluster (the one with the most members)\n",
    "        counts = np.bincount(labels)\n",
    "        main_cluster_label = np.argmax(counts)\n",
    "        main_cluster_centroid = centroids[main_cluster_label]\n",
    "\n",
    "        # Calculate the distance of every model to the main cluster's centroid\n",
    "        distances_to_main_centroid = np.array([np.linalg.norm(pcs[i] - main_cluster_centroid) for i in range(len(model_ids_in_basin))])\n",
    "\n",
    "        # Identify the top N outliers based on these distances\n",
    "        sorted_indices = np.argsort(distances_to_main_centroid)[::-1] # Sort descending by distance\n",
    "        top_outlier_indices = sorted_indices[:N_TOP_OUTLIERS_PER_BASIN]\n",
    "        current_basin_outlier_models = [model_ids_in_basin[i] for i in top_outlier_indices]\n",
    "\n",
    "        outlier_models_per_basin_time[time_window_label][basin] = current_basin_outlier_models\n",
    "        print(f\"  Basin {basin}: Top {N_TOP_OUTLIERS_PER_BASIN} outlier models are: {current_basin_outlier_models}\")\n",
    "\n",
    "        for i, model in enumerate(model_ids_in_basin):\n",
    "            # The 'distance' saved to CSV is now explicitly the distance to the main centroid\n",
    "            dist_to_main = distances_to_main_centroid[i]\n",
    "            is_outlier_for_plotting = model in current_basin_outlier_models\n",
    "\n",
    "            results.append({\n",
    "                'basin': basin,\n",
    "                'model': model,\n",
    "                'PC1': pcs[i, 0],\n",
    "                'PC2': pcs[i, 1],\n",
    "                'distance': dist_to_main,\n",
    "                'is_outlier': is_outlier_for_plotting,\n",
    "                'time_window': time_window_label\n",
    "            })\n",
    "\n",
    "        plt.figure(figsize=(6, 5))\n",
    "        sns.scatterplot(x=pcs[:, 0], y=pcs[:, 1],\n",
    "                        hue=[m in current_basin_outlier_models for m in model_ids_in_basin],\n",
    "                        palette={True: \"red\", False: \"blue\"})\n",
    "        for i, m in enumerate(model_ids_in_basin):\n",
    "            plt.text(pcs[i, 0], pcs[i, 1], m, fontsize=8)\n",
    "        plt.title(f'PCA for Basin {basin_names.get(basin, basin)} ({time_window_label})')\n",
    "        plt.xlabel('PC1')\n",
    "        plt.ylabel('PC2')\n",
    "        plt.tight_layout()\n",
    "        plt.savefig(os.path.join(time_window_output_dir, f\"PCA_Basin_{basin_names.get(basin, basin)}_{folder_name}.png\"))\n",
    "        plt.close()\n",
    "\n",
    "    csv_filename = os.path.join(time_window_output_dir, f\"{variable_name}_{exp_id}_Basin_Outlier_Distance_{folder_name}.csv\")\n",
    "    pd.DataFrame(results).to_csv(csv_filename, index=False)\n",
    "\n",
    "# -----------------------------------------------------------------------------\n",
    "## Plotting the Disagreement Map\n",
    "# -----------------------------------------------------------------------------\n",
    "\n",
    "last_time_window_key = list(time_windows.keys())[-1]\n",
    "\n",
    "if results:\n",
    "    df_results_all = pd.DataFrame(results)\n",
    "    df_map_data = df_results_all[df_results_all['time_window'] == last_time_window_key].copy()\n",
    "else:\n",
    "    print(\"No results generated to plot the final disagreement map.\")\n",
    "    exit()\n",
    "\n",
    "df_outliers_for_map = df_map_data[df_map_data['is_outlier']]\n",
    "\n",
    "basin_scores_for_map = (\n",
    "    df_outliers_for_map.groupby('basin')['distance']\n",
    "    .mean()\n",
    "    .reset_index()\n",
    "    .rename(columns={'distance': 'mean_top_outlier_distance'})\n",
    ")\n",
    "\n",
    "score_map = np.full_like(basin_mask, np.nan, dtype='float')\n",
    "\n",
    "for _, row in basin_scores_for_map.iterrows():\n",
    "    basin_id = row['basin']\n",
    "    score = row['mean_top_outlier_distance']\n",
    "    score_map[basin_mask == basin_id] = score\n",
    "\n",
    "fig, ax = plt.subplots(figsize=(8, 10))\n",
    "\n",
    "im = ax.imshow(score_map, cmap='Reds', origin='lower')\n",
    "cbar = plt.colorbar(im, ax=ax, label='Mean Top Outlier Distance')\n",
    "ax.set_title(f\"{exp_id} Basin-Level Model Disagreement ({last_time_window_key})\")\n",
    "\n",
    "ax.set_xticks([])\n",
    "ax.set_yticks([])\n",
    "ax.axis('off')\n",
    "\n",
    "unique_basins = np.unique(basin_mask[~np.isnan(basin_mask)]).astype(int)\n",
    "\n",
    "for basin_id in unique_basins:\n",
    "    basin_pixels_mask = (basin_mask == basin_id)\n",
    "\n",
    "    if not np.any(basin_pixels_mask):\n",
    "        continue\n",
    "\n",
    "    center_y, center_x = center_of_mass(basin_pixels_mask)\n",
    "\n",
    "    geographic_label = basin_names.get(basin_id, str(basin_id))\n",
    "\n",
    "    ax.text(center_x, center_y, geographic_label,\n",
    "            color='black', fontsize=9, ha='center', va='center',\n",
    "            bbox=dict(facecolor='white', alpha=0.7, edgecolor='none', boxstyle='round,pad=0.2'))\n",
    "\n",
    "plt.tight_layout()\n",
    "plt.savefig(os.path.join(base_output_dir, f\"{variable_name}_{exp_id}_Basin_Disagreement_Map_{last_time_window_key.replace(' ', '_').replace('(','').replace(')', '')}.png\"))\n",
    "plt.show()"
   ]
  },
  {
   "cell_type": "code",
   "execution_count": null,
   "id": "0a11a359",
   "metadata": {},
   "outputs": [],
   "source": []
  }
 ],
 "metadata": {
  "kernelspec": {
   "display_name": "Python 3 (ipykernel)",
   "language": "python",
   "name": "python3"
  },
  "language_info": {
   "codemirror_mode": {
    "name": "ipython",
    "version": 3
   },
   "file_extension": ".py",
   "mimetype": "text/x-python",
   "name": "python",
   "nbconvert_exporter": "python",
   "pygments_lexer": "ipython3",
   "version": "3.11.7"
  }
 },
 "nbformat": 4,
 "nbformat_minor": 5
}
