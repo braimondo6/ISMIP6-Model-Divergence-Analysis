{
 "cells": [
  {
   "cell_type": "code",
   "execution_count": 1,
   "id": "971f1c17",
   "metadata": {},
   "outputs": [
    {
     "name": "stderr",
     "output_type": "stream",
     "text": [
      "C:\\Users\\benra\\anaconda3\\Lib\\site-packages\\paramiko\\transport.py:219: CryptographyDeprecationWarning: Blowfish has been deprecated and will be removed in a future release\n",
      "  \"class\": algorithms.Blowfish,\n"
     ]
    }
   ],
   "source": [
    "import os\n",
    "import xarray as xr\n",
    "import numpy as np\n",
    "import pandas as pd\n",
    "from sklearn.preprocessing import StandardScaler\n",
    "from sklearn.decomposition import PCA\n",
    "from sklearn.cluster import KMeans\n",
    "from sklearn.metrics import adjusted_rand_score\n",
    "import matplotlib.pyplot as plt\n",
    "import seaborn as sns\n",
    "from skimage.transform import resize\n",
    "from matplotlib.patches import Ellipse\n",
    "import scipy.stats as stats"
   ]
  },
  {
   "cell_type": "code",
   "execution_count": 6,
   "id": "deece05d",
   "metadata": {},
   "outputs": [
    {
     "name": "stdout",
     "output_type": "stream",
     "text": [
      "Found 7 unique basins: [1 2 3 4 5 6 7]\n",
      "\n",
      "--- Processing Basin: NO (ID: 1) ---\n",
      "  Processing Experiment: exp05\n"
     ]
    },
    {
     "name": "stderr",
     "output_type": "stream",
     "text": [
      "C:\\Users\\benra\\AppData\\Local\\Temp\\ipykernel_22432\\2685639849.py:133: SerializationWarning: Unable to decode time axis into full numpy.datetime64[ns] objects, continuing using cftime.datetime objects instead, reason: dates out of range. To silence this warning use a coarser resolution 'time_unit' or specify 'use_cftime=True'.\n",
      "  model_ds = xr.open_dataset(model_file_path)\n",
      "C:\\Users\\benra\\AppData\\Local\\Temp\\ipykernel_22432\\2685639849.py:133: SerializationWarning: Unable to decode time axis into full numpy.datetime64[ns] objects, continuing using cftime.datetime objects instead, reason: dates out of range. To silence this warning use a coarser resolution 'time_unit' or specify 'use_cftime=True'.\n",
      "  model_ds = xr.open_dataset(model_file_path)\n"
     ]
    },
    {
     "name": "stdout",
     "output_type": "stream",
     "text": [
      "    Warning: Model file not found for UAF_PISM2 in exp05. Skipping.\n"
     ]
    },
    {
     "name": "stderr",
     "output_type": "stream",
     "text": [
      "C:\\Users\\benra\\anaconda3\\Lib\\site-packages\\sklearn\\cluster\\_kmeans.py:1382: UserWarning: KMeans is known to have a memory leak on Windows with MKL, when there are less chunks than available threads. You can avoid it by setting the environment variable OMP_NUM_THREADS=1.\n",
      "  warnings.warn(\n",
      "C:\\Users\\benra\\AppData\\Local\\Temp\\ipykernel_22432\\2685639849.py:212: UserWarning: You passed a edgecolor/edgecolors ('black') for an unfilled marker ('+').  Matplotlib is ignoring the edgecolor in favor of the facecolor.  This behavior may change in the future.\n",
      "  ax_2d.scatter(\n"
     ]
    },
    {
     "name": "stdout",
     "output_type": "stream",
     "text": [
      "  Generated PCA plot for Basin NO, Experiment exp05\n",
      "  Processing Experiment: exp06\n"
     ]
    },
    {
     "name": "stderr",
     "output_type": "stream",
     "text": [
      "C:\\Users\\benra\\AppData\\Local\\Temp\\ipykernel_22432\\2685639849.py:133: SerializationWarning: Unable to decode time axis into full numpy.datetime64[ns] objects, continuing using cftime.datetime objects instead, reason: dates out of range. To silence this warning use a coarser resolution 'time_unit' or specify 'use_cftime=True'.\n",
      "  model_ds = xr.open_dataset(model_file_path)\n",
      "C:\\Users\\benra\\AppData\\Local\\Temp\\ipykernel_22432\\2685639849.py:133: SerializationWarning: Unable to decode time axis into full numpy.datetime64[ns] objects, continuing using cftime.datetime objects instead, reason: dates out of range. To silence this warning use a coarser resolution 'time_unit' or specify 'use_cftime=True'.\n",
      "  model_ds = xr.open_dataset(model_file_path)\n"
     ]
    },
    {
     "name": "stdout",
     "output_type": "stream",
     "text": [
      "    Warning: Model file not found for UAF_PISM2 in exp06. Skipping.\n"
     ]
    },
    {
     "name": "stderr",
     "output_type": "stream",
     "text": [
      "C:\\Users\\benra\\anaconda3\\Lib\\site-packages\\sklearn\\cluster\\_kmeans.py:1382: UserWarning: KMeans is known to have a memory leak on Windows with MKL, when there are less chunks than available threads. You can avoid it by setting the environment variable OMP_NUM_THREADS=1.\n",
      "  warnings.warn(\n",
      "C:\\Users\\benra\\AppData\\Local\\Temp\\ipykernel_22432\\2685639849.py:212: UserWarning: You passed a edgecolor/edgecolors ('black') for an unfilled marker ('+').  Matplotlib is ignoring the edgecolor in favor of the facecolor.  This behavior may change in the future.\n",
      "  ax_2d.scatter(\n",
      "C:\\Users\\benra\\AppData\\Local\\Temp\\ipykernel_22432\\2685639849.py:249: RuntimeWarning: invalid value encountered in sqrt\n",
      "  height = 2 * np.sqrt(eigenvalues[1] * chi2_val) # Minor axis\n"
     ]
    },
    {
     "name": "stdout",
     "output_type": "stream",
     "text": [
      "  Generated PCA plot for Basin NO, Experiment exp06\n",
      "  Processing Experiment: exp07\n"
     ]
    },
    {
     "name": "stderr",
     "output_type": "stream",
     "text": [
      "C:\\Users\\benra\\AppData\\Local\\Temp\\ipykernel_22432\\2685639849.py:133: SerializationWarning: Unable to decode time axis into full numpy.datetime64[ns] objects, continuing using cftime.datetime objects instead, reason: dates out of range. To silence this warning use a coarser resolution 'time_unit' or specify 'use_cftime=True'.\n",
      "  model_ds = xr.open_dataset(model_file_path)\n",
      "C:\\Users\\benra\\AppData\\Local\\Temp\\ipykernel_22432\\2685639849.py:133: SerializationWarning: Unable to decode time axis into full numpy.datetime64[ns] objects, continuing using cftime.datetime objects instead, reason: dates out of range. To silence this warning use a coarser resolution 'time_unit' or specify 'use_cftime=True'.\n",
      "  model_ds = xr.open_dataset(model_file_path)\n"
     ]
    },
    {
     "name": "stdout",
     "output_type": "stream",
     "text": [
      "    Warning: Model file not found for UAF_PISM2 in exp07. Skipping.\n"
     ]
    },
    {
     "name": "stderr",
     "output_type": "stream",
     "text": [
      "C:\\Users\\benra\\anaconda3\\Lib\\site-packages\\sklearn\\cluster\\_kmeans.py:1382: UserWarning: KMeans is known to have a memory leak on Windows with MKL, when there are less chunks than available threads. You can avoid it by setting the environment variable OMP_NUM_THREADS=1.\n",
      "  warnings.warn(\n",
      "C:\\Users\\benra\\AppData\\Local\\Temp\\ipykernel_22432\\2685639849.py:212: UserWarning: You passed a edgecolor/edgecolors ('black') for an unfilled marker ('+').  Matplotlib is ignoring the edgecolor in favor of the facecolor.  This behavior may change in the future.\n",
      "  ax_2d.scatter(\n"
     ]
    },
    {
     "name": "stdout",
     "output_type": "stream",
     "text": [
      "  Generated PCA plot for Basin NO, Experiment exp07\n",
      "  Processing Experiment: exp08\n"
     ]
    },
    {
     "name": "stderr",
     "output_type": "stream",
     "text": [
      "C:\\Users\\benra\\AppData\\Local\\Temp\\ipykernel_22432\\2685639849.py:133: SerializationWarning: Unable to decode time axis into full numpy.datetime64[ns] objects, continuing using cftime.datetime objects instead, reason: dates out of range. To silence this warning use a coarser resolution 'time_unit' or specify 'use_cftime=True'.\n",
      "  model_ds = xr.open_dataset(model_file_path)\n",
      "C:\\Users\\benra\\AppData\\Local\\Temp\\ipykernel_22432\\2685639849.py:133: SerializationWarning: Unable to decode time axis into full numpy.datetime64[ns] objects, continuing using cftime.datetime objects instead, reason: dates out of range. To silence this warning use a coarser resolution 'time_unit' or specify 'use_cftime=True'.\n",
      "  model_ds = xr.open_dataset(model_file_path)\n"
     ]
    },
    {
     "name": "stdout",
     "output_type": "stream",
     "text": [
      "    Warning: Model file not found for UAF_PISM2 in exp08. Skipping.\n"
     ]
    },
    {
     "name": "stderr",
     "output_type": "stream",
     "text": [
      "C:\\Users\\benra\\anaconda3\\Lib\\site-packages\\sklearn\\cluster\\_kmeans.py:1382: UserWarning: KMeans is known to have a memory leak on Windows with MKL, when there are less chunks than available threads. You can avoid it by setting the environment variable OMP_NUM_THREADS=1.\n",
      "  warnings.warn(\n",
      "C:\\Users\\benra\\AppData\\Local\\Temp\\ipykernel_22432\\2685639849.py:212: UserWarning: You passed a edgecolor/edgecolors ('black') for an unfilled marker ('+').  Matplotlib is ignoring the edgecolor in favor of the facecolor.  This behavior may change in the future.\n",
      "  ax_2d.scatter(\n"
     ]
    },
    {
     "name": "stdout",
     "output_type": "stream",
     "text": [
      "  Generated PCA plot for Basin NO, Experiment exp08\n",
      "  Processing Experiment: exp09\n"
     ]
    },
    {
     "name": "stderr",
     "output_type": "stream",
     "text": [
      "C:\\Users\\benra\\AppData\\Local\\Temp\\ipykernel_22432\\2685639849.py:133: SerializationWarning: Unable to decode time axis into full numpy.datetime64[ns] objects, continuing using cftime.datetime objects instead, reason: dates out of range. To silence this warning use a coarser resolution 'time_unit' or specify 'use_cftime=True'.\n",
      "  model_ds = xr.open_dataset(model_file_path)\n",
      "C:\\Users\\benra\\AppData\\Local\\Temp\\ipykernel_22432\\2685639849.py:133: SerializationWarning: Unable to decode time axis into full numpy.datetime64[ns] objects, continuing using cftime.datetime objects instead, reason: dates out of range. To silence this warning use a coarser resolution 'time_unit' or specify 'use_cftime=True'.\n",
      "  model_ds = xr.open_dataset(model_file_path)\n"
     ]
    },
    {
     "name": "stdout",
     "output_type": "stream",
     "text": [
      "    Warning: Model file not found for UAF_PISM2 in exp09. Skipping.\n",
      "    Warning: Model file not found for UCIJPL_ISSM2 in exp09. Skipping.\n",
      "    Warning: Model file not found for VUW_PISM in exp09. Skipping.\n"
     ]
    },
    {
     "name": "stderr",
     "output_type": "stream",
     "text": [
      "C:\\Users\\benra\\anaconda3\\Lib\\site-packages\\sklearn\\cluster\\_kmeans.py:1382: UserWarning: KMeans is known to have a memory leak on Windows with MKL, when there are less chunks than available threads. You can avoid it by setting the environment variable OMP_NUM_THREADS=1.\n",
      "  warnings.warn(\n"
     ]
    },
    {
     "name": "stdout",
     "output_type": "stream",
     "text": [
      "  Generated PCA plot for Basin NO, Experiment exp09\n",
      "  Processing Experiment: exp10\n"
     ]
    },
    {
     "name": "stderr",
     "output_type": "stream",
     "text": [
      "C:\\Users\\benra\\AppData\\Local\\Temp\\ipykernel_22432\\2685639849.py:133: SerializationWarning: Unable to decode time axis into full numpy.datetime64[ns] objects, continuing using cftime.datetime objects instead, reason: dates out of range. To silence this warning use a coarser resolution 'time_unit' or specify 'use_cftime=True'.\n",
      "  model_ds = xr.open_dataset(model_file_path)\n",
      "C:\\Users\\benra\\AppData\\Local\\Temp\\ipykernel_22432\\2685639849.py:133: SerializationWarning: Unable to decode time axis into full numpy.datetime64[ns] objects, continuing using cftime.datetime objects instead, reason: dates out of range. To silence this warning use a coarser resolution 'time_unit' or specify 'use_cftime=True'.\n",
      "  model_ds = xr.open_dataset(model_file_path)\n"
     ]
    },
    {
     "name": "stdout",
     "output_type": "stream",
     "text": [
      "    Warning: Model file not found for UAF_PISM2 in exp10. Skipping.\n",
      "    Warning: Model file not found for UCIJPL_ISSM2 in exp10. Skipping.\n",
      "    Warning: Model file not found for VUW_PISM in exp10. Skipping.\n"
     ]
    },
    {
     "name": "stderr",
     "output_type": "stream",
     "text": [
      "C:\\Users\\benra\\anaconda3\\Lib\\site-packages\\sklearn\\cluster\\_kmeans.py:1382: UserWarning: KMeans is known to have a memory leak on Windows with MKL, when there are less chunks than available threads. You can avoid it by setting the environment variable OMP_NUM_THREADS=1.\n",
      "  warnings.warn(\n",
      "C:\\Users\\benra\\AppData\\Local\\Temp\\ipykernel_22432\\2685639849.py:249: RuntimeWarning: invalid value encountered in sqrt\n",
      "  height = 2 * np.sqrt(eigenvalues[1] * chi2_val) # Minor axis\n"
     ]
    },
    {
     "name": "stdout",
     "output_type": "stream",
     "text": [
      "  Generated PCA plot for Basin NO, Experiment exp10\n",
      "  Processing Experiment: expa01\n",
      "    Warning: Model file not found for IMAU_IMAUICE1 in expa01. Skipping.\n",
      "    Warning: Model file not found for JPL_ISSMPALEO in expa01. Skipping.\n",
      "    Warning: Model file not found for MUN_GSM1 in expa01. Skipping.\n",
      "    Warning: Model file not found for MUN_GSM2 in expa01. Skipping.\n"
     ]
    },
    {
     "name": "stderr",
     "output_type": "stream",
     "text": [
      "C:\\Users\\benra\\AppData\\Local\\Temp\\ipykernel_22432\\2685639849.py:133: SerializationWarning: Unable to decode time axis into full numpy.datetime64[ns] objects, continuing using cftime.datetime objects instead, reason: dates out of range. To silence this warning use a coarser resolution 'time_unit' or specify 'use_cftime=True'.\n",
      "  model_ds = xr.open_dataset(model_file_path)\n",
      "C:\\Users\\benra\\AppData\\Local\\Temp\\ipykernel_22432\\2685639849.py:133: SerializationWarning: Unable to decode time axis into full numpy.datetime64[ns] objects, continuing using cftime.datetime objects instead, reason: dates out of range. To silence this warning use a coarser resolution 'time_unit' or specify 'use_cftime=True'.\n",
      "  model_ds = xr.open_dataset(model_file_path)\n",
      "C:\\Users\\benra\\AppData\\Local\\Temp\\ipykernel_22432\\2685639849.py:133: SerializationWarning: Unable to decode time axis into full numpy.datetime64[ns] objects, continuing using cftime.datetime objects instead, reason: dates out of range. To silence this warning use a coarser resolution 'time_unit' or specify 'use_cftime=True'.\n",
      "  model_ds = xr.open_dataset(model_file_path)\n",
      "C:\\Users\\benra\\AppData\\Local\\Temp\\ipykernel_22432\\2685639849.py:133: SerializationWarning: Unable to decode time axis into full numpy.datetime64[ns] objects, continuing using cftime.datetime objects instead, reason: dates out of range. To silence this warning use a coarser resolution 'time_unit' or specify 'use_cftime=True'.\n",
      "  model_ds = xr.open_dataset(model_file_path)\n"
     ]
    },
    {
     "name": "stdout",
     "output_type": "stream",
     "text": [
      "    Warning: Model file not found for UCIJPL_ISSM2 in expa01. Skipping.\n",
      "    Warning: Model file not found for VUW_PISM in expa01. Skipping.\n"
     ]
    },
    {
     "name": "stderr",
     "output_type": "stream",
     "text": [
      "C:\\Users\\benra\\anaconda3\\Lib\\site-packages\\sklearn\\cluster\\_kmeans.py:1382: UserWarning: KMeans is known to have a memory leak on Windows with MKL, when there are less chunks than available threads. You can avoid it by setting the environment variable OMP_NUM_THREADS=1.\n",
      "  warnings.warn(\n"
     ]
    },
    {
     "name": "stdout",
     "output_type": "stream",
     "text": [
      "  Generated PCA plot for Basin NO, Experiment expa01\n",
      "  Processing Experiment: expa02\n",
      "    Warning: Model file not found for IMAU_IMAUICE1 in expa02. Skipping.\n",
      "    Warning: Model file not found for JPL_ISSMPALEO in expa02. Skipping.\n",
      "    Warning: Model file not found for MUN_GSM1 in expa02. Skipping.\n",
      "    Warning: Model file not found for MUN_GSM2 in expa02. Skipping.\n"
     ]
    },
    {
     "name": "stderr",
     "output_type": "stream",
     "text": [
      "C:\\Users\\benra\\AppData\\Local\\Temp\\ipykernel_22432\\2685639849.py:133: SerializationWarning: Unable to decode time axis into full numpy.datetime64[ns] objects, continuing using cftime.datetime objects instead, reason: dates out of range. To silence this warning use a coarser resolution 'time_unit' or specify 'use_cftime=True'.\n",
      "  model_ds = xr.open_dataset(model_file_path)\n",
      "C:\\Users\\benra\\AppData\\Local\\Temp\\ipykernel_22432\\2685639849.py:133: SerializationWarning: Unable to decode time axis into full numpy.datetime64[ns] objects, continuing using cftime.datetime objects instead, reason: dates out of range. To silence this warning use a coarser resolution 'time_unit' or specify 'use_cftime=True'.\n",
      "  model_ds = xr.open_dataset(model_file_path)\n",
      "C:\\Users\\benra\\AppData\\Local\\Temp\\ipykernel_22432\\2685639849.py:133: SerializationWarning: Unable to decode time axis into full numpy.datetime64[ns] objects, continuing using cftime.datetime objects instead, reason: dates out of range. To silence this warning use a coarser resolution 'time_unit' or specify 'use_cftime=True'.\n",
      "  model_ds = xr.open_dataset(model_file_path)\n",
      "C:\\Users\\benra\\AppData\\Local\\Temp\\ipykernel_22432\\2685639849.py:133: SerializationWarning: Unable to decode time axis into full numpy.datetime64[ns] objects, continuing using cftime.datetime objects instead, reason: dates out of range. To silence this warning use a coarser resolution 'time_unit' or specify 'use_cftime=True'.\n",
      "  model_ds = xr.open_dataset(model_file_path)\n"
     ]
    },
    {
     "name": "stdout",
     "output_type": "stream",
     "text": [
      "    Warning: Model file not found for UCIJPL_ISSM2 in expa02. Skipping.\n",
      "    Warning: Model file not found for VUW_PISM in expa02. Skipping.\n"
     ]
    },
    {
     "name": "stderr",
     "output_type": "stream",
     "text": [
      "C:\\Users\\benra\\anaconda3\\Lib\\site-packages\\sklearn\\cluster\\_kmeans.py:1382: UserWarning: KMeans is known to have a memory leak on Windows with MKL, when there are less chunks than available threads. You can avoid it by setting the environment variable OMP_NUM_THREADS=1.\n",
      "  warnings.warn(\n"
     ]
    },
    {
     "name": "stdout",
     "output_type": "stream",
     "text": [
      "  Generated PCA plot for Basin NO, Experiment expa02\n",
      "  Processing Experiment: expa03\n",
      "    Warning: Model file not found for IMAU_IMAUICE1 in expa03. Skipping.\n",
      "    Warning: Model file not found for JPL_ISSMPALEO in expa03. Skipping.\n",
      "    Warning: Model file not found for MUN_GSM1 in expa03. Skipping.\n",
      "    Warning: Model file not found for MUN_GSM2 in expa03. Skipping.\n"
     ]
    },
    {
     "name": "stderr",
     "output_type": "stream",
     "text": [
      "C:\\Users\\benra\\AppData\\Local\\Temp\\ipykernel_22432\\2685639849.py:133: SerializationWarning: Unable to decode time axis into full numpy.datetime64[ns] objects, continuing using cftime.datetime objects instead, reason: dates out of range. To silence this warning use a coarser resolution 'time_unit' or specify 'use_cftime=True'.\n",
      "  model_ds = xr.open_dataset(model_file_path)\n",
      "C:\\Users\\benra\\AppData\\Local\\Temp\\ipykernel_22432\\2685639849.py:133: SerializationWarning: Unable to decode time axis into full numpy.datetime64[ns] objects, continuing using cftime.datetime objects instead, reason: dates out of range. To silence this warning use a coarser resolution 'time_unit' or specify 'use_cftime=True'.\n",
      "  model_ds = xr.open_dataset(model_file_path)\n",
      "C:\\Users\\benra\\AppData\\Local\\Temp\\ipykernel_22432\\2685639849.py:133: SerializationWarning: Unable to decode time axis into full numpy.datetime64[ns] objects, continuing using cftime.datetime objects instead, reason: dates out of range. To silence this warning use a coarser resolution 'time_unit' or specify 'use_cftime=True'.\n",
      "  model_ds = xr.open_dataset(model_file_path)\n",
      "C:\\Users\\benra\\AppData\\Local\\Temp\\ipykernel_22432\\2685639849.py:133: SerializationWarning: Unable to decode time axis into full numpy.datetime64[ns] objects, continuing using cftime.datetime objects instead, reason: dates out of range. To silence this warning use a coarser resolution 'time_unit' or specify 'use_cftime=True'.\n",
      "  model_ds = xr.open_dataset(model_file_path)\n"
     ]
    },
    {
     "name": "stdout",
     "output_type": "stream",
     "text": [
      "    Warning: Model file not found for UCIJPL_ISSM2 in expa03. Skipping.\n",
      "    Warning: Model file not found for VUW_PISM in expa03. Skipping.\n"
     ]
    },
    {
     "name": "stderr",
     "output_type": "stream",
     "text": [
      "C:\\Users\\benra\\anaconda3\\Lib\\site-packages\\sklearn\\cluster\\_kmeans.py:1382: UserWarning: KMeans is known to have a memory leak on Windows with MKL, when there are less chunks than available threads. You can avoid it by setting the environment variable OMP_NUM_THREADS=1.\n",
      "  warnings.warn(\n"
     ]
    },
    {
     "name": "stdout",
     "output_type": "stream",
     "text": [
      "  Generated PCA plot for Basin NO, Experiment expa03\n"
     ]
    },
    {
     "name": "stderr",
     "output_type": "stream",
     "text": [
      "C:\\Users\\benra\\anaconda3\\Lib\\site-packages\\seaborn\\matrix.py:260: FutureWarning: Format strings passed to MaskedConstant are ignored, but in future may error or produce different behavior\n",
      "  annotation = (\"{:\" + self.fmt + \"}\").format(val)\n"
     ]
    },
    {
     "name": "stdout",
     "output_type": "stream",
     "text": [
      "  Generated ARI Heatmap for Basin NO\n",
      "\n",
      "--- Processing Basin: NE (ID: 2) ---\n",
      "  Processing Experiment: exp05\n"
     ]
    },
    {
     "name": "stderr",
     "output_type": "stream",
     "text": [
      "C:\\Users\\benra\\AppData\\Local\\Temp\\ipykernel_22432\\2685639849.py:133: SerializationWarning: Unable to decode time axis into full numpy.datetime64[ns] objects, continuing using cftime.datetime objects instead, reason: dates out of range. To silence this warning use a coarser resolution 'time_unit' or specify 'use_cftime=True'.\n",
      "  model_ds = xr.open_dataset(model_file_path)\n",
      "C:\\Users\\benra\\AppData\\Local\\Temp\\ipykernel_22432\\2685639849.py:133: SerializationWarning: Unable to decode time axis into full numpy.datetime64[ns] objects, continuing using cftime.datetime objects instead, reason: dates out of range. To silence this warning use a coarser resolution 'time_unit' or specify 'use_cftime=True'.\n",
      "  model_ds = xr.open_dataset(model_file_path)\n"
     ]
    },
    {
     "name": "stdout",
     "output_type": "stream",
     "text": [
      "    Warning: Model file not found for UAF_PISM2 in exp05. Skipping.\n"
     ]
    },
    {
     "name": "stderr",
     "output_type": "stream",
     "text": [
      "C:\\Users\\benra\\anaconda3\\Lib\\site-packages\\sklearn\\cluster\\_kmeans.py:1382: UserWarning: KMeans is known to have a memory leak on Windows with MKL, when there are less chunks than available threads. You can avoid it by setting the environment variable OMP_NUM_THREADS=1.\n",
      "  warnings.warn(\n",
      "C:\\Users\\benra\\AppData\\Local\\Temp\\ipykernel_22432\\2685639849.py:212: UserWarning: You passed a edgecolor/edgecolors ('black') for an unfilled marker ('+').  Matplotlib is ignoring the edgecolor in favor of the facecolor.  This behavior may change in the future.\n",
      "  ax_2d.scatter(\n"
     ]
    },
    {
     "name": "stdout",
     "output_type": "stream",
     "text": [
      "  Generated PCA plot for Basin NE, Experiment exp05\n",
      "  Processing Experiment: exp06\n"
     ]
    },
    {
     "name": "stderr",
     "output_type": "stream",
     "text": [
      "C:\\Users\\benra\\AppData\\Local\\Temp\\ipykernel_22432\\2685639849.py:133: SerializationWarning: Unable to decode time axis into full numpy.datetime64[ns] objects, continuing using cftime.datetime objects instead, reason: dates out of range. To silence this warning use a coarser resolution 'time_unit' or specify 'use_cftime=True'.\n",
      "  model_ds = xr.open_dataset(model_file_path)\n",
      "C:\\Users\\benra\\AppData\\Local\\Temp\\ipykernel_22432\\2685639849.py:133: SerializationWarning: Unable to decode time axis into full numpy.datetime64[ns] objects, continuing using cftime.datetime objects instead, reason: dates out of range. To silence this warning use a coarser resolution 'time_unit' or specify 'use_cftime=True'.\n",
      "  model_ds = xr.open_dataset(model_file_path)\n"
     ]
    },
    {
     "name": "stdout",
     "output_type": "stream",
     "text": [
      "    Warning: Model file not found for UAF_PISM2 in exp06. Skipping.\n"
     ]
    },
    {
     "name": "stderr",
     "output_type": "stream",
     "text": [
      "C:\\Users\\benra\\anaconda3\\Lib\\site-packages\\sklearn\\cluster\\_kmeans.py:1382: UserWarning: KMeans is known to have a memory leak on Windows with MKL, when there are less chunks than available threads. You can avoid it by setting the environment variable OMP_NUM_THREADS=1.\n",
      "  warnings.warn(\n",
      "C:\\Users\\benra\\AppData\\Local\\Temp\\ipykernel_22432\\2685639849.py:212: UserWarning: You passed a edgecolor/edgecolors ('black') for an unfilled marker ('+').  Matplotlib is ignoring the edgecolor in favor of the facecolor.  This behavior may change in the future.\n",
      "  ax_2d.scatter(\n"
     ]
    },
    {
     "name": "stdout",
     "output_type": "stream",
     "text": [
      "  Generated PCA plot for Basin NE, Experiment exp06\n",
      "  Processing Experiment: exp07\n"
     ]
    },
    {
     "name": "stderr",
     "output_type": "stream",
     "text": [
      "C:\\Users\\benra\\AppData\\Local\\Temp\\ipykernel_22432\\2685639849.py:133: SerializationWarning: Unable to decode time axis into full numpy.datetime64[ns] objects, continuing using cftime.datetime objects instead, reason: dates out of range. To silence this warning use a coarser resolution 'time_unit' or specify 'use_cftime=True'.\n",
      "  model_ds = xr.open_dataset(model_file_path)\n",
      "C:\\Users\\benra\\AppData\\Local\\Temp\\ipykernel_22432\\2685639849.py:133: SerializationWarning: Unable to decode time axis into full numpy.datetime64[ns] objects, continuing using cftime.datetime objects instead, reason: dates out of range. To silence this warning use a coarser resolution 'time_unit' or specify 'use_cftime=True'.\n",
      "  model_ds = xr.open_dataset(model_file_path)\n"
     ]
    },
    {
     "name": "stdout",
     "output_type": "stream",
     "text": [
      "    Warning: Model file not found for UAF_PISM2 in exp07. Skipping.\n"
     ]
    },
    {
     "name": "stderr",
     "output_type": "stream",
     "text": [
      "C:\\Users\\benra\\anaconda3\\Lib\\site-packages\\sklearn\\cluster\\_kmeans.py:1382: UserWarning: KMeans is known to have a memory leak on Windows with MKL, when there are less chunks than available threads. You can avoid it by setting the environment variable OMP_NUM_THREADS=1.\n",
      "  warnings.warn(\n",
      "C:\\Users\\benra\\AppData\\Local\\Temp\\ipykernel_22432\\2685639849.py:212: UserWarning: You passed a edgecolor/edgecolors ('black') for an unfilled marker ('+').  Matplotlib is ignoring the edgecolor in favor of the facecolor.  This behavior may change in the future.\n",
      "  ax_2d.scatter(\n"
     ]
    },
    {
     "name": "stdout",
     "output_type": "stream",
     "text": [
      "  Generated PCA plot for Basin NE, Experiment exp07\n",
      "  Processing Experiment: exp08\n"
     ]
    },
    {
     "name": "stderr",
     "output_type": "stream",
     "text": [
      "C:\\Users\\benra\\AppData\\Local\\Temp\\ipykernel_22432\\2685639849.py:133: SerializationWarning: Unable to decode time axis into full numpy.datetime64[ns] objects, continuing using cftime.datetime objects instead, reason: dates out of range. To silence this warning use a coarser resolution 'time_unit' or specify 'use_cftime=True'.\n",
      "  model_ds = xr.open_dataset(model_file_path)\n",
      "C:\\Users\\benra\\AppData\\Local\\Temp\\ipykernel_22432\\2685639849.py:133: SerializationWarning: Unable to decode time axis into full numpy.datetime64[ns] objects, continuing using cftime.datetime objects instead, reason: dates out of range. To silence this warning use a coarser resolution 'time_unit' or specify 'use_cftime=True'.\n",
      "  model_ds = xr.open_dataset(model_file_path)\n"
     ]
    },
    {
     "name": "stdout",
     "output_type": "stream",
     "text": [
      "    Warning: Model file not found for UAF_PISM2 in exp08. Skipping.\n"
     ]
    },
    {
     "name": "stderr",
     "output_type": "stream",
     "text": [
      "C:\\Users\\benra\\anaconda3\\Lib\\site-packages\\sklearn\\cluster\\_kmeans.py:1382: UserWarning: KMeans is known to have a memory leak on Windows with MKL, when there are less chunks than available threads. You can avoid it by setting the environment variable OMP_NUM_THREADS=1.\n",
      "  warnings.warn(\n",
      "C:\\Users\\benra\\AppData\\Local\\Temp\\ipykernel_22432\\2685639849.py:212: UserWarning: You passed a edgecolor/edgecolors ('black') for an unfilled marker ('+').  Matplotlib is ignoring the edgecolor in favor of the facecolor.  This behavior may change in the future.\n",
      "  ax_2d.scatter(\n"
     ]
    },
    {
     "name": "stdout",
     "output_type": "stream",
     "text": [
      "  Generated PCA plot for Basin NE, Experiment exp08\n",
      "  Processing Experiment: exp09\n"
     ]
    },
    {
     "name": "stderr",
     "output_type": "stream",
     "text": [
      "C:\\Users\\benra\\AppData\\Local\\Temp\\ipykernel_22432\\2685639849.py:133: SerializationWarning: Unable to decode time axis into full numpy.datetime64[ns] objects, continuing using cftime.datetime objects instead, reason: dates out of range. To silence this warning use a coarser resolution 'time_unit' or specify 'use_cftime=True'.\n",
      "  model_ds = xr.open_dataset(model_file_path)\n",
      "C:\\Users\\benra\\AppData\\Local\\Temp\\ipykernel_22432\\2685639849.py:133: SerializationWarning: Unable to decode time axis into full numpy.datetime64[ns] objects, continuing using cftime.datetime objects instead, reason: dates out of range. To silence this warning use a coarser resolution 'time_unit' or specify 'use_cftime=True'.\n",
      "  model_ds = xr.open_dataset(model_file_path)\n"
     ]
    },
    {
     "name": "stdout",
     "output_type": "stream",
     "text": [
      "    Warning: Model file not found for UAF_PISM2 in exp09. Skipping.\n",
      "    Warning: Model file not found for UCIJPL_ISSM2 in exp09. Skipping.\n",
      "    Warning: Model file not found for VUW_PISM in exp09. Skipping.\n"
     ]
    },
    {
     "name": "stderr",
     "output_type": "stream",
     "text": [
      "C:\\Users\\benra\\anaconda3\\Lib\\site-packages\\sklearn\\cluster\\_kmeans.py:1382: UserWarning: KMeans is known to have a memory leak on Windows with MKL, when there are less chunks than available threads. You can avoid it by setting the environment variable OMP_NUM_THREADS=1.\n",
      "  warnings.warn(\n"
     ]
    },
    {
     "name": "stdout",
     "output_type": "stream",
     "text": [
      "  Generated PCA plot for Basin NE, Experiment exp09\n",
      "  Processing Experiment: exp10\n"
     ]
    },
    {
     "name": "stderr",
     "output_type": "stream",
     "text": [
      "C:\\Users\\benra\\AppData\\Local\\Temp\\ipykernel_22432\\2685639849.py:133: SerializationWarning: Unable to decode time axis into full numpy.datetime64[ns] objects, continuing using cftime.datetime objects instead, reason: dates out of range. To silence this warning use a coarser resolution 'time_unit' or specify 'use_cftime=True'.\n",
      "  model_ds = xr.open_dataset(model_file_path)\n",
      "C:\\Users\\benra\\AppData\\Local\\Temp\\ipykernel_22432\\2685639849.py:133: SerializationWarning: Unable to decode time axis into full numpy.datetime64[ns] objects, continuing using cftime.datetime objects instead, reason: dates out of range. To silence this warning use a coarser resolution 'time_unit' or specify 'use_cftime=True'.\n",
      "  model_ds = xr.open_dataset(model_file_path)\n"
     ]
    },
    {
     "name": "stdout",
     "output_type": "stream",
     "text": [
      "    Warning: Model file not found for UAF_PISM2 in exp10. Skipping.\n",
      "    Warning: Model file not found for UCIJPL_ISSM2 in exp10. Skipping.\n",
      "    Warning: Model file not found for VUW_PISM in exp10. Skipping.\n"
     ]
    },
    {
     "name": "stderr",
     "output_type": "stream",
     "text": [
      "C:\\Users\\benra\\anaconda3\\Lib\\site-packages\\sklearn\\cluster\\_kmeans.py:1382: UserWarning: KMeans is known to have a memory leak on Windows with MKL, when there are less chunks than available threads. You can avoid it by setting the environment variable OMP_NUM_THREADS=1.\n",
      "  warnings.warn(\n"
     ]
    },
    {
     "name": "stdout",
     "output_type": "stream",
     "text": [
      "  Generated PCA plot for Basin NE, Experiment exp10\n",
      "  Processing Experiment: expa01\n",
      "    Warning: Model file not found for IMAU_IMAUICE1 in expa01. Skipping.\n",
      "    Warning: Model file not found for JPL_ISSMPALEO in expa01. Skipping.\n",
      "    Warning: Model file not found for MUN_GSM1 in expa01. Skipping.\n",
      "    Warning: Model file not found for MUN_GSM2 in expa01. Skipping.\n"
     ]
    },
    {
     "name": "stderr",
     "output_type": "stream",
     "text": [
      "C:\\Users\\benra\\AppData\\Local\\Temp\\ipykernel_22432\\2685639849.py:133: SerializationWarning: Unable to decode time axis into full numpy.datetime64[ns] objects, continuing using cftime.datetime objects instead, reason: dates out of range. To silence this warning use a coarser resolution 'time_unit' or specify 'use_cftime=True'.\n",
      "  model_ds = xr.open_dataset(model_file_path)\n",
      "C:\\Users\\benra\\AppData\\Local\\Temp\\ipykernel_22432\\2685639849.py:133: SerializationWarning: Unable to decode time axis into full numpy.datetime64[ns] objects, continuing using cftime.datetime objects instead, reason: dates out of range. To silence this warning use a coarser resolution 'time_unit' or specify 'use_cftime=True'.\n",
      "  model_ds = xr.open_dataset(model_file_path)\n",
      "C:\\Users\\benra\\AppData\\Local\\Temp\\ipykernel_22432\\2685639849.py:133: SerializationWarning: Unable to decode time axis into full numpy.datetime64[ns] objects, continuing using cftime.datetime objects instead, reason: dates out of range. To silence this warning use a coarser resolution 'time_unit' or specify 'use_cftime=True'.\n",
      "  model_ds = xr.open_dataset(model_file_path)\n",
      "C:\\Users\\benra\\AppData\\Local\\Temp\\ipykernel_22432\\2685639849.py:133: SerializationWarning: Unable to decode time axis into full numpy.datetime64[ns] objects, continuing using cftime.datetime objects instead, reason: dates out of range. To silence this warning use a coarser resolution 'time_unit' or specify 'use_cftime=True'.\n",
      "  model_ds = xr.open_dataset(model_file_path)\n"
     ]
    },
    {
     "name": "stdout",
     "output_type": "stream",
     "text": [
      "    Warning: Model file not found for UCIJPL_ISSM2 in expa01. Skipping.\n",
      "    Warning: Model file not found for VUW_PISM in expa01. Skipping.\n"
     ]
    },
    {
     "name": "stderr",
     "output_type": "stream",
     "text": [
      "C:\\Users\\benra\\anaconda3\\Lib\\site-packages\\sklearn\\cluster\\_kmeans.py:1382: UserWarning: KMeans is known to have a memory leak on Windows with MKL, when there are less chunks than available threads. You can avoid it by setting the environment variable OMP_NUM_THREADS=1.\n",
      "  warnings.warn(\n",
      "C:\\Users\\benra\\AppData\\Local\\Temp\\ipykernel_22432\\2685639849.py:249: RuntimeWarning: invalid value encountered in sqrt\n",
      "  height = 2 * np.sqrt(eigenvalues[1] * chi2_val) # Minor axis\n"
     ]
    },
    {
     "name": "stdout",
     "output_type": "stream",
     "text": [
      "  Generated PCA plot for Basin NE, Experiment expa01\n",
      "  Processing Experiment: expa02\n",
      "    Warning: Model file not found for IMAU_IMAUICE1 in expa02. Skipping.\n",
      "    Warning: Model file not found for JPL_ISSMPALEO in expa02. Skipping.\n",
      "    Warning: Model file not found for MUN_GSM1 in expa02. Skipping.\n",
      "    Warning: Model file not found for MUN_GSM2 in expa02. Skipping.\n"
     ]
    },
    {
     "name": "stderr",
     "output_type": "stream",
     "text": [
      "C:\\Users\\benra\\AppData\\Local\\Temp\\ipykernel_22432\\2685639849.py:133: SerializationWarning: Unable to decode time axis into full numpy.datetime64[ns] objects, continuing using cftime.datetime objects instead, reason: dates out of range. To silence this warning use a coarser resolution 'time_unit' or specify 'use_cftime=True'.\n",
      "  model_ds = xr.open_dataset(model_file_path)\n",
      "C:\\Users\\benra\\AppData\\Local\\Temp\\ipykernel_22432\\2685639849.py:133: SerializationWarning: Unable to decode time axis into full numpy.datetime64[ns] objects, continuing using cftime.datetime objects instead, reason: dates out of range. To silence this warning use a coarser resolution 'time_unit' or specify 'use_cftime=True'.\n",
      "  model_ds = xr.open_dataset(model_file_path)\n",
      "C:\\Users\\benra\\AppData\\Local\\Temp\\ipykernel_22432\\2685639849.py:133: SerializationWarning: Unable to decode time axis into full numpy.datetime64[ns] objects, continuing using cftime.datetime objects instead, reason: dates out of range. To silence this warning use a coarser resolution 'time_unit' or specify 'use_cftime=True'.\n",
      "  model_ds = xr.open_dataset(model_file_path)\n",
      "C:\\Users\\benra\\AppData\\Local\\Temp\\ipykernel_22432\\2685639849.py:133: SerializationWarning: Unable to decode time axis into full numpy.datetime64[ns] objects, continuing using cftime.datetime objects instead, reason: dates out of range. To silence this warning use a coarser resolution 'time_unit' or specify 'use_cftime=True'.\n",
      "  model_ds = xr.open_dataset(model_file_path)\n"
     ]
    },
    {
     "name": "stdout",
     "output_type": "stream",
     "text": [
      "    Warning: Model file not found for UCIJPL_ISSM2 in expa02. Skipping.\n",
      "    Warning: Model file not found for VUW_PISM in expa02. Skipping.\n"
     ]
    },
    {
     "name": "stderr",
     "output_type": "stream",
     "text": [
      "C:\\Users\\benra\\anaconda3\\Lib\\site-packages\\sklearn\\cluster\\_kmeans.py:1382: UserWarning: KMeans is known to have a memory leak on Windows with MKL, when there are less chunks than available threads. You can avoid it by setting the environment variable OMP_NUM_THREADS=1.\n",
      "  warnings.warn(\n"
     ]
    },
    {
     "name": "stdout",
     "output_type": "stream",
     "text": [
      "  Generated PCA plot for Basin NE, Experiment expa02\n",
      "  Processing Experiment: expa03\n",
      "    Warning: Model file not found for IMAU_IMAUICE1 in expa03. Skipping.\n",
      "    Warning: Model file not found for JPL_ISSMPALEO in expa03. Skipping.\n",
      "    Warning: Model file not found for MUN_GSM1 in expa03. Skipping.\n",
      "    Warning: Model file not found for MUN_GSM2 in expa03. Skipping.\n"
     ]
    },
    {
     "name": "stderr",
     "output_type": "stream",
     "text": [
      "C:\\Users\\benra\\AppData\\Local\\Temp\\ipykernel_22432\\2685639849.py:133: SerializationWarning: Unable to decode time axis into full numpy.datetime64[ns] objects, continuing using cftime.datetime objects instead, reason: dates out of range. To silence this warning use a coarser resolution 'time_unit' or specify 'use_cftime=True'.\n",
      "  model_ds = xr.open_dataset(model_file_path)\n",
      "C:\\Users\\benra\\AppData\\Local\\Temp\\ipykernel_22432\\2685639849.py:133: SerializationWarning: Unable to decode time axis into full numpy.datetime64[ns] objects, continuing using cftime.datetime objects instead, reason: dates out of range. To silence this warning use a coarser resolution 'time_unit' or specify 'use_cftime=True'.\n",
      "  model_ds = xr.open_dataset(model_file_path)\n",
      "C:\\Users\\benra\\AppData\\Local\\Temp\\ipykernel_22432\\2685639849.py:133: SerializationWarning: Unable to decode time axis into full numpy.datetime64[ns] objects, continuing using cftime.datetime objects instead, reason: dates out of range. To silence this warning use a coarser resolution 'time_unit' or specify 'use_cftime=True'.\n",
      "  model_ds = xr.open_dataset(model_file_path)\n",
      "C:\\Users\\benra\\AppData\\Local\\Temp\\ipykernel_22432\\2685639849.py:133: SerializationWarning: Unable to decode time axis into full numpy.datetime64[ns] objects, continuing using cftime.datetime objects instead, reason: dates out of range. To silence this warning use a coarser resolution 'time_unit' or specify 'use_cftime=True'.\n",
      "  model_ds = xr.open_dataset(model_file_path)\n"
     ]
    },
    {
     "name": "stdout",
     "output_type": "stream",
     "text": [
      "    Warning: Model file not found for UCIJPL_ISSM2 in expa03. Skipping.\n",
      "    Warning: Model file not found for VUW_PISM in expa03. Skipping.\n"
     ]
    },
    {
     "name": "stderr",
     "output_type": "stream",
     "text": [
      "C:\\Users\\benra\\anaconda3\\Lib\\site-packages\\sklearn\\cluster\\_kmeans.py:1382: UserWarning: KMeans is known to have a memory leak on Windows with MKL, when there are less chunks than available threads. You can avoid it by setting the environment variable OMP_NUM_THREADS=1.\n",
      "  warnings.warn(\n",
      "C:\\Users\\benra\\AppData\\Local\\Temp\\ipykernel_22432\\2685639849.py:249: RuntimeWarning: invalid value encountered in sqrt\n",
      "  height = 2 * np.sqrt(eigenvalues[1] * chi2_val) # Minor axis\n"
     ]
    },
    {
     "name": "stdout",
     "output_type": "stream",
     "text": [
      "  Generated PCA plot for Basin NE, Experiment expa03\n"
     ]
    },
    {
     "name": "stderr",
     "output_type": "stream",
     "text": [
      "C:\\Users\\benra\\anaconda3\\Lib\\site-packages\\seaborn\\matrix.py:260: FutureWarning: Format strings passed to MaskedConstant are ignored, but in future may error or produce different behavior\n",
      "  annotation = (\"{:\" + self.fmt + \"}\").format(val)\n"
     ]
    },
    {
     "name": "stdout",
     "output_type": "stream",
     "text": [
      "  Generated ARI Heatmap for Basin NE\n",
      "\n",
      "--- Processing Basin: CE (ID: 3) ---\n",
      "  Processing Experiment: exp05\n"
     ]
    },
    {
     "name": "stderr",
     "output_type": "stream",
     "text": [
      "C:\\Users\\benra\\AppData\\Local\\Temp\\ipykernel_22432\\2685639849.py:133: SerializationWarning: Unable to decode time axis into full numpy.datetime64[ns] objects, continuing using cftime.datetime objects instead, reason: dates out of range. To silence this warning use a coarser resolution 'time_unit' or specify 'use_cftime=True'.\n",
      "  model_ds = xr.open_dataset(model_file_path)\n",
      "C:\\Users\\benra\\AppData\\Local\\Temp\\ipykernel_22432\\2685639849.py:133: SerializationWarning: Unable to decode time axis into full numpy.datetime64[ns] objects, continuing using cftime.datetime objects instead, reason: dates out of range. To silence this warning use a coarser resolution 'time_unit' or specify 'use_cftime=True'.\n",
      "  model_ds = xr.open_dataset(model_file_path)\n"
     ]
    },
    {
     "name": "stdout",
     "output_type": "stream",
     "text": [
      "    Warning: Model file not found for UAF_PISM2 in exp05. Skipping.\n"
     ]
    },
    {
     "name": "stderr",
     "output_type": "stream",
     "text": [
      "C:\\Users\\benra\\anaconda3\\Lib\\site-packages\\sklearn\\cluster\\_kmeans.py:1382: UserWarning: KMeans is known to have a memory leak on Windows with MKL, when there are less chunks than available threads. You can avoid it by setting the environment variable OMP_NUM_THREADS=1.\n",
      "  warnings.warn(\n",
      "C:\\Users\\benra\\AppData\\Local\\Temp\\ipykernel_22432\\2685639849.py:212: UserWarning: You passed a edgecolor/edgecolors ('black') for an unfilled marker ('+').  Matplotlib is ignoring the edgecolor in favor of the facecolor.  This behavior may change in the future.\n",
      "  ax_2d.scatter(\n"
     ]
    },
    {
     "name": "stdout",
     "output_type": "stream",
     "text": [
      "  Generated PCA plot for Basin CE, Experiment exp05\n",
      "  Processing Experiment: exp06\n"
     ]
    },
    {
     "name": "stderr",
     "output_type": "stream",
     "text": [
      "C:\\Users\\benra\\AppData\\Local\\Temp\\ipykernel_22432\\2685639849.py:133: SerializationWarning: Unable to decode time axis into full numpy.datetime64[ns] objects, continuing using cftime.datetime objects instead, reason: dates out of range. To silence this warning use a coarser resolution 'time_unit' or specify 'use_cftime=True'.\n",
      "  model_ds = xr.open_dataset(model_file_path)\n",
      "C:\\Users\\benra\\AppData\\Local\\Temp\\ipykernel_22432\\2685639849.py:133: SerializationWarning: Unable to decode time axis into full numpy.datetime64[ns] objects, continuing using cftime.datetime objects instead, reason: dates out of range. To silence this warning use a coarser resolution 'time_unit' or specify 'use_cftime=True'.\n",
      "  model_ds = xr.open_dataset(model_file_path)\n"
     ]
    },
    {
     "name": "stdout",
     "output_type": "stream",
     "text": [
      "    Warning: Model file not found for UAF_PISM2 in exp06. Skipping.\n"
     ]
    },
    {
     "name": "stderr",
     "output_type": "stream",
     "text": [
      "C:\\Users\\benra\\anaconda3\\Lib\\site-packages\\sklearn\\cluster\\_kmeans.py:1382: UserWarning: KMeans is known to have a memory leak on Windows with MKL, when there are less chunks than available threads. You can avoid it by setting the environment variable OMP_NUM_THREADS=1.\n",
      "  warnings.warn(\n",
      "C:\\Users\\benra\\AppData\\Local\\Temp\\ipykernel_22432\\2685639849.py:212: UserWarning: You passed a edgecolor/edgecolors ('black') for an unfilled marker ('+').  Matplotlib is ignoring the edgecolor in favor of the facecolor.  This behavior may change in the future.\n",
      "  ax_2d.scatter(\n"
     ]
    },
    {
     "name": "stdout",
     "output_type": "stream",
     "text": [
      "  Generated PCA plot for Basin CE, Experiment exp06\n",
      "  Processing Experiment: exp07\n"
     ]
    },
    {
     "name": "stderr",
     "output_type": "stream",
     "text": [
      "C:\\Users\\benra\\AppData\\Local\\Temp\\ipykernel_22432\\2685639849.py:133: SerializationWarning: Unable to decode time axis into full numpy.datetime64[ns] objects, continuing using cftime.datetime objects instead, reason: dates out of range. To silence this warning use a coarser resolution 'time_unit' or specify 'use_cftime=True'.\n",
      "  model_ds = xr.open_dataset(model_file_path)\n",
      "C:\\Users\\benra\\AppData\\Local\\Temp\\ipykernel_22432\\2685639849.py:133: SerializationWarning: Unable to decode time axis into full numpy.datetime64[ns] objects, continuing using cftime.datetime objects instead, reason: dates out of range. To silence this warning use a coarser resolution 'time_unit' or specify 'use_cftime=True'.\n",
      "  model_ds = xr.open_dataset(model_file_path)\n"
     ]
    },
    {
     "name": "stdout",
     "output_type": "stream",
     "text": [
      "    Warning: Model file not found for UAF_PISM2 in exp07. Skipping.\n"
     ]
    },
    {
     "name": "stderr",
     "output_type": "stream",
     "text": [
      "C:\\Users\\benra\\anaconda3\\Lib\\site-packages\\sklearn\\cluster\\_kmeans.py:1382: UserWarning: KMeans is known to have a memory leak on Windows with MKL, when there are less chunks than available threads. You can avoid it by setting the environment variable OMP_NUM_THREADS=1.\n",
      "  warnings.warn(\n",
      "C:\\Users\\benra\\AppData\\Local\\Temp\\ipykernel_22432\\2685639849.py:212: UserWarning: You passed a edgecolor/edgecolors ('black') for an unfilled marker ('+').  Matplotlib is ignoring the edgecolor in favor of the facecolor.  This behavior may change in the future.\n",
      "  ax_2d.scatter(\n"
     ]
    },
    {
     "name": "stdout",
     "output_type": "stream",
     "text": [
      "  Generated PCA plot for Basin CE, Experiment exp07\n",
      "  Processing Experiment: exp08\n"
     ]
    },
    {
     "name": "stderr",
     "output_type": "stream",
     "text": [
      "C:\\Users\\benra\\AppData\\Local\\Temp\\ipykernel_22432\\2685639849.py:133: SerializationWarning: Unable to decode time axis into full numpy.datetime64[ns] objects, continuing using cftime.datetime objects instead, reason: dates out of range. To silence this warning use a coarser resolution 'time_unit' or specify 'use_cftime=True'.\n",
      "  model_ds = xr.open_dataset(model_file_path)\n",
      "C:\\Users\\benra\\AppData\\Local\\Temp\\ipykernel_22432\\2685639849.py:133: SerializationWarning: Unable to decode time axis into full numpy.datetime64[ns] objects, continuing using cftime.datetime objects instead, reason: dates out of range. To silence this warning use a coarser resolution 'time_unit' or specify 'use_cftime=True'.\n",
      "  model_ds = xr.open_dataset(model_file_path)\n"
     ]
    },
    {
     "name": "stdout",
     "output_type": "stream",
     "text": [
      "    Warning: Model file not found for UAF_PISM2 in exp08. Skipping.\n"
     ]
    },
    {
     "name": "stderr",
     "output_type": "stream",
     "text": [
      "C:\\Users\\benra\\anaconda3\\Lib\\site-packages\\sklearn\\cluster\\_kmeans.py:1382: UserWarning: KMeans is known to have a memory leak on Windows with MKL, when there are less chunks than available threads. You can avoid it by setting the environment variable OMP_NUM_THREADS=1.\n",
      "  warnings.warn(\n",
      "C:\\Users\\benra\\AppData\\Local\\Temp\\ipykernel_22432\\2685639849.py:212: UserWarning: You passed a edgecolor/edgecolors ('black') for an unfilled marker ('+').  Matplotlib is ignoring the edgecolor in favor of the facecolor.  This behavior may change in the future.\n",
      "  ax_2d.scatter(\n"
     ]
    },
    {
     "name": "stdout",
     "output_type": "stream",
     "text": [
      "  Generated PCA plot for Basin CE, Experiment exp08\n",
      "  Processing Experiment: exp09\n"
     ]
    },
    {
     "name": "stderr",
     "output_type": "stream",
     "text": [
      "C:\\Users\\benra\\AppData\\Local\\Temp\\ipykernel_22432\\2685639849.py:133: SerializationWarning: Unable to decode time axis into full numpy.datetime64[ns] objects, continuing using cftime.datetime objects instead, reason: dates out of range. To silence this warning use a coarser resolution 'time_unit' or specify 'use_cftime=True'.\n",
      "  model_ds = xr.open_dataset(model_file_path)\n",
      "C:\\Users\\benra\\AppData\\Local\\Temp\\ipykernel_22432\\2685639849.py:133: SerializationWarning: Unable to decode time axis into full numpy.datetime64[ns] objects, continuing using cftime.datetime objects instead, reason: dates out of range. To silence this warning use a coarser resolution 'time_unit' or specify 'use_cftime=True'.\n",
      "  model_ds = xr.open_dataset(model_file_path)\n"
     ]
    },
    {
     "name": "stdout",
     "output_type": "stream",
     "text": [
      "    Warning: Model file not found for UAF_PISM2 in exp09. Skipping.\n",
      "    Warning: Model file not found for UCIJPL_ISSM2 in exp09. Skipping.\n",
      "    Warning: Model file not found for VUW_PISM in exp09. Skipping.\n"
     ]
    },
    {
     "name": "stderr",
     "output_type": "stream",
     "text": [
      "C:\\Users\\benra\\anaconda3\\Lib\\site-packages\\sklearn\\cluster\\_kmeans.py:1382: UserWarning: KMeans is known to have a memory leak on Windows with MKL, when there are less chunks than available threads. You can avoid it by setting the environment variable OMP_NUM_THREADS=1.\n",
      "  warnings.warn(\n"
     ]
    },
    {
     "name": "stdout",
     "output_type": "stream",
     "text": [
      "  Generated PCA plot for Basin CE, Experiment exp09\n",
      "  Processing Experiment: exp10\n"
     ]
    },
    {
     "name": "stderr",
     "output_type": "stream",
     "text": [
      "C:\\Users\\benra\\AppData\\Local\\Temp\\ipykernel_22432\\2685639849.py:133: SerializationWarning: Unable to decode time axis into full numpy.datetime64[ns] objects, continuing using cftime.datetime objects instead, reason: dates out of range. To silence this warning use a coarser resolution 'time_unit' or specify 'use_cftime=True'.\n",
      "  model_ds = xr.open_dataset(model_file_path)\n",
      "C:\\Users\\benra\\AppData\\Local\\Temp\\ipykernel_22432\\2685639849.py:133: SerializationWarning: Unable to decode time axis into full numpy.datetime64[ns] objects, continuing using cftime.datetime objects instead, reason: dates out of range. To silence this warning use a coarser resolution 'time_unit' or specify 'use_cftime=True'.\n",
      "  model_ds = xr.open_dataset(model_file_path)\n"
     ]
    },
    {
     "name": "stdout",
     "output_type": "stream",
     "text": [
      "    Warning: Model file not found for UAF_PISM2 in exp10. Skipping.\n",
      "    Warning: Model file not found for UCIJPL_ISSM2 in exp10. Skipping.\n",
      "    Warning: Model file not found for VUW_PISM in exp10. Skipping.\n"
     ]
    },
    {
     "name": "stderr",
     "output_type": "stream",
     "text": [
      "C:\\Users\\benra\\anaconda3\\Lib\\site-packages\\sklearn\\cluster\\_kmeans.py:1382: UserWarning: KMeans is known to have a memory leak on Windows with MKL, when there are less chunks than available threads. You can avoid it by setting the environment variable OMP_NUM_THREADS=1.\n",
      "  warnings.warn(\n"
     ]
    },
    {
     "name": "stdout",
     "output_type": "stream",
     "text": [
      "  Generated PCA plot for Basin CE, Experiment exp10\n",
      "  Processing Experiment: expa01\n",
      "    Warning: Model file not found for IMAU_IMAUICE1 in expa01. Skipping.\n",
      "    Warning: Model file not found for JPL_ISSMPALEO in expa01. Skipping.\n",
      "    Warning: Model file not found for MUN_GSM1 in expa01. Skipping.\n",
      "    Warning: Model file not found for MUN_GSM2 in expa01. Skipping.\n"
     ]
    },
    {
     "name": "stderr",
     "output_type": "stream",
     "text": [
      "C:\\Users\\benra\\AppData\\Local\\Temp\\ipykernel_22432\\2685639849.py:133: SerializationWarning: Unable to decode time axis into full numpy.datetime64[ns] objects, continuing using cftime.datetime objects instead, reason: dates out of range. To silence this warning use a coarser resolution 'time_unit' or specify 'use_cftime=True'.\n",
      "  model_ds = xr.open_dataset(model_file_path)\n",
      "C:\\Users\\benra\\AppData\\Local\\Temp\\ipykernel_22432\\2685639849.py:133: SerializationWarning: Unable to decode time axis into full numpy.datetime64[ns] objects, continuing using cftime.datetime objects instead, reason: dates out of range. To silence this warning use a coarser resolution 'time_unit' or specify 'use_cftime=True'.\n",
      "  model_ds = xr.open_dataset(model_file_path)\n",
      "C:\\Users\\benra\\AppData\\Local\\Temp\\ipykernel_22432\\2685639849.py:133: SerializationWarning: Unable to decode time axis into full numpy.datetime64[ns] objects, continuing using cftime.datetime objects instead, reason: dates out of range. To silence this warning use a coarser resolution 'time_unit' or specify 'use_cftime=True'.\n",
      "  model_ds = xr.open_dataset(model_file_path)\n",
      "C:\\Users\\benra\\AppData\\Local\\Temp\\ipykernel_22432\\2685639849.py:133: SerializationWarning: Unable to decode time axis into full numpy.datetime64[ns] objects, continuing using cftime.datetime objects instead, reason: dates out of range. To silence this warning use a coarser resolution 'time_unit' or specify 'use_cftime=True'.\n",
      "  model_ds = xr.open_dataset(model_file_path)\n"
     ]
    },
    {
     "name": "stdout",
     "output_type": "stream",
     "text": [
      "    Warning: Model file not found for UCIJPL_ISSM2 in expa01. Skipping.\n",
      "    Warning: Model file not found for VUW_PISM in expa01. Skipping.\n"
     ]
    },
    {
     "name": "stderr",
     "output_type": "stream",
     "text": [
      "C:\\Users\\benra\\anaconda3\\Lib\\site-packages\\sklearn\\cluster\\_kmeans.py:1382: UserWarning: KMeans is known to have a memory leak on Windows with MKL, when there are less chunks than available threads. You can avoid it by setting the environment variable OMP_NUM_THREADS=1.\n",
      "  warnings.warn(\n",
      "C:\\Users\\benra\\AppData\\Local\\Temp\\ipykernel_22432\\2685639849.py:249: RuntimeWarning: invalid value encountered in sqrt\n",
      "  height = 2 * np.sqrt(eigenvalues[1] * chi2_val) # Minor axis\n"
     ]
    },
    {
     "name": "stdout",
     "output_type": "stream",
     "text": [
      "  Generated PCA plot for Basin CE, Experiment expa01\n",
      "  Processing Experiment: expa02\n",
      "    Warning: Model file not found for IMAU_IMAUICE1 in expa02. Skipping.\n",
      "    Warning: Model file not found for JPL_ISSMPALEO in expa02. Skipping.\n",
      "    Warning: Model file not found for MUN_GSM1 in expa02. Skipping.\n",
      "    Warning: Model file not found for MUN_GSM2 in expa02. Skipping.\n"
     ]
    },
    {
     "name": "stderr",
     "output_type": "stream",
     "text": [
      "C:\\Users\\benra\\AppData\\Local\\Temp\\ipykernel_22432\\2685639849.py:133: SerializationWarning: Unable to decode time axis into full numpy.datetime64[ns] objects, continuing using cftime.datetime objects instead, reason: dates out of range. To silence this warning use a coarser resolution 'time_unit' or specify 'use_cftime=True'.\n",
      "  model_ds = xr.open_dataset(model_file_path)\n",
      "C:\\Users\\benra\\AppData\\Local\\Temp\\ipykernel_22432\\2685639849.py:133: SerializationWarning: Unable to decode time axis into full numpy.datetime64[ns] objects, continuing using cftime.datetime objects instead, reason: dates out of range. To silence this warning use a coarser resolution 'time_unit' or specify 'use_cftime=True'.\n",
      "  model_ds = xr.open_dataset(model_file_path)\n",
      "C:\\Users\\benra\\AppData\\Local\\Temp\\ipykernel_22432\\2685639849.py:133: SerializationWarning: Unable to decode time axis into full numpy.datetime64[ns] objects, continuing using cftime.datetime objects instead, reason: dates out of range. To silence this warning use a coarser resolution 'time_unit' or specify 'use_cftime=True'.\n",
      "  model_ds = xr.open_dataset(model_file_path)\n",
      "C:\\Users\\benra\\AppData\\Local\\Temp\\ipykernel_22432\\2685639849.py:133: SerializationWarning: Unable to decode time axis into full numpy.datetime64[ns] objects, continuing using cftime.datetime objects instead, reason: dates out of range. To silence this warning use a coarser resolution 'time_unit' or specify 'use_cftime=True'.\n",
      "  model_ds = xr.open_dataset(model_file_path)\n"
     ]
    },
    {
     "name": "stdout",
     "output_type": "stream",
     "text": [
      "    Warning: Model file not found for UCIJPL_ISSM2 in expa02. Skipping.\n",
      "    Warning: Model file not found for VUW_PISM in expa02. Skipping.\n"
     ]
    },
    {
     "name": "stderr",
     "output_type": "stream",
     "text": [
      "C:\\Users\\benra\\anaconda3\\Lib\\site-packages\\sklearn\\cluster\\_kmeans.py:1382: UserWarning: KMeans is known to have a memory leak on Windows with MKL, when there are less chunks than available threads. You can avoid it by setting the environment variable OMP_NUM_THREADS=1.\n",
      "  warnings.warn(\n",
      "C:\\Users\\benra\\AppData\\Local\\Temp\\ipykernel_22432\\2685639849.py:249: RuntimeWarning: invalid value encountered in sqrt\n",
      "  height = 2 * np.sqrt(eigenvalues[1] * chi2_val) # Minor axis\n"
     ]
    },
    {
     "name": "stdout",
     "output_type": "stream",
     "text": [
      "  Generated PCA plot for Basin CE, Experiment expa02\n",
      "  Processing Experiment: expa03\n",
      "    Warning: Model file not found for IMAU_IMAUICE1 in expa03. Skipping.\n",
      "    Warning: Model file not found for JPL_ISSMPALEO in expa03. Skipping.\n",
      "    Warning: Model file not found for MUN_GSM1 in expa03. Skipping.\n",
      "    Warning: Model file not found for MUN_GSM2 in expa03. Skipping.\n"
     ]
    },
    {
     "name": "stderr",
     "output_type": "stream",
     "text": [
      "C:\\Users\\benra\\AppData\\Local\\Temp\\ipykernel_22432\\2685639849.py:133: SerializationWarning: Unable to decode time axis into full numpy.datetime64[ns] objects, continuing using cftime.datetime objects instead, reason: dates out of range. To silence this warning use a coarser resolution 'time_unit' or specify 'use_cftime=True'.\n",
      "  model_ds = xr.open_dataset(model_file_path)\n",
      "C:\\Users\\benra\\AppData\\Local\\Temp\\ipykernel_22432\\2685639849.py:133: SerializationWarning: Unable to decode time axis into full numpy.datetime64[ns] objects, continuing using cftime.datetime objects instead, reason: dates out of range. To silence this warning use a coarser resolution 'time_unit' or specify 'use_cftime=True'.\n",
      "  model_ds = xr.open_dataset(model_file_path)\n",
      "C:\\Users\\benra\\AppData\\Local\\Temp\\ipykernel_22432\\2685639849.py:133: SerializationWarning: Unable to decode time axis into full numpy.datetime64[ns] objects, continuing using cftime.datetime objects instead, reason: dates out of range. To silence this warning use a coarser resolution 'time_unit' or specify 'use_cftime=True'.\n",
      "  model_ds = xr.open_dataset(model_file_path)\n",
      "C:\\Users\\benra\\AppData\\Local\\Temp\\ipykernel_22432\\2685639849.py:133: SerializationWarning: Unable to decode time axis into full numpy.datetime64[ns] objects, continuing using cftime.datetime objects instead, reason: dates out of range. To silence this warning use a coarser resolution 'time_unit' or specify 'use_cftime=True'.\n",
      "  model_ds = xr.open_dataset(model_file_path)\n"
     ]
    },
    {
     "name": "stdout",
     "output_type": "stream",
     "text": [
      "    Warning: Model file not found for UCIJPL_ISSM2 in expa03. Skipping.\n",
      "    Warning: Model file not found for VUW_PISM in expa03. Skipping.\n"
     ]
    },
    {
     "name": "stderr",
     "output_type": "stream",
     "text": [
      "C:\\Users\\benra\\anaconda3\\Lib\\site-packages\\sklearn\\cluster\\_kmeans.py:1382: UserWarning: KMeans is known to have a memory leak on Windows with MKL, when there are less chunks than available threads. You can avoid it by setting the environment variable OMP_NUM_THREADS=1.\n",
      "  warnings.warn(\n"
     ]
    },
    {
     "name": "stdout",
     "output_type": "stream",
     "text": [
      "  Generated PCA plot for Basin CE, Experiment expa03\n"
     ]
    },
    {
     "name": "stderr",
     "output_type": "stream",
     "text": [
      "C:\\Users\\benra\\anaconda3\\Lib\\site-packages\\seaborn\\matrix.py:260: FutureWarning: Format strings passed to MaskedConstant are ignored, but in future may error or produce different behavior\n",
      "  annotation = (\"{:\" + self.fmt + \"}\").format(val)\n"
     ]
    },
    {
     "name": "stdout",
     "output_type": "stream",
     "text": [
      "  Generated ARI Heatmap for Basin CE\n",
      "\n",
      "--- Processing Basin: SE (ID: 4) ---\n",
      "  Processing Experiment: exp05\n"
     ]
    },
    {
     "name": "stderr",
     "output_type": "stream",
     "text": [
      "C:\\Users\\benra\\AppData\\Local\\Temp\\ipykernel_22432\\2685639849.py:133: SerializationWarning: Unable to decode time axis into full numpy.datetime64[ns] objects, continuing using cftime.datetime objects instead, reason: dates out of range. To silence this warning use a coarser resolution 'time_unit' or specify 'use_cftime=True'.\n",
      "  model_ds = xr.open_dataset(model_file_path)\n",
      "C:\\Users\\benra\\AppData\\Local\\Temp\\ipykernel_22432\\2685639849.py:133: SerializationWarning: Unable to decode time axis into full numpy.datetime64[ns] objects, continuing using cftime.datetime objects instead, reason: dates out of range. To silence this warning use a coarser resolution 'time_unit' or specify 'use_cftime=True'.\n",
      "  model_ds = xr.open_dataset(model_file_path)\n"
     ]
    },
    {
     "name": "stdout",
     "output_type": "stream",
     "text": [
      "    Warning: Model file not found for UAF_PISM2 in exp05. Skipping.\n"
     ]
    },
    {
     "name": "stderr",
     "output_type": "stream",
     "text": [
      "C:\\Users\\benra\\anaconda3\\Lib\\site-packages\\sklearn\\cluster\\_kmeans.py:1382: UserWarning: KMeans is known to have a memory leak on Windows with MKL, when there are less chunks than available threads. You can avoid it by setting the environment variable OMP_NUM_THREADS=1.\n",
      "  warnings.warn(\n",
      "C:\\Users\\benra\\AppData\\Local\\Temp\\ipykernel_22432\\2685639849.py:212: UserWarning: You passed a edgecolor/edgecolors ('black') for an unfilled marker ('+').  Matplotlib is ignoring the edgecolor in favor of the facecolor.  This behavior may change in the future.\n",
      "  ax_2d.scatter(\n"
     ]
    },
    {
     "name": "stdout",
     "output_type": "stream",
     "text": [
      "  Generated PCA plot for Basin SE, Experiment exp05\n",
      "  Processing Experiment: exp06\n"
     ]
    },
    {
     "name": "stderr",
     "output_type": "stream",
     "text": [
      "C:\\Users\\benra\\AppData\\Local\\Temp\\ipykernel_22432\\2685639849.py:133: SerializationWarning: Unable to decode time axis into full numpy.datetime64[ns] objects, continuing using cftime.datetime objects instead, reason: dates out of range. To silence this warning use a coarser resolution 'time_unit' or specify 'use_cftime=True'.\n",
      "  model_ds = xr.open_dataset(model_file_path)\n",
      "C:\\Users\\benra\\AppData\\Local\\Temp\\ipykernel_22432\\2685639849.py:133: SerializationWarning: Unable to decode time axis into full numpy.datetime64[ns] objects, continuing using cftime.datetime objects instead, reason: dates out of range. To silence this warning use a coarser resolution 'time_unit' or specify 'use_cftime=True'.\n",
      "  model_ds = xr.open_dataset(model_file_path)\n"
     ]
    },
    {
     "name": "stdout",
     "output_type": "stream",
     "text": [
      "    Warning: Model file not found for UAF_PISM2 in exp06. Skipping.\n"
     ]
    },
    {
     "name": "stderr",
     "output_type": "stream",
     "text": [
      "C:\\Users\\benra\\anaconda3\\Lib\\site-packages\\sklearn\\cluster\\_kmeans.py:1382: UserWarning: KMeans is known to have a memory leak on Windows with MKL, when there are less chunks than available threads. You can avoid it by setting the environment variable OMP_NUM_THREADS=1.\n",
      "  warnings.warn(\n",
      "C:\\Users\\benra\\AppData\\Local\\Temp\\ipykernel_22432\\2685639849.py:212: UserWarning: You passed a edgecolor/edgecolors ('black') for an unfilled marker ('+').  Matplotlib is ignoring the edgecolor in favor of the facecolor.  This behavior may change in the future.\n",
      "  ax_2d.scatter(\n"
     ]
    },
    {
     "name": "stdout",
     "output_type": "stream",
     "text": [
      "  Generated PCA plot for Basin SE, Experiment exp06\n",
      "  Processing Experiment: exp07\n"
     ]
    },
    {
     "name": "stderr",
     "output_type": "stream",
     "text": [
      "C:\\Users\\benra\\AppData\\Local\\Temp\\ipykernel_22432\\2685639849.py:133: SerializationWarning: Unable to decode time axis into full numpy.datetime64[ns] objects, continuing using cftime.datetime objects instead, reason: dates out of range. To silence this warning use a coarser resolution 'time_unit' or specify 'use_cftime=True'.\n",
      "  model_ds = xr.open_dataset(model_file_path)\n",
      "C:\\Users\\benra\\AppData\\Local\\Temp\\ipykernel_22432\\2685639849.py:133: SerializationWarning: Unable to decode time axis into full numpy.datetime64[ns] objects, continuing using cftime.datetime objects instead, reason: dates out of range. To silence this warning use a coarser resolution 'time_unit' or specify 'use_cftime=True'.\n",
      "  model_ds = xr.open_dataset(model_file_path)\n"
     ]
    },
    {
     "name": "stdout",
     "output_type": "stream",
     "text": [
      "    Warning: Model file not found for UAF_PISM2 in exp07. Skipping.\n"
     ]
    },
    {
     "name": "stderr",
     "output_type": "stream",
     "text": [
      "C:\\Users\\benra\\anaconda3\\Lib\\site-packages\\sklearn\\cluster\\_kmeans.py:1382: UserWarning: KMeans is known to have a memory leak on Windows with MKL, when there are less chunks than available threads. You can avoid it by setting the environment variable OMP_NUM_THREADS=1.\n",
      "  warnings.warn(\n",
      "C:\\Users\\benra\\AppData\\Local\\Temp\\ipykernel_22432\\2685639849.py:212: UserWarning: You passed a edgecolor/edgecolors ('black') for an unfilled marker ('+').  Matplotlib is ignoring the edgecolor in favor of the facecolor.  This behavior may change in the future.\n",
      "  ax_2d.scatter(\n"
     ]
    },
    {
     "name": "stdout",
     "output_type": "stream",
     "text": [
      "  Generated PCA plot for Basin SE, Experiment exp07\n",
      "  Processing Experiment: exp08\n"
     ]
    },
    {
     "name": "stderr",
     "output_type": "stream",
     "text": [
      "C:\\Users\\benra\\AppData\\Local\\Temp\\ipykernel_22432\\2685639849.py:133: SerializationWarning: Unable to decode time axis into full numpy.datetime64[ns] objects, continuing using cftime.datetime objects instead, reason: dates out of range. To silence this warning use a coarser resolution 'time_unit' or specify 'use_cftime=True'.\n",
      "  model_ds = xr.open_dataset(model_file_path)\n",
      "C:\\Users\\benra\\AppData\\Local\\Temp\\ipykernel_22432\\2685639849.py:133: SerializationWarning: Unable to decode time axis into full numpy.datetime64[ns] objects, continuing using cftime.datetime objects instead, reason: dates out of range. To silence this warning use a coarser resolution 'time_unit' or specify 'use_cftime=True'.\n",
      "  model_ds = xr.open_dataset(model_file_path)\n"
     ]
    },
    {
     "name": "stdout",
     "output_type": "stream",
     "text": [
      "    Warning: Model file not found for UAF_PISM2 in exp08. Skipping.\n"
     ]
    },
    {
     "name": "stderr",
     "output_type": "stream",
     "text": [
      "C:\\Users\\benra\\anaconda3\\Lib\\site-packages\\sklearn\\cluster\\_kmeans.py:1382: UserWarning: KMeans is known to have a memory leak on Windows with MKL, when there are less chunks than available threads. You can avoid it by setting the environment variable OMP_NUM_THREADS=1.\n",
      "  warnings.warn(\n",
      "C:\\Users\\benra\\AppData\\Local\\Temp\\ipykernel_22432\\2685639849.py:212: UserWarning: You passed a edgecolor/edgecolors ('black') for an unfilled marker ('+').  Matplotlib is ignoring the edgecolor in favor of the facecolor.  This behavior may change in the future.\n",
      "  ax_2d.scatter(\n"
     ]
    },
    {
     "name": "stdout",
     "output_type": "stream",
     "text": [
      "  Generated PCA plot for Basin SE, Experiment exp08\n",
      "  Processing Experiment: exp09\n"
     ]
    },
    {
     "name": "stderr",
     "output_type": "stream",
     "text": [
      "C:\\Users\\benra\\AppData\\Local\\Temp\\ipykernel_22432\\2685639849.py:133: SerializationWarning: Unable to decode time axis into full numpy.datetime64[ns] objects, continuing using cftime.datetime objects instead, reason: dates out of range. To silence this warning use a coarser resolution 'time_unit' or specify 'use_cftime=True'.\n",
      "  model_ds = xr.open_dataset(model_file_path)\n",
      "C:\\Users\\benra\\AppData\\Local\\Temp\\ipykernel_22432\\2685639849.py:133: SerializationWarning: Unable to decode time axis into full numpy.datetime64[ns] objects, continuing using cftime.datetime objects instead, reason: dates out of range. To silence this warning use a coarser resolution 'time_unit' or specify 'use_cftime=True'.\n",
      "  model_ds = xr.open_dataset(model_file_path)\n"
     ]
    },
    {
     "name": "stdout",
     "output_type": "stream",
     "text": [
      "    Warning: Model file not found for UAF_PISM2 in exp09. Skipping.\n",
      "    Warning: Model file not found for UCIJPL_ISSM2 in exp09. Skipping.\n",
      "    Warning: Model file not found for VUW_PISM in exp09. Skipping.\n"
     ]
    },
    {
     "name": "stderr",
     "output_type": "stream",
     "text": [
      "C:\\Users\\benra\\anaconda3\\Lib\\site-packages\\sklearn\\cluster\\_kmeans.py:1382: UserWarning: KMeans is known to have a memory leak on Windows with MKL, when there are less chunks than available threads. You can avoid it by setting the environment variable OMP_NUM_THREADS=1.\n",
      "  warnings.warn(\n"
     ]
    },
    {
     "name": "stdout",
     "output_type": "stream",
     "text": [
      "  Generated PCA plot for Basin SE, Experiment exp09\n",
      "  Processing Experiment: exp10\n"
     ]
    },
    {
     "name": "stderr",
     "output_type": "stream",
     "text": [
      "C:\\Users\\benra\\AppData\\Local\\Temp\\ipykernel_22432\\2685639849.py:133: SerializationWarning: Unable to decode time axis into full numpy.datetime64[ns] objects, continuing using cftime.datetime objects instead, reason: dates out of range. To silence this warning use a coarser resolution 'time_unit' or specify 'use_cftime=True'.\n",
      "  model_ds = xr.open_dataset(model_file_path)\n",
      "C:\\Users\\benra\\AppData\\Local\\Temp\\ipykernel_22432\\2685639849.py:133: SerializationWarning: Unable to decode time axis into full numpy.datetime64[ns] objects, continuing using cftime.datetime objects instead, reason: dates out of range. To silence this warning use a coarser resolution 'time_unit' or specify 'use_cftime=True'.\n",
      "  model_ds = xr.open_dataset(model_file_path)\n",
      "C:\\Users\\benra\\anaconda3\\Lib\\site-packages\\sklearn\\cluster\\_kmeans.py:1382: UserWarning: KMeans is known to have a memory leak on Windows with MKL, when there are less chunks than available threads. You can avoid it by setting the environment variable OMP_NUM_THREADS=1.\n",
      "  warnings.warn(\n"
     ]
    },
    {
     "name": "stdout",
     "output_type": "stream",
     "text": [
      "    Warning: Model file not found for UAF_PISM2 in exp10. Skipping.\n",
      "    Warning: Model file not found for UCIJPL_ISSM2 in exp10. Skipping.\n",
      "    Warning: Model file not found for VUW_PISM in exp10. Skipping.\n",
      "  Generated PCA plot for Basin SE, Experiment exp10\n",
      "  Processing Experiment: expa01\n",
      "    Warning: Model file not found for IMAU_IMAUICE1 in expa01. Skipping.\n",
      "    Warning: Model file not found for JPL_ISSMPALEO in expa01. Skipping.\n",
      "    Warning: Model file not found for MUN_GSM1 in expa01. Skipping.\n",
      "    Warning: Model file not found for MUN_GSM2 in expa01. Skipping.\n"
     ]
    },
    {
     "name": "stderr",
     "output_type": "stream",
     "text": [
      "C:\\Users\\benra\\AppData\\Local\\Temp\\ipykernel_22432\\2685639849.py:133: SerializationWarning: Unable to decode time axis into full numpy.datetime64[ns] objects, continuing using cftime.datetime objects instead, reason: dates out of range. To silence this warning use a coarser resolution 'time_unit' or specify 'use_cftime=True'.\n",
      "  model_ds = xr.open_dataset(model_file_path)\n",
      "C:\\Users\\benra\\AppData\\Local\\Temp\\ipykernel_22432\\2685639849.py:133: SerializationWarning: Unable to decode time axis into full numpy.datetime64[ns] objects, continuing using cftime.datetime objects instead, reason: dates out of range. To silence this warning use a coarser resolution 'time_unit' or specify 'use_cftime=True'.\n",
      "  model_ds = xr.open_dataset(model_file_path)\n",
      "C:\\Users\\benra\\AppData\\Local\\Temp\\ipykernel_22432\\2685639849.py:133: SerializationWarning: Unable to decode time axis into full numpy.datetime64[ns] objects, continuing using cftime.datetime objects instead, reason: dates out of range. To silence this warning use a coarser resolution 'time_unit' or specify 'use_cftime=True'.\n",
      "  model_ds = xr.open_dataset(model_file_path)\n",
      "C:\\Users\\benra\\AppData\\Local\\Temp\\ipykernel_22432\\2685639849.py:133: SerializationWarning: Unable to decode time axis into full numpy.datetime64[ns] objects, continuing using cftime.datetime objects instead, reason: dates out of range. To silence this warning use a coarser resolution 'time_unit' or specify 'use_cftime=True'.\n",
      "  model_ds = xr.open_dataset(model_file_path)\n"
     ]
    },
    {
     "name": "stdout",
     "output_type": "stream",
     "text": [
      "    Warning: Model file not found for UCIJPL_ISSM2 in expa01. Skipping.\n",
      "    Warning: Model file not found for VUW_PISM in expa01. Skipping.\n"
     ]
    },
    {
     "name": "stderr",
     "output_type": "stream",
     "text": [
      "C:\\Users\\benra\\anaconda3\\Lib\\site-packages\\sklearn\\cluster\\_kmeans.py:1382: UserWarning: KMeans is known to have a memory leak on Windows with MKL, when there are less chunks than available threads. You can avoid it by setting the environment variable OMP_NUM_THREADS=1.\n",
      "  warnings.warn(\n"
     ]
    },
    {
     "name": "stdout",
     "output_type": "stream",
     "text": [
      "  Generated PCA plot for Basin SE, Experiment expa01\n",
      "  Processing Experiment: expa02\n",
      "    Warning: Model file not found for IMAU_IMAUICE1 in expa02. Skipping.\n",
      "    Warning: Model file not found for JPL_ISSMPALEO in expa02. Skipping.\n",
      "    Warning: Model file not found for MUN_GSM1 in expa02. Skipping.\n",
      "    Warning: Model file not found for MUN_GSM2 in expa02. Skipping.\n"
     ]
    },
    {
     "name": "stderr",
     "output_type": "stream",
     "text": [
      "C:\\Users\\benra\\AppData\\Local\\Temp\\ipykernel_22432\\2685639849.py:133: SerializationWarning: Unable to decode time axis into full numpy.datetime64[ns] objects, continuing using cftime.datetime objects instead, reason: dates out of range. To silence this warning use a coarser resolution 'time_unit' or specify 'use_cftime=True'.\n",
      "  model_ds = xr.open_dataset(model_file_path)\n",
      "C:\\Users\\benra\\AppData\\Local\\Temp\\ipykernel_22432\\2685639849.py:133: SerializationWarning: Unable to decode time axis into full numpy.datetime64[ns] objects, continuing using cftime.datetime objects instead, reason: dates out of range. To silence this warning use a coarser resolution 'time_unit' or specify 'use_cftime=True'.\n",
      "  model_ds = xr.open_dataset(model_file_path)\n",
      "C:\\Users\\benra\\AppData\\Local\\Temp\\ipykernel_22432\\2685639849.py:133: SerializationWarning: Unable to decode time axis into full numpy.datetime64[ns] objects, continuing using cftime.datetime objects instead, reason: dates out of range. To silence this warning use a coarser resolution 'time_unit' or specify 'use_cftime=True'.\n",
      "  model_ds = xr.open_dataset(model_file_path)\n",
      "C:\\Users\\benra\\AppData\\Local\\Temp\\ipykernel_22432\\2685639849.py:133: SerializationWarning: Unable to decode time axis into full numpy.datetime64[ns] objects, continuing using cftime.datetime objects instead, reason: dates out of range. To silence this warning use a coarser resolution 'time_unit' or specify 'use_cftime=True'.\n",
      "  model_ds = xr.open_dataset(model_file_path)\n"
     ]
    },
    {
     "name": "stdout",
     "output_type": "stream",
     "text": [
      "    Warning: Model file not found for UCIJPL_ISSM2 in expa02. Skipping.\n",
      "    Warning: Model file not found for VUW_PISM in expa02. Skipping.\n"
     ]
    },
    {
     "name": "stderr",
     "output_type": "stream",
     "text": [
      "C:\\Users\\benra\\anaconda3\\Lib\\site-packages\\sklearn\\cluster\\_kmeans.py:1382: UserWarning: KMeans is known to have a memory leak on Windows with MKL, when there are less chunks than available threads. You can avoid it by setting the environment variable OMP_NUM_THREADS=1.\n",
      "  warnings.warn(\n"
     ]
    },
    {
     "name": "stdout",
     "output_type": "stream",
     "text": [
      "  Generated PCA plot for Basin SE, Experiment expa02\n",
      "  Processing Experiment: expa03\n",
      "    Warning: Model file not found for IMAU_IMAUICE1 in expa03. Skipping.\n",
      "    Warning: Model file not found for JPL_ISSMPALEO in expa03. Skipping.\n",
      "    Warning: Model file not found for MUN_GSM1 in expa03. Skipping.\n",
      "    Warning: Model file not found for MUN_GSM2 in expa03. Skipping.\n"
     ]
    },
    {
     "name": "stderr",
     "output_type": "stream",
     "text": [
      "C:\\Users\\benra\\AppData\\Local\\Temp\\ipykernel_22432\\2685639849.py:133: SerializationWarning: Unable to decode time axis into full numpy.datetime64[ns] objects, continuing using cftime.datetime objects instead, reason: dates out of range. To silence this warning use a coarser resolution 'time_unit' or specify 'use_cftime=True'.\n",
      "  model_ds = xr.open_dataset(model_file_path)\n",
      "C:\\Users\\benra\\AppData\\Local\\Temp\\ipykernel_22432\\2685639849.py:133: SerializationWarning: Unable to decode time axis into full numpy.datetime64[ns] objects, continuing using cftime.datetime objects instead, reason: dates out of range. To silence this warning use a coarser resolution 'time_unit' or specify 'use_cftime=True'.\n",
      "  model_ds = xr.open_dataset(model_file_path)\n",
      "C:\\Users\\benra\\AppData\\Local\\Temp\\ipykernel_22432\\2685639849.py:133: SerializationWarning: Unable to decode time axis into full numpy.datetime64[ns] objects, continuing using cftime.datetime objects instead, reason: dates out of range. To silence this warning use a coarser resolution 'time_unit' or specify 'use_cftime=True'.\n",
      "  model_ds = xr.open_dataset(model_file_path)\n",
      "C:\\Users\\benra\\AppData\\Local\\Temp\\ipykernel_22432\\2685639849.py:133: SerializationWarning: Unable to decode time axis into full numpy.datetime64[ns] objects, continuing using cftime.datetime objects instead, reason: dates out of range. To silence this warning use a coarser resolution 'time_unit' or specify 'use_cftime=True'.\n",
      "  model_ds = xr.open_dataset(model_file_path)\n"
     ]
    },
    {
     "name": "stdout",
     "output_type": "stream",
     "text": [
      "    Warning: Model file not found for UCIJPL_ISSM2 in expa03. Skipping.\n",
      "    Warning: Model file not found for VUW_PISM in expa03. Skipping.\n"
     ]
    },
    {
     "name": "stderr",
     "output_type": "stream",
     "text": [
      "C:\\Users\\benra\\anaconda3\\Lib\\site-packages\\sklearn\\cluster\\_kmeans.py:1382: UserWarning: KMeans is known to have a memory leak on Windows with MKL, when there are less chunks than available threads. You can avoid it by setting the environment variable OMP_NUM_THREADS=1.\n",
      "  warnings.warn(\n",
      "C:\\Users\\benra\\AppData\\Local\\Temp\\ipykernel_22432\\2685639849.py:249: RuntimeWarning: invalid value encountered in sqrt\n",
      "  height = 2 * np.sqrt(eigenvalues[1] * chi2_val) # Minor axis\n"
     ]
    },
    {
     "name": "stdout",
     "output_type": "stream",
     "text": [
      "  Generated PCA plot for Basin SE, Experiment expa03\n"
     ]
    },
    {
     "name": "stderr",
     "output_type": "stream",
     "text": [
      "C:\\Users\\benra\\anaconda3\\Lib\\site-packages\\seaborn\\matrix.py:260: FutureWarning: Format strings passed to MaskedConstant are ignored, but in future may error or produce different behavior\n",
      "  annotation = (\"{:\" + self.fmt + \"}\").format(val)\n"
     ]
    },
    {
     "name": "stdout",
     "output_type": "stream",
     "text": [
      "  Generated ARI Heatmap for Basin SE\n",
      "\n",
      "--- Processing Basin: SW (ID: 5) ---\n",
      "  Processing Experiment: exp05\n"
     ]
    },
    {
     "name": "stderr",
     "output_type": "stream",
     "text": [
      "C:\\Users\\benra\\AppData\\Local\\Temp\\ipykernel_22432\\2685639849.py:133: SerializationWarning: Unable to decode time axis into full numpy.datetime64[ns] objects, continuing using cftime.datetime objects instead, reason: dates out of range. To silence this warning use a coarser resolution 'time_unit' or specify 'use_cftime=True'.\n",
      "  model_ds = xr.open_dataset(model_file_path)\n",
      "C:\\Users\\benra\\AppData\\Local\\Temp\\ipykernel_22432\\2685639849.py:133: SerializationWarning: Unable to decode time axis into full numpy.datetime64[ns] objects, continuing using cftime.datetime objects instead, reason: dates out of range. To silence this warning use a coarser resolution 'time_unit' or specify 'use_cftime=True'.\n",
      "  model_ds = xr.open_dataset(model_file_path)\n"
     ]
    },
    {
     "name": "stdout",
     "output_type": "stream",
     "text": [
      "    Warning: Model file not found for UAF_PISM2 in exp05. Skipping.\n"
     ]
    },
    {
     "name": "stderr",
     "output_type": "stream",
     "text": [
      "C:\\Users\\benra\\anaconda3\\Lib\\site-packages\\sklearn\\cluster\\_kmeans.py:1382: UserWarning: KMeans is known to have a memory leak on Windows with MKL, when there are less chunks than available threads. You can avoid it by setting the environment variable OMP_NUM_THREADS=1.\n",
      "  warnings.warn(\n",
      "C:\\Users\\benra\\AppData\\Local\\Temp\\ipykernel_22432\\2685639849.py:212: UserWarning: You passed a edgecolor/edgecolors ('black') for an unfilled marker ('+').  Matplotlib is ignoring the edgecolor in favor of the facecolor.  This behavior may change in the future.\n",
      "  ax_2d.scatter(\n"
     ]
    },
    {
     "name": "stdout",
     "output_type": "stream",
     "text": [
      "  Generated PCA plot for Basin SW, Experiment exp05\n",
      "  Processing Experiment: exp06\n"
     ]
    },
    {
     "name": "stderr",
     "output_type": "stream",
     "text": [
      "C:\\Users\\benra\\AppData\\Local\\Temp\\ipykernel_22432\\2685639849.py:133: SerializationWarning: Unable to decode time axis into full numpy.datetime64[ns] objects, continuing using cftime.datetime objects instead, reason: dates out of range. To silence this warning use a coarser resolution 'time_unit' or specify 'use_cftime=True'.\n",
      "  model_ds = xr.open_dataset(model_file_path)\n",
      "C:\\Users\\benra\\AppData\\Local\\Temp\\ipykernel_22432\\2685639849.py:133: SerializationWarning: Unable to decode time axis into full numpy.datetime64[ns] objects, continuing using cftime.datetime objects instead, reason: dates out of range. To silence this warning use a coarser resolution 'time_unit' or specify 'use_cftime=True'.\n",
      "  model_ds = xr.open_dataset(model_file_path)\n"
     ]
    },
    {
     "name": "stdout",
     "output_type": "stream",
     "text": [
      "    Warning: Model file not found for UAF_PISM2 in exp06. Skipping.\n"
     ]
    },
    {
     "name": "stderr",
     "output_type": "stream",
     "text": [
      "C:\\Users\\benra\\anaconda3\\Lib\\site-packages\\sklearn\\cluster\\_kmeans.py:1382: UserWarning: KMeans is known to have a memory leak on Windows with MKL, when there are less chunks than available threads. You can avoid it by setting the environment variable OMP_NUM_THREADS=1.\n",
      "  warnings.warn(\n",
      "C:\\Users\\benra\\AppData\\Local\\Temp\\ipykernel_22432\\2685639849.py:212: UserWarning: You passed a edgecolor/edgecolors ('black') for an unfilled marker ('+').  Matplotlib is ignoring the edgecolor in favor of the facecolor.  This behavior may change in the future.\n",
      "  ax_2d.scatter(\n"
     ]
    },
    {
     "name": "stdout",
     "output_type": "stream",
     "text": [
      "  Generated PCA plot for Basin SW, Experiment exp06\n",
      "  Processing Experiment: exp07\n"
     ]
    },
    {
     "name": "stderr",
     "output_type": "stream",
     "text": [
      "C:\\Users\\benra\\AppData\\Local\\Temp\\ipykernel_22432\\2685639849.py:133: SerializationWarning: Unable to decode time axis into full numpy.datetime64[ns] objects, continuing using cftime.datetime objects instead, reason: dates out of range. To silence this warning use a coarser resolution 'time_unit' or specify 'use_cftime=True'.\n",
      "  model_ds = xr.open_dataset(model_file_path)\n",
      "C:\\Users\\benra\\AppData\\Local\\Temp\\ipykernel_22432\\2685639849.py:133: SerializationWarning: Unable to decode time axis into full numpy.datetime64[ns] objects, continuing using cftime.datetime objects instead, reason: dates out of range. To silence this warning use a coarser resolution 'time_unit' or specify 'use_cftime=True'.\n",
      "  model_ds = xr.open_dataset(model_file_path)\n"
     ]
    },
    {
     "name": "stdout",
     "output_type": "stream",
     "text": [
      "    Warning: Model file not found for UAF_PISM2 in exp07. Skipping.\n"
     ]
    },
    {
     "name": "stderr",
     "output_type": "stream",
     "text": [
      "C:\\Users\\benra\\anaconda3\\Lib\\site-packages\\sklearn\\cluster\\_kmeans.py:1382: UserWarning: KMeans is known to have a memory leak on Windows with MKL, when there are less chunks than available threads. You can avoid it by setting the environment variable OMP_NUM_THREADS=1.\n",
      "  warnings.warn(\n",
      "C:\\Users\\benra\\AppData\\Local\\Temp\\ipykernel_22432\\2685639849.py:212: UserWarning: You passed a edgecolor/edgecolors ('black') for an unfilled marker ('+').  Matplotlib is ignoring the edgecolor in favor of the facecolor.  This behavior may change in the future.\n",
      "  ax_2d.scatter(\n"
     ]
    },
    {
     "name": "stdout",
     "output_type": "stream",
     "text": [
      "  Generated PCA plot for Basin SW, Experiment exp07\n",
      "  Processing Experiment: exp08\n"
     ]
    },
    {
     "name": "stderr",
     "output_type": "stream",
     "text": [
      "C:\\Users\\benra\\AppData\\Local\\Temp\\ipykernel_22432\\2685639849.py:133: SerializationWarning: Unable to decode time axis into full numpy.datetime64[ns] objects, continuing using cftime.datetime objects instead, reason: dates out of range. To silence this warning use a coarser resolution 'time_unit' or specify 'use_cftime=True'.\n",
      "  model_ds = xr.open_dataset(model_file_path)\n",
      "C:\\Users\\benra\\AppData\\Local\\Temp\\ipykernel_22432\\2685639849.py:133: SerializationWarning: Unable to decode time axis into full numpy.datetime64[ns] objects, continuing using cftime.datetime objects instead, reason: dates out of range. To silence this warning use a coarser resolution 'time_unit' or specify 'use_cftime=True'.\n",
      "  model_ds = xr.open_dataset(model_file_path)\n"
     ]
    },
    {
     "name": "stdout",
     "output_type": "stream",
     "text": [
      "    Warning: Model file not found for UAF_PISM2 in exp08. Skipping.\n"
     ]
    },
    {
     "name": "stderr",
     "output_type": "stream",
     "text": [
      "C:\\Users\\benra\\anaconda3\\Lib\\site-packages\\sklearn\\cluster\\_kmeans.py:1382: UserWarning: KMeans is known to have a memory leak on Windows with MKL, when there are less chunks than available threads. You can avoid it by setting the environment variable OMP_NUM_THREADS=1.\n",
      "  warnings.warn(\n",
      "C:\\Users\\benra\\AppData\\Local\\Temp\\ipykernel_22432\\2685639849.py:212: UserWarning: You passed a edgecolor/edgecolors ('black') for an unfilled marker ('+').  Matplotlib is ignoring the edgecolor in favor of the facecolor.  This behavior may change in the future.\n",
      "  ax_2d.scatter(\n"
     ]
    },
    {
     "name": "stdout",
     "output_type": "stream",
     "text": [
      "  Generated PCA plot for Basin SW, Experiment exp08\n",
      "  Processing Experiment: exp09\n"
     ]
    },
    {
     "name": "stderr",
     "output_type": "stream",
     "text": [
      "C:\\Users\\benra\\AppData\\Local\\Temp\\ipykernel_22432\\2685639849.py:133: SerializationWarning: Unable to decode time axis into full numpy.datetime64[ns] objects, continuing using cftime.datetime objects instead, reason: dates out of range. To silence this warning use a coarser resolution 'time_unit' or specify 'use_cftime=True'.\n",
      "  model_ds = xr.open_dataset(model_file_path)\n",
      "C:\\Users\\benra\\AppData\\Local\\Temp\\ipykernel_22432\\2685639849.py:133: SerializationWarning: Unable to decode time axis into full numpy.datetime64[ns] objects, continuing using cftime.datetime objects instead, reason: dates out of range. To silence this warning use a coarser resolution 'time_unit' or specify 'use_cftime=True'.\n",
      "  model_ds = xr.open_dataset(model_file_path)\n"
     ]
    },
    {
     "name": "stdout",
     "output_type": "stream",
     "text": [
      "    Warning: Model file not found for UAF_PISM2 in exp09. Skipping.\n",
      "    Warning: Model file not found for UCIJPL_ISSM2 in exp09. Skipping.\n",
      "    Warning: Model file not found for VUW_PISM in exp09. Skipping.\n"
     ]
    },
    {
     "name": "stderr",
     "output_type": "stream",
     "text": [
      "C:\\Users\\benra\\anaconda3\\Lib\\site-packages\\sklearn\\cluster\\_kmeans.py:1382: UserWarning: KMeans is known to have a memory leak on Windows with MKL, when there are less chunks than available threads. You can avoid it by setting the environment variable OMP_NUM_THREADS=1.\n",
      "  warnings.warn(\n"
     ]
    },
    {
     "name": "stdout",
     "output_type": "stream",
     "text": [
      "  Generated PCA plot for Basin SW, Experiment exp09\n",
      "  Processing Experiment: exp10\n"
     ]
    },
    {
     "name": "stderr",
     "output_type": "stream",
     "text": [
      "C:\\Users\\benra\\AppData\\Local\\Temp\\ipykernel_22432\\2685639849.py:133: SerializationWarning: Unable to decode time axis into full numpy.datetime64[ns] objects, continuing using cftime.datetime objects instead, reason: dates out of range. To silence this warning use a coarser resolution 'time_unit' or specify 'use_cftime=True'.\n",
      "  model_ds = xr.open_dataset(model_file_path)\n",
      "C:\\Users\\benra\\AppData\\Local\\Temp\\ipykernel_22432\\2685639849.py:133: SerializationWarning: Unable to decode time axis into full numpy.datetime64[ns] objects, continuing using cftime.datetime objects instead, reason: dates out of range. To silence this warning use a coarser resolution 'time_unit' or specify 'use_cftime=True'.\n",
      "  model_ds = xr.open_dataset(model_file_path)\n"
     ]
    },
    {
     "name": "stdout",
     "output_type": "stream",
     "text": [
      "    Warning: Model file not found for UAF_PISM2 in exp10. Skipping.\n",
      "    Warning: Model file not found for UCIJPL_ISSM2 in exp10. Skipping.\n",
      "    Warning: Model file not found for VUW_PISM in exp10. Skipping.\n"
     ]
    },
    {
     "name": "stderr",
     "output_type": "stream",
     "text": [
      "C:\\Users\\benra\\anaconda3\\Lib\\site-packages\\sklearn\\cluster\\_kmeans.py:1382: UserWarning: KMeans is known to have a memory leak on Windows with MKL, when there are less chunks than available threads. You can avoid it by setting the environment variable OMP_NUM_THREADS=1.\n",
      "  warnings.warn(\n"
     ]
    },
    {
     "name": "stdout",
     "output_type": "stream",
     "text": [
      "  Generated PCA plot for Basin SW, Experiment exp10\n",
      "  Processing Experiment: expa01\n",
      "    Warning: Model file not found for IMAU_IMAUICE1 in expa01. Skipping.\n",
      "    Warning: Model file not found for JPL_ISSMPALEO in expa01. Skipping.\n",
      "    Warning: Model file not found for MUN_GSM1 in expa01. Skipping.\n",
      "    Warning: Model file not found for MUN_GSM2 in expa01. Skipping.\n"
     ]
    },
    {
     "name": "stderr",
     "output_type": "stream",
     "text": [
      "C:\\Users\\benra\\AppData\\Local\\Temp\\ipykernel_22432\\2685639849.py:133: SerializationWarning: Unable to decode time axis into full numpy.datetime64[ns] objects, continuing using cftime.datetime objects instead, reason: dates out of range. To silence this warning use a coarser resolution 'time_unit' or specify 'use_cftime=True'.\n",
      "  model_ds = xr.open_dataset(model_file_path)\n",
      "C:\\Users\\benra\\AppData\\Local\\Temp\\ipykernel_22432\\2685639849.py:133: SerializationWarning: Unable to decode time axis into full numpy.datetime64[ns] objects, continuing using cftime.datetime objects instead, reason: dates out of range. To silence this warning use a coarser resolution 'time_unit' or specify 'use_cftime=True'.\n",
      "  model_ds = xr.open_dataset(model_file_path)\n",
      "C:\\Users\\benra\\AppData\\Local\\Temp\\ipykernel_22432\\2685639849.py:133: SerializationWarning: Unable to decode time axis into full numpy.datetime64[ns] objects, continuing using cftime.datetime objects instead, reason: dates out of range. To silence this warning use a coarser resolution 'time_unit' or specify 'use_cftime=True'.\n",
      "  model_ds = xr.open_dataset(model_file_path)\n",
      "C:\\Users\\benra\\AppData\\Local\\Temp\\ipykernel_22432\\2685639849.py:133: SerializationWarning: Unable to decode time axis into full numpy.datetime64[ns] objects, continuing using cftime.datetime objects instead, reason: dates out of range. To silence this warning use a coarser resolution 'time_unit' or specify 'use_cftime=True'.\n",
      "  model_ds = xr.open_dataset(model_file_path)\n"
     ]
    },
    {
     "name": "stdout",
     "output_type": "stream",
     "text": [
      "    Warning: Model file not found for UCIJPL_ISSM2 in expa01. Skipping.\n",
      "    Warning: Model file not found for VUW_PISM in expa01. Skipping.\n"
     ]
    },
    {
     "name": "stderr",
     "output_type": "stream",
     "text": [
      "C:\\Users\\benra\\anaconda3\\Lib\\site-packages\\sklearn\\cluster\\_kmeans.py:1382: UserWarning: KMeans is known to have a memory leak on Windows with MKL, when there are less chunks than available threads. You can avoid it by setting the environment variable OMP_NUM_THREADS=1.\n",
      "  warnings.warn(\n"
     ]
    },
    {
     "name": "stdout",
     "output_type": "stream",
     "text": [
      "  Generated PCA plot for Basin SW, Experiment expa01\n",
      "  Processing Experiment: expa02\n",
      "    Warning: Model file not found for IMAU_IMAUICE1 in expa02. Skipping.\n",
      "    Warning: Model file not found for JPL_ISSMPALEO in expa02. Skipping.\n",
      "    Warning: Model file not found for MUN_GSM1 in expa02. Skipping.\n",
      "    Warning: Model file not found for MUN_GSM2 in expa02. Skipping.\n"
     ]
    },
    {
     "name": "stderr",
     "output_type": "stream",
     "text": [
      "C:\\Users\\benra\\AppData\\Local\\Temp\\ipykernel_22432\\2685639849.py:133: SerializationWarning: Unable to decode time axis into full numpy.datetime64[ns] objects, continuing using cftime.datetime objects instead, reason: dates out of range. To silence this warning use a coarser resolution 'time_unit' or specify 'use_cftime=True'.\n",
      "  model_ds = xr.open_dataset(model_file_path)\n",
      "C:\\Users\\benra\\AppData\\Local\\Temp\\ipykernel_22432\\2685639849.py:133: SerializationWarning: Unable to decode time axis into full numpy.datetime64[ns] objects, continuing using cftime.datetime objects instead, reason: dates out of range. To silence this warning use a coarser resolution 'time_unit' or specify 'use_cftime=True'.\n",
      "  model_ds = xr.open_dataset(model_file_path)\n",
      "C:\\Users\\benra\\AppData\\Local\\Temp\\ipykernel_22432\\2685639849.py:133: SerializationWarning: Unable to decode time axis into full numpy.datetime64[ns] objects, continuing using cftime.datetime objects instead, reason: dates out of range. To silence this warning use a coarser resolution 'time_unit' or specify 'use_cftime=True'.\n",
      "  model_ds = xr.open_dataset(model_file_path)\n",
      "C:\\Users\\benra\\AppData\\Local\\Temp\\ipykernel_22432\\2685639849.py:133: SerializationWarning: Unable to decode time axis into full numpy.datetime64[ns] objects, continuing using cftime.datetime objects instead, reason: dates out of range. To silence this warning use a coarser resolution 'time_unit' or specify 'use_cftime=True'.\n",
      "  model_ds = xr.open_dataset(model_file_path)\n"
     ]
    },
    {
     "name": "stdout",
     "output_type": "stream",
     "text": [
      "    Warning: Model file not found for UCIJPL_ISSM2 in expa02. Skipping.\n",
      "    Warning: Model file not found for VUW_PISM in expa02. Skipping.\n"
     ]
    },
    {
     "name": "stderr",
     "output_type": "stream",
     "text": [
      "C:\\Users\\benra\\anaconda3\\Lib\\site-packages\\sklearn\\cluster\\_kmeans.py:1382: UserWarning: KMeans is known to have a memory leak on Windows with MKL, when there are less chunks than available threads. You can avoid it by setting the environment variable OMP_NUM_THREADS=1.\n",
      "  warnings.warn(\n"
     ]
    },
    {
     "name": "stdout",
     "output_type": "stream",
     "text": [
      "  Generated PCA plot for Basin SW, Experiment expa02\n",
      "  Processing Experiment: expa03\n",
      "    Warning: Model file not found for IMAU_IMAUICE1 in expa03. Skipping.\n",
      "    Warning: Model file not found for JPL_ISSMPALEO in expa03. Skipping.\n",
      "    Warning: Model file not found for MUN_GSM1 in expa03. Skipping.\n",
      "    Warning: Model file not found for MUN_GSM2 in expa03. Skipping.\n"
     ]
    },
    {
     "name": "stderr",
     "output_type": "stream",
     "text": [
      "C:\\Users\\benra\\AppData\\Local\\Temp\\ipykernel_22432\\2685639849.py:133: SerializationWarning: Unable to decode time axis into full numpy.datetime64[ns] objects, continuing using cftime.datetime objects instead, reason: dates out of range. To silence this warning use a coarser resolution 'time_unit' or specify 'use_cftime=True'.\n",
      "  model_ds = xr.open_dataset(model_file_path)\n",
      "C:\\Users\\benra\\AppData\\Local\\Temp\\ipykernel_22432\\2685639849.py:133: SerializationWarning: Unable to decode time axis into full numpy.datetime64[ns] objects, continuing using cftime.datetime objects instead, reason: dates out of range. To silence this warning use a coarser resolution 'time_unit' or specify 'use_cftime=True'.\n",
      "  model_ds = xr.open_dataset(model_file_path)\n",
      "C:\\Users\\benra\\AppData\\Local\\Temp\\ipykernel_22432\\2685639849.py:133: SerializationWarning: Unable to decode time axis into full numpy.datetime64[ns] objects, continuing using cftime.datetime objects instead, reason: dates out of range. To silence this warning use a coarser resolution 'time_unit' or specify 'use_cftime=True'.\n",
      "  model_ds = xr.open_dataset(model_file_path)\n",
      "C:\\Users\\benra\\AppData\\Local\\Temp\\ipykernel_22432\\2685639849.py:133: SerializationWarning: Unable to decode time axis into full numpy.datetime64[ns] objects, continuing using cftime.datetime objects instead, reason: dates out of range. To silence this warning use a coarser resolution 'time_unit' or specify 'use_cftime=True'.\n",
      "  model_ds = xr.open_dataset(model_file_path)\n"
     ]
    },
    {
     "name": "stdout",
     "output_type": "stream",
     "text": [
      "    Warning: Model file not found for UCIJPL_ISSM2 in expa03. Skipping.\n",
      "    Warning: Model file not found for VUW_PISM in expa03. Skipping.\n"
     ]
    },
    {
     "name": "stderr",
     "output_type": "stream",
     "text": [
      "C:\\Users\\benra\\anaconda3\\Lib\\site-packages\\sklearn\\cluster\\_kmeans.py:1382: UserWarning: KMeans is known to have a memory leak on Windows with MKL, when there are less chunks than available threads. You can avoid it by setting the environment variable OMP_NUM_THREADS=1.\n",
      "  warnings.warn(\n"
     ]
    },
    {
     "name": "stdout",
     "output_type": "stream",
     "text": [
      "  Generated PCA plot for Basin SW, Experiment expa03\n"
     ]
    },
    {
     "name": "stderr",
     "output_type": "stream",
     "text": [
      "C:\\Users\\benra\\anaconda3\\Lib\\site-packages\\seaborn\\matrix.py:260: FutureWarning: Format strings passed to MaskedConstant are ignored, but in future may error or produce different behavior\n",
      "  annotation = (\"{:\" + self.fmt + \"}\").format(val)\n"
     ]
    },
    {
     "name": "stdout",
     "output_type": "stream",
     "text": [
      "  Generated ARI Heatmap for Basin SW\n",
      "\n",
      "--- Processing Basin: CW (ID: 6) ---\n",
      "  Processing Experiment: exp05\n"
     ]
    },
    {
     "name": "stderr",
     "output_type": "stream",
     "text": [
      "C:\\Users\\benra\\AppData\\Local\\Temp\\ipykernel_22432\\2685639849.py:133: SerializationWarning: Unable to decode time axis into full numpy.datetime64[ns] objects, continuing using cftime.datetime objects instead, reason: dates out of range. To silence this warning use a coarser resolution 'time_unit' or specify 'use_cftime=True'.\n",
      "  model_ds = xr.open_dataset(model_file_path)\n",
      "C:\\Users\\benra\\AppData\\Local\\Temp\\ipykernel_22432\\2685639849.py:133: SerializationWarning: Unable to decode time axis into full numpy.datetime64[ns] objects, continuing using cftime.datetime objects instead, reason: dates out of range. To silence this warning use a coarser resolution 'time_unit' or specify 'use_cftime=True'.\n",
      "  model_ds = xr.open_dataset(model_file_path)\n"
     ]
    },
    {
     "name": "stdout",
     "output_type": "stream",
     "text": [
      "    Warning: Model file not found for UAF_PISM2 in exp05. Skipping.\n"
     ]
    },
    {
     "name": "stderr",
     "output_type": "stream",
     "text": [
      "C:\\Users\\benra\\anaconda3\\Lib\\site-packages\\sklearn\\cluster\\_kmeans.py:1382: UserWarning: KMeans is known to have a memory leak on Windows with MKL, when there are less chunks than available threads. You can avoid it by setting the environment variable OMP_NUM_THREADS=1.\n",
      "  warnings.warn(\n",
      "C:\\Users\\benra\\AppData\\Local\\Temp\\ipykernel_22432\\2685639849.py:212: UserWarning: You passed a edgecolor/edgecolors ('black') for an unfilled marker ('+').  Matplotlib is ignoring the edgecolor in favor of the facecolor.  This behavior may change in the future.\n",
      "  ax_2d.scatter(\n"
     ]
    },
    {
     "name": "stdout",
     "output_type": "stream",
     "text": [
      "  Generated PCA plot for Basin CW, Experiment exp05\n",
      "  Processing Experiment: exp06\n"
     ]
    },
    {
     "name": "stderr",
     "output_type": "stream",
     "text": [
      "C:\\Users\\benra\\AppData\\Local\\Temp\\ipykernel_22432\\2685639849.py:133: SerializationWarning: Unable to decode time axis into full numpy.datetime64[ns] objects, continuing using cftime.datetime objects instead, reason: dates out of range. To silence this warning use a coarser resolution 'time_unit' or specify 'use_cftime=True'.\n",
      "  model_ds = xr.open_dataset(model_file_path)\n",
      "C:\\Users\\benra\\AppData\\Local\\Temp\\ipykernel_22432\\2685639849.py:133: SerializationWarning: Unable to decode time axis into full numpy.datetime64[ns] objects, continuing using cftime.datetime objects instead, reason: dates out of range. To silence this warning use a coarser resolution 'time_unit' or specify 'use_cftime=True'.\n",
      "  model_ds = xr.open_dataset(model_file_path)\n"
     ]
    },
    {
     "name": "stdout",
     "output_type": "stream",
     "text": [
      "    Warning: Model file not found for UAF_PISM2 in exp06. Skipping.\n"
     ]
    },
    {
     "name": "stderr",
     "output_type": "stream",
     "text": [
      "C:\\Users\\benra\\anaconda3\\Lib\\site-packages\\sklearn\\cluster\\_kmeans.py:1382: UserWarning: KMeans is known to have a memory leak on Windows with MKL, when there are less chunks than available threads. You can avoid it by setting the environment variable OMP_NUM_THREADS=1.\n",
      "  warnings.warn(\n",
      "C:\\Users\\benra\\AppData\\Local\\Temp\\ipykernel_22432\\2685639849.py:212: UserWarning: You passed a edgecolor/edgecolors ('black') for an unfilled marker ('+').  Matplotlib is ignoring the edgecolor in favor of the facecolor.  This behavior may change in the future.\n",
      "  ax_2d.scatter(\n"
     ]
    },
    {
     "name": "stdout",
     "output_type": "stream",
     "text": [
      "  Generated PCA plot for Basin CW, Experiment exp06\n",
      "  Processing Experiment: exp07\n"
     ]
    },
    {
     "name": "stderr",
     "output_type": "stream",
     "text": [
      "C:\\Users\\benra\\AppData\\Local\\Temp\\ipykernel_22432\\2685639849.py:133: SerializationWarning: Unable to decode time axis into full numpy.datetime64[ns] objects, continuing using cftime.datetime objects instead, reason: dates out of range. To silence this warning use a coarser resolution 'time_unit' or specify 'use_cftime=True'.\n",
      "  model_ds = xr.open_dataset(model_file_path)\n",
      "C:\\Users\\benra\\AppData\\Local\\Temp\\ipykernel_22432\\2685639849.py:133: SerializationWarning: Unable to decode time axis into full numpy.datetime64[ns] objects, continuing using cftime.datetime objects instead, reason: dates out of range. To silence this warning use a coarser resolution 'time_unit' or specify 'use_cftime=True'.\n",
      "  model_ds = xr.open_dataset(model_file_path)\n"
     ]
    },
    {
     "name": "stdout",
     "output_type": "stream",
     "text": [
      "    Warning: Model file not found for UAF_PISM2 in exp07. Skipping.\n"
     ]
    },
    {
     "name": "stderr",
     "output_type": "stream",
     "text": [
      "C:\\Users\\benra\\anaconda3\\Lib\\site-packages\\sklearn\\cluster\\_kmeans.py:1382: UserWarning: KMeans is known to have a memory leak on Windows with MKL, when there are less chunks than available threads. You can avoid it by setting the environment variable OMP_NUM_THREADS=1.\n",
      "  warnings.warn(\n",
      "C:\\Users\\benra\\AppData\\Local\\Temp\\ipykernel_22432\\2685639849.py:212: UserWarning: You passed a edgecolor/edgecolors ('black') for an unfilled marker ('+').  Matplotlib is ignoring the edgecolor in favor of the facecolor.  This behavior may change in the future.\n",
      "  ax_2d.scatter(\n"
     ]
    },
    {
     "name": "stdout",
     "output_type": "stream",
     "text": [
      "  Generated PCA plot for Basin CW, Experiment exp07\n",
      "  Processing Experiment: exp08\n"
     ]
    },
    {
     "name": "stderr",
     "output_type": "stream",
     "text": [
      "C:\\Users\\benra\\AppData\\Local\\Temp\\ipykernel_22432\\2685639849.py:133: SerializationWarning: Unable to decode time axis into full numpy.datetime64[ns] objects, continuing using cftime.datetime objects instead, reason: dates out of range. To silence this warning use a coarser resolution 'time_unit' or specify 'use_cftime=True'.\n",
      "  model_ds = xr.open_dataset(model_file_path)\n",
      "C:\\Users\\benra\\AppData\\Local\\Temp\\ipykernel_22432\\2685639849.py:133: SerializationWarning: Unable to decode time axis into full numpy.datetime64[ns] objects, continuing using cftime.datetime objects instead, reason: dates out of range. To silence this warning use a coarser resolution 'time_unit' or specify 'use_cftime=True'.\n",
      "  model_ds = xr.open_dataset(model_file_path)\n"
     ]
    },
    {
     "name": "stdout",
     "output_type": "stream",
     "text": [
      "    Warning: Model file not found for UAF_PISM2 in exp08. Skipping.\n"
     ]
    },
    {
     "name": "stderr",
     "output_type": "stream",
     "text": [
      "C:\\Users\\benra\\anaconda3\\Lib\\site-packages\\sklearn\\cluster\\_kmeans.py:1382: UserWarning: KMeans is known to have a memory leak on Windows with MKL, when there are less chunks than available threads. You can avoid it by setting the environment variable OMP_NUM_THREADS=1.\n",
      "  warnings.warn(\n",
      "C:\\Users\\benra\\AppData\\Local\\Temp\\ipykernel_22432\\2685639849.py:212: UserWarning: You passed a edgecolor/edgecolors ('black') for an unfilled marker ('+').  Matplotlib is ignoring the edgecolor in favor of the facecolor.  This behavior may change in the future.\n",
      "  ax_2d.scatter(\n"
     ]
    },
    {
     "name": "stdout",
     "output_type": "stream",
     "text": [
      "  Generated PCA plot for Basin CW, Experiment exp08\n",
      "  Processing Experiment: exp09\n"
     ]
    },
    {
     "name": "stderr",
     "output_type": "stream",
     "text": [
      "C:\\Users\\benra\\AppData\\Local\\Temp\\ipykernel_22432\\2685639849.py:133: SerializationWarning: Unable to decode time axis into full numpy.datetime64[ns] objects, continuing using cftime.datetime objects instead, reason: dates out of range. To silence this warning use a coarser resolution 'time_unit' or specify 'use_cftime=True'.\n",
      "  model_ds = xr.open_dataset(model_file_path)\n",
      "C:\\Users\\benra\\AppData\\Local\\Temp\\ipykernel_22432\\2685639849.py:133: SerializationWarning: Unable to decode time axis into full numpy.datetime64[ns] objects, continuing using cftime.datetime objects instead, reason: dates out of range. To silence this warning use a coarser resolution 'time_unit' or specify 'use_cftime=True'.\n",
      "  model_ds = xr.open_dataset(model_file_path)\n"
     ]
    },
    {
     "name": "stdout",
     "output_type": "stream",
     "text": [
      "    Warning: Model file not found for UAF_PISM2 in exp09. Skipping.\n",
      "    Warning: Model file not found for UCIJPL_ISSM2 in exp09. Skipping.\n",
      "    Warning: Model file not found for VUW_PISM in exp09. Skipping.\n"
     ]
    },
    {
     "name": "stderr",
     "output_type": "stream",
     "text": [
      "C:\\Users\\benra\\anaconda3\\Lib\\site-packages\\sklearn\\cluster\\_kmeans.py:1382: UserWarning: KMeans is known to have a memory leak on Windows with MKL, when there are less chunks than available threads. You can avoid it by setting the environment variable OMP_NUM_THREADS=1.\n",
      "  warnings.warn(\n"
     ]
    },
    {
     "name": "stdout",
     "output_type": "stream",
     "text": [
      "  Generated PCA plot for Basin CW, Experiment exp09\n",
      "  Processing Experiment: exp10\n"
     ]
    },
    {
     "name": "stderr",
     "output_type": "stream",
     "text": [
      "C:\\Users\\benra\\AppData\\Local\\Temp\\ipykernel_22432\\2685639849.py:133: SerializationWarning: Unable to decode time axis into full numpy.datetime64[ns] objects, continuing using cftime.datetime objects instead, reason: dates out of range. To silence this warning use a coarser resolution 'time_unit' or specify 'use_cftime=True'.\n",
      "  model_ds = xr.open_dataset(model_file_path)\n",
      "C:\\Users\\benra\\AppData\\Local\\Temp\\ipykernel_22432\\2685639849.py:133: SerializationWarning: Unable to decode time axis into full numpy.datetime64[ns] objects, continuing using cftime.datetime objects instead, reason: dates out of range. To silence this warning use a coarser resolution 'time_unit' or specify 'use_cftime=True'.\n",
      "  model_ds = xr.open_dataset(model_file_path)\n"
     ]
    },
    {
     "name": "stdout",
     "output_type": "stream",
     "text": [
      "    Warning: Model file not found for UAF_PISM2 in exp10. Skipping.\n",
      "    Warning: Model file not found for UCIJPL_ISSM2 in exp10. Skipping.\n",
      "    Warning: Model file not found for VUW_PISM in exp10. Skipping.\n"
     ]
    },
    {
     "name": "stderr",
     "output_type": "stream",
     "text": [
      "C:\\Users\\benra\\anaconda3\\Lib\\site-packages\\sklearn\\cluster\\_kmeans.py:1382: UserWarning: KMeans is known to have a memory leak on Windows with MKL, when there are less chunks than available threads. You can avoid it by setting the environment variable OMP_NUM_THREADS=1.\n",
      "  warnings.warn(\n"
     ]
    },
    {
     "name": "stdout",
     "output_type": "stream",
     "text": [
      "  Generated PCA plot for Basin CW, Experiment exp10\n",
      "  Processing Experiment: expa01\n",
      "    Warning: Model file not found for IMAU_IMAUICE1 in expa01. Skipping.\n",
      "    Warning: Model file not found for JPL_ISSMPALEO in expa01. Skipping.\n",
      "    Warning: Model file not found for MUN_GSM1 in expa01. Skipping.\n",
      "    Warning: Model file not found for MUN_GSM2 in expa01. Skipping.\n"
     ]
    },
    {
     "name": "stderr",
     "output_type": "stream",
     "text": [
      "C:\\Users\\benra\\AppData\\Local\\Temp\\ipykernel_22432\\2685639849.py:133: SerializationWarning: Unable to decode time axis into full numpy.datetime64[ns] objects, continuing using cftime.datetime objects instead, reason: dates out of range. To silence this warning use a coarser resolution 'time_unit' or specify 'use_cftime=True'.\n",
      "  model_ds = xr.open_dataset(model_file_path)\n",
      "C:\\Users\\benra\\AppData\\Local\\Temp\\ipykernel_22432\\2685639849.py:133: SerializationWarning: Unable to decode time axis into full numpy.datetime64[ns] objects, continuing using cftime.datetime objects instead, reason: dates out of range. To silence this warning use a coarser resolution 'time_unit' or specify 'use_cftime=True'.\n",
      "  model_ds = xr.open_dataset(model_file_path)\n",
      "C:\\Users\\benra\\AppData\\Local\\Temp\\ipykernel_22432\\2685639849.py:133: SerializationWarning: Unable to decode time axis into full numpy.datetime64[ns] objects, continuing using cftime.datetime objects instead, reason: dates out of range. To silence this warning use a coarser resolution 'time_unit' or specify 'use_cftime=True'.\n",
      "  model_ds = xr.open_dataset(model_file_path)\n",
      "C:\\Users\\benra\\AppData\\Local\\Temp\\ipykernel_22432\\2685639849.py:133: SerializationWarning: Unable to decode time axis into full numpy.datetime64[ns] objects, continuing using cftime.datetime objects instead, reason: dates out of range. To silence this warning use a coarser resolution 'time_unit' or specify 'use_cftime=True'.\n",
      "  model_ds = xr.open_dataset(model_file_path)\n"
     ]
    },
    {
     "name": "stdout",
     "output_type": "stream",
     "text": [
      "    Warning: Model file not found for UCIJPL_ISSM2 in expa01. Skipping.\n",
      "    Warning: Model file not found for VUW_PISM in expa01. Skipping.\n"
     ]
    },
    {
     "name": "stderr",
     "output_type": "stream",
     "text": [
      "C:\\Users\\benra\\anaconda3\\Lib\\site-packages\\sklearn\\cluster\\_kmeans.py:1382: UserWarning: KMeans is known to have a memory leak on Windows with MKL, when there are less chunks than available threads. You can avoid it by setting the environment variable OMP_NUM_THREADS=1.\n",
      "  warnings.warn(\n",
      "C:\\Users\\benra\\AppData\\Local\\Temp\\ipykernel_22432\\2685639849.py:249: RuntimeWarning: invalid value encountered in sqrt\n",
      "  height = 2 * np.sqrt(eigenvalues[1] * chi2_val) # Minor axis\n"
     ]
    },
    {
     "name": "stdout",
     "output_type": "stream",
     "text": [
      "  Generated PCA plot for Basin CW, Experiment expa01\n",
      "  Processing Experiment: expa02\n",
      "    Warning: Model file not found for IMAU_IMAUICE1 in expa02. Skipping.\n",
      "    Warning: Model file not found for JPL_ISSMPALEO in expa02. Skipping.\n",
      "    Warning: Model file not found for MUN_GSM1 in expa02. Skipping.\n",
      "    Warning: Model file not found for MUN_GSM2 in expa02. Skipping.\n"
     ]
    },
    {
     "name": "stderr",
     "output_type": "stream",
     "text": [
      "C:\\Users\\benra\\AppData\\Local\\Temp\\ipykernel_22432\\2685639849.py:133: SerializationWarning: Unable to decode time axis into full numpy.datetime64[ns] objects, continuing using cftime.datetime objects instead, reason: dates out of range. To silence this warning use a coarser resolution 'time_unit' or specify 'use_cftime=True'.\n",
      "  model_ds = xr.open_dataset(model_file_path)\n",
      "C:\\Users\\benra\\AppData\\Local\\Temp\\ipykernel_22432\\2685639849.py:133: SerializationWarning: Unable to decode time axis into full numpy.datetime64[ns] objects, continuing using cftime.datetime objects instead, reason: dates out of range. To silence this warning use a coarser resolution 'time_unit' or specify 'use_cftime=True'.\n",
      "  model_ds = xr.open_dataset(model_file_path)\n",
      "C:\\Users\\benra\\AppData\\Local\\Temp\\ipykernel_22432\\2685639849.py:133: SerializationWarning: Unable to decode time axis into full numpy.datetime64[ns] objects, continuing using cftime.datetime objects instead, reason: dates out of range. To silence this warning use a coarser resolution 'time_unit' or specify 'use_cftime=True'.\n",
      "  model_ds = xr.open_dataset(model_file_path)\n",
      "C:\\Users\\benra\\AppData\\Local\\Temp\\ipykernel_22432\\2685639849.py:133: SerializationWarning: Unable to decode time axis into full numpy.datetime64[ns] objects, continuing using cftime.datetime objects instead, reason: dates out of range. To silence this warning use a coarser resolution 'time_unit' or specify 'use_cftime=True'.\n",
      "  model_ds = xr.open_dataset(model_file_path)\n"
     ]
    },
    {
     "name": "stdout",
     "output_type": "stream",
     "text": [
      "    Warning: Model file not found for UCIJPL_ISSM2 in expa02. Skipping.\n",
      "    Warning: Model file not found for VUW_PISM in expa02. Skipping.\n"
     ]
    },
    {
     "name": "stderr",
     "output_type": "stream",
     "text": [
      "C:\\Users\\benra\\anaconda3\\Lib\\site-packages\\sklearn\\cluster\\_kmeans.py:1382: UserWarning: KMeans is known to have a memory leak on Windows with MKL, when there are less chunks than available threads. You can avoid it by setting the environment variable OMP_NUM_THREADS=1.\n",
      "  warnings.warn(\n"
     ]
    },
    {
     "name": "stdout",
     "output_type": "stream",
     "text": [
      "  Generated PCA plot for Basin CW, Experiment expa02\n",
      "  Processing Experiment: expa03\n",
      "    Warning: Model file not found for IMAU_IMAUICE1 in expa03. Skipping.\n",
      "    Warning: Model file not found for JPL_ISSMPALEO in expa03. Skipping.\n",
      "    Warning: Model file not found for MUN_GSM1 in expa03. Skipping.\n",
      "    Warning: Model file not found for MUN_GSM2 in expa03. Skipping.\n"
     ]
    },
    {
     "name": "stderr",
     "output_type": "stream",
     "text": [
      "C:\\Users\\benra\\AppData\\Local\\Temp\\ipykernel_22432\\2685639849.py:133: SerializationWarning: Unable to decode time axis into full numpy.datetime64[ns] objects, continuing using cftime.datetime objects instead, reason: dates out of range. To silence this warning use a coarser resolution 'time_unit' or specify 'use_cftime=True'.\n",
      "  model_ds = xr.open_dataset(model_file_path)\n",
      "C:\\Users\\benra\\AppData\\Local\\Temp\\ipykernel_22432\\2685639849.py:133: SerializationWarning: Unable to decode time axis into full numpy.datetime64[ns] objects, continuing using cftime.datetime objects instead, reason: dates out of range. To silence this warning use a coarser resolution 'time_unit' or specify 'use_cftime=True'.\n",
      "  model_ds = xr.open_dataset(model_file_path)\n",
      "C:\\Users\\benra\\AppData\\Local\\Temp\\ipykernel_22432\\2685639849.py:133: SerializationWarning: Unable to decode time axis into full numpy.datetime64[ns] objects, continuing using cftime.datetime objects instead, reason: dates out of range. To silence this warning use a coarser resolution 'time_unit' or specify 'use_cftime=True'.\n",
      "  model_ds = xr.open_dataset(model_file_path)\n",
      "C:\\Users\\benra\\AppData\\Local\\Temp\\ipykernel_22432\\2685639849.py:133: SerializationWarning: Unable to decode time axis into full numpy.datetime64[ns] objects, continuing using cftime.datetime objects instead, reason: dates out of range. To silence this warning use a coarser resolution 'time_unit' or specify 'use_cftime=True'.\n",
      "  model_ds = xr.open_dataset(model_file_path)\n"
     ]
    },
    {
     "name": "stdout",
     "output_type": "stream",
     "text": [
      "    Warning: Model file not found for UCIJPL_ISSM2 in expa03. Skipping.\n",
      "    Warning: Model file not found for VUW_PISM in expa03. Skipping.\n"
     ]
    },
    {
     "name": "stderr",
     "output_type": "stream",
     "text": [
      "C:\\Users\\benra\\anaconda3\\Lib\\site-packages\\sklearn\\cluster\\_kmeans.py:1382: UserWarning: KMeans is known to have a memory leak on Windows with MKL, when there are less chunks than available threads. You can avoid it by setting the environment variable OMP_NUM_THREADS=1.\n",
      "  warnings.warn(\n",
      "C:\\Users\\benra\\AppData\\Local\\Temp\\ipykernel_22432\\2685639849.py:249: RuntimeWarning: invalid value encountered in sqrt\n",
      "  height = 2 * np.sqrt(eigenvalues[1] * chi2_val) # Minor axis\n"
     ]
    },
    {
     "name": "stdout",
     "output_type": "stream",
     "text": [
      "  Generated PCA plot for Basin CW, Experiment expa03\n"
     ]
    },
    {
     "name": "stderr",
     "output_type": "stream",
     "text": [
      "C:\\Users\\benra\\anaconda3\\Lib\\site-packages\\seaborn\\matrix.py:260: FutureWarning: Format strings passed to MaskedConstant are ignored, but in future may error or produce different behavior\n",
      "  annotation = (\"{:\" + self.fmt + \"}\").format(val)\n"
     ]
    },
    {
     "name": "stdout",
     "output_type": "stream",
     "text": [
      "  Generated ARI Heatmap for Basin CW\n",
      "\n",
      "--- Processing Basin: NW (ID: 7) ---\n",
      "  Processing Experiment: exp05\n"
     ]
    },
    {
     "name": "stderr",
     "output_type": "stream",
     "text": [
      "C:\\Users\\benra\\AppData\\Local\\Temp\\ipykernel_22432\\2685639849.py:133: SerializationWarning: Unable to decode time axis into full numpy.datetime64[ns] objects, continuing using cftime.datetime objects instead, reason: dates out of range. To silence this warning use a coarser resolution 'time_unit' or specify 'use_cftime=True'.\n",
      "  model_ds = xr.open_dataset(model_file_path)\n",
      "C:\\Users\\benra\\AppData\\Local\\Temp\\ipykernel_22432\\2685639849.py:133: SerializationWarning: Unable to decode time axis into full numpy.datetime64[ns] objects, continuing using cftime.datetime objects instead, reason: dates out of range. To silence this warning use a coarser resolution 'time_unit' or specify 'use_cftime=True'.\n",
      "  model_ds = xr.open_dataset(model_file_path)\n"
     ]
    },
    {
     "name": "stdout",
     "output_type": "stream",
     "text": [
      "    Warning: Model file not found for UAF_PISM2 in exp05. Skipping.\n"
     ]
    },
    {
     "name": "stderr",
     "output_type": "stream",
     "text": [
      "C:\\Users\\benra\\anaconda3\\Lib\\site-packages\\sklearn\\cluster\\_kmeans.py:1382: UserWarning: KMeans is known to have a memory leak on Windows with MKL, when there are less chunks than available threads. You can avoid it by setting the environment variable OMP_NUM_THREADS=1.\n",
      "  warnings.warn(\n",
      "C:\\Users\\benra\\AppData\\Local\\Temp\\ipykernel_22432\\2685639849.py:212: UserWarning: You passed a edgecolor/edgecolors ('black') for an unfilled marker ('+').  Matplotlib is ignoring the edgecolor in favor of the facecolor.  This behavior may change in the future.\n",
      "  ax_2d.scatter(\n"
     ]
    },
    {
     "name": "stdout",
     "output_type": "stream",
     "text": [
      "  Generated PCA plot for Basin NW, Experiment exp05\n",
      "  Processing Experiment: exp06\n"
     ]
    },
    {
     "name": "stderr",
     "output_type": "stream",
     "text": [
      "C:\\Users\\benra\\AppData\\Local\\Temp\\ipykernel_22432\\2685639849.py:133: SerializationWarning: Unable to decode time axis into full numpy.datetime64[ns] objects, continuing using cftime.datetime objects instead, reason: dates out of range. To silence this warning use a coarser resolution 'time_unit' or specify 'use_cftime=True'.\n",
      "  model_ds = xr.open_dataset(model_file_path)\n",
      "C:\\Users\\benra\\AppData\\Local\\Temp\\ipykernel_22432\\2685639849.py:133: SerializationWarning: Unable to decode time axis into full numpy.datetime64[ns] objects, continuing using cftime.datetime objects instead, reason: dates out of range. To silence this warning use a coarser resolution 'time_unit' or specify 'use_cftime=True'.\n",
      "  model_ds = xr.open_dataset(model_file_path)\n"
     ]
    },
    {
     "name": "stdout",
     "output_type": "stream",
     "text": [
      "    Warning: Model file not found for UAF_PISM2 in exp06. Skipping.\n"
     ]
    },
    {
     "name": "stderr",
     "output_type": "stream",
     "text": [
      "C:\\Users\\benra\\anaconda3\\Lib\\site-packages\\sklearn\\cluster\\_kmeans.py:1382: UserWarning: KMeans is known to have a memory leak on Windows with MKL, when there are less chunks than available threads. You can avoid it by setting the environment variable OMP_NUM_THREADS=1.\n",
      "  warnings.warn(\n",
      "C:\\Users\\benra\\AppData\\Local\\Temp\\ipykernel_22432\\2685639849.py:212: UserWarning: You passed a edgecolor/edgecolors ('black') for an unfilled marker ('+').  Matplotlib is ignoring the edgecolor in favor of the facecolor.  This behavior may change in the future.\n",
      "  ax_2d.scatter(\n"
     ]
    },
    {
     "name": "stdout",
     "output_type": "stream",
     "text": [
      "  Generated PCA plot for Basin NW, Experiment exp06\n",
      "  Processing Experiment: exp07\n"
     ]
    },
    {
     "name": "stderr",
     "output_type": "stream",
     "text": [
      "C:\\Users\\benra\\AppData\\Local\\Temp\\ipykernel_22432\\2685639849.py:133: SerializationWarning: Unable to decode time axis into full numpy.datetime64[ns] objects, continuing using cftime.datetime objects instead, reason: dates out of range. To silence this warning use a coarser resolution 'time_unit' or specify 'use_cftime=True'.\n",
      "  model_ds = xr.open_dataset(model_file_path)\n",
      "C:\\Users\\benra\\AppData\\Local\\Temp\\ipykernel_22432\\2685639849.py:133: SerializationWarning: Unable to decode time axis into full numpy.datetime64[ns] objects, continuing using cftime.datetime objects instead, reason: dates out of range. To silence this warning use a coarser resolution 'time_unit' or specify 'use_cftime=True'.\n",
      "  model_ds = xr.open_dataset(model_file_path)\n"
     ]
    },
    {
     "name": "stdout",
     "output_type": "stream",
     "text": [
      "    Warning: Model file not found for UAF_PISM2 in exp07. Skipping.\n"
     ]
    },
    {
     "name": "stderr",
     "output_type": "stream",
     "text": [
      "C:\\Users\\benra\\anaconda3\\Lib\\site-packages\\sklearn\\cluster\\_kmeans.py:1382: UserWarning: KMeans is known to have a memory leak on Windows with MKL, when there are less chunks than available threads. You can avoid it by setting the environment variable OMP_NUM_THREADS=1.\n",
      "  warnings.warn(\n",
      "C:\\Users\\benra\\AppData\\Local\\Temp\\ipykernel_22432\\2685639849.py:212: UserWarning: You passed a edgecolor/edgecolors ('black') for an unfilled marker ('+').  Matplotlib is ignoring the edgecolor in favor of the facecolor.  This behavior may change in the future.\n",
      "  ax_2d.scatter(\n"
     ]
    },
    {
     "name": "stdout",
     "output_type": "stream",
     "text": [
      "  Generated PCA plot for Basin NW, Experiment exp07\n",
      "  Processing Experiment: exp08\n"
     ]
    },
    {
     "name": "stderr",
     "output_type": "stream",
     "text": [
      "C:\\Users\\benra\\AppData\\Local\\Temp\\ipykernel_22432\\2685639849.py:133: SerializationWarning: Unable to decode time axis into full numpy.datetime64[ns] objects, continuing using cftime.datetime objects instead, reason: dates out of range. To silence this warning use a coarser resolution 'time_unit' or specify 'use_cftime=True'.\n",
      "  model_ds = xr.open_dataset(model_file_path)\n",
      "C:\\Users\\benra\\AppData\\Local\\Temp\\ipykernel_22432\\2685639849.py:133: SerializationWarning: Unable to decode time axis into full numpy.datetime64[ns] objects, continuing using cftime.datetime objects instead, reason: dates out of range. To silence this warning use a coarser resolution 'time_unit' or specify 'use_cftime=True'.\n",
      "  model_ds = xr.open_dataset(model_file_path)\n"
     ]
    },
    {
     "name": "stdout",
     "output_type": "stream",
     "text": [
      "    Warning: Model file not found for UAF_PISM2 in exp08. Skipping.\n"
     ]
    },
    {
     "name": "stderr",
     "output_type": "stream",
     "text": [
      "C:\\Users\\benra\\anaconda3\\Lib\\site-packages\\sklearn\\cluster\\_kmeans.py:1382: UserWarning: KMeans is known to have a memory leak on Windows with MKL, when there are less chunks than available threads. You can avoid it by setting the environment variable OMP_NUM_THREADS=1.\n",
      "  warnings.warn(\n",
      "C:\\Users\\benra\\AppData\\Local\\Temp\\ipykernel_22432\\2685639849.py:212: UserWarning: You passed a edgecolor/edgecolors ('black') for an unfilled marker ('+').  Matplotlib is ignoring the edgecolor in favor of the facecolor.  This behavior may change in the future.\n",
      "  ax_2d.scatter(\n"
     ]
    },
    {
     "name": "stdout",
     "output_type": "stream",
     "text": [
      "  Generated PCA plot for Basin NW, Experiment exp08\n",
      "  Processing Experiment: exp09\n"
     ]
    },
    {
     "name": "stderr",
     "output_type": "stream",
     "text": [
      "C:\\Users\\benra\\AppData\\Local\\Temp\\ipykernel_22432\\2685639849.py:133: SerializationWarning: Unable to decode time axis into full numpy.datetime64[ns] objects, continuing using cftime.datetime objects instead, reason: dates out of range. To silence this warning use a coarser resolution 'time_unit' or specify 'use_cftime=True'.\n",
      "  model_ds = xr.open_dataset(model_file_path)\n",
      "C:\\Users\\benra\\AppData\\Local\\Temp\\ipykernel_22432\\2685639849.py:133: SerializationWarning: Unable to decode time axis into full numpy.datetime64[ns] objects, continuing using cftime.datetime objects instead, reason: dates out of range. To silence this warning use a coarser resolution 'time_unit' or specify 'use_cftime=True'.\n",
      "  model_ds = xr.open_dataset(model_file_path)\n"
     ]
    },
    {
     "name": "stdout",
     "output_type": "stream",
     "text": [
      "    Warning: Model file not found for UAF_PISM2 in exp09. Skipping.\n",
      "    Warning: Model file not found for UCIJPL_ISSM2 in exp09. Skipping.\n",
      "    Warning: Model file not found for VUW_PISM in exp09. Skipping.\n"
     ]
    },
    {
     "name": "stderr",
     "output_type": "stream",
     "text": [
      "C:\\Users\\benra\\anaconda3\\Lib\\site-packages\\sklearn\\cluster\\_kmeans.py:1382: UserWarning: KMeans is known to have a memory leak on Windows with MKL, when there are less chunks than available threads. You can avoid it by setting the environment variable OMP_NUM_THREADS=1.\n",
      "  warnings.warn(\n",
      "C:\\Users\\benra\\AppData\\Local\\Temp\\ipykernel_22432\\2685639849.py:249: RuntimeWarning: invalid value encountered in sqrt\n",
      "  height = 2 * np.sqrt(eigenvalues[1] * chi2_val) # Minor axis\n"
     ]
    },
    {
     "name": "stdout",
     "output_type": "stream",
     "text": [
      "  Generated PCA plot for Basin NW, Experiment exp09\n",
      "  Processing Experiment: exp10\n"
     ]
    },
    {
     "name": "stderr",
     "output_type": "stream",
     "text": [
      "C:\\Users\\benra\\AppData\\Local\\Temp\\ipykernel_22432\\2685639849.py:133: SerializationWarning: Unable to decode time axis into full numpy.datetime64[ns] objects, continuing using cftime.datetime objects instead, reason: dates out of range. To silence this warning use a coarser resolution 'time_unit' or specify 'use_cftime=True'.\n",
      "  model_ds = xr.open_dataset(model_file_path)\n",
      "C:\\Users\\benra\\AppData\\Local\\Temp\\ipykernel_22432\\2685639849.py:133: SerializationWarning: Unable to decode time axis into full numpy.datetime64[ns] objects, continuing using cftime.datetime objects instead, reason: dates out of range. To silence this warning use a coarser resolution 'time_unit' or specify 'use_cftime=True'.\n",
      "  model_ds = xr.open_dataset(model_file_path)\n"
     ]
    },
    {
     "name": "stdout",
     "output_type": "stream",
     "text": [
      "    Warning: Model file not found for UAF_PISM2 in exp10. Skipping.\n",
      "    Warning: Model file not found for UCIJPL_ISSM2 in exp10. Skipping.\n",
      "    Warning: Model file not found for VUW_PISM in exp10. Skipping.\n"
     ]
    },
    {
     "name": "stderr",
     "output_type": "stream",
     "text": [
      "C:\\Users\\benra\\anaconda3\\Lib\\site-packages\\sklearn\\cluster\\_kmeans.py:1382: UserWarning: KMeans is known to have a memory leak on Windows with MKL, when there are less chunks than available threads. You can avoid it by setting the environment variable OMP_NUM_THREADS=1.\n",
      "  warnings.warn(\n"
     ]
    },
    {
     "name": "stdout",
     "output_type": "stream",
     "text": [
      "  Generated PCA plot for Basin NW, Experiment exp10\n",
      "  Processing Experiment: expa01\n",
      "    Warning: Model file not found for IMAU_IMAUICE1 in expa01. Skipping.\n",
      "    Warning: Model file not found for JPL_ISSMPALEO in expa01. Skipping.\n",
      "    Warning: Model file not found for MUN_GSM1 in expa01. Skipping.\n",
      "    Warning: Model file not found for MUN_GSM2 in expa01. Skipping.\n"
     ]
    },
    {
     "name": "stderr",
     "output_type": "stream",
     "text": [
      "C:\\Users\\benra\\AppData\\Local\\Temp\\ipykernel_22432\\2685639849.py:133: SerializationWarning: Unable to decode time axis into full numpy.datetime64[ns] objects, continuing using cftime.datetime objects instead, reason: dates out of range. To silence this warning use a coarser resolution 'time_unit' or specify 'use_cftime=True'.\n",
      "  model_ds = xr.open_dataset(model_file_path)\n",
      "C:\\Users\\benra\\AppData\\Local\\Temp\\ipykernel_22432\\2685639849.py:133: SerializationWarning: Unable to decode time axis into full numpy.datetime64[ns] objects, continuing using cftime.datetime objects instead, reason: dates out of range. To silence this warning use a coarser resolution 'time_unit' or specify 'use_cftime=True'.\n",
      "  model_ds = xr.open_dataset(model_file_path)\n",
      "C:\\Users\\benra\\AppData\\Local\\Temp\\ipykernel_22432\\2685639849.py:133: SerializationWarning: Unable to decode time axis into full numpy.datetime64[ns] objects, continuing using cftime.datetime objects instead, reason: dates out of range. To silence this warning use a coarser resolution 'time_unit' or specify 'use_cftime=True'.\n",
      "  model_ds = xr.open_dataset(model_file_path)\n",
      "C:\\Users\\benra\\AppData\\Local\\Temp\\ipykernel_22432\\2685639849.py:133: SerializationWarning: Unable to decode time axis into full numpy.datetime64[ns] objects, continuing using cftime.datetime objects instead, reason: dates out of range. To silence this warning use a coarser resolution 'time_unit' or specify 'use_cftime=True'.\n",
      "  model_ds = xr.open_dataset(model_file_path)\n"
     ]
    },
    {
     "name": "stdout",
     "output_type": "stream",
     "text": [
      "    Warning: Model file not found for UCIJPL_ISSM2 in expa01. Skipping.\n",
      "    Warning: Model file not found for VUW_PISM in expa01. Skipping.\n"
     ]
    },
    {
     "name": "stderr",
     "output_type": "stream",
     "text": [
      "C:\\Users\\benra\\anaconda3\\Lib\\site-packages\\sklearn\\cluster\\_kmeans.py:1382: UserWarning: KMeans is known to have a memory leak on Windows with MKL, when there are less chunks than available threads. You can avoid it by setting the environment variable OMP_NUM_THREADS=1.\n",
      "  warnings.warn(\n"
     ]
    },
    {
     "name": "stdout",
     "output_type": "stream",
     "text": [
      "  Generated PCA plot for Basin NW, Experiment expa01\n",
      "  Processing Experiment: expa02\n",
      "    Warning: Model file not found for IMAU_IMAUICE1 in expa02. Skipping.\n",
      "    Warning: Model file not found for JPL_ISSMPALEO in expa02. Skipping.\n",
      "    Warning: Model file not found for MUN_GSM1 in expa02. Skipping.\n",
      "    Warning: Model file not found for MUN_GSM2 in expa02. Skipping.\n"
     ]
    },
    {
     "name": "stderr",
     "output_type": "stream",
     "text": [
      "C:\\Users\\benra\\AppData\\Local\\Temp\\ipykernel_22432\\2685639849.py:133: SerializationWarning: Unable to decode time axis into full numpy.datetime64[ns] objects, continuing using cftime.datetime objects instead, reason: dates out of range. To silence this warning use a coarser resolution 'time_unit' or specify 'use_cftime=True'.\n",
      "  model_ds = xr.open_dataset(model_file_path)\n",
      "C:\\Users\\benra\\AppData\\Local\\Temp\\ipykernel_22432\\2685639849.py:133: SerializationWarning: Unable to decode time axis into full numpy.datetime64[ns] objects, continuing using cftime.datetime objects instead, reason: dates out of range. To silence this warning use a coarser resolution 'time_unit' or specify 'use_cftime=True'.\n",
      "  model_ds = xr.open_dataset(model_file_path)\n",
      "C:\\Users\\benra\\AppData\\Local\\Temp\\ipykernel_22432\\2685639849.py:133: SerializationWarning: Unable to decode time axis into full numpy.datetime64[ns] objects, continuing using cftime.datetime objects instead, reason: dates out of range. To silence this warning use a coarser resolution 'time_unit' or specify 'use_cftime=True'.\n",
      "  model_ds = xr.open_dataset(model_file_path)\n",
      "C:\\Users\\benra\\AppData\\Local\\Temp\\ipykernel_22432\\2685639849.py:133: SerializationWarning: Unable to decode time axis into full numpy.datetime64[ns] objects, continuing using cftime.datetime objects instead, reason: dates out of range. To silence this warning use a coarser resolution 'time_unit' or specify 'use_cftime=True'.\n",
      "  model_ds = xr.open_dataset(model_file_path)\n"
     ]
    },
    {
     "name": "stdout",
     "output_type": "stream",
     "text": [
      "    Warning: Model file not found for UCIJPL_ISSM2 in expa02. Skipping.\n",
      "    Warning: Model file not found for VUW_PISM in expa02. Skipping.\n"
     ]
    },
    {
     "name": "stderr",
     "output_type": "stream",
     "text": [
      "C:\\Users\\benra\\anaconda3\\Lib\\site-packages\\sklearn\\cluster\\_kmeans.py:1382: UserWarning: KMeans is known to have a memory leak on Windows with MKL, when there are less chunks than available threads. You can avoid it by setting the environment variable OMP_NUM_THREADS=1.\n",
      "  warnings.warn(\n",
      "C:\\Users\\benra\\AppData\\Local\\Temp\\ipykernel_22432\\2685639849.py:249: RuntimeWarning: invalid value encountered in sqrt\n",
      "  height = 2 * np.sqrt(eigenvalues[1] * chi2_val) # Minor axis\n"
     ]
    },
    {
     "name": "stdout",
     "output_type": "stream",
     "text": [
      "  Generated PCA plot for Basin NW, Experiment expa02\n",
      "  Processing Experiment: expa03\n",
      "    Warning: Model file not found for IMAU_IMAUICE1 in expa03. Skipping.\n",
      "    Warning: Model file not found for JPL_ISSMPALEO in expa03. Skipping.\n",
      "    Warning: Model file not found for MUN_GSM1 in expa03. Skipping.\n",
      "    Warning: Model file not found for MUN_GSM2 in expa03. Skipping.\n"
     ]
    },
    {
     "name": "stderr",
     "output_type": "stream",
     "text": [
      "C:\\Users\\benra\\AppData\\Local\\Temp\\ipykernel_22432\\2685639849.py:133: SerializationWarning: Unable to decode time axis into full numpy.datetime64[ns] objects, continuing using cftime.datetime objects instead, reason: dates out of range. To silence this warning use a coarser resolution 'time_unit' or specify 'use_cftime=True'.\n",
      "  model_ds = xr.open_dataset(model_file_path)\n",
      "C:\\Users\\benra\\AppData\\Local\\Temp\\ipykernel_22432\\2685639849.py:133: SerializationWarning: Unable to decode time axis into full numpy.datetime64[ns] objects, continuing using cftime.datetime objects instead, reason: dates out of range. To silence this warning use a coarser resolution 'time_unit' or specify 'use_cftime=True'.\n",
      "  model_ds = xr.open_dataset(model_file_path)\n",
      "C:\\Users\\benra\\AppData\\Local\\Temp\\ipykernel_22432\\2685639849.py:133: SerializationWarning: Unable to decode time axis into full numpy.datetime64[ns] objects, continuing using cftime.datetime objects instead, reason: dates out of range. To silence this warning use a coarser resolution 'time_unit' or specify 'use_cftime=True'.\n",
      "  model_ds = xr.open_dataset(model_file_path)\n",
      "C:\\Users\\benra\\AppData\\Local\\Temp\\ipykernel_22432\\2685639849.py:133: SerializationWarning: Unable to decode time axis into full numpy.datetime64[ns] objects, continuing using cftime.datetime objects instead, reason: dates out of range. To silence this warning use a coarser resolution 'time_unit' or specify 'use_cftime=True'.\n",
      "  model_ds = xr.open_dataset(model_file_path)\n"
     ]
    },
    {
     "name": "stdout",
     "output_type": "stream",
     "text": [
      "    Warning: Model file not found for UCIJPL_ISSM2 in expa03. Skipping.\n",
      "    Warning: Model file not found for VUW_PISM in expa03. Skipping.\n"
     ]
    },
    {
     "name": "stderr",
     "output_type": "stream",
     "text": [
      "C:\\Users\\benra\\anaconda3\\Lib\\site-packages\\sklearn\\cluster\\_kmeans.py:1382: UserWarning: KMeans is known to have a memory leak on Windows with MKL, when there are less chunks than available threads. You can avoid it by setting the environment variable OMP_NUM_THREADS=1.\n",
      "  warnings.warn(\n"
     ]
    },
    {
     "name": "stdout",
     "output_type": "stream",
     "text": [
      "  Generated PCA plot for Basin NW, Experiment expa03\n"
     ]
    },
    {
     "name": "stderr",
     "output_type": "stream",
     "text": [
      "C:\\Users\\benra\\anaconda3\\Lib\\site-packages\\seaborn\\matrix.py:260: FutureWarning: Format strings passed to MaskedConstant are ignored, but in future may error or produce different behavior\n",
      "  annotation = (\"{:\" + self.fmt + \"}\").format(val)\n"
     ]
    },
    {
     "name": "stdout",
     "output_type": "stream",
     "text": [
      "  Generated ARI Heatmap for Basin NW\n",
      "\n",
      "--- Analysis Complete ---\n"
     ]
    }
   ],
   "source": [
    "import os\n",
    "import numpy as np\n",
    "import xarray as xr\n",
    "import matplotlib.pyplot as plt\n",
    "from sklearn.preprocessing import StandardScaler\n",
    "from sklearn.decomposition import PCA\n",
    "from sklearn.cluster import KMeans\n",
    "from scipy import stats\n",
    "from matplotlib.patches import Ellipse\n",
    "import seaborn as sns\n",
    "import pandas as pd\n",
    "from sklearn.metrics import adjusted_rand_score\n",
    "\n",
    "# --- Configuration ---\n",
    "# Base directory where your experiment folders are located\n",
    "base_data_dir = r\"C:\\Users\\benra\"\n",
    "# Path to your basin mask NetCDF file\n",
    "basin_mask_path = r\"C:\\Users\\benra\\output_combined_masked_basins.nc\"\n",
    "\n",
    "# List of all experiment IDs\n",
    "experiment_ids = [\n",
    "    'exp05','exp06', 'exp07', 'exp08', 'exp09', 'exp10', 'expa01', 'expa02', 'expa03'\n",
    "]\n",
    "\n",
    "# List of all model names (NetCDF file names within each experiment folder, without .nc)\n",
    "participating_models = [\n",
    "    'AWI_ISSM1', 'AWI_ISSM2', 'AWI_ISSM3', 'BGC_BISICLES', 'GSFC_ISSM',\n",
    "    'ILTS_PIK_SICOPOLIS1', 'ILTS_PIK_SICOPOLIS2', 'IMAU_IMAUICE1', 'IMAU_IMAUICE2', 'JPL_ISSM',\n",
    "    'JPL_ISSMPALEO', 'LSCE_GRISLI', 'MUN_GSM1', 'MUN_GSM2', 'NCAR_CISM',\n",
    "    'UAF_PISM1', 'UAF_PISM2', 'UCIJPL_ISSM1', 'UCIJPL_ISSM2', 'VUB_GISM', 'VUW_PISM'\n",
    "]\n",
    "\n",
    "# Variable name for ice thickness in your NetCDF files\n",
    "variable_name = 'lithk'\n",
    "\n",
    "# PCA and K-means parameters\n",
    "n_components_pca = 4  # For 2D plotting and clustering\n",
    "n_clusters_kmeans = 5 # Number of clusters for K-means\n",
    "\n",
    "# Output directory for plots\n",
    "base_output_dir = \"Research_Plots\"\n",
    "os.makedirs(base_output_dir, exist_ok=True)\n",
    "\n",
    "output_plots_dir = os.path.join(base_output_dir, \"Basin_ARI_Analysis_Plots\")\n",
    "os.makedirs(output_plots_dir, exist_ok=True)\n",
    "\n",
    "# --- Basin Geographic Names Mapping ---\n",
    "basin_names = {\n",
    "    1: 'NO',\n",
    "    2: 'NE',\n",
    "    3: 'CE',\n",
    "    4: 'SE',\n",
    "    5: 'SW',\n",
    "    6: 'CW',\n",
    "    7: 'NW'\n",
    "}\n",
    "\n",
    "# --- Define Marker Styles for Models ---\n",
    "markers = ['o', 's', '^', 'D', 'P', 'X', '*', 'h', 'v', '<', '>', 'p', 'H', 'd', '8', 'v', '^', '<', '>', 'P', '+']\n",
    "model_to_marker = {model: markers[i % len(markers)] for i, model in enumerate(participating_models)}\n",
    "\n",
    "# --- Load Basin Mask ---\n",
    "try:\n",
    "    basin_mask_data = xr.open_dataset(basin_mask_path)\n",
    "\n",
    "    basin_id_var_name = None\n",
    "    for var_key in basin_mask_data.data_vars.keys():\n",
    "        if var_key.strip() == 'IDs':\n",
    "            basin_id_var_name = var_key\n",
    "            break\n",
    "    \n",
    "    if basin_id_var_name is None:\n",
    "        raise KeyError(\"Could not find 'IDs' variable (even after stripping whitespace) in basin mask NetCDF.\")\n",
    "\n",
    "    basin_ids_grid = basin_mask_data[basin_id_var_name]\n",
    "    unique_basin_ids = np.unique(basin_ids_grid.values[~np.isnan(basin_ids_grid.values)]).astype(int)\n",
    "    print(f\"Found {len(unique_basin_ids)} unique basins: {unique_basin_ids}\")\n",
    "\n",
    "    # Get grid coordinates and shape from the basin mask (assuming it's on the same grid)\n",
    "    x_coords_grid = basin_ids_grid['x'].values if 'x' in basin_ids_grid.coords else basin_ids_grid.coords[basin_ids_grid.dims[1]].values\n",
    "    y_coords_grid = basin_ids_grid['y'].values if 'y' in basin_ids_grid.coords else basin_ids_grid.coords[basin_ids_grid.dims[0]].values\n",
    "    rows_grid, cols_grid = basin_ids_grid.shape\n",
    "except FileNotFoundError:\n",
    "    print(f\"Error: Basin mask file not found at {basin_mask_path}\")\n",
    "    exit()\n",
    "except KeyError as e:\n",
    "    print(f\"Error: {e}. Please check the variable name or file path for the basin mask.\")\n",
    "    exit()\n",
    "except Exception as e:\n",
    "    print(f\"An unexpected error occurred while loading basin mask: {e}\")\n",
    "    exit()\n",
    "\n",
    "\n",
    "# --- Main Analysis Loop: Per Basin ---\n",
    "for basin_id in unique_basin_ids:\n",
    "    # Get the geographic name for the current basin, default to number if not found\n",
    "    basin_geo_name = basin_names.get(basin_id, f\"Basin {basin_id}\")\n",
    "    print(f\"\\n--- Processing Basin: {basin_geo_name} (ID: {basin_id}) ---\")\n",
    "\n",
    "    # Dictionary to store cluster labels for each experiment for the current basin\n",
    "    # Key: experiment_id, Value: numpy array of cluster labels for models\n",
    "    basin_experiment_cluster_labels = {}\n",
    "\n",
    "    # Create a directory for basin-specific plots\n",
    "    # Use the geographic name for the folder for better organization\n",
    "    basin_output_dir = os.path.join(output_plots_dir, f\"Basin_{basin_geo_name}\")\n",
    "    os.makedirs(basin_output_dir, exist_ok=True)\n",
    "\n",
    "    # Dictionary to store PCA scores for plotting (for the 2D clustering plot)\n",
    "    basin_experiment_pca_scores = {}\n",
    "\n",
    "    # Loop through each experiment for the current basin\n",
    "    for exp_id in experiment_ids:\n",
    "        print(f\"  Processing Experiment: {exp_id}\")\n",
    "        current_experiment_basin_deltas = []\n",
    "        current_experiment_models_present = [] # Keep track of models actually loaded\n",
    "\n",
    "        # Construct the actual folder name for the current experiment\n",
    "        experiment_folder_name = f\"{variable_name}_{exp_id}\" # e.g., 'lithk_exp05'\n",
    "\n",
    "        # Loop through each model in the current experiment\n",
    "        for model_name in participating_models:\n",
    "            # --- Construct the model file name based on the new convention ---\n",
    "            # Example: lithk_GIS_AWI-ISSM1_exp05.nc\n",
    "            model_file_name = f\"{variable_name}_GIS_{model_name}_{exp_id}.nc\"\n",
    "            model_file_path = os.path.join(base_data_dir, experiment_folder_name, model_file_name)\n",
    "\n",
    "            if not os.path.exists(model_file_path):\n",
    "                print(f\"    Warning: Model file not found for {model_name} in {exp_id}. Skipping.\")\n",
    "                continue # Skip this model if its file doesn't exist\n",
    "\n",
    "            try:\n",
    "                model_ds = xr.open_dataset(model_file_path)\n",
    "                # Ensure 'time' dimension exists and is sufficient\n",
    "                if 'time' not in model_ds[variable_name].dims or len(model_ds['time']) < 2:\n",
    "                    print(f\"    Warning: '{variable_name}' in {model_name}/{exp_id} has insufficient time dimension. Skipping.\")\n",
    "                    model_ds.close()\n",
    "                    continue\n",
    "\n",
    "                # Calculate delta lithk from 2015 (index 0) to 2100 (last index)\n",
    "                delta_lithk = model_ds[variable_name].isel(time=-1) - model_ds[variable_name].isel(time=0)\n",
    "\n",
    "                # Close dataset to free memory\n",
    "                model_ds.close()\n",
    "                \n",
    "                target_dims = basin_ids_grid.dims\n",
    "                \n",
    "                if len(delta_lithk.dims) == len(target_dims):\n",
    "                    dim_rename_map = {old_dim: new_dim for old_dim, new_dim in zip(delta_lithk.dims, target_dims)}\n",
    "                    delta_lithk_aligned = delta_lithk.rename(dim_rename_map)\n",
    "                else:\n",
    "                    print(f\"    Warning: Delta_lithk for {model_name} in {exp_id} has unexpected dimensions: {delta_lithk.dims}. Skipping alignment.\")\n",
    "                    delta_lithk_aligned = delta_lithk\n",
    "                \n",
    "                delta_lithk_reindexed = delta_lithk_aligned.reindex_like(basin_ids_grid, method='nearest', tolerance=1e-6)\n",
    "\n",
    "                # Now apply the mask using the reindexed delta_lithk\n",
    "                basin_specific_delta = delta_lithk_reindexed.where(basin_ids_grid == basin_id)\n",
    "\n",
    "                # Flatten the 2D basin-specific delta to a 1D array\n",
    "                flattened_delta = basin_specific_delta.values.flatten()\n",
    "                current_experiment_basin_deltas.append(flattened_delta)\n",
    "                current_experiment_models_present.append(model_name)\n",
    "\n",
    "            except Exception as e:\n",
    "                print(f\"    Error processing {model_name} in {exp_id}: {e}. Skipping.\")\n",
    "                if 'model_ds' in locals() and model_ds is not None:\n",
    "                    model_ds.close()\n",
    "                continue\n",
    "\n",
    "        # The following block was incorrectly indented. It should be at the same level as the 'for model_name in...' loop.\n",
    "        if not current_experiment_models_present:\n",
    "            print(f\"  No valid model data found for Experiment {exp_id} in Basin {basin_id}. Skipping clustering.\")\n",
    "            continue # Skip clustering for this experiment if no data\n",
    "\n",
    "        # Stack all models' basin-specific deltas into a matrix\n",
    "        all_models_basin_data = np.stack(current_experiment_basin_deltas)\n",
    "\n",
    "        # Handle NaNs: Remove grid points that are NaN for *any* model in this basin/experiment\n",
    "        mask_valid_points = ~np.any(np.isnan(all_models_basin_data), axis=0)\n",
    "        data_matrix_for_clustering = all_models_basin_data[:, mask_valid_points]\n",
    "\n",
    "        if data_matrix_for_clustering.shape[1] == 0:\n",
    "            print(f\"  No valid (non-NaN) data points for clustering in Experiment {exp_id}, Basin {basin_id}. Skipping.\")\n",
    "            continue # Skip if no valid spatial points remain after masking\n",
    "\n",
    "        # --- Perform PCA ---\n",
    "        scaler = StandardScaler()\n",
    "        data_matrix_scaled = scaler.fit_transform(data_matrix_for_clustering)\n",
    "\n",
    "        pca = PCA(n_components=n_components_pca)\n",
    "        pca_scores = pca.fit_transform(data_matrix_scaled)\n",
    "        basin_experiment_pca_scores[exp_id] = pca_scores # Store for plotting\n",
    "\n",
    "        # --- Perform K-Means Clustering ---\n",
    "        kmeans = KMeans(n_clusters=n_clusters_kmeans, random_state=0, n_init='auto')\n",
    "        labels = kmeans.fit_predict(pca_scores)\n",
    "        basin_experiment_cluster_labels[exp_id] = labels # Store labels for ARI\n",
    "\n",
    "        # --- Generate 2D PCA Plot for this Basin/Experiment ---\n",
    "        fig_2d, ax_2d = plt.subplots(figsize=(12, 10)) # Increased figure size for legend\n",
    "\n",
    "        # Define cluster colors (matching viridis cmap)\n",
    "        cluster_colors = [plt.cm.viridis(i / (n_clusters_kmeans - 1)) for i in range(n_clusters_kmeans)]\n",
    "\n",
    "        # Loop through models present in THIS experiment to ensure correct labels and plotting\n",
    "        for i, model_name in enumerate(current_experiment_models_present):\n",
    "            cluster_id = labels[i]\n",
    "            color = cluster_colors[cluster_id]\n",
    "            marker = model_to_marker[model_name]\n",
    "\n",
    "            ax_2d.scatter(\n",
    "                pca_scores[i, 0],\n",
    "                pca_scores[i, 1],\n",
    "                c=[color],\n",
    "                marker=marker,\n",
    "                label=None, # Labels are for custom legend handles below\n",
    "                s=250, # Increased marker size\n",
    "                edgecolor='black',\n",
    "                alpha=0.8\n",
    "            )\n",
    "\n",
    "        # --- Add Ellipses for each Cluster in 2D Plot ---\n",
    "        # Chi-squared critical value for 95% confidence with 2 degrees of freedom\n",
    "        confidence_level = 0.95\n",
    "        chi2_val = stats.chi2.ppf(confidence_level, df=2)\n",
    "\n",
    "        for cluster_id in np.unique(labels):\n",
    "            cluster_points = pca_scores[labels == cluster_id, :2] # Select points for this cluster (PC1, PC2)\n",
    "\n",
    "            if len(cluster_points) < 2: # Need at least 2 points to compute covariance for an ellipse\n",
    "                continue\n",
    "\n",
    "            centroid = np.mean(cluster_points, axis=0)\n",
    "            covariance = np.cov(cluster_points, rowvar=False)\n",
    "\n",
    "            eigenvalues, eigenvectors = np.linalg.eigh(covariance)\n",
    "\n",
    "            # Sort eigenvalues and eigenvectors in descending order for correct orientation\n",
    "            order = eigenvalues.argsort()[::-1]\n",
    "            eigenvalues = eigenvalues[order]\n",
    "            eigenvectors = eigenvectors[:, order]\n",
    "\n",
    "            # Calculate angle of rotation for the ellipse\n",
    "            angle = np.degrees(np.arctan2(*eigenvectors[:, 0][::-1]))\n",
    "\n",
    "            # Calculate width and height of the ellipse axes\n",
    "            width = 2 * np.sqrt(eigenvalues[0] * chi2_val) # Major axis\n",
    "            height = 2 * np.sqrt(eigenvalues[1] * chi2_val) # Minor axis\n",
    "\n",
    "            ellipse_color = cluster_colors[cluster_id]\n",
    "            ellipse = Ellipse(xy=centroid, width=width, height=height,\n",
    "                                angle=angle, edgecolor=ellipse_color, fc='None',\n",
    "                                lw=2, alpha=0.7, zorder=0) # zorder to keep it behind points\n",
    "            ax_2d.add_patch(ellipse)\n",
    "\n",
    "        # Create a custom legend for clusters and models\n",
    "        # For clusters\n",
    "        cluster_legend_handles = []\n",
    "        for i in range(n_clusters_kmeans):\n",
    "            cluster_legend_handles.append(plt.Line2D([0], [0], marker='o', color='w',\n",
    "                                                    markerfacecolor=cluster_colors[i], markersize=10,\n",
    "                                                    label=f'Cluster {i}'))\n",
    "\n",
    "        # For models - ENSURE MARKER COLOR MATCHES PLOT COLOR\n",
    "        model_legend_handles = []\n",
    "        for i, model_name in enumerate(current_experiment_models_present): # Use current_experiment_models_present\n",
    "            cluster_id = labels[i] # Get the cluster ID for the current model\n",
    "            model_color = cluster_colors[cluster_id] # Get the color associated with that cluster\n",
    "            model_legend_handles.append(plt.Line2D([0], [0], marker=model_to_marker[model_name], color='w',\n",
    "                                                    markerfacecolor=model_color, # Use the model's cluster color here\n",
    "                                                    markersize=10,\n",
    "                                                    label=model_name, markeredgecolor='black'))\n",
    "\n",
    "        # Add the cluster legend\n",
    "        first_legend = ax_2d.legend(handles=cluster_legend_handles, loc='upper left', title='Clusters', bbox_to_anchor=(1.02, 1))\n",
    "        ax_2d.add_artist(first_legend) # Add the first legend manually to allow a second one\n",
    "\n",
    "        # Add the model legend\n",
    "        ax_2d.legend(handles=model_legend_handles, loc='lower left', title='Models', bbox_to_anchor=(1.02, 0))\n",
    "\n",
    "\n",
    "        ax_2d.set_xlabel(f'Principal Component 1 ({pca.explained_variance_ratio_[0]*100:.2f}%)')\n",
    "        ax_2d.set_ylabel(f'Principal Component 2 ({pca.explained_variance_ratio_[1]*100:.2f}%)')\n",
    "        plt.title(f'PCA Clustering for Basin {basin_geo_name}, Experiment {exp_id}')\n",
    "        plt.grid(True, linestyle='--', alpha=0.6) # Keep grid\n",
    "        plt.tight_layout(rect=[0, 0, 0.85, 1]) # Adjust layout to make space for the legend\n",
    "\n",
    "        # Save 2D plot\n",
    "        plt.savefig(os.path.join(basin_output_dir, f'PCA_Clustering_Basin_{basin_geo_name}_Exp_{exp_id}.png'))\n",
    "        plt.close(fig_2d) # Close the figure to free memory\n",
    "\n",
    "        print(f\"  Generated PCA plot for Basin {basin_geo_name}, Experiment {exp_id}\")\n",
    "\n",
    "    # --- Generate ARI Heatmap for the current basin (after processing all experiments) ---\n",
    "    if len(basin_experiment_cluster_labels) < 2:\n",
    "        print(f\"  Not enough experiments with valid clustering results for Basin {basin_id} to compute ARI heatmap. Skipping.\")\n",
    "        continue\n",
    "\n",
    "    # Filter experiment_ids to only include those that had valid clustering results\n",
    "    experiments_with_labels = list(basin_experiment_cluster_labels.keys())\n",
    "    ari_matrix = np.zeros((len(experiments_with_labels), len(experiments_with_labels)))\n",
    "    ari_df = pd.DataFrame(ari_matrix, index=experiments_with_labels, columns=experiments_with_labels)\n",
    "\n",
    "    for i, exp1_id in enumerate(experiments_with_labels):\n",
    "        for j, exp2_id in enumerate(experiments_with_labels):\n",
    "            labels1 = basin_experiment_cluster_labels[exp1_id]\n",
    "            labels2 = basin_experiment_cluster_labels[exp2_id]\n",
    "            # ARI requires labels to be non-empty and have same length\n",
    "            if len(labels1) == 0 or len(labels2) == 0 or len(labels1) != len(labels2):\n",
    "                ari_score = np.nan # Or 0, depending on how you want to represent no comparison\n",
    "            else:\n",
    "                ari_score = adjusted_rand_score(labels1, labels2)\n",
    "            ari_df.iloc[i, j] = ari_score\n",
    "\n",
    "    # Plotting the ARI Heatmap\n",
    "    plt.figure(figsize=(12, 10))\n",
    "    sns.heatmap(ari_df, annot=True, cmap='viridis', fmt=\".2f\", linewidths=.5, linecolor='black')\n",
    "    plt.title(f'Adjusted Rand Index (ARI) Heatmap for Basin {basin_geo_name} Clusterings') # Use geo name in title\n",
    "    plt.xlabel('Experiment ID')\n",
    "    plt.ylabel('Experiment ID')\n",
    "    plt.tight_layout()\n",
    "    plt.savefig(os.path.join(basin_output_dir, f'ARI_Heatmap_Basin_{basin_geo_name}.png')) # Use geo name in filename\n",
    "    plt.close()\n",
    "    print(f\"  Generated ARI Heatmap for Basin {basin_geo_name}\")\n",
    "\n",
    "print(\"\\n--- Analysis Complete ---\")"
   ]
  },
  {
   "cell_type": "code",
   "execution_count": 3,
   "id": "43ab1e70",
   "metadata": {},
   "outputs": [
    {
     "name": "stdout",
     "output_type": "stream",
     "text": [
      "Data variables found in basin mask file: ['original_masked_IDs', 'IDs']\n",
      "Found 7 unique basins: [1 2 3 4 5 6 7]\n",
      "\n",
      "--- Processing Basin: NO (ID: 1) ---\n",
      "  Processing Experiment: exp05\n"
     ]
    },
    {
     "name": "stderr",
     "output_type": "stream",
     "text": [
      "C:\\Users\\benra\\AppData\\Local\\Temp\\ipykernel_28696\\3502057095.py:78: SerializationWarning: Unable to decode time axis into full numpy.datetime64[ns] objects, continuing using cftime.datetime objects instead, reason: dates out of range. To silence this warning use a coarser resolution 'time_unit' or specify 'use_cftime=True'.\n",
      "  model_ds = xr.open_dataset(model_file_path)\n",
      "C:\\Users\\benra\\AppData\\Local\\Temp\\ipykernel_28696\\3502057095.py:78: SerializationWarning: Unable to decode time axis into full numpy.datetime64[ns] objects, continuing using cftime.datetime objects instead, reason: dates out of range. To silence this warning use a coarser resolution 'time_unit' or specify 'use_cftime=True'.\n",
      "  model_ds = xr.open_dataset(model_file_path)\n"
     ]
    },
    {
     "name": "stdout",
     "output_type": "stream",
     "text": [
      "    Warning: Model file not found for UAF_PISM2 in exp05. Skipping.\n"
     ]
    },
    {
     "name": "stderr",
     "output_type": "stream",
     "text": [
      "C:\\Users\\benra\\anaconda3\\Lib\\site-packages\\sklearn\\cluster\\_kmeans.py:1382: UserWarning: KMeans is known to have a memory leak on Windows with MKL, when there are less chunks than available threads. You can avoid it by setting the environment variable OMP_NUM_THREADS=1.\n",
      "  warnings.warn(\n",
      "C:\\Users\\benra\\AppData\\Local\\Temp\\ipykernel_28696\\3502057095.py:162: UserWarning: You passed a edgecolor/edgecolors ('black') for an unfilled marker ('+').  Matplotlib is ignoring the edgecolor in favor of the facecolor.  This behavior may change in the future.\n",
      "  ax_2d.scatter(\n"
     ]
    },
    {
     "name": "stdout",
     "output_type": "stream",
     "text": [
      "  Generated PCA plot for Basin NO, Experiment exp05\n",
      "  Processing Experiment: exp06\n"
     ]
    },
    {
     "name": "stderr",
     "output_type": "stream",
     "text": [
      "C:\\Users\\benra\\AppData\\Local\\Temp\\ipykernel_28696\\3502057095.py:78: SerializationWarning: Unable to decode time axis into full numpy.datetime64[ns] objects, continuing using cftime.datetime objects instead, reason: dates out of range. To silence this warning use a coarser resolution 'time_unit' or specify 'use_cftime=True'.\n",
      "  model_ds = xr.open_dataset(model_file_path)\n",
      "C:\\Users\\benra\\AppData\\Local\\Temp\\ipykernel_28696\\3502057095.py:78: SerializationWarning: Unable to decode time axis into full numpy.datetime64[ns] objects, continuing using cftime.datetime objects instead, reason: dates out of range. To silence this warning use a coarser resolution 'time_unit' or specify 'use_cftime=True'.\n",
      "  model_ds = xr.open_dataset(model_file_path)\n"
     ]
    },
    {
     "name": "stdout",
     "output_type": "stream",
     "text": [
      "    Warning: Model file not found for UAF_PISM2 in exp06. Skipping.\n"
     ]
    },
    {
     "name": "stderr",
     "output_type": "stream",
     "text": [
      "C:\\Users\\benra\\anaconda3\\Lib\\site-packages\\sklearn\\cluster\\_kmeans.py:1382: UserWarning: KMeans is known to have a memory leak on Windows with MKL, when there are less chunks than available threads. You can avoid it by setting the environment variable OMP_NUM_THREADS=1.\n",
      "  warnings.warn(\n",
      "C:\\Users\\benra\\AppData\\Local\\Temp\\ipykernel_28696\\3502057095.py:162: UserWarning: You passed a edgecolor/edgecolors ('black') for an unfilled marker ('+').  Matplotlib is ignoring the edgecolor in favor of the facecolor.  This behavior may change in the future.\n",
      "  ax_2d.scatter(\n"
     ]
    },
    {
     "name": "stdout",
     "output_type": "stream",
     "text": [
      "  Generated PCA plot for Basin NO, Experiment exp06\n",
      "  Processing Experiment: exp07\n"
     ]
    },
    {
     "name": "stderr",
     "output_type": "stream",
     "text": [
      "C:\\Users\\benra\\AppData\\Local\\Temp\\ipykernel_28696\\3502057095.py:78: SerializationWarning: Unable to decode time axis into full numpy.datetime64[ns] objects, continuing using cftime.datetime objects instead, reason: dates out of range. To silence this warning use a coarser resolution 'time_unit' or specify 'use_cftime=True'.\n",
      "  model_ds = xr.open_dataset(model_file_path)\n",
      "C:\\Users\\benra\\AppData\\Local\\Temp\\ipykernel_28696\\3502057095.py:78: SerializationWarning: Unable to decode time axis into full numpy.datetime64[ns] objects, continuing using cftime.datetime objects instead, reason: dates out of range. To silence this warning use a coarser resolution 'time_unit' or specify 'use_cftime=True'.\n",
      "  model_ds = xr.open_dataset(model_file_path)\n"
     ]
    },
    {
     "name": "stdout",
     "output_type": "stream",
     "text": [
      "    Warning: Model file not found for UAF_PISM2 in exp07. Skipping.\n"
     ]
    },
    {
     "name": "stderr",
     "output_type": "stream",
     "text": [
      "C:\\Users\\benra\\anaconda3\\Lib\\site-packages\\sklearn\\cluster\\_kmeans.py:1382: UserWarning: KMeans is known to have a memory leak on Windows with MKL, when there are less chunks than available threads. You can avoid it by setting the environment variable OMP_NUM_THREADS=1.\n",
      "  warnings.warn(\n",
      "C:\\Users\\benra\\AppData\\Local\\Temp\\ipykernel_28696\\3502057095.py:162: UserWarning: You passed a edgecolor/edgecolors ('black') for an unfilled marker ('+').  Matplotlib is ignoring the edgecolor in favor of the facecolor.  This behavior may change in the future.\n",
      "  ax_2d.scatter(\n"
     ]
    },
    {
     "name": "stdout",
     "output_type": "stream",
     "text": [
      "  Generated PCA plot for Basin NO, Experiment exp07\n",
      "  Processing Experiment: exp08\n"
     ]
    },
    {
     "name": "stderr",
     "output_type": "stream",
     "text": [
      "C:\\Users\\benra\\AppData\\Local\\Temp\\ipykernel_28696\\3502057095.py:78: SerializationWarning: Unable to decode time axis into full numpy.datetime64[ns] objects, continuing using cftime.datetime objects instead, reason: dates out of range. To silence this warning use a coarser resolution 'time_unit' or specify 'use_cftime=True'.\n",
      "  model_ds = xr.open_dataset(model_file_path)\n",
      "C:\\Users\\benra\\AppData\\Local\\Temp\\ipykernel_28696\\3502057095.py:78: SerializationWarning: Unable to decode time axis into full numpy.datetime64[ns] objects, continuing using cftime.datetime objects instead, reason: dates out of range. To silence this warning use a coarser resolution 'time_unit' or specify 'use_cftime=True'.\n",
      "  model_ds = xr.open_dataset(model_file_path)\n"
     ]
    },
    {
     "name": "stdout",
     "output_type": "stream",
     "text": [
      "    Warning: Model file not found for UAF_PISM2 in exp08. Skipping.\n"
     ]
    },
    {
     "name": "stderr",
     "output_type": "stream",
     "text": [
      "C:\\Users\\benra\\anaconda3\\Lib\\site-packages\\sklearn\\cluster\\_kmeans.py:1382: UserWarning: KMeans is known to have a memory leak on Windows with MKL, when there are less chunks than available threads. You can avoid it by setting the environment variable OMP_NUM_THREADS=1.\n",
      "  warnings.warn(\n",
      "C:\\Users\\benra\\AppData\\Local\\Temp\\ipykernel_28696\\3502057095.py:162: UserWarning: You passed a edgecolor/edgecolors ('black') for an unfilled marker ('+').  Matplotlib is ignoring the edgecolor in favor of the facecolor.  This behavior may change in the future.\n",
      "  ax_2d.scatter(\n"
     ]
    },
    {
     "name": "stdout",
     "output_type": "stream",
     "text": [
      "  Generated PCA plot for Basin NO, Experiment exp08\n",
      "  Processing Experiment: exp09\n"
     ]
    },
    {
     "name": "stderr",
     "output_type": "stream",
     "text": [
      "C:\\Users\\benra\\AppData\\Local\\Temp\\ipykernel_28696\\3502057095.py:78: SerializationWarning: Unable to decode time axis into full numpy.datetime64[ns] objects, continuing using cftime.datetime objects instead, reason: dates out of range. To silence this warning use a coarser resolution 'time_unit' or specify 'use_cftime=True'.\n",
      "  model_ds = xr.open_dataset(model_file_path)\n",
      "C:\\Users\\benra\\AppData\\Local\\Temp\\ipykernel_28696\\3502057095.py:78: SerializationWarning: Unable to decode time axis into full numpy.datetime64[ns] objects, continuing using cftime.datetime objects instead, reason: dates out of range. To silence this warning use a coarser resolution 'time_unit' or specify 'use_cftime=True'.\n",
      "  model_ds = xr.open_dataset(model_file_path)\n"
     ]
    },
    {
     "name": "stdout",
     "output_type": "stream",
     "text": [
      "    Warning: Model file not found for UAF_PISM2 in exp09. Skipping.\n",
      "    Warning: Model file not found for UCIJPL_ISSM2 in exp09. Skipping.\n",
      "    Warning: Model file not found for VUW_PISM in exp09. Skipping.\n"
     ]
    },
    {
     "name": "stderr",
     "output_type": "stream",
     "text": [
      "C:\\Users\\benra\\anaconda3\\Lib\\site-packages\\sklearn\\cluster\\_kmeans.py:1382: UserWarning: KMeans is known to have a memory leak on Windows with MKL, when there are less chunks than available threads. You can avoid it by setting the environment variable OMP_NUM_THREADS=1.\n",
      "  warnings.warn(\n"
     ]
    },
    {
     "name": "stdout",
     "output_type": "stream",
     "text": [
      "  Generated PCA plot for Basin NO, Experiment exp09\n",
      "  Processing Experiment: exp10\n"
     ]
    },
    {
     "name": "stderr",
     "output_type": "stream",
     "text": [
      "C:\\Users\\benra\\AppData\\Local\\Temp\\ipykernel_28696\\3502057095.py:78: SerializationWarning: Unable to decode time axis into full numpy.datetime64[ns] objects, continuing using cftime.datetime objects instead, reason: dates out of range. To silence this warning use a coarser resolution 'time_unit' or specify 'use_cftime=True'.\n",
      "  model_ds = xr.open_dataset(model_file_path)\n",
      "C:\\Users\\benra\\AppData\\Local\\Temp\\ipykernel_28696\\3502057095.py:78: SerializationWarning: Unable to decode time axis into full numpy.datetime64[ns] objects, continuing using cftime.datetime objects instead, reason: dates out of range. To silence this warning use a coarser resolution 'time_unit' or specify 'use_cftime=True'.\n",
      "  model_ds = xr.open_dataset(model_file_path)\n"
     ]
    },
    {
     "name": "stdout",
     "output_type": "stream",
     "text": [
      "    Warning: Model file not found for UAF_PISM2 in exp10. Skipping.\n",
      "    Warning: Model file not found for UCIJPL_ISSM2 in exp10. Skipping.\n",
      "    Warning: Model file not found for VUW_PISM in exp10. Skipping.\n"
     ]
    },
    {
     "name": "stderr",
     "output_type": "stream",
     "text": [
      "C:\\Users\\benra\\anaconda3\\Lib\\site-packages\\sklearn\\cluster\\_kmeans.py:1382: UserWarning: KMeans is known to have a memory leak on Windows with MKL, when there are less chunks than available threads. You can avoid it by setting the environment variable OMP_NUM_THREADS=1.\n",
      "  warnings.warn(\n"
     ]
    },
    {
     "name": "stdout",
     "output_type": "stream",
     "text": [
      "  Generated PCA plot for Basin NO, Experiment exp10\n",
      "  Processing Experiment: expa01\n",
      "    Warning: Model file not found for IMAU_IMAUICE1 in expa01. Skipping.\n",
      "    Warning: Model file not found for JPL_ISSMPALEO in expa01. Skipping.\n",
      "    Warning: Model file not found for MUN_GSM1 in expa01. Skipping.\n",
      "    Warning: Model file not found for MUN_GSM2 in expa01. Skipping.\n"
     ]
    },
    {
     "name": "stderr",
     "output_type": "stream",
     "text": [
      "C:\\Users\\benra\\AppData\\Local\\Temp\\ipykernel_28696\\3502057095.py:78: SerializationWarning: Unable to decode time axis into full numpy.datetime64[ns] objects, continuing using cftime.datetime objects instead, reason: dates out of range. To silence this warning use a coarser resolution 'time_unit' or specify 'use_cftime=True'.\n",
      "  model_ds = xr.open_dataset(model_file_path)\n",
      "C:\\Users\\benra\\AppData\\Local\\Temp\\ipykernel_28696\\3502057095.py:78: SerializationWarning: Unable to decode time axis into full numpy.datetime64[ns] objects, continuing using cftime.datetime objects instead, reason: dates out of range. To silence this warning use a coarser resolution 'time_unit' or specify 'use_cftime=True'.\n",
      "  model_ds = xr.open_dataset(model_file_path)\n",
      "C:\\Users\\benra\\AppData\\Local\\Temp\\ipykernel_28696\\3502057095.py:78: SerializationWarning: Unable to decode time axis into full numpy.datetime64[ns] objects, continuing using cftime.datetime objects instead, reason: dates out of range. To silence this warning use a coarser resolution 'time_unit' or specify 'use_cftime=True'.\n",
      "  model_ds = xr.open_dataset(model_file_path)\n",
      "C:\\Users\\benra\\AppData\\Local\\Temp\\ipykernel_28696\\3502057095.py:78: SerializationWarning: Unable to decode time axis into full numpy.datetime64[ns] objects, continuing using cftime.datetime objects instead, reason: dates out of range. To silence this warning use a coarser resolution 'time_unit' or specify 'use_cftime=True'.\n",
      "  model_ds = xr.open_dataset(model_file_path)\n"
     ]
    },
    {
     "name": "stdout",
     "output_type": "stream",
     "text": [
      "    Warning: Model file not found for UCIJPL_ISSM2 in expa01. Skipping.\n",
      "    Warning: Model file not found for VUW_PISM in expa01. Skipping.\n"
     ]
    },
    {
     "name": "stderr",
     "output_type": "stream",
     "text": [
      "C:\\Users\\benra\\anaconda3\\Lib\\site-packages\\sklearn\\cluster\\_kmeans.py:1382: UserWarning: KMeans is known to have a memory leak on Windows with MKL, when there are less chunks than available threads. You can avoid it by setting the environment variable OMP_NUM_THREADS=1.\n",
      "  warnings.warn(\n"
     ]
    },
    {
     "name": "stdout",
     "output_type": "stream",
     "text": [
      "  Generated PCA plot for Basin NO, Experiment expa01\n",
      "  Processing Experiment: expa02\n",
      "    Warning: Model file not found for IMAU_IMAUICE1 in expa02. Skipping.\n",
      "    Warning: Model file not found for JPL_ISSMPALEO in expa02. Skipping.\n",
      "    Warning: Model file not found for MUN_GSM1 in expa02. Skipping.\n",
      "    Warning: Model file not found for MUN_GSM2 in expa02. Skipping.\n"
     ]
    },
    {
     "name": "stderr",
     "output_type": "stream",
     "text": [
      "C:\\Users\\benra\\AppData\\Local\\Temp\\ipykernel_28696\\3502057095.py:78: SerializationWarning: Unable to decode time axis into full numpy.datetime64[ns] objects, continuing using cftime.datetime objects instead, reason: dates out of range. To silence this warning use a coarser resolution 'time_unit' or specify 'use_cftime=True'.\n",
      "  model_ds = xr.open_dataset(model_file_path)\n",
      "C:\\Users\\benra\\AppData\\Local\\Temp\\ipykernel_28696\\3502057095.py:78: SerializationWarning: Unable to decode time axis into full numpy.datetime64[ns] objects, continuing using cftime.datetime objects instead, reason: dates out of range. To silence this warning use a coarser resolution 'time_unit' or specify 'use_cftime=True'.\n",
      "  model_ds = xr.open_dataset(model_file_path)\n",
      "C:\\Users\\benra\\AppData\\Local\\Temp\\ipykernel_28696\\3502057095.py:78: SerializationWarning: Unable to decode time axis into full numpy.datetime64[ns] objects, continuing using cftime.datetime objects instead, reason: dates out of range. To silence this warning use a coarser resolution 'time_unit' or specify 'use_cftime=True'.\n",
      "  model_ds = xr.open_dataset(model_file_path)\n",
      "C:\\Users\\benra\\AppData\\Local\\Temp\\ipykernel_28696\\3502057095.py:78: SerializationWarning: Unable to decode time axis into full numpy.datetime64[ns] objects, continuing using cftime.datetime objects instead, reason: dates out of range. To silence this warning use a coarser resolution 'time_unit' or specify 'use_cftime=True'.\n",
      "  model_ds = xr.open_dataset(model_file_path)\n"
     ]
    },
    {
     "name": "stdout",
     "output_type": "stream",
     "text": [
      "    Warning: Model file not found for UCIJPL_ISSM2 in expa02. Skipping.\n",
      "    Warning: Model file not found for VUW_PISM in expa02. Skipping.\n"
     ]
    },
    {
     "name": "stderr",
     "output_type": "stream",
     "text": [
      "C:\\Users\\benra\\anaconda3\\Lib\\site-packages\\sklearn\\cluster\\_kmeans.py:1382: UserWarning: KMeans is known to have a memory leak on Windows with MKL, when there are less chunks than available threads. You can avoid it by setting the environment variable OMP_NUM_THREADS=1.\n",
      "  warnings.warn(\n"
     ]
    },
    {
     "name": "stdout",
     "output_type": "stream",
     "text": [
      "  Generated PCA plot for Basin NO, Experiment expa02\n",
      "  Processing Experiment: expa03\n",
      "    Warning: Model file not found for IMAU_IMAUICE1 in expa03. Skipping.\n",
      "    Warning: Model file not found for JPL_ISSMPALEO in expa03. Skipping.\n",
      "    Warning: Model file not found for MUN_GSM1 in expa03. Skipping.\n",
      "    Warning: Model file not found for MUN_GSM2 in expa03. Skipping.\n"
     ]
    },
    {
     "name": "stderr",
     "output_type": "stream",
     "text": [
      "C:\\Users\\benra\\AppData\\Local\\Temp\\ipykernel_28696\\3502057095.py:78: SerializationWarning: Unable to decode time axis into full numpy.datetime64[ns] objects, continuing using cftime.datetime objects instead, reason: dates out of range. To silence this warning use a coarser resolution 'time_unit' or specify 'use_cftime=True'.\n",
      "  model_ds = xr.open_dataset(model_file_path)\n",
      "C:\\Users\\benra\\AppData\\Local\\Temp\\ipykernel_28696\\3502057095.py:78: SerializationWarning: Unable to decode time axis into full numpy.datetime64[ns] objects, continuing using cftime.datetime objects instead, reason: dates out of range. To silence this warning use a coarser resolution 'time_unit' or specify 'use_cftime=True'.\n",
      "  model_ds = xr.open_dataset(model_file_path)\n",
      "C:\\Users\\benra\\AppData\\Local\\Temp\\ipykernel_28696\\3502057095.py:78: SerializationWarning: Unable to decode time axis into full numpy.datetime64[ns] objects, continuing using cftime.datetime objects instead, reason: dates out of range. To silence this warning use a coarser resolution 'time_unit' or specify 'use_cftime=True'.\n",
      "  model_ds = xr.open_dataset(model_file_path)\n",
      "C:\\Users\\benra\\AppData\\Local\\Temp\\ipykernel_28696\\3502057095.py:78: SerializationWarning: Unable to decode time axis into full numpy.datetime64[ns] objects, continuing using cftime.datetime objects instead, reason: dates out of range. To silence this warning use a coarser resolution 'time_unit' or specify 'use_cftime=True'.\n",
      "  model_ds = xr.open_dataset(model_file_path)\n"
     ]
    },
    {
     "name": "stdout",
     "output_type": "stream",
     "text": [
      "    Warning: Model file not found for UCIJPL_ISSM2 in expa03. Skipping.\n",
      "    Warning: Model file not found for VUW_PISM in expa03. Skipping.\n"
     ]
    },
    {
     "name": "stderr",
     "output_type": "stream",
     "text": [
      "C:\\Users\\benra\\anaconda3\\Lib\\site-packages\\sklearn\\cluster\\_kmeans.py:1382: UserWarning: KMeans is known to have a memory leak on Windows with MKL, when there are less chunks than available threads. You can avoid it by setting the environment variable OMP_NUM_THREADS=1.\n",
      "  warnings.warn(\n"
     ]
    },
    {
     "name": "stdout",
     "output_type": "stream",
     "text": [
      "  Generated PCA plot for Basin NO, Experiment expa03\n",
      "  Generated ARI Heatmap for Basin NO\n",
      "\n",
      "--- Processing Basin: NE (ID: 2) ---\n",
      "  Processing Experiment: exp05\n"
     ]
    },
    {
     "name": "stderr",
     "output_type": "stream",
     "text": [
      "C:\\Users\\benra\\AppData\\Local\\Temp\\ipykernel_28696\\3502057095.py:78: SerializationWarning: Unable to decode time axis into full numpy.datetime64[ns] objects, continuing using cftime.datetime objects instead, reason: dates out of range. To silence this warning use a coarser resolution 'time_unit' or specify 'use_cftime=True'.\n",
      "  model_ds = xr.open_dataset(model_file_path)\n",
      "C:\\Users\\benra\\AppData\\Local\\Temp\\ipykernel_28696\\3502057095.py:78: SerializationWarning: Unable to decode time axis into full numpy.datetime64[ns] objects, continuing using cftime.datetime objects instead, reason: dates out of range. To silence this warning use a coarser resolution 'time_unit' or specify 'use_cftime=True'.\n",
      "  model_ds = xr.open_dataset(model_file_path)\n"
     ]
    },
    {
     "name": "stdout",
     "output_type": "stream",
     "text": [
      "    Warning: Model file not found for UAF_PISM2 in exp05. Skipping.\n"
     ]
    },
    {
     "name": "stderr",
     "output_type": "stream",
     "text": [
      "C:\\Users\\benra\\anaconda3\\Lib\\site-packages\\sklearn\\cluster\\_kmeans.py:1382: UserWarning: KMeans is known to have a memory leak on Windows with MKL, when there are less chunks than available threads. You can avoid it by setting the environment variable OMP_NUM_THREADS=1.\n",
      "  warnings.warn(\n",
      "C:\\Users\\benra\\AppData\\Local\\Temp\\ipykernel_28696\\3502057095.py:162: UserWarning: You passed a edgecolor/edgecolors ('black') for an unfilled marker ('+').  Matplotlib is ignoring the edgecolor in favor of the facecolor.  This behavior may change in the future.\n",
      "  ax_2d.scatter(\n",
      "C:\\Users\\benra\\AppData\\Local\\Temp\\ipykernel_28696\\3502057095.py:199: RuntimeWarning: invalid value encountered in sqrt\n",
      "  height = 2 * np.sqrt(eigenvalues[1] * chi2_val) # Minor axis\n"
     ]
    },
    {
     "name": "stdout",
     "output_type": "stream",
     "text": [
      "  Generated PCA plot for Basin NE, Experiment exp05\n",
      "  Processing Experiment: exp06\n"
     ]
    },
    {
     "name": "stderr",
     "output_type": "stream",
     "text": [
      "C:\\Users\\benra\\AppData\\Local\\Temp\\ipykernel_28696\\3502057095.py:78: SerializationWarning: Unable to decode time axis into full numpy.datetime64[ns] objects, continuing using cftime.datetime objects instead, reason: dates out of range. To silence this warning use a coarser resolution 'time_unit' or specify 'use_cftime=True'.\n",
      "  model_ds = xr.open_dataset(model_file_path)\n",
      "C:\\Users\\benra\\AppData\\Local\\Temp\\ipykernel_28696\\3502057095.py:78: SerializationWarning: Unable to decode time axis into full numpy.datetime64[ns] objects, continuing using cftime.datetime objects instead, reason: dates out of range. To silence this warning use a coarser resolution 'time_unit' or specify 'use_cftime=True'.\n",
      "  model_ds = xr.open_dataset(model_file_path)\n"
     ]
    },
    {
     "name": "stdout",
     "output_type": "stream",
     "text": [
      "    Warning: Model file not found for UAF_PISM2 in exp06. Skipping.\n"
     ]
    },
    {
     "name": "stderr",
     "output_type": "stream",
     "text": [
      "C:\\Users\\benra\\anaconda3\\Lib\\site-packages\\sklearn\\cluster\\_kmeans.py:1382: UserWarning: KMeans is known to have a memory leak on Windows with MKL, when there are less chunks than available threads. You can avoid it by setting the environment variable OMP_NUM_THREADS=1.\n",
      "  warnings.warn(\n",
      "C:\\Users\\benra\\AppData\\Local\\Temp\\ipykernel_28696\\3502057095.py:162: UserWarning: You passed a edgecolor/edgecolors ('black') for an unfilled marker ('+').  Matplotlib is ignoring the edgecolor in favor of the facecolor.  This behavior may change in the future.\n",
      "  ax_2d.scatter(\n"
     ]
    },
    {
     "name": "stdout",
     "output_type": "stream",
     "text": [
      "  Generated PCA plot for Basin NE, Experiment exp06\n",
      "  Processing Experiment: exp07\n"
     ]
    },
    {
     "name": "stderr",
     "output_type": "stream",
     "text": [
      "C:\\Users\\benra\\AppData\\Local\\Temp\\ipykernel_28696\\3502057095.py:78: SerializationWarning: Unable to decode time axis into full numpy.datetime64[ns] objects, continuing using cftime.datetime objects instead, reason: dates out of range. To silence this warning use a coarser resolution 'time_unit' or specify 'use_cftime=True'.\n",
      "  model_ds = xr.open_dataset(model_file_path)\n",
      "C:\\Users\\benra\\AppData\\Local\\Temp\\ipykernel_28696\\3502057095.py:78: SerializationWarning: Unable to decode time axis into full numpy.datetime64[ns] objects, continuing using cftime.datetime objects instead, reason: dates out of range. To silence this warning use a coarser resolution 'time_unit' or specify 'use_cftime=True'.\n",
      "  model_ds = xr.open_dataset(model_file_path)\n"
     ]
    },
    {
     "name": "stdout",
     "output_type": "stream",
     "text": [
      "    Warning: Model file not found for UAF_PISM2 in exp07. Skipping.\n"
     ]
    },
    {
     "name": "stderr",
     "output_type": "stream",
     "text": [
      "C:\\Users\\benra\\anaconda3\\Lib\\site-packages\\sklearn\\cluster\\_kmeans.py:1382: UserWarning: KMeans is known to have a memory leak on Windows with MKL, when there are less chunks than available threads. You can avoid it by setting the environment variable OMP_NUM_THREADS=1.\n",
      "  warnings.warn(\n",
      "C:\\Users\\benra\\AppData\\Local\\Temp\\ipykernel_28696\\3502057095.py:162: UserWarning: You passed a edgecolor/edgecolors ('black') for an unfilled marker ('+').  Matplotlib is ignoring the edgecolor in favor of the facecolor.  This behavior may change in the future.\n",
      "  ax_2d.scatter(\n"
     ]
    },
    {
     "name": "stdout",
     "output_type": "stream",
     "text": [
      "  Generated PCA plot for Basin NE, Experiment exp07\n",
      "  Processing Experiment: exp08\n"
     ]
    },
    {
     "name": "stderr",
     "output_type": "stream",
     "text": [
      "C:\\Users\\benra\\AppData\\Local\\Temp\\ipykernel_28696\\3502057095.py:78: SerializationWarning: Unable to decode time axis into full numpy.datetime64[ns] objects, continuing using cftime.datetime objects instead, reason: dates out of range. To silence this warning use a coarser resolution 'time_unit' or specify 'use_cftime=True'.\n",
      "  model_ds = xr.open_dataset(model_file_path)\n",
      "C:\\Users\\benra\\AppData\\Local\\Temp\\ipykernel_28696\\3502057095.py:78: SerializationWarning: Unable to decode time axis into full numpy.datetime64[ns] objects, continuing using cftime.datetime objects instead, reason: dates out of range. To silence this warning use a coarser resolution 'time_unit' or specify 'use_cftime=True'.\n",
      "  model_ds = xr.open_dataset(model_file_path)\n"
     ]
    },
    {
     "name": "stdout",
     "output_type": "stream",
     "text": [
      "    Warning: Model file not found for UAF_PISM2 in exp08. Skipping.\n"
     ]
    },
    {
     "name": "stderr",
     "output_type": "stream",
     "text": [
      "C:\\Users\\benra\\anaconda3\\Lib\\site-packages\\sklearn\\cluster\\_kmeans.py:1382: UserWarning: KMeans is known to have a memory leak on Windows with MKL, when there are less chunks than available threads. You can avoid it by setting the environment variable OMP_NUM_THREADS=1.\n",
      "  warnings.warn(\n",
      "C:\\Users\\benra\\AppData\\Local\\Temp\\ipykernel_28696\\3502057095.py:162: UserWarning: You passed a edgecolor/edgecolors ('black') for an unfilled marker ('+').  Matplotlib is ignoring the edgecolor in favor of the facecolor.  This behavior may change in the future.\n",
      "  ax_2d.scatter(\n",
      "C:\\Users\\benra\\AppData\\Local\\Temp\\ipykernel_28696\\3502057095.py:199: RuntimeWarning: invalid value encountered in sqrt\n",
      "  height = 2 * np.sqrt(eigenvalues[1] * chi2_val) # Minor axis\n"
     ]
    },
    {
     "name": "stdout",
     "output_type": "stream",
     "text": [
      "  Generated PCA plot for Basin NE, Experiment exp08\n",
      "  Processing Experiment: exp09\n"
     ]
    },
    {
     "name": "stderr",
     "output_type": "stream",
     "text": [
      "C:\\Users\\benra\\AppData\\Local\\Temp\\ipykernel_28696\\3502057095.py:78: SerializationWarning: Unable to decode time axis into full numpy.datetime64[ns] objects, continuing using cftime.datetime objects instead, reason: dates out of range. To silence this warning use a coarser resolution 'time_unit' or specify 'use_cftime=True'.\n",
      "  model_ds = xr.open_dataset(model_file_path)\n",
      "C:\\Users\\benra\\AppData\\Local\\Temp\\ipykernel_28696\\3502057095.py:78: SerializationWarning: Unable to decode time axis into full numpy.datetime64[ns] objects, continuing using cftime.datetime objects instead, reason: dates out of range. To silence this warning use a coarser resolution 'time_unit' or specify 'use_cftime=True'.\n",
      "  model_ds = xr.open_dataset(model_file_path)\n"
     ]
    },
    {
     "name": "stdout",
     "output_type": "stream",
     "text": [
      "    Warning: Model file not found for UAF_PISM2 in exp09. Skipping.\n",
      "    Warning: Model file not found for UCIJPL_ISSM2 in exp09. Skipping.\n",
      "    Warning: Model file not found for VUW_PISM in exp09. Skipping.\n"
     ]
    },
    {
     "name": "stderr",
     "output_type": "stream",
     "text": [
      "C:\\Users\\benra\\anaconda3\\Lib\\site-packages\\sklearn\\cluster\\_kmeans.py:1382: UserWarning: KMeans is known to have a memory leak on Windows with MKL, when there are less chunks than available threads. You can avoid it by setting the environment variable OMP_NUM_THREADS=1.\n",
      "  warnings.warn(\n"
     ]
    },
    {
     "name": "stdout",
     "output_type": "stream",
     "text": [
      "  Generated PCA plot for Basin NE, Experiment exp09\n",
      "  Processing Experiment: exp10\n"
     ]
    },
    {
     "name": "stderr",
     "output_type": "stream",
     "text": [
      "C:\\Users\\benra\\AppData\\Local\\Temp\\ipykernel_28696\\3502057095.py:78: SerializationWarning: Unable to decode time axis into full numpy.datetime64[ns] objects, continuing using cftime.datetime objects instead, reason: dates out of range. To silence this warning use a coarser resolution 'time_unit' or specify 'use_cftime=True'.\n",
      "  model_ds = xr.open_dataset(model_file_path)\n",
      "C:\\Users\\benra\\AppData\\Local\\Temp\\ipykernel_28696\\3502057095.py:78: SerializationWarning: Unable to decode time axis into full numpy.datetime64[ns] objects, continuing using cftime.datetime objects instead, reason: dates out of range. To silence this warning use a coarser resolution 'time_unit' or specify 'use_cftime=True'.\n",
      "  model_ds = xr.open_dataset(model_file_path)\n"
     ]
    },
    {
     "name": "stdout",
     "output_type": "stream",
     "text": [
      "    Warning: Model file not found for UAF_PISM2 in exp10. Skipping.\n",
      "    Warning: Model file not found for UCIJPL_ISSM2 in exp10. Skipping.\n",
      "    Warning: Model file not found for VUW_PISM in exp10. Skipping.\n"
     ]
    },
    {
     "name": "stderr",
     "output_type": "stream",
     "text": [
      "C:\\Users\\benra\\anaconda3\\Lib\\site-packages\\sklearn\\cluster\\_kmeans.py:1382: UserWarning: KMeans is known to have a memory leak on Windows with MKL, when there are less chunks than available threads. You can avoid it by setting the environment variable OMP_NUM_THREADS=1.\n",
      "  warnings.warn(\n"
     ]
    },
    {
     "name": "stdout",
     "output_type": "stream",
     "text": [
      "  Generated PCA plot for Basin NE, Experiment exp10\n",
      "  Processing Experiment: expa01\n",
      "    Warning: Model file not found for IMAU_IMAUICE1 in expa01. Skipping.\n",
      "    Warning: Model file not found for JPL_ISSMPALEO in expa01. Skipping.\n",
      "    Warning: Model file not found for MUN_GSM1 in expa01. Skipping.\n",
      "    Warning: Model file not found for MUN_GSM2 in expa01. Skipping.\n"
     ]
    },
    {
     "name": "stderr",
     "output_type": "stream",
     "text": [
      "C:\\Users\\benra\\AppData\\Local\\Temp\\ipykernel_28696\\3502057095.py:78: SerializationWarning: Unable to decode time axis into full numpy.datetime64[ns] objects, continuing using cftime.datetime objects instead, reason: dates out of range. To silence this warning use a coarser resolution 'time_unit' or specify 'use_cftime=True'.\n",
      "  model_ds = xr.open_dataset(model_file_path)\n",
      "C:\\Users\\benra\\AppData\\Local\\Temp\\ipykernel_28696\\3502057095.py:78: SerializationWarning: Unable to decode time axis into full numpy.datetime64[ns] objects, continuing using cftime.datetime objects instead, reason: dates out of range. To silence this warning use a coarser resolution 'time_unit' or specify 'use_cftime=True'.\n",
      "  model_ds = xr.open_dataset(model_file_path)\n",
      "C:\\Users\\benra\\AppData\\Local\\Temp\\ipykernel_28696\\3502057095.py:78: SerializationWarning: Unable to decode time axis into full numpy.datetime64[ns] objects, continuing using cftime.datetime objects instead, reason: dates out of range. To silence this warning use a coarser resolution 'time_unit' or specify 'use_cftime=True'.\n",
      "  model_ds = xr.open_dataset(model_file_path)\n",
      "C:\\Users\\benra\\AppData\\Local\\Temp\\ipykernel_28696\\3502057095.py:78: SerializationWarning: Unable to decode time axis into full numpy.datetime64[ns] objects, continuing using cftime.datetime objects instead, reason: dates out of range. To silence this warning use a coarser resolution 'time_unit' or specify 'use_cftime=True'.\n",
      "  model_ds = xr.open_dataset(model_file_path)\n"
     ]
    },
    {
     "name": "stdout",
     "output_type": "stream",
     "text": [
      "    Warning: Model file not found for UCIJPL_ISSM2 in expa01. Skipping.\n",
      "    Warning: Model file not found for VUW_PISM in expa01. Skipping.\n"
     ]
    },
    {
     "name": "stderr",
     "output_type": "stream",
     "text": [
      "C:\\Users\\benra\\anaconda3\\Lib\\site-packages\\sklearn\\cluster\\_kmeans.py:1382: UserWarning: KMeans is known to have a memory leak on Windows with MKL, when there are less chunks than available threads. You can avoid it by setting the environment variable OMP_NUM_THREADS=1.\n",
      "  warnings.warn(\n",
      "C:\\Users\\benra\\AppData\\Local\\Temp\\ipykernel_28696\\3502057095.py:199: RuntimeWarning: invalid value encountered in sqrt\n",
      "  height = 2 * np.sqrt(eigenvalues[1] * chi2_val) # Minor axis\n"
     ]
    },
    {
     "name": "stdout",
     "output_type": "stream",
     "text": [
      "  Generated PCA plot for Basin NE, Experiment expa01\n",
      "  Processing Experiment: expa02\n",
      "    Warning: Model file not found for IMAU_IMAUICE1 in expa02. Skipping.\n",
      "    Warning: Model file not found for JPL_ISSMPALEO in expa02. Skipping.\n",
      "    Warning: Model file not found for MUN_GSM1 in expa02. Skipping.\n",
      "    Warning: Model file not found for MUN_GSM2 in expa02. Skipping.\n"
     ]
    },
    {
     "name": "stderr",
     "output_type": "stream",
     "text": [
      "C:\\Users\\benra\\AppData\\Local\\Temp\\ipykernel_28696\\3502057095.py:78: SerializationWarning: Unable to decode time axis into full numpy.datetime64[ns] objects, continuing using cftime.datetime objects instead, reason: dates out of range. To silence this warning use a coarser resolution 'time_unit' or specify 'use_cftime=True'.\n",
      "  model_ds = xr.open_dataset(model_file_path)\n",
      "C:\\Users\\benra\\AppData\\Local\\Temp\\ipykernel_28696\\3502057095.py:78: SerializationWarning: Unable to decode time axis into full numpy.datetime64[ns] objects, continuing using cftime.datetime objects instead, reason: dates out of range. To silence this warning use a coarser resolution 'time_unit' or specify 'use_cftime=True'.\n",
      "  model_ds = xr.open_dataset(model_file_path)\n",
      "C:\\Users\\benra\\AppData\\Local\\Temp\\ipykernel_28696\\3502057095.py:78: SerializationWarning: Unable to decode time axis into full numpy.datetime64[ns] objects, continuing using cftime.datetime objects instead, reason: dates out of range. To silence this warning use a coarser resolution 'time_unit' or specify 'use_cftime=True'.\n",
      "  model_ds = xr.open_dataset(model_file_path)\n",
      "C:\\Users\\benra\\AppData\\Local\\Temp\\ipykernel_28696\\3502057095.py:78: SerializationWarning: Unable to decode time axis into full numpy.datetime64[ns] objects, continuing using cftime.datetime objects instead, reason: dates out of range. To silence this warning use a coarser resolution 'time_unit' or specify 'use_cftime=True'.\n",
      "  model_ds = xr.open_dataset(model_file_path)\n"
     ]
    },
    {
     "name": "stdout",
     "output_type": "stream",
     "text": [
      "    Warning: Model file not found for UCIJPL_ISSM2 in expa02. Skipping.\n",
      "    Warning: Model file not found for VUW_PISM in expa02. Skipping.\n"
     ]
    },
    {
     "name": "stderr",
     "output_type": "stream",
     "text": [
      "C:\\Users\\benra\\anaconda3\\Lib\\site-packages\\sklearn\\cluster\\_kmeans.py:1382: UserWarning: KMeans is known to have a memory leak on Windows with MKL, when there are less chunks than available threads. You can avoid it by setting the environment variable OMP_NUM_THREADS=1.\n",
      "  warnings.warn(\n",
      "C:\\Users\\benra\\AppData\\Local\\Temp\\ipykernel_28696\\3502057095.py:199: RuntimeWarning: invalid value encountered in sqrt\n",
      "  height = 2 * np.sqrt(eigenvalues[1] * chi2_val) # Minor axis\n"
     ]
    },
    {
     "name": "stdout",
     "output_type": "stream",
     "text": [
      "  Generated PCA plot for Basin NE, Experiment expa02\n",
      "  Processing Experiment: expa03\n",
      "    Warning: Model file not found for IMAU_IMAUICE1 in expa03. Skipping.\n",
      "    Warning: Model file not found for JPL_ISSMPALEO in expa03. Skipping.\n",
      "    Warning: Model file not found for MUN_GSM1 in expa03. Skipping.\n",
      "    Warning: Model file not found for MUN_GSM2 in expa03. Skipping.\n"
     ]
    },
    {
     "name": "stderr",
     "output_type": "stream",
     "text": [
      "C:\\Users\\benra\\AppData\\Local\\Temp\\ipykernel_28696\\3502057095.py:78: SerializationWarning: Unable to decode time axis into full numpy.datetime64[ns] objects, continuing using cftime.datetime objects instead, reason: dates out of range. To silence this warning use a coarser resolution 'time_unit' or specify 'use_cftime=True'.\n",
      "  model_ds = xr.open_dataset(model_file_path)\n",
      "C:\\Users\\benra\\AppData\\Local\\Temp\\ipykernel_28696\\3502057095.py:78: SerializationWarning: Unable to decode time axis into full numpy.datetime64[ns] objects, continuing using cftime.datetime objects instead, reason: dates out of range. To silence this warning use a coarser resolution 'time_unit' or specify 'use_cftime=True'.\n",
      "  model_ds = xr.open_dataset(model_file_path)\n",
      "C:\\Users\\benra\\AppData\\Local\\Temp\\ipykernel_28696\\3502057095.py:78: SerializationWarning: Unable to decode time axis into full numpy.datetime64[ns] objects, continuing using cftime.datetime objects instead, reason: dates out of range. To silence this warning use a coarser resolution 'time_unit' or specify 'use_cftime=True'.\n",
      "  model_ds = xr.open_dataset(model_file_path)\n",
      "C:\\Users\\benra\\AppData\\Local\\Temp\\ipykernel_28696\\3502057095.py:78: SerializationWarning: Unable to decode time axis into full numpy.datetime64[ns] objects, continuing using cftime.datetime objects instead, reason: dates out of range. To silence this warning use a coarser resolution 'time_unit' or specify 'use_cftime=True'.\n",
      "  model_ds = xr.open_dataset(model_file_path)\n"
     ]
    },
    {
     "name": "stdout",
     "output_type": "stream",
     "text": [
      "    Warning: Model file not found for UCIJPL_ISSM2 in expa03. Skipping.\n",
      "    Warning: Model file not found for VUW_PISM in expa03. Skipping.\n"
     ]
    },
    {
     "name": "stderr",
     "output_type": "stream",
     "text": [
      "C:\\Users\\benra\\anaconda3\\Lib\\site-packages\\sklearn\\cluster\\_kmeans.py:1382: UserWarning: KMeans is known to have a memory leak on Windows with MKL, when there are less chunks than available threads. You can avoid it by setting the environment variable OMP_NUM_THREADS=1.\n",
      "  warnings.warn(\n",
      "C:\\Users\\benra\\AppData\\Local\\Temp\\ipykernel_28696\\3502057095.py:199: RuntimeWarning: invalid value encountered in sqrt\n",
      "  height = 2 * np.sqrt(eigenvalues[1] * chi2_val) # Minor axis\n"
     ]
    },
    {
     "name": "stdout",
     "output_type": "stream",
     "text": [
      "  Generated PCA plot for Basin NE, Experiment expa03\n",
      "  Generated ARI Heatmap for Basin NE\n",
      "\n",
      "--- Processing Basin: CE (ID: 3) ---\n",
      "  Processing Experiment: exp05\n"
     ]
    },
    {
     "name": "stderr",
     "output_type": "stream",
     "text": [
      "C:\\Users\\benra\\AppData\\Local\\Temp\\ipykernel_28696\\3502057095.py:78: SerializationWarning: Unable to decode time axis into full numpy.datetime64[ns] objects, continuing using cftime.datetime objects instead, reason: dates out of range. To silence this warning use a coarser resolution 'time_unit' or specify 'use_cftime=True'.\n",
      "  model_ds = xr.open_dataset(model_file_path)\n",
      "C:\\Users\\benra\\AppData\\Local\\Temp\\ipykernel_28696\\3502057095.py:78: SerializationWarning: Unable to decode time axis into full numpy.datetime64[ns] objects, continuing using cftime.datetime objects instead, reason: dates out of range. To silence this warning use a coarser resolution 'time_unit' or specify 'use_cftime=True'.\n",
      "  model_ds = xr.open_dataset(model_file_path)\n"
     ]
    },
    {
     "name": "stdout",
     "output_type": "stream",
     "text": [
      "    Warning: Model file not found for UAF_PISM2 in exp05. Skipping.\n"
     ]
    },
    {
     "name": "stderr",
     "output_type": "stream",
     "text": [
      "C:\\Users\\benra\\anaconda3\\Lib\\site-packages\\sklearn\\cluster\\_kmeans.py:1382: UserWarning: KMeans is known to have a memory leak on Windows with MKL, when there are less chunks than available threads. You can avoid it by setting the environment variable OMP_NUM_THREADS=1.\n",
      "  warnings.warn(\n",
      "C:\\Users\\benra\\AppData\\Local\\Temp\\ipykernel_28696\\3502057095.py:162: UserWarning: You passed a edgecolor/edgecolors ('black') for an unfilled marker ('+').  Matplotlib is ignoring the edgecolor in favor of the facecolor.  This behavior may change in the future.\n",
      "  ax_2d.scatter(\n"
     ]
    },
    {
     "name": "stdout",
     "output_type": "stream",
     "text": [
      "  Generated PCA plot for Basin CE, Experiment exp05\n",
      "  Processing Experiment: exp06\n"
     ]
    },
    {
     "name": "stderr",
     "output_type": "stream",
     "text": [
      "C:\\Users\\benra\\AppData\\Local\\Temp\\ipykernel_28696\\3502057095.py:78: SerializationWarning: Unable to decode time axis into full numpy.datetime64[ns] objects, continuing using cftime.datetime objects instead, reason: dates out of range. To silence this warning use a coarser resolution 'time_unit' or specify 'use_cftime=True'.\n",
      "  model_ds = xr.open_dataset(model_file_path)\n",
      "C:\\Users\\benra\\AppData\\Local\\Temp\\ipykernel_28696\\3502057095.py:78: SerializationWarning: Unable to decode time axis into full numpy.datetime64[ns] objects, continuing using cftime.datetime objects instead, reason: dates out of range. To silence this warning use a coarser resolution 'time_unit' or specify 'use_cftime=True'.\n",
      "  model_ds = xr.open_dataset(model_file_path)\n"
     ]
    },
    {
     "name": "stdout",
     "output_type": "stream",
     "text": [
      "    Warning: Model file not found for UAF_PISM2 in exp06. Skipping.\n"
     ]
    },
    {
     "name": "stderr",
     "output_type": "stream",
     "text": [
      "C:\\Users\\benra\\anaconda3\\Lib\\site-packages\\sklearn\\cluster\\_kmeans.py:1382: UserWarning: KMeans is known to have a memory leak on Windows with MKL, when there are less chunks than available threads. You can avoid it by setting the environment variable OMP_NUM_THREADS=1.\n",
      "  warnings.warn(\n",
      "C:\\Users\\benra\\AppData\\Local\\Temp\\ipykernel_28696\\3502057095.py:162: UserWarning: You passed a edgecolor/edgecolors ('black') for an unfilled marker ('+').  Matplotlib is ignoring the edgecolor in favor of the facecolor.  This behavior may change in the future.\n",
      "  ax_2d.scatter(\n"
     ]
    },
    {
     "name": "stdout",
     "output_type": "stream",
     "text": [
      "  Generated PCA plot for Basin CE, Experiment exp06\n",
      "  Processing Experiment: exp07\n"
     ]
    },
    {
     "name": "stderr",
     "output_type": "stream",
     "text": [
      "C:\\Users\\benra\\AppData\\Local\\Temp\\ipykernel_28696\\3502057095.py:78: SerializationWarning: Unable to decode time axis into full numpy.datetime64[ns] objects, continuing using cftime.datetime objects instead, reason: dates out of range. To silence this warning use a coarser resolution 'time_unit' or specify 'use_cftime=True'.\n",
      "  model_ds = xr.open_dataset(model_file_path)\n",
      "C:\\Users\\benra\\AppData\\Local\\Temp\\ipykernel_28696\\3502057095.py:78: SerializationWarning: Unable to decode time axis into full numpy.datetime64[ns] objects, continuing using cftime.datetime objects instead, reason: dates out of range. To silence this warning use a coarser resolution 'time_unit' or specify 'use_cftime=True'.\n",
      "  model_ds = xr.open_dataset(model_file_path)\n"
     ]
    },
    {
     "name": "stdout",
     "output_type": "stream",
     "text": [
      "    Warning: Model file not found for UAF_PISM2 in exp07. Skipping.\n"
     ]
    },
    {
     "name": "stderr",
     "output_type": "stream",
     "text": [
      "C:\\Users\\benra\\anaconda3\\Lib\\site-packages\\sklearn\\cluster\\_kmeans.py:1382: UserWarning: KMeans is known to have a memory leak on Windows with MKL, when there are less chunks than available threads. You can avoid it by setting the environment variable OMP_NUM_THREADS=1.\n",
      "  warnings.warn(\n",
      "C:\\Users\\benra\\AppData\\Local\\Temp\\ipykernel_28696\\3502057095.py:162: UserWarning: You passed a edgecolor/edgecolors ('black') for an unfilled marker ('+').  Matplotlib is ignoring the edgecolor in favor of the facecolor.  This behavior may change in the future.\n",
      "  ax_2d.scatter(\n"
     ]
    },
    {
     "name": "stdout",
     "output_type": "stream",
     "text": [
      "  Generated PCA plot for Basin CE, Experiment exp07\n",
      "  Processing Experiment: exp08\n"
     ]
    },
    {
     "name": "stderr",
     "output_type": "stream",
     "text": [
      "C:\\Users\\benra\\AppData\\Local\\Temp\\ipykernel_28696\\3502057095.py:78: SerializationWarning: Unable to decode time axis into full numpy.datetime64[ns] objects, continuing using cftime.datetime objects instead, reason: dates out of range. To silence this warning use a coarser resolution 'time_unit' or specify 'use_cftime=True'.\n",
      "  model_ds = xr.open_dataset(model_file_path)\n",
      "C:\\Users\\benra\\AppData\\Local\\Temp\\ipykernel_28696\\3502057095.py:78: SerializationWarning: Unable to decode time axis into full numpy.datetime64[ns] objects, continuing using cftime.datetime objects instead, reason: dates out of range. To silence this warning use a coarser resolution 'time_unit' or specify 'use_cftime=True'.\n",
      "  model_ds = xr.open_dataset(model_file_path)\n"
     ]
    },
    {
     "name": "stdout",
     "output_type": "stream",
     "text": [
      "    Warning: Model file not found for UAF_PISM2 in exp08. Skipping.\n"
     ]
    },
    {
     "name": "stderr",
     "output_type": "stream",
     "text": [
      "C:\\Users\\benra\\anaconda3\\Lib\\site-packages\\sklearn\\cluster\\_kmeans.py:1382: UserWarning: KMeans is known to have a memory leak on Windows with MKL, when there are less chunks than available threads. You can avoid it by setting the environment variable OMP_NUM_THREADS=1.\n",
      "  warnings.warn(\n",
      "C:\\Users\\benra\\AppData\\Local\\Temp\\ipykernel_28696\\3502057095.py:162: UserWarning: You passed a edgecolor/edgecolors ('black') for an unfilled marker ('+').  Matplotlib is ignoring the edgecolor in favor of the facecolor.  This behavior may change in the future.\n",
      "  ax_2d.scatter(\n"
     ]
    },
    {
     "name": "stdout",
     "output_type": "stream",
     "text": [
      "  Generated PCA plot for Basin CE, Experiment exp08\n",
      "  Processing Experiment: exp09\n"
     ]
    },
    {
     "name": "stderr",
     "output_type": "stream",
     "text": [
      "C:\\Users\\benra\\AppData\\Local\\Temp\\ipykernel_28696\\3502057095.py:78: SerializationWarning: Unable to decode time axis into full numpy.datetime64[ns] objects, continuing using cftime.datetime objects instead, reason: dates out of range. To silence this warning use a coarser resolution 'time_unit' or specify 'use_cftime=True'.\n",
      "  model_ds = xr.open_dataset(model_file_path)\n",
      "C:\\Users\\benra\\AppData\\Local\\Temp\\ipykernel_28696\\3502057095.py:78: SerializationWarning: Unable to decode time axis into full numpy.datetime64[ns] objects, continuing using cftime.datetime objects instead, reason: dates out of range. To silence this warning use a coarser resolution 'time_unit' or specify 'use_cftime=True'.\n",
      "  model_ds = xr.open_dataset(model_file_path)\n"
     ]
    },
    {
     "name": "stdout",
     "output_type": "stream",
     "text": [
      "    Warning: Model file not found for UAF_PISM2 in exp09. Skipping.\n",
      "    Warning: Model file not found for UCIJPL_ISSM2 in exp09. Skipping.\n",
      "    Warning: Model file not found for VUW_PISM in exp09. Skipping.\n"
     ]
    },
    {
     "name": "stderr",
     "output_type": "stream",
     "text": [
      "C:\\Users\\benra\\anaconda3\\Lib\\site-packages\\sklearn\\cluster\\_kmeans.py:1382: UserWarning: KMeans is known to have a memory leak on Windows with MKL, when there are less chunks than available threads. You can avoid it by setting the environment variable OMP_NUM_THREADS=1.\n",
      "  warnings.warn(\n"
     ]
    },
    {
     "name": "stdout",
     "output_type": "stream",
     "text": [
      "  Generated PCA plot for Basin CE, Experiment exp09\n",
      "  Processing Experiment: exp10\n"
     ]
    },
    {
     "name": "stderr",
     "output_type": "stream",
     "text": [
      "C:\\Users\\benra\\AppData\\Local\\Temp\\ipykernel_28696\\3502057095.py:78: SerializationWarning: Unable to decode time axis into full numpy.datetime64[ns] objects, continuing using cftime.datetime objects instead, reason: dates out of range. To silence this warning use a coarser resolution 'time_unit' or specify 'use_cftime=True'.\n",
      "  model_ds = xr.open_dataset(model_file_path)\n",
      "C:\\Users\\benra\\AppData\\Local\\Temp\\ipykernel_28696\\3502057095.py:78: SerializationWarning: Unable to decode time axis into full numpy.datetime64[ns] objects, continuing using cftime.datetime objects instead, reason: dates out of range. To silence this warning use a coarser resolution 'time_unit' or specify 'use_cftime=True'.\n",
      "  model_ds = xr.open_dataset(model_file_path)\n"
     ]
    },
    {
     "name": "stdout",
     "output_type": "stream",
     "text": [
      "    Warning: Model file not found for UAF_PISM2 in exp10. Skipping.\n",
      "    Warning: Model file not found for UCIJPL_ISSM2 in exp10. Skipping.\n",
      "    Warning: Model file not found for VUW_PISM in exp10. Skipping.\n"
     ]
    },
    {
     "name": "stderr",
     "output_type": "stream",
     "text": [
      "C:\\Users\\benra\\anaconda3\\Lib\\site-packages\\sklearn\\cluster\\_kmeans.py:1382: UserWarning: KMeans is known to have a memory leak on Windows with MKL, when there are less chunks than available threads. You can avoid it by setting the environment variable OMP_NUM_THREADS=1.\n",
      "  warnings.warn(\n",
      "C:\\Users\\benra\\AppData\\Local\\Temp\\ipykernel_28696\\3502057095.py:199: RuntimeWarning: invalid value encountered in sqrt\n",
      "  height = 2 * np.sqrt(eigenvalues[1] * chi2_val) # Minor axis\n"
     ]
    },
    {
     "name": "stdout",
     "output_type": "stream",
     "text": [
      "  Generated PCA plot for Basin CE, Experiment exp10\n",
      "  Processing Experiment: expa01\n",
      "    Warning: Model file not found for IMAU_IMAUICE1 in expa01. Skipping.\n",
      "    Warning: Model file not found for JPL_ISSMPALEO in expa01. Skipping.\n",
      "    Warning: Model file not found for MUN_GSM1 in expa01. Skipping.\n",
      "    Warning: Model file not found for MUN_GSM2 in expa01. Skipping.\n"
     ]
    },
    {
     "name": "stderr",
     "output_type": "stream",
     "text": [
      "C:\\Users\\benra\\AppData\\Local\\Temp\\ipykernel_28696\\3502057095.py:78: SerializationWarning: Unable to decode time axis into full numpy.datetime64[ns] objects, continuing using cftime.datetime objects instead, reason: dates out of range. To silence this warning use a coarser resolution 'time_unit' or specify 'use_cftime=True'.\n",
      "  model_ds = xr.open_dataset(model_file_path)\n",
      "C:\\Users\\benra\\AppData\\Local\\Temp\\ipykernel_28696\\3502057095.py:78: SerializationWarning: Unable to decode time axis into full numpy.datetime64[ns] objects, continuing using cftime.datetime objects instead, reason: dates out of range. To silence this warning use a coarser resolution 'time_unit' or specify 'use_cftime=True'.\n",
      "  model_ds = xr.open_dataset(model_file_path)\n",
      "C:\\Users\\benra\\AppData\\Local\\Temp\\ipykernel_28696\\3502057095.py:78: SerializationWarning: Unable to decode time axis into full numpy.datetime64[ns] objects, continuing using cftime.datetime objects instead, reason: dates out of range. To silence this warning use a coarser resolution 'time_unit' or specify 'use_cftime=True'.\n",
      "  model_ds = xr.open_dataset(model_file_path)\n",
      "C:\\Users\\benra\\AppData\\Local\\Temp\\ipykernel_28696\\3502057095.py:78: SerializationWarning: Unable to decode time axis into full numpy.datetime64[ns] objects, continuing using cftime.datetime objects instead, reason: dates out of range. To silence this warning use a coarser resolution 'time_unit' or specify 'use_cftime=True'.\n",
      "  model_ds = xr.open_dataset(model_file_path)\n"
     ]
    },
    {
     "name": "stdout",
     "output_type": "stream",
     "text": [
      "    Warning: Model file not found for UCIJPL_ISSM2 in expa01. Skipping.\n",
      "    Warning: Model file not found for VUW_PISM in expa01. Skipping.\n"
     ]
    },
    {
     "name": "stderr",
     "output_type": "stream",
     "text": [
      "C:\\Users\\benra\\anaconda3\\Lib\\site-packages\\sklearn\\cluster\\_kmeans.py:1382: UserWarning: KMeans is known to have a memory leak on Windows with MKL, when there are less chunks than available threads. You can avoid it by setting the environment variable OMP_NUM_THREADS=1.\n",
      "  warnings.warn(\n"
     ]
    },
    {
     "name": "stdout",
     "output_type": "stream",
     "text": [
      "  Generated PCA plot for Basin CE, Experiment expa01\n",
      "  Processing Experiment: expa02\n",
      "    Warning: Model file not found for IMAU_IMAUICE1 in expa02. Skipping.\n",
      "    Warning: Model file not found for JPL_ISSMPALEO in expa02. Skipping.\n",
      "    Warning: Model file not found for MUN_GSM1 in expa02. Skipping.\n",
      "    Warning: Model file not found for MUN_GSM2 in expa02. Skipping.\n"
     ]
    },
    {
     "name": "stderr",
     "output_type": "stream",
     "text": [
      "C:\\Users\\benra\\AppData\\Local\\Temp\\ipykernel_28696\\3502057095.py:78: SerializationWarning: Unable to decode time axis into full numpy.datetime64[ns] objects, continuing using cftime.datetime objects instead, reason: dates out of range. To silence this warning use a coarser resolution 'time_unit' or specify 'use_cftime=True'.\n",
      "  model_ds = xr.open_dataset(model_file_path)\n",
      "C:\\Users\\benra\\AppData\\Local\\Temp\\ipykernel_28696\\3502057095.py:78: SerializationWarning: Unable to decode time axis into full numpy.datetime64[ns] objects, continuing using cftime.datetime objects instead, reason: dates out of range. To silence this warning use a coarser resolution 'time_unit' or specify 'use_cftime=True'.\n",
      "  model_ds = xr.open_dataset(model_file_path)\n",
      "C:\\Users\\benra\\AppData\\Local\\Temp\\ipykernel_28696\\3502057095.py:78: SerializationWarning: Unable to decode time axis into full numpy.datetime64[ns] objects, continuing using cftime.datetime objects instead, reason: dates out of range. To silence this warning use a coarser resolution 'time_unit' or specify 'use_cftime=True'.\n",
      "  model_ds = xr.open_dataset(model_file_path)\n",
      "C:\\Users\\benra\\AppData\\Local\\Temp\\ipykernel_28696\\3502057095.py:78: SerializationWarning: Unable to decode time axis into full numpy.datetime64[ns] objects, continuing using cftime.datetime objects instead, reason: dates out of range. To silence this warning use a coarser resolution 'time_unit' or specify 'use_cftime=True'.\n",
      "  model_ds = xr.open_dataset(model_file_path)\n"
     ]
    },
    {
     "name": "stdout",
     "output_type": "stream",
     "text": [
      "    Warning: Model file not found for UCIJPL_ISSM2 in expa02. Skipping.\n",
      "    Warning: Model file not found for VUW_PISM in expa02. Skipping.\n"
     ]
    },
    {
     "name": "stderr",
     "output_type": "stream",
     "text": [
      "C:\\Users\\benra\\anaconda3\\Lib\\site-packages\\sklearn\\cluster\\_kmeans.py:1382: UserWarning: KMeans is known to have a memory leak on Windows with MKL, when there are less chunks than available threads. You can avoid it by setting the environment variable OMP_NUM_THREADS=1.\n",
      "  warnings.warn(\n",
      "C:\\Users\\benra\\AppData\\Local\\Temp\\ipykernel_28696\\3502057095.py:199: RuntimeWarning: invalid value encountered in sqrt\n",
      "  height = 2 * np.sqrt(eigenvalues[1] * chi2_val) # Minor axis\n"
     ]
    },
    {
     "name": "stdout",
     "output_type": "stream",
     "text": [
      "  Generated PCA plot for Basin CE, Experiment expa02\n",
      "  Processing Experiment: expa03\n",
      "    Warning: Model file not found for IMAU_IMAUICE1 in expa03. Skipping.\n",
      "    Warning: Model file not found for JPL_ISSMPALEO in expa03. Skipping.\n",
      "    Warning: Model file not found for MUN_GSM1 in expa03. Skipping.\n",
      "    Warning: Model file not found for MUN_GSM2 in expa03. Skipping.\n"
     ]
    },
    {
     "name": "stderr",
     "output_type": "stream",
     "text": [
      "C:\\Users\\benra\\AppData\\Local\\Temp\\ipykernel_28696\\3502057095.py:78: SerializationWarning: Unable to decode time axis into full numpy.datetime64[ns] objects, continuing using cftime.datetime objects instead, reason: dates out of range. To silence this warning use a coarser resolution 'time_unit' or specify 'use_cftime=True'.\n",
      "  model_ds = xr.open_dataset(model_file_path)\n",
      "C:\\Users\\benra\\AppData\\Local\\Temp\\ipykernel_28696\\3502057095.py:78: SerializationWarning: Unable to decode time axis into full numpy.datetime64[ns] objects, continuing using cftime.datetime objects instead, reason: dates out of range. To silence this warning use a coarser resolution 'time_unit' or specify 'use_cftime=True'.\n",
      "  model_ds = xr.open_dataset(model_file_path)\n",
      "C:\\Users\\benra\\AppData\\Local\\Temp\\ipykernel_28696\\3502057095.py:78: SerializationWarning: Unable to decode time axis into full numpy.datetime64[ns] objects, continuing using cftime.datetime objects instead, reason: dates out of range. To silence this warning use a coarser resolution 'time_unit' or specify 'use_cftime=True'.\n",
      "  model_ds = xr.open_dataset(model_file_path)\n",
      "C:\\Users\\benra\\AppData\\Local\\Temp\\ipykernel_28696\\3502057095.py:78: SerializationWarning: Unable to decode time axis into full numpy.datetime64[ns] objects, continuing using cftime.datetime objects instead, reason: dates out of range. To silence this warning use a coarser resolution 'time_unit' or specify 'use_cftime=True'.\n",
      "  model_ds = xr.open_dataset(model_file_path)\n"
     ]
    },
    {
     "name": "stdout",
     "output_type": "stream",
     "text": [
      "    Warning: Model file not found for UCIJPL_ISSM2 in expa03. Skipping.\n",
      "    Warning: Model file not found for VUW_PISM in expa03. Skipping.\n"
     ]
    },
    {
     "name": "stderr",
     "output_type": "stream",
     "text": [
      "C:\\Users\\benra\\anaconda3\\Lib\\site-packages\\sklearn\\cluster\\_kmeans.py:1382: UserWarning: KMeans is known to have a memory leak on Windows with MKL, when there are less chunks than available threads. You can avoid it by setting the environment variable OMP_NUM_THREADS=1.\n",
      "  warnings.warn(\n"
     ]
    },
    {
     "name": "stdout",
     "output_type": "stream",
     "text": [
      "  Generated PCA plot for Basin CE, Experiment expa03\n",
      "  Generated ARI Heatmap for Basin CE\n",
      "\n",
      "--- Processing Basin: SE (ID: 4) ---\n",
      "  Processing Experiment: exp05\n"
     ]
    },
    {
     "name": "stderr",
     "output_type": "stream",
     "text": [
      "C:\\Users\\benra\\AppData\\Local\\Temp\\ipykernel_28696\\3502057095.py:78: SerializationWarning: Unable to decode time axis into full numpy.datetime64[ns] objects, continuing using cftime.datetime objects instead, reason: dates out of range. To silence this warning use a coarser resolution 'time_unit' or specify 'use_cftime=True'.\n",
      "  model_ds = xr.open_dataset(model_file_path)\n",
      "C:\\Users\\benra\\AppData\\Local\\Temp\\ipykernel_28696\\3502057095.py:78: SerializationWarning: Unable to decode time axis into full numpy.datetime64[ns] objects, continuing using cftime.datetime objects instead, reason: dates out of range. To silence this warning use a coarser resolution 'time_unit' or specify 'use_cftime=True'.\n",
      "  model_ds = xr.open_dataset(model_file_path)\n"
     ]
    },
    {
     "name": "stdout",
     "output_type": "stream",
     "text": [
      "    Warning: Model file not found for UAF_PISM2 in exp05. Skipping.\n"
     ]
    },
    {
     "name": "stderr",
     "output_type": "stream",
     "text": [
      "C:\\Users\\benra\\anaconda3\\Lib\\site-packages\\sklearn\\cluster\\_kmeans.py:1382: UserWarning: KMeans is known to have a memory leak on Windows with MKL, when there are less chunks than available threads. You can avoid it by setting the environment variable OMP_NUM_THREADS=1.\n",
      "  warnings.warn(\n",
      "C:\\Users\\benra\\AppData\\Local\\Temp\\ipykernel_28696\\3502057095.py:162: UserWarning: You passed a edgecolor/edgecolors ('black') for an unfilled marker ('+').  Matplotlib is ignoring the edgecolor in favor of the facecolor.  This behavior may change in the future.\n",
      "  ax_2d.scatter(\n"
     ]
    },
    {
     "name": "stdout",
     "output_type": "stream",
     "text": [
      "  Generated PCA plot for Basin SE, Experiment exp05\n",
      "  Processing Experiment: exp06\n"
     ]
    },
    {
     "name": "stderr",
     "output_type": "stream",
     "text": [
      "C:\\Users\\benra\\AppData\\Local\\Temp\\ipykernel_28696\\3502057095.py:78: SerializationWarning: Unable to decode time axis into full numpy.datetime64[ns] objects, continuing using cftime.datetime objects instead, reason: dates out of range. To silence this warning use a coarser resolution 'time_unit' or specify 'use_cftime=True'.\n",
      "  model_ds = xr.open_dataset(model_file_path)\n",
      "C:\\Users\\benra\\AppData\\Local\\Temp\\ipykernel_28696\\3502057095.py:78: SerializationWarning: Unable to decode time axis into full numpy.datetime64[ns] objects, continuing using cftime.datetime objects instead, reason: dates out of range. To silence this warning use a coarser resolution 'time_unit' or specify 'use_cftime=True'.\n",
      "  model_ds = xr.open_dataset(model_file_path)\n"
     ]
    },
    {
     "name": "stdout",
     "output_type": "stream",
     "text": [
      "    Warning: Model file not found for UAF_PISM2 in exp06. Skipping.\n"
     ]
    },
    {
     "name": "stderr",
     "output_type": "stream",
     "text": [
      "C:\\Users\\benra\\anaconda3\\Lib\\site-packages\\sklearn\\cluster\\_kmeans.py:1382: UserWarning: KMeans is known to have a memory leak on Windows with MKL, when there are less chunks than available threads. You can avoid it by setting the environment variable OMP_NUM_THREADS=1.\n",
      "  warnings.warn(\n",
      "C:\\Users\\benra\\AppData\\Local\\Temp\\ipykernel_28696\\3502057095.py:162: UserWarning: You passed a edgecolor/edgecolors ('black') for an unfilled marker ('+').  Matplotlib is ignoring the edgecolor in favor of the facecolor.  This behavior may change in the future.\n",
      "  ax_2d.scatter(\n"
     ]
    },
    {
     "name": "stdout",
     "output_type": "stream",
     "text": [
      "  Generated PCA plot for Basin SE, Experiment exp06\n",
      "  Processing Experiment: exp07\n"
     ]
    },
    {
     "name": "stderr",
     "output_type": "stream",
     "text": [
      "C:\\Users\\benra\\AppData\\Local\\Temp\\ipykernel_28696\\3502057095.py:78: SerializationWarning: Unable to decode time axis into full numpy.datetime64[ns] objects, continuing using cftime.datetime objects instead, reason: dates out of range. To silence this warning use a coarser resolution 'time_unit' or specify 'use_cftime=True'.\n",
      "  model_ds = xr.open_dataset(model_file_path)\n",
      "C:\\Users\\benra\\AppData\\Local\\Temp\\ipykernel_28696\\3502057095.py:78: SerializationWarning: Unable to decode time axis into full numpy.datetime64[ns] objects, continuing using cftime.datetime objects instead, reason: dates out of range. To silence this warning use a coarser resolution 'time_unit' or specify 'use_cftime=True'.\n",
      "  model_ds = xr.open_dataset(model_file_path)\n"
     ]
    },
    {
     "name": "stdout",
     "output_type": "stream",
     "text": [
      "    Warning: Model file not found for UAF_PISM2 in exp07. Skipping.\n"
     ]
    },
    {
     "name": "stderr",
     "output_type": "stream",
     "text": [
      "C:\\Users\\benra\\anaconda3\\Lib\\site-packages\\sklearn\\cluster\\_kmeans.py:1382: UserWarning: KMeans is known to have a memory leak on Windows with MKL, when there are less chunks than available threads. You can avoid it by setting the environment variable OMP_NUM_THREADS=1.\n",
      "  warnings.warn(\n",
      "C:\\Users\\benra\\AppData\\Local\\Temp\\ipykernel_28696\\3502057095.py:162: UserWarning: You passed a edgecolor/edgecolors ('black') for an unfilled marker ('+').  Matplotlib is ignoring the edgecolor in favor of the facecolor.  This behavior may change in the future.\n",
      "  ax_2d.scatter(\n"
     ]
    },
    {
     "name": "stdout",
     "output_type": "stream",
     "text": [
      "  Generated PCA plot for Basin SE, Experiment exp07\n",
      "  Processing Experiment: exp08\n"
     ]
    },
    {
     "name": "stderr",
     "output_type": "stream",
     "text": [
      "C:\\Users\\benra\\AppData\\Local\\Temp\\ipykernel_28696\\3502057095.py:78: SerializationWarning: Unable to decode time axis into full numpy.datetime64[ns] objects, continuing using cftime.datetime objects instead, reason: dates out of range. To silence this warning use a coarser resolution 'time_unit' or specify 'use_cftime=True'.\n",
      "  model_ds = xr.open_dataset(model_file_path)\n",
      "C:\\Users\\benra\\AppData\\Local\\Temp\\ipykernel_28696\\3502057095.py:78: SerializationWarning: Unable to decode time axis into full numpy.datetime64[ns] objects, continuing using cftime.datetime objects instead, reason: dates out of range. To silence this warning use a coarser resolution 'time_unit' or specify 'use_cftime=True'.\n",
      "  model_ds = xr.open_dataset(model_file_path)\n"
     ]
    },
    {
     "name": "stdout",
     "output_type": "stream",
     "text": [
      "    Warning: Model file not found for UAF_PISM2 in exp08. Skipping.\n"
     ]
    },
    {
     "name": "stderr",
     "output_type": "stream",
     "text": [
      "C:\\Users\\benra\\anaconda3\\Lib\\site-packages\\sklearn\\cluster\\_kmeans.py:1382: UserWarning: KMeans is known to have a memory leak on Windows with MKL, when there are less chunks than available threads. You can avoid it by setting the environment variable OMP_NUM_THREADS=1.\n",
      "  warnings.warn(\n",
      "C:\\Users\\benra\\AppData\\Local\\Temp\\ipykernel_28696\\3502057095.py:162: UserWarning: You passed a edgecolor/edgecolors ('black') for an unfilled marker ('+').  Matplotlib is ignoring the edgecolor in favor of the facecolor.  This behavior may change in the future.\n",
      "  ax_2d.scatter(\n"
     ]
    },
    {
     "name": "stdout",
     "output_type": "stream",
     "text": [
      "  Generated PCA plot for Basin SE, Experiment exp08\n",
      "  Processing Experiment: exp09\n"
     ]
    },
    {
     "name": "stderr",
     "output_type": "stream",
     "text": [
      "C:\\Users\\benra\\AppData\\Local\\Temp\\ipykernel_28696\\3502057095.py:78: SerializationWarning: Unable to decode time axis into full numpy.datetime64[ns] objects, continuing using cftime.datetime objects instead, reason: dates out of range. To silence this warning use a coarser resolution 'time_unit' or specify 'use_cftime=True'.\n",
      "  model_ds = xr.open_dataset(model_file_path)\n",
      "C:\\Users\\benra\\AppData\\Local\\Temp\\ipykernel_28696\\3502057095.py:78: SerializationWarning: Unable to decode time axis into full numpy.datetime64[ns] objects, continuing using cftime.datetime objects instead, reason: dates out of range. To silence this warning use a coarser resolution 'time_unit' or specify 'use_cftime=True'.\n",
      "  model_ds = xr.open_dataset(model_file_path)\n"
     ]
    },
    {
     "name": "stdout",
     "output_type": "stream",
     "text": [
      "    Warning: Model file not found for UAF_PISM2 in exp09. Skipping.\n",
      "    Warning: Model file not found for UCIJPL_ISSM2 in exp09. Skipping.\n",
      "    Warning: Model file not found for VUW_PISM in exp09. Skipping.\n"
     ]
    },
    {
     "name": "stderr",
     "output_type": "stream",
     "text": [
      "C:\\Users\\benra\\anaconda3\\Lib\\site-packages\\sklearn\\cluster\\_kmeans.py:1382: UserWarning: KMeans is known to have a memory leak on Windows with MKL, when there are less chunks than available threads. You can avoid it by setting the environment variable OMP_NUM_THREADS=1.\n",
      "  warnings.warn(\n"
     ]
    },
    {
     "name": "stdout",
     "output_type": "stream",
     "text": [
      "  Generated PCA plot for Basin SE, Experiment exp09\n",
      "  Processing Experiment: exp10\n"
     ]
    },
    {
     "name": "stderr",
     "output_type": "stream",
     "text": [
      "C:\\Users\\benra\\AppData\\Local\\Temp\\ipykernel_28696\\3502057095.py:78: SerializationWarning: Unable to decode time axis into full numpy.datetime64[ns] objects, continuing using cftime.datetime objects instead, reason: dates out of range. To silence this warning use a coarser resolution 'time_unit' or specify 'use_cftime=True'.\n",
      "  model_ds = xr.open_dataset(model_file_path)\n",
      "C:\\Users\\benra\\AppData\\Local\\Temp\\ipykernel_28696\\3502057095.py:78: SerializationWarning: Unable to decode time axis into full numpy.datetime64[ns] objects, continuing using cftime.datetime objects instead, reason: dates out of range. To silence this warning use a coarser resolution 'time_unit' or specify 'use_cftime=True'.\n",
      "  model_ds = xr.open_dataset(model_file_path)\n"
     ]
    },
    {
     "name": "stdout",
     "output_type": "stream",
     "text": [
      "    Warning: Model file not found for UAF_PISM2 in exp10. Skipping.\n",
      "    Warning: Model file not found for UCIJPL_ISSM2 in exp10. Skipping.\n",
      "    Warning: Model file not found for VUW_PISM in exp10. Skipping.\n"
     ]
    },
    {
     "name": "stderr",
     "output_type": "stream",
     "text": [
      "C:\\Users\\benra\\anaconda3\\Lib\\site-packages\\sklearn\\cluster\\_kmeans.py:1382: UserWarning: KMeans is known to have a memory leak on Windows with MKL, when there are less chunks than available threads. You can avoid it by setting the environment variable OMP_NUM_THREADS=1.\n",
      "  warnings.warn(\n"
     ]
    },
    {
     "name": "stdout",
     "output_type": "stream",
     "text": [
      "  Generated PCA plot for Basin SE, Experiment exp10\n",
      "  Processing Experiment: expa01\n",
      "    Warning: Model file not found for IMAU_IMAUICE1 in expa01. Skipping.\n",
      "    Warning: Model file not found for JPL_ISSMPALEO in expa01. Skipping.\n",
      "    Warning: Model file not found for MUN_GSM1 in expa01. Skipping.\n",
      "    Warning: Model file not found for MUN_GSM2 in expa01. Skipping.\n"
     ]
    },
    {
     "name": "stderr",
     "output_type": "stream",
     "text": [
      "C:\\Users\\benra\\AppData\\Local\\Temp\\ipykernel_28696\\3502057095.py:78: SerializationWarning: Unable to decode time axis into full numpy.datetime64[ns] objects, continuing using cftime.datetime objects instead, reason: dates out of range. To silence this warning use a coarser resolution 'time_unit' or specify 'use_cftime=True'.\n",
      "  model_ds = xr.open_dataset(model_file_path)\n",
      "C:\\Users\\benra\\AppData\\Local\\Temp\\ipykernel_28696\\3502057095.py:78: SerializationWarning: Unable to decode time axis into full numpy.datetime64[ns] objects, continuing using cftime.datetime objects instead, reason: dates out of range. To silence this warning use a coarser resolution 'time_unit' or specify 'use_cftime=True'.\n",
      "  model_ds = xr.open_dataset(model_file_path)\n",
      "C:\\Users\\benra\\AppData\\Local\\Temp\\ipykernel_28696\\3502057095.py:78: SerializationWarning: Unable to decode time axis into full numpy.datetime64[ns] objects, continuing using cftime.datetime objects instead, reason: dates out of range. To silence this warning use a coarser resolution 'time_unit' or specify 'use_cftime=True'.\n",
      "  model_ds = xr.open_dataset(model_file_path)\n",
      "C:\\Users\\benra\\AppData\\Local\\Temp\\ipykernel_28696\\3502057095.py:78: SerializationWarning: Unable to decode time axis into full numpy.datetime64[ns] objects, continuing using cftime.datetime objects instead, reason: dates out of range. To silence this warning use a coarser resolution 'time_unit' or specify 'use_cftime=True'.\n",
      "  model_ds = xr.open_dataset(model_file_path)\n"
     ]
    },
    {
     "name": "stdout",
     "output_type": "stream",
     "text": [
      "    Warning: Model file not found for UCIJPL_ISSM2 in expa01. Skipping.\n",
      "    Warning: Model file not found for VUW_PISM in expa01. Skipping.\n"
     ]
    },
    {
     "name": "stderr",
     "output_type": "stream",
     "text": [
      "C:\\Users\\benra\\anaconda3\\Lib\\site-packages\\sklearn\\cluster\\_kmeans.py:1382: UserWarning: KMeans is known to have a memory leak on Windows with MKL, when there are less chunks than available threads. You can avoid it by setting the environment variable OMP_NUM_THREADS=1.\n",
      "  warnings.warn(\n",
      "C:\\Users\\benra\\AppData\\Local\\Temp\\ipykernel_28696\\3502057095.py:199: RuntimeWarning: invalid value encountered in sqrt\n",
      "  height = 2 * np.sqrt(eigenvalues[1] * chi2_val) # Minor axis\n"
     ]
    },
    {
     "name": "stdout",
     "output_type": "stream",
     "text": [
      "  Generated PCA plot for Basin SE, Experiment expa01\n",
      "  Processing Experiment: expa02\n",
      "    Warning: Model file not found for IMAU_IMAUICE1 in expa02. Skipping.\n",
      "    Warning: Model file not found for JPL_ISSMPALEO in expa02. Skipping.\n",
      "    Warning: Model file not found for MUN_GSM1 in expa02. Skipping.\n",
      "    Warning: Model file not found for MUN_GSM2 in expa02. Skipping.\n"
     ]
    },
    {
     "name": "stderr",
     "output_type": "stream",
     "text": [
      "C:\\Users\\benra\\AppData\\Local\\Temp\\ipykernel_28696\\3502057095.py:78: SerializationWarning: Unable to decode time axis into full numpy.datetime64[ns] objects, continuing using cftime.datetime objects instead, reason: dates out of range. To silence this warning use a coarser resolution 'time_unit' or specify 'use_cftime=True'.\n",
      "  model_ds = xr.open_dataset(model_file_path)\n",
      "C:\\Users\\benra\\AppData\\Local\\Temp\\ipykernel_28696\\3502057095.py:78: SerializationWarning: Unable to decode time axis into full numpy.datetime64[ns] objects, continuing using cftime.datetime objects instead, reason: dates out of range. To silence this warning use a coarser resolution 'time_unit' or specify 'use_cftime=True'.\n",
      "  model_ds = xr.open_dataset(model_file_path)\n",
      "C:\\Users\\benra\\AppData\\Local\\Temp\\ipykernel_28696\\3502057095.py:78: SerializationWarning: Unable to decode time axis into full numpy.datetime64[ns] objects, continuing using cftime.datetime objects instead, reason: dates out of range. To silence this warning use a coarser resolution 'time_unit' or specify 'use_cftime=True'.\n",
      "  model_ds = xr.open_dataset(model_file_path)\n",
      "C:\\Users\\benra\\AppData\\Local\\Temp\\ipykernel_28696\\3502057095.py:78: SerializationWarning: Unable to decode time axis into full numpy.datetime64[ns] objects, continuing using cftime.datetime objects instead, reason: dates out of range. To silence this warning use a coarser resolution 'time_unit' or specify 'use_cftime=True'.\n",
      "  model_ds = xr.open_dataset(model_file_path)\n"
     ]
    },
    {
     "name": "stdout",
     "output_type": "stream",
     "text": [
      "    Warning: Model file not found for UCIJPL_ISSM2 in expa02. Skipping.\n",
      "    Warning: Model file not found for VUW_PISM in expa02. Skipping.\n"
     ]
    },
    {
     "name": "stderr",
     "output_type": "stream",
     "text": [
      "C:\\Users\\benra\\anaconda3\\Lib\\site-packages\\sklearn\\cluster\\_kmeans.py:1382: UserWarning: KMeans is known to have a memory leak on Windows with MKL, when there are less chunks than available threads. You can avoid it by setting the environment variable OMP_NUM_THREADS=1.\n",
      "  warnings.warn(\n"
     ]
    },
    {
     "name": "stdout",
     "output_type": "stream",
     "text": [
      "  Generated PCA plot for Basin SE, Experiment expa02\n",
      "  Processing Experiment: expa03\n",
      "    Warning: Model file not found for IMAU_IMAUICE1 in expa03. Skipping.\n",
      "    Warning: Model file not found for JPL_ISSMPALEO in expa03. Skipping.\n",
      "    Warning: Model file not found for MUN_GSM1 in expa03. Skipping.\n",
      "    Warning: Model file not found for MUN_GSM2 in expa03. Skipping.\n"
     ]
    },
    {
     "name": "stderr",
     "output_type": "stream",
     "text": [
      "C:\\Users\\benra\\AppData\\Local\\Temp\\ipykernel_28696\\3502057095.py:78: SerializationWarning: Unable to decode time axis into full numpy.datetime64[ns] objects, continuing using cftime.datetime objects instead, reason: dates out of range. To silence this warning use a coarser resolution 'time_unit' or specify 'use_cftime=True'.\n",
      "  model_ds = xr.open_dataset(model_file_path)\n",
      "C:\\Users\\benra\\AppData\\Local\\Temp\\ipykernel_28696\\3502057095.py:78: SerializationWarning: Unable to decode time axis into full numpy.datetime64[ns] objects, continuing using cftime.datetime objects instead, reason: dates out of range. To silence this warning use a coarser resolution 'time_unit' or specify 'use_cftime=True'.\n",
      "  model_ds = xr.open_dataset(model_file_path)\n",
      "C:\\Users\\benra\\AppData\\Local\\Temp\\ipykernel_28696\\3502057095.py:78: SerializationWarning: Unable to decode time axis into full numpy.datetime64[ns] objects, continuing using cftime.datetime objects instead, reason: dates out of range. To silence this warning use a coarser resolution 'time_unit' or specify 'use_cftime=True'.\n",
      "  model_ds = xr.open_dataset(model_file_path)\n",
      "C:\\Users\\benra\\AppData\\Local\\Temp\\ipykernel_28696\\3502057095.py:78: SerializationWarning: Unable to decode time axis into full numpy.datetime64[ns] objects, continuing using cftime.datetime objects instead, reason: dates out of range. To silence this warning use a coarser resolution 'time_unit' or specify 'use_cftime=True'.\n",
      "  model_ds = xr.open_dataset(model_file_path)\n"
     ]
    },
    {
     "name": "stdout",
     "output_type": "stream",
     "text": [
      "    Warning: Model file not found for UCIJPL_ISSM2 in expa03. Skipping.\n",
      "    Warning: Model file not found for VUW_PISM in expa03. Skipping.\n"
     ]
    },
    {
     "name": "stderr",
     "output_type": "stream",
     "text": [
      "C:\\Users\\benra\\anaconda3\\Lib\\site-packages\\sklearn\\cluster\\_kmeans.py:1382: UserWarning: KMeans is known to have a memory leak on Windows with MKL, when there are less chunks than available threads. You can avoid it by setting the environment variable OMP_NUM_THREADS=1.\n",
      "  warnings.warn(\n"
     ]
    },
    {
     "name": "stdout",
     "output_type": "stream",
     "text": [
      "  Generated PCA plot for Basin SE, Experiment expa03\n",
      "  Generated ARI Heatmap for Basin SE\n",
      "\n",
      "--- Processing Basin: SW (ID: 5) ---\n",
      "  Processing Experiment: exp05\n"
     ]
    },
    {
     "name": "stderr",
     "output_type": "stream",
     "text": [
      "C:\\Users\\benra\\AppData\\Local\\Temp\\ipykernel_28696\\3502057095.py:78: SerializationWarning: Unable to decode time axis into full numpy.datetime64[ns] objects, continuing using cftime.datetime objects instead, reason: dates out of range. To silence this warning use a coarser resolution 'time_unit' or specify 'use_cftime=True'.\n",
      "  model_ds = xr.open_dataset(model_file_path)\n",
      "C:\\Users\\benra\\AppData\\Local\\Temp\\ipykernel_28696\\3502057095.py:78: SerializationWarning: Unable to decode time axis into full numpy.datetime64[ns] objects, continuing using cftime.datetime objects instead, reason: dates out of range. To silence this warning use a coarser resolution 'time_unit' or specify 'use_cftime=True'.\n",
      "  model_ds = xr.open_dataset(model_file_path)\n"
     ]
    },
    {
     "name": "stdout",
     "output_type": "stream",
     "text": [
      "    Warning: Model file not found for UAF_PISM2 in exp05. Skipping.\n"
     ]
    },
    {
     "name": "stderr",
     "output_type": "stream",
     "text": [
      "C:\\Users\\benra\\anaconda3\\Lib\\site-packages\\sklearn\\cluster\\_kmeans.py:1382: UserWarning: KMeans is known to have a memory leak on Windows with MKL, when there are less chunks than available threads. You can avoid it by setting the environment variable OMP_NUM_THREADS=1.\n",
      "  warnings.warn(\n",
      "C:\\Users\\benra\\AppData\\Local\\Temp\\ipykernel_28696\\3502057095.py:162: UserWarning: You passed a edgecolor/edgecolors ('black') for an unfilled marker ('+').  Matplotlib is ignoring the edgecolor in favor of the facecolor.  This behavior may change in the future.\n",
      "  ax_2d.scatter(\n"
     ]
    },
    {
     "name": "stdout",
     "output_type": "stream",
     "text": [
      "  Generated PCA plot for Basin SW, Experiment exp05\n",
      "  Processing Experiment: exp06\n"
     ]
    },
    {
     "name": "stderr",
     "output_type": "stream",
     "text": [
      "C:\\Users\\benra\\AppData\\Local\\Temp\\ipykernel_28696\\3502057095.py:78: SerializationWarning: Unable to decode time axis into full numpy.datetime64[ns] objects, continuing using cftime.datetime objects instead, reason: dates out of range. To silence this warning use a coarser resolution 'time_unit' or specify 'use_cftime=True'.\n",
      "  model_ds = xr.open_dataset(model_file_path)\n",
      "C:\\Users\\benra\\AppData\\Local\\Temp\\ipykernel_28696\\3502057095.py:78: SerializationWarning: Unable to decode time axis into full numpy.datetime64[ns] objects, continuing using cftime.datetime objects instead, reason: dates out of range. To silence this warning use a coarser resolution 'time_unit' or specify 'use_cftime=True'.\n",
      "  model_ds = xr.open_dataset(model_file_path)\n"
     ]
    },
    {
     "name": "stdout",
     "output_type": "stream",
     "text": [
      "    Warning: Model file not found for UAF_PISM2 in exp06. Skipping.\n"
     ]
    },
    {
     "name": "stderr",
     "output_type": "stream",
     "text": [
      "C:\\Users\\benra\\anaconda3\\Lib\\site-packages\\sklearn\\cluster\\_kmeans.py:1382: UserWarning: KMeans is known to have a memory leak on Windows with MKL, when there are less chunks than available threads. You can avoid it by setting the environment variable OMP_NUM_THREADS=1.\n",
      "  warnings.warn(\n",
      "C:\\Users\\benra\\AppData\\Local\\Temp\\ipykernel_28696\\3502057095.py:162: UserWarning: You passed a edgecolor/edgecolors ('black') for an unfilled marker ('+').  Matplotlib is ignoring the edgecolor in favor of the facecolor.  This behavior may change in the future.\n",
      "  ax_2d.scatter(\n",
      "C:\\Users\\benra\\AppData\\Local\\Temp\\ipykernel_28696\\3502057095.py:199: RuntimeWarning: invalid value encountered in sqrt\n",
      "  height = 2 * np.sqrt(eigenvalues[1] * chi2_val) # Minor axis\n"
     ]
    },
    {
     "name": "stdout",
     "output_type": "stream",
     "text": [
      "  Generated PCA plot for Basin SW, Experiment exp06\n",
      "  Processing Experiment: exp07\n"
     ]
    },
    {
     "name": "stderr",
     "output_type": "stream",
     "text": [
      "C:\\Users\\benra\\AppData\\Local\\Temp\\ipykernel_28696\\3502057095.py:78: SerializationWarning: Unable to decode time axis into full numpy.datetime64[ns] objects, continuing using cftime.datetime objects instead, reason: dates out of range. To silence this warning use a coarser resolution 'time_unit' or specify 'use_cftime=True'.\n",
      "  model_ds = xr.open_dataset(model_file_path)\n",
      "C:\\Users\\benra\\AppData\\Local\\Temp\\ipykernel_28696\\3502057095.py:78: SerializationWarning: Unable to decode time axis into full numpy.datetime64[ns] objects, continuing using cftime.datetime objects instead, reason: dates out of range. To silence this warning use a coarser resolution 'time_unit' or specify 'use_cftime=True'.\n",
      "  model_ds = xr.open_dataset(model_file_path)\n"
     ]
    },
    {
     "name": "stdout",
     "output_type": "stream",
     "text": [
      "    Warning: Model file not found for UAF_PISM2 in exp07. Skipping.\n"
     ]
    },
    {
     "name": "stderr",
     "output_type": "stream",
     "text": [
      "C:\\Users\\benra\\anaconda3\\Lib\\site-packages\\sklearn\\cluster\\_kmeans.py:1382: UserWarning: KMeans is known to have a memory leak on Windows with MKL, when there are less chunks than available threads. You can avoid it by setting the environment variable OMP_NUM_THREADS=1.\n",
      "  warnings.warn(\n",
      "C:\\Users\\benra\\AppData\\Local\\Temp\\ipykernel_28696\\3502057095.py:162: UserWarning: You passed a edgecolor/edgecolors ('black') for an unfilled marker ('+').  Matplotlib is ignoring the edgecolor in favor of the facecolor.  This behavior may change in the future.\n",
      "  ax_2d.scatter(\n"
     ]
    },
    {
     "name": "stdout",
     "output_type": "stream",
     "text": [
      "  Generated PCA plot for Basin SW, Experiment exp07\n",
      "  Processing Experiment: exp08\n"
     ]
    },
    {
     "name": "stderr",
     "output_type": "stream",
     "text": [
      "C:\\Users\\benra\\AppData\\Local\\Temp\\ipykernel_28696\\3502057095.py:78: SerializationWarning: Unable to decode time axis into full numpy.datetime64[ns] objects, continuing using cftime.datetime objects instead, reason: dates out of range. To silence this warning use a coarser resolution 'time_unit' or specify 'use_cftime=True'.\n",
      "  model_ds = xr.open_dataset(model_file_path)\n",
      "C:\\Users\\benra\\AppData\\Local\\Temp\\ipykernel_28696\\3502057095.py:78: SerializationWarning: Unable to decode time axis into full numpy.datetime64[ns] objects, continuing using cftime.datetime objects instead, reason: dates out of range. To silence this warning use a coarser resolution 'time_unit' or specify 'use_cftime=True'.\n",
      "  model_ds = xr.open_dataset(model_file_path)\n"
     ]
    },
    {
     "name": "stdout",
     "output_type": "stream",
     "text": [
      "    Warning: Model file not found for UAF_PISM2 in exp08. Skipping.\n"
     ]
    },
    {
     "name": "stderr",
     "output_type": "stream",
     "text": [
      "C:\\Users\\benra\\anaconda3\\Lib\\site-packages\\sklearn\\cluster\\_kmeans.py:1382: UserWarning: KMeans is known to have a memory leak on Windows with MKL, when there are less chunks than available threads. You can avoid it by setting the environment variable OMP_NUM_THREADS=1.\n",
      "  warnings.warn(\n",
      "C:\\Users\\benra\\AppData\\Local\\Temp\\ipykernel_28696\\3502057095.py:162: UserWarning: You passed a edgecolor/edgecolors ('black') for an unfilled marker ('+').  Matplotlib is ignoring the edgecolor in favor of the facecolor.  This behavior may change in the future.\n",
      "  ax_2d.scatter(\n"
     ]
    },
    {
     "name": "stdout",
     "output_type": "stream",
     "text": [
      "  Generated PCA plot for Basin SW, Experiment exp08\n",
      "  Processing Experiment: exp09\n"
     ]
    },
    {
     "name": "stderr",
     "output_type": "stream",
     "text": [
      "C:\\Users\\benra\\AppData\\Local\\Temp\\ipykernel_28696\\3502057095.py:78: SerializationWarning: Unable to decode time axis into full numpy.datetime64[ns] objects, continuing using cftime.datetime objects instead, reason: dates out of range. To silence this warning use a coarser resolution 'time_unit' or specify 'use_cftime=True'.\n",
      "  model_ds = xr.open_dataset(model_file_path)\n",
      "C:\\Users\\benra\\AppData\\Local\\Temp\\ipykernel_28696\\3502057095.py:78: SerializationWarning: Unable to decode time axis into full numpy.datetime64[ns] objects, continuing using cftime.datetime objects instead, reason: dates out of range. To silence this warning use a coarser resolution 'time_unit' or specify 'use_cftime=True'.\n",
      "  model_ds = xr.open_dataset(model_file_path)\n"
     ]
    },
    {
     "name": "stdout",
     "output_type": "stream",
     "text": [
      "    Warning: Model file not found for UAF_PISM2 in exp09. Skipping.\n",
      "    Warning: Model file not found for UCIJPL_ISSM2 in exp09. Skipping.\n",
      "    Warning: Model file not found for VUW_PISM in exp09. Skipping.\n"
     ]
    },
    {
     "name": "stderr",
     "output_type": "stream",
     "text": [
      "C:\\Users\\benra\\anaconda3\\Lib\\site-packages\\sklearn\\cluster\\_kmeans.py:1382: UserWarning: KMeans is known to have a memory leak on Windows with MKL, when there are less chunks than available threads. You can avoid it by setting the environment variable OMP_NUM_THREADS=1.\n",
      "  warnings.warn(\n"
     ]
    },
    {
     "name": "stdout",
     "output_type": "stream",
     "text": [
      "  Generated PCA plot for Basin SW, Experiment exp09\n",
      "  Processing Experiment: exp10\n"
     ]
    },
    {
     "name": "stderr",
     "output_type": "stream",
     "text": [
      "C:\\Users\\benra\\AppData\\Local\\Temp\\ipykernel_28696\\3502057095.py:78: SerializationWarning: Unable to decode time axis into full numpy.datetime64[ns] objects, continuing using cftime.datetime objects instead, reason: dates out of range. To silence this warning use a coarser resolution 'time_unit' or specify 'use_cftime=True'.\n",
      "  model_ds = xr.open_dataset(model_file_path)\n",
      "C:\\Users\\benra\\AppData\\Local\\Temp\\ipykernel_28696\\3502057095.py:78: SerializationWarning: Unable to decode time axis into full numpy.datetime64[ns] objects, continuing using cftime.datetime objects instead, reason: dates out of range. To silence this warning use a coarser resolution 'time_unit' or specify 'use_cftime=True'.\n",
      "  model_ds = xr.open_dataset(model_file_path)\n"
     ]
    },
    {
     "name": "stdout",
     "output_type": "stream",
     "text": [
      "    Warning: Model file not found for UAF_PISM2 in exp10. Skipping.\n",
      "    Warning: Model file not found for UCIJPL_ISSM2 in exp10. Skipping.\n",
      "    Warning: Model file not found for VUW_PISM in exp10. Skipping.\n"
     ]
    },
    {
     "name": "stderr",
     "output_type": "stream",
     "text": [
      "C:\\Users\\benra\\anaconda3\\Lib\\site-packages\\sklearn\\cluster\\_kmeans.py:1382: UserWarning: KMeans is known to have a memory leak on Windows with MKL, when there are less chunks than available threads. You can avoid it by setting the environment variable OMP_NUM_THREADS=1.\n",
      "  warnings.warn(\n",
      "C:\\Users\\benra\\AppData\\Local\\Temp\\ipykernel_28696\\3502057095.py:199: RuntimeWarning: invalid value encountered in sqrt\n",
      "  height = 2 * np.sqrt(eigenvalues[1] * chi2_val) # Minor axis\n"
     ]
    },
    {
     "name": "stdout",
     "output_type": "stream",
     "text": [
      "  Generated PCA plot for Basin SW, Experiment exp10\n",
      "  Processing Experiment: expa01\n",
      "    Warning: Model file not found for IMAU_IMAUICE1 in expa01. Skipping.\n",
      "    Warning: Model file not found for JPL_ISSMPALEO in expa01. Skipping.\n",
      "    Warning: Model file not found for MUN_GSM1 in expa01. Skipping.\n",
      "    Warning: Model file not found for MUN_GSM2 in expa01. Skipping.\n"
     ]
    },
    {
     "name": "stderr",
     "output_type": "stream",
     "text": [
      "C:\\Users\\benra\\AppData\\Local\\Temp\\ipykernel_28696\\3502057095.py:78: SerializationWarning: Unable to decode time axis into full numpy.datetime64[ns] objects, continuing using cftime.datetime objects instead, reason: dates out of range. To silence this warning use a coarser resolution 'time_unit' or specify 'use_cftime=True'.\n",
      "  model_ds = xr.open_dataset(model_file_path)\n",
      "C:\\Users\\benra\\AppData\\Local\\Temp\\ipykernel_28696\\3502057095.py:78: SerializationWarning: Unable to decode time axis into full numpy.datetime64[ns] objects, continuing using cftime.datetime objects instead, reason: dates out of range. To silence this warning use a coarser resolution 'time_unit' or specify 'use_cftime=True'.\n",
      "  model_ds = xr.open_dataset(model_file_path)\n",
      "C:\\Users\\benra\\AppData\\Local\\Temp\\ipykernel_28696\\3502057095.py:78: SerializationWarning: Unable to decode time axis into full numpy.datetime64[ns] objects, continuing using cftime.datetime objects instead, reason: dates out of range. To silence this warning use a coarser resolution 'time_unit' or specify 'use_cftime=True'.\n",
      "  model_ds = xr.open_dataset(model_file_path)\n",
      "C:\\Users\\benra\\AppData\\Local\\Temp\\ipykernel_28696\\3502057095.py:78: SerializationWarning: Unable to decode time axis into full numpy.datetime64[ns] objects, continuing using cftime.datetime objects instead, reason: dates out of range. To silence this warning use a coarser resolution 'time_unit' or specify 'use_cftime=True'.\n",
      "  model_ds = xr.open_dataset(model_file_path)\n"
     ]
    },
    {
     "name": "stdout",
     "output_type": "stream",
     "text": [
      "    Warning: Model file not found for UCIJPL_ISSM2 in expa01. Skipping.\n",
      "    Warning: Model file not found for VUW_PISM in expa01. Skipping.\n"
     ]
    },
    {
     "name": "stderr",
     "output_type": "stream",
     "text": [
      "C:\\Users\\benra\\anaconda3\\Lib\\site-packages\\sklearn\\cluster\\_kmeans.py:1382: UserWarning: KMeans is known to have a memory leak on Windows with MKL, when there are less chunks than available threads. You can avoid it by setting the environment variable OMP_NUM_THREADS=1.\n",
      "  warnings.warn(\n"
     ]
    },
    {
     "name": "stdout",
     "output_type": "stream",
     "text": [
      "  Generated PCA plot for Basin SW, Experiment expa01\n",
      "  Processing Experiment: expa02\n",
      "    Warning: Model file not found for IMAU_IMAUICE1 in expa02. Skipping.\n",
      "    Warning: Model file not found for JPL_ISSMPALEO in expa02. Skipping.\n",
      "    Warning: Model file not found for MUN_GSM1 in expa02. Skipping.\n",
      "    Warning: Model file not found for MUN_GSM2 in expa02. Skipping.\n"
     ]
    },
    {
     "name": "stderr",
     "output_type": "stream",
     "text": [
      "C:\\Users\\benra\\AppData\\Local\\Temp\\ipykernel_28696\\3502057095.py:78: SerializationWarning: Unable to decode time axis into full numpy.datetime64[ns] objects, continuing using cftime.datetime objects instead, reason: dates out of range. To silence this warning use a coarser resolution 'time_unit' or specify 'use_cftime=True'.\n",
      "  model_ds = xr.open_dataset(model_file_path)\n",
      "C:\\Users\\benra\\AppData\\Local\\Temp\\ipykernel_28696\\3502057095.py:78: SerializationWarning: Unable to decode time axis into full numpy.datetime64[ns] objects, continuing using cftime.datetime objects instead, reason: dates out of range. To silence this warning use a coarser resolution 'time_unit' or specify 'use_cftime=True'.\n",
      "  model_ds = xr.open_dataset(model_file_path)\n",
      "C:\\Users\\benra\\AppData\\Local\\Temp\\ipykernel_28696\\3502057095.py:78: SerializationWarning: Unable to decode time axis into full numpy.datetime64[ns] objects, continuing using cftime.datetime objects instead, reason: dates out of range. To silence this warning use a coarser resolution 'time_unit' or specify 'use_cftime=True'.\n",
      "  model_ds = xr.open_dataset(model_file_path)\n",
      "C:\\Users\\benra\\AppData\\Local\\Temp\\ipykernel_28696\\3502057095.py:78: SerializationWarning: Unable to decode time axis into full numpy.datetime64[ns] objects, continuing using cftime.datetime objects instead, reason: dates out of range. To silence this warning use a coarser resolution 'time_unit' or specify 'use_cftime=True'.\n",
      "  model_ds = xr.open_dataset(model_file_path)\n"
     ]
    },
    {
     "name": "stdout",
     "output_type": "stream",
     "text": [
      "    Warning: Model file not found for UCIJPL_ISSM2 in expa02. Skipping.\n",
      "    Warning: Model file not found for VUW_PISM in expa02. Skipping.\n"
     ]
    },
    {
     "name": "stderr",
     "output_type": "stream",
     "text": [
      "C:\\Users\\benra\\anaconda3\\Lib\\site-packages\\sklearn\\cluster\\_kmeans.py:1382: UserWarning: KMeans is known to have a memory leak on Windows with MKL, when there are less chunks than available threads. You can avoid it by setting the environment variable OMP_NUM_THREADS=1.\n",
      "  warnings.warn(\n"
     ]
    },
    {
     "name": "stdout",
     "output_type": "stream",
     "text": [
      "  Generated PCA plot for Basin SW, Experiment expa02\n",
      "  Processing Experiment: expa03\n",
      "    Warning: Model file not found for IMAU_IMAUICE1 in expa03. Skipping.\n",
      "    Warning: Model file not found for JPL_ISSMPALEO in expa03. Skipping.\n",
      "    Warning: Model file not found for MUN_GSM1 in expa03. Skipping.\n",
      "    Warning: Model file not found for MUN_GSM2 in expa03. Skipping.\n"
     ]
    },
    {
     "name": "stderr",
     "output_type": "stream",
     "text": [
      "C:\\Users\\benra\\AppData\\Local\\Temp\\ipykernel_28696\\3502057095.py:78: SerializationWarning: Unable to decode time axis into full numpy.datetime64[ns] objects, continuing using cftime.datetime objects instead, reason: dates out of range. To silence this warning use a coarser resolution 'time_unit' or specify 'use_cftime=True'.\n",
      "  model_ds = xr.open_dataset(model_file_path)\n",
      "C:\\Users\\benra\\AppData\\Local\\Temp\\ipykernel_28696\\3502057095.py:78: SerializationWarning: Unable to decode time axis into full numpy.datetime64[ns] objects, continuing using cftime.datetime objects instead, reason: dates out of range. To silence this warning use a coarser resolution 'time_unit' or specify 'use_cftime=True'.\n",
      "  model_ds = xr.open_dataset(model_file_path)\n",
      "C:\\Users\\benra\\AppData\\Local\\Temp\\ipykernel_28696\\3502057095.py:78: SerializationWarning: Unable to decode time axis into full numpy.datetime64[ns] objects, continuing using cftime.datetime objects instead, reason: dates out of range. To silence this warning use a coarser resolution 'time_unit' or specify 'use_cftime=True'.\n",
      "  model_ds = xr.open_dataset(model_file_path)\n",
      "C:\\Users\\benra\\AppData\\Local\\Temp\\ipykernel_28696\\3502057095.py:78: SerializationWarning: Unable to decode time axis into full numpy.datetime64[ns] objects, continuing using cftime.datetime objects instead, reason: dates out of range. To silence this warning use a coarser resolution 'time_unit' or specify 'use_cftime=True'.\n",
      "  model_ds = xr.open_dataset(model_file_path)\n"
     ]
    },
    {
     "name": "stdout",
     "output_type": "stream",
     "text": [
      "    Warning: Model file not found for UCIJPL_ISSM2 in expa03. Skipping.\n",
      "    Warning: Model file not found for VUW_PISM in expa03. Skipping.\n"
     ]
    },
    {
     "name": "stderr",
     "output_type": "stream",
     "text": [
      "C:\\Users\\benra\\anaconda3\\Lib\\site-packages\\sklearn\\cluster\\_kmeans.py:1382: UserWarning: KMeans is known to have a memory leak on Windows with MKL, when there are less chunks than available threads. You can avoid it by setting the environment variable OMP_NUM_THREADS=1.\n",
      "  warnings.warn(\n",
      "C:\\Users\\benra\\AppData\\Local\\Temp\\ipykernel_28696\\3502057095.py:199: RuntimeWarning: invalid value encountered in sqrt\n",
      "  height = 2 * np.sqrt(eigenvalues[1] * chi2_val) # Minor axis\n"
     ]
    },
    {
     "name": "stdout",
     "output_type": "stream",
     "text": [
      "  Generated PCA plot for Basin SW, Experiment expa03\n",
      "  Generated ARI Heatmap for Basin SW\n",
      "\n",
      "--- Processing Basin: CW (ID: 6) ---\n",
      "  Processing Experiment: exp05\n"
     ]
    },
    {
     "name": "stderr",
     "output_type": "stream",
     "text": [
      "C:\\Users\\benra\\AppData\\Local\\Temp\\ipykernel_28696\\3502057095.py:78: SerializationWarning: Unable to decode time axis into full numpy.datetime64[ns] objects, continuing using cftime.datetime objects instead, reason: dates out of range. To silence this warning use a coarser resolution 'time_unit' or specify 'use_cftime=True'.\n",
      "  model_ds = xr.open_dataset(model_file_path)\n",
      "C:\\Users\\benra\\AppData\\Local\\Temp\\ipykernel_28696\\3502057095.py:78: SerializationWarning: Unable to decode time axis into full numpy.datetime64[ns] objects, continuing using cftime.datetime objects instead, reason: dates out of range. To silence this warning use a coarser resolution 'time_unit' or specify 'use_cftime=True'.\n",
      "  model_ds = xr.open_dataset(model_file_path)\n"
     ]
    },
    {
     "name": "stdout",
     "output_type": "stream",
     "text": [
      "    Warning: Model file not found for UAF_PISM2 in exp05. Skipping.\n"
     ]
    },
    {
     "name": "stderr",
     "output_type": "stream",
     "text": [
      "C:\\Users\\benra\\anaconda3\\Lib\\site-packages\\sklearn\\cluster\\_kmeans.py:1382: UserWarning: KMeans is known to have a memory leak on Windows with MKL, when there are less chunks than available threads. You can avoid it by setting the environment variable OMP_NUM_THREADS=1.\n",
      "  warnings.warn(\n",
      "C:\\Users\\benra\\AppData\\Local\\Temp\\ipykernel_28696\\3502057095.py:162: UserWarning: You passed a edgecolor/edgecolors ('black') for an unfilled marker ('+').  Matplotlib is ignoring the edgecolor in favor of the facecolor.  This behavior may change in the future.\n",
      "  ax_2d.scatter(\n"
     ]
    },
    {
     "name": "stdout",
     "output_type": "stream",
     "text": [
      "  Generated PCA plot for Basin CW, Experiment exp05\n",
      "  Processing Experiment: exp06\n"
     ]
    },
    {
     "name": "stderr",
     "output_type": "stream",
     "text": [
      "C:\\Users\\benra\\AppData\\Local\\Temp\\ipykernel_28696\\3502057095.py:78: SerializationWarning: Unable to decode time axis into full numpy.datetime64[ns] objects, continuing using cftime.datetime objects instead, reason: dates out of range. To silence this warning use a coarser resolution 'time_unit' or specify 'use_cftime=True'.\n",
      "  model_ds = xr.open_dataset(model_file_path)\n",
      "C:\\Users\\benra\\AppData\\Local\\Temp\\ipykernel_28696\\3502057095.py:78: SerializationWarning: Unable to decode time axis into full numpy.datetime64[ns] objects, continuing using cftime.datetime objects instead, reason: dates out of range. To silence this warning use a coarser resolution 'time_unit' or specify 'use_cftime=True'.\n",
      "  model_ds = xr.open_dataset(model_file_path)\n"
     ]
    },
    {
     "name": "stdout",
     "output_type": "stream",
     "text": [
      "    Warning: Model file not found for UAF_PISM2 in exp06. Skipping.\n"
     ]
    },
    {
     "name": "stderr",
     "output_type": "stream",
     "text": [
      "C:\\Users\\benra\\anaconda3\\Lib\\site-packages\\sklearn\\cluster\\_kmeans.py:1382: UserWarning: KMeans is known to have a memory leak on Windows with MKL, when there are less chunks than available threads. You can avoid it by setting the environment variable OMP_NUM_THREADS=1.\n",
      "  warnings.warn(\n",
      "C:\\Users\\benra\\AppData\\Local\\Temp\\ipykernel_28696\\3502057095.py:162: UserWarning: You passed a edgecolor/edgecolors ('black') for an unfilled marker ('+').  Matplotlib is ignoring the edgecolor in favor of the facecolor.  This behavior may change in the future.\n",
      "  ax_2d.scatter(\n"
     ]
    },
    {
     "name": "stdout",
     "output_type": "stream",
     "text": [
      "  Generated PCA plot for Basin CW, Experiment exp06\n",
      "  Processing Experiment: exp07\n"
     ]
    },
    {
     "name": "stderr",
     "output_type": "stream",
     "text": [
      "C:\\Users\\benra\\AppData\\Local\\Temp\\ipykernel_28696\\3502057095.py:78: SerializationWarning: Unable to decode time axis into full numpy.datetime64[ns] objects, continuing using cftime.datetime objects instead, reason: dates out of range. To silence this warning use a coarser resolution 'time_unit' or specify 'use_cftime=True'.\n",
      "  model_ds = xr.open_dataset(model_file_path)\n",
      "C:\\Users\\benra\\AppData\\Local\\Temp\\ipykernel_28696\\3502057095.py:78: SerializationWarning: Unable to decode time axis into full numpy.datetime64[ns] objects, continuing using cftime.datetime objects instead, reason: dates out of range. To silence this warning use a coarser resolution 'time_unit' or specify 'use_cftime=True'.\n",
      "  model_ds = xr.open_dataset(model_file_path)\n"
     ]
    },
    {
     "name": "stdout",
     "output_type": "stream",
     "text": [
      "    Warning: Model file not found for UAF_PISM2 in exp07. Skipping.\n"
     ]
    },
    {
     "name": "stderr",
     "output_type": "stream",
     "text": [
      "C:\\Users\\benra\\anaconda3\\Lib\\site-packages\\sklearn\\cluster\\_kmeans.py:1382: UserWarning: KMeans is known to have a memory leak on Windows with MKL, when there are less chunks than available threads. You can avoid it by setting the environment variable OMP_NUM_THREADS=1.\n",
      "  warnings.warn(\n",
      "C:\\Users\\benra\\AppData\\Local\\Temp\\ipykernel_28696\\3502057095.py:162: UserWarning: You passed a edgecolor/edgecolors ('black') for an unfilled marker ('+').  Matplotlib is ignoring the edgecolor in favor of the facecolor.  This behavior may change in the future.\n",
      "  ax_2d.scatter(\n"
     ]
    },
    {
     "name": "stdout",
     "output_type": "stream",
     "text": [
      "  Generated PCA plot for Basin CW, Experiment exp07\n",
      "  Processing Experiment: exp08\n"
     ]
    },
    {
     "name": "stderr",
     "output_type": "stream",
     "text": [
      "C:\\Users\\benra\\AppData\\Local\\Temp\\ipykernel_28696\\3502057095.py:78: SerializationWarning: Unable to decode time axis into full numpy.datetime64[ns] objects, continuing using cftime.datetime objects instead, reason: dates out of range. To silence this warning use a coarser resolution 'time_unit' or specify 'use_cftime=True'.\n",
      "  model_ds = xr.open_dataset(model_file_path)\n",
      "C:\\Users\\benra\\AppData\\Local\\Temp\\ipykernel_28696\\3502057095.py:78: SerializationWarning: Unable to decode time axis into full numpy.datetime64[ns] objects, continuing using cftime.datetime objects instead, reason: dates out of range. To silence this warning use a coarser resolution 'time_unit' or specify 'use_cftime=True'.\n",
      "  model_ds = xr.open_dataset(model_file_path)\n"
     ]
    },
    {
     "name": "stdout",
     "output_type": "stream",
     "text": [
      "    Warning: Model file not found for UAF_PISM2 in exp08. Skipping.\n"
     ]
    },
    {
     "name": "stderr",
     "output_type": "stream",
     "text": [
      "C:\\Users\\benra\\anaconda3\\Lib\\site-packages\\sklearn\\cluster\\_kmeans.py:1382: UserWarning: KMeans is known to have a memory leak on Windows with MKL, when there are less chunks than available threads. You can avoid it by setting the environment variable OMP_NUM_THREADS=1.\n",
      "  warnings.warn(\n",
      "C:\\Users\\benra\\AppData\\Local\\Temp\\ipykernel_28696\\3502057095.py:162: UserWarning: You passed a edgecolor/edgecolors ('black') for an unfilled marker ('+').  Matplotlib is ignoring the edgecolor in favor of the facecolor.  This behavior may change in the future.\n",
      "  ax_2d.scatter(\n"
     ]
    },
    {
     "name": "stdout",
     "output_type": "stream",
     "text": [
      "  Generated PCA plot for Basin CW, Experiment exp08\n",
      "  Processing Experiment: exp09\n"
     ]
    },
    {
     "name": "stderr",
     "output_type": "stream",
     "text": [
      "C:\\Users\\benra\\AppData\\Local\\Temp\\ipykernel_28696\\3502057095.py:78: SerializationWarning: Unable to decode time axis into full numpy.datetime64[ns] objects, continuing using cftime.datetime objects instead, reason: dates out of range. To silence this warning use a coarser resolution 'time_unit' or specify 'use_cftime=True'.\n",
      "  model_ds = xr.open_dataset(model_file_path)\n",
      "C:\\Users\\benra\\AppData\\Local\\Temp\\ipykernel_28696\\3502057095.py:78: SerializationWarning: Unable to decode time axis into full numpy.datetime64[ns] objects, continuing using cftime.datetime objects instead, reason: dates out of range. To silence this warning use a coarser resolution 'time_unit' or specify 'use_cftime=True'.\n",
      "  model_ds = xr.open_dataset(model_file_path)\n"
     ]
    },
    {
     "name": "stdout",
     "output_type": "stream",
     "text": [
      "    Warning: Model file not found for UAF_PISM2 in exp09. Skipping.\n",
      "    Warning: Model file not found for UCIJPL_ISSM2 in exp09. Skipping.\n",
      "    Warning: Model file not found for VUW_PISM in exp09. Skipping.\n"
     ]
    },
    {
     "name": "stderr",
     "output_type": "stream",
     "text": [
      "C:\\Users\\benra\\anaconda3\\Lib\\site-packages\\sklearn\\cluster\\_kmeans.py:1382: UserWarning: KMeans is known to have a memory leak on Windows with MKL, when there are less chunks than available threads. You can avoid it by setting the environment variable OMP_NUM_THREADS=1.\n",
      "  warnings.warn(\n"
     ]
    },
    {
     "name": "stdout",
     "output_type": "stream",
     "text": [
      "  Generated PCA plot for Basin CW, Experiment exp09\n",
      "  Processing Experiment: exp10\n"
     ]
    },
    {
     "name": "stderr",
     "output_type": "stream",
     "text": [
      "C:\\Users\\benra\\AppData\\Local\\Temp\\ipykernel_28696\\3502057095.py:78: SerializationWarning: Unable to decode time axis into full numpy.datetime64[ns] objects, continuing using cftime.datetime objects instead, reason: dates out of range. To silence this warning use a coarser resolution 'time_unit' or specify 'use_cftime=True'.\n",
      "  model_ds = xr.open_dataset(model_file_path)\n",
      "C:\\Users\\benra\\AppData\\Local\\Temp\\ipykernel_28696\\3502057095.py:78: SerializationWarning: Unable to decode time axis into full numpy.datetime64[ns] objects, continuing using cftime.datetime objects instead, reason: dates out of range. To silence this warning use a coarser resolution 'time_unit' or specify 'use_cftime=True'.\n",
      "  model_ds = xr.open_dataset(model_file_path)\n"
     ]
    },
    {
     "name": "stdout",
     "output_type": "stream",
     "text": [
      "    Warning: Model file not found for UAF_PISM2 in exp10. Skipping.\n",
      "    Warning: Model file not found for UCIJPL_ISSM2 in exp10. Skipping.\n",
      "    Warning: Model file not found for VUW_PISM in exp10. Skipping.\n"
     ]
    },
    {
     "name": "stderr",
     "output_type": "stream",
     "text": [
      "C:\\Users\\benra\\anaconda3\\Lib\\site-packages\\sklearn\\cluster\\_kmeans.py:1382: UserWarning: KMeans is known to have a memory leak on Windows with MKL, when there are less chunks than available threads. You can avoid it by setting the environment variable OMP_NUM_THREADS=1.\n",
      "  warnings.warn(\n"
     ]
    },
    {
     "name": "stdout",
     "output_type": "stream",
     "text": [
      "  Generated PCA plot for Basin CW, Experiment exp10\n",
      "  Processing Experiment: expa01\n",
      "    Warning: Model file not found for IMAU_IMAUICE1 in expa01. Skipping.\n",
      "    Warning: Model file not found for JPL_ISSMPALEO in expa01. Skipping.\n",
      "    Warning: Model file not found for MUN_GSM1 in expa01. Skipping.\n",
      "    Warning: Model file not found for MUN_GSM2 in expa01. Skipping.\n"
     ]
    },
    {
     "name": "stderr",
     "output_type": "stream",
     "text": [
      "C:\\Users\\benra\\AppData\\Local\\Temp\\ipykernel_28696\\3502057095.py:78: SerializationWarning: Unable to decode time axis into full numpy.datetime64[ns] objects, continuing using cftime.datetime objects instead, reason: dates out of range. To silence this warning use a coarser resolution 'time_unit' or specify 'use_cftime=True'.\n",
      "  model_ds = xr.open_dataset(model_file_path)\n",
      "C:\\Users\\benra\\AppData\\Local\\Temp\\ipykernel_28696\\3502057095.py:78: SerializationWarning: Unable to decode time axis into full numpy.datetime64[ns] objects, continuing using cftime.datetime objects instead, reason: dates out of range. To silence this warning use a coarser resolution 'time_unit' or specify 'use_cftime=True'.\n",
      "  model_ds = xr.open_dataset(model_file_path)\n",
      "C:\\Users\\benra\\AppData\\Local\\Temp\\ipykernel_28696\\3502057095.py:78: SerializationWarning: Unable to decode time axis into full numpy.datetime64[ns] objects, continuing using cftime.datetime objects instead, reason: dates out of range. To silence this warning use a coarser resolution 'time_unit' or specify 'use_cftime=True'.\n",
      "  model_ds = xr.open_dataset(model_file_path)\n",
      "C:\\Users\\benra\\AppData\\Local\\Temp\\ipykernel_28696\\3502057095.py:78: SerializationWarning: Unable to decode time axis into full numpy.datetime64[ns] objects, continuing using cftime.datetime objects instead, reason: dates out of range. To silence this warning use a coarser resolution 'time_unit' or specify 'use_cftime=True'.\n",
      "  model_ds = xr.open_dataset(model_file_path)\n"
     ]
    },
    {
     "name": "stdout",
     "output_type": "stream",
     "text": [
      "    Warning: Model file not found for UCIJPL_ISSM2 in expa01. Skipping.\n",
      "    Warning: Model file not found for VUW_PISM in expa01. Skipping.\n"
     ]
    },
    {
     "name": "stderr",
     "output_type": "stream",
     "text": [
      "C:\\Users\\benra\\anaconda3\\Lib\\site-packages\\sklearn\\cluster\\_kmeans.py:1382: UserWarning: KMeans is known to have a memory leak on Windows with MKL, when there are less chunks than available threads. You can avoid it by setting the environment variable OMP_NUM_THREADS=1.\n",
      "  warnings.warn(\n"
     ]
    },
    {
     "name": "stdout",
     "output_type": "stream",
     "text": [
      "  Generated PCA plot for Basin CW, Experiment expa01\n",
      "  Processing Experiment: expa02\n",
      "    Warning: Model file not found for IMAU_IMAUICE1 in expa02. Skipping.\n",
      "    Warning: Model file not found for JPL_ISSMPALEO in expa02. Skipping.\n",
      "    Warning: Model file not found for MUN_GSM1 in expa02. Skipping.\n",
      "    Warning: Model file not found for MUN_GSM2 in expa02. Skipping.\n"
     ]
    },
    {
     "name": "stderr",
     "output_type": "stream",
     "text": [
      "C:\\Users\\benra\\AppData\\Local\\Temp\\ipykernel_28696\\3502057095.py:78: SerializationWarning: Unable to decode time axis into full numpy.datetime64[ns] objects, continuing using cftime.datetime objects instead, reason: dates out of range. To silence this warning use a coarser resolution 'time_unit' or specify 'use_cftime=True'.\n",
      "  model_ds = xr.open_dataset(model_file_path)\n",
      "C:\\Users\\benra\\AppData\\Local\\Temp\\ipykernel_28696\\3502057095.py:78: SerializationWarning: Unable to decode time axis into full numpy.datetime64[ns] objects, continuing using cftime.datetime objects instead, reason: dates out of range. To silence this warning use a coarser resolution 'time_unit' or specify 'use_cftime=True'.\n",
      "  model_ds = xr.open_dataset(model_file_path)\n",
      "C:\\Users\\benra\\AppData\\Local\\Temp\\ipykernel_28696\\3502057095.py:78: SerializationWarning: Unable to decode time axis into full numpy.datetime64[ns] objects, continuing using cftime.datetime objects instead, reason: dates out of range. To silence this warning use a coarser resolution 'time_unit' or specify 'use_cftime=True'.\n",
      "  model_ds = xr.open_dataset(model_file_path)\n",
      "C:\\Users\\benra\\AppData\\Local\\Temp\\ipykernel_28696\\3502057095.py:78: SerializationWarning: Unable to decode time axis into full numpy.datetime64[ns] objects, continuing using cftime.datetime objects instead, reason: dates out of range. To silence this warning use a coarser resolution 'time_unit' or specify 'use_cftime=True'.\n",
      "  model_ds = xr.open_dataset(model_file_path)\n"
     ]
    },
    {
     "name": "stdout",
     "output_type": "stream",
     "text": [
      "    Warning: Model file not found for UCIJPL_ISSM2 in expa02. Skipping.\n",
      "    Warning: Model file not found for VUW_PISM in expa02. Skipping.\n"
     ]
    },
    {
     "name": "stderr",
     "output_type": "stream",
     "text": [
      "C:\\Users\\benra\\anaconda3\\Lib\\site-packages\\sklearn\\cluster\\_kmeans.py:1382: UserWarning: KMeans is known to have a memory leak on Windows with MKL, when there are less chunks than available threads. You can avoid it by setting the environment variable OMP_NUM_THREADS=1.\n",
      "  warnings.warn(\n"
     ]
    },
    {
     "name": "stdout",
     "output_type": "stream",
     "text": [
      "  Generated PCA plot for Basin CW, Experiment expa02\n",
      "  Processing Experiment: expa03\n",
      "    Warning: Model file not found for IMAU_IMAUICE1 in expa03. Skipping.\n",
      "    Warning: Model file not found for JPL_ISSMPALEO in expa03. Skipping.\n",
      "    Warning: Model file not found for MUN_GSM1 in expa03. Skipping.\n",
      "    Warning: Model file not found for MUN_GSM2 in expa03. Skipping.\n"
     ]
    },
    {
     "name": "stderr",
     "output_type": "stream",
     "text": [
      "C:\\Users\\benra\\AppData\\Local\\Temp\\ipykernel_28696\\3502057095.py:78: SerializationWarning: Unable to decode time axis into full numpy.datetime64[ns] objects, continuing using cftime.datetime objects instead, reason: dates out of range. To silence this warning use a coarser resolution 'time_unit' or specify 'use_cftime=True'.\n",
      "  model_ds = xr.open_dataset(model_file_path)\n",
      "C:\\Users\\benra\\AppData\\Local\\Temp\\ipykernel_28696\\3502057095.py:78: SerializationWarning: Unable to decode time axis into full numpy.datetime64[ns] objects, continuing using cftime.datetime objects instead, reason: dates out of range. To silence this warning use a coarser resolution 'time_unit' or specify 'use_cftime=True'.\n",
      "  model_ds = xr.open_dataset(model_file_path)\n",
      "C:\\Users\\benra\\AppData\\Local\\Temp\\ipykernel_28696\\3502057095.py:78: SerializationWarning: Unable to decode time axis into full numpy.datetime64[ns] objects, continuing using cftime.datetime objects instead, reason: dates out of range. To silence this warning use a coarser resolution 'time_unit' or specify 'use_cftime=True'.\n",
      "  model_ds = xr.open_dataset(model_file_path)\n",
      "C:\\Users\\benra\\AppData\\Local\\Temp\\ipykernel_28696\\3502057095.py:78: SerializationWarning: Unable to decode time axis into full numpy.datetime64[ns] objects, continuing using cftime.datetime objects instead, reason: dates out of range. To silence this warning use a coarser resolution 'time_unit' or specify 'use_cftime=True'.\n",
      "  model_ds = xr.open_dataset(model_file_path)\n"
     ]
    },
    {
     "name": "stdout",
     "output_type": "stream",
     "text": [
      "    Warning: Model file not found for UCIJPL_ISSM2 in expa03. Skipping.\n",
      "    Warning: Model file not found for VUW_PISM in expa03. Skipping.\n"
     ]
    },
    {
     "name": "stderr",
     "output_type": "stream",
     "text": [
      "C:\\Users\\benra\\anaconda3\\Lib\\site-packages\\sklearn\\cluster\\_kmeans.py:1382: UserWarning: KMeans is known to have a memory leak on Windows with MKL, when there are less chunks than available threads. You can avoid it by setting the environment variable OMP_NUM_THREADS=1.\n",
      "  warnings.warn(\n"
     ]
    },
    {
     "name": "stdout",
     "output_type": "stream",
     "text": [
      "  Generated PCA plot for Basin CW, Experiment expa03\n",
      "  Generated ARI Heatmap for Basin CW\n",
      "\n",
      "--- Processing Basin: NW (ID: 7) ---\n",
      "  Processing Experiment: exp05\n"
     ]
    },
    {
     "name": "stderr",
     "output_type": "stream",
     "text": [
      "C:\\Users\\benra\\AppData\\Local\\Temp\\ipykernel_28696\\3502057095.py:78: SerializationWarning: Unable to decode time axis into full numpy.datetime64[ns] objects, continuing using cftime.datetime objects instead, reason: dates out of range. To silence this warning use a coarser resolution 'time_unit' or specify 'use_cftime=True'.\n",
      "  model_ds = xr.open_dataset(model_file_path)\n",
      "C:\\Users\\benra\\AppData\\Local\\Temp\\ipykernel_28696\\3502057095.py:78: SerializationWarning: Unable to decode time axis into full numpy.datetime64[ns] objects, continuing using cftime.datetime objects instead, reason: dates out of range. To silence this warning use a coarser resolution 'time_unit' or specify 'use_cftime=True'.\n",
      "  model_ds = xr.open_dataset(model_file_path)\n"
     ]
    },
    {
     "name": "stdout",
     "output_type": "stream",
     "text": [
      "    Warning: Model file not found for UAF_PISM2 in exp05. Skipping.\n"
     ]
    },
    {
     "name": "stderr",
     "output_type": "stream",
     "text": [
      "C:\\Users\\benra\\anaconda3\\Lib\\site-packages\\sklearn\\cluster\\_kmeans.py:1382: UserWarning: KMeans is known to have a memory leak on Windows with MKL, when there are less chunks than available threads. You can avoid it by setting the environment variable OMP_NUM_THREADS=1.\n",
      "  warnings.warn(\n",
      "C:\\Users\\benra\\AppData\\Local\\Temp\\ipykernel_28696\\3502057095.py:162: UserWarning: You passed a edgecolor/edgecolors ('black') for an unfilled marker ('+').  Matplotlib is ignoring the edgecolor in favor of the facecolor.  This behavior may change in the future.\n",
      "  ax_2d.scatter(\n"
     ]
    },
    {
     "name": "stdout",
     "output_type": "stream",
     "text": [
      "  Generated PCA plot for Basin NW, Experiment exp05\n",
      "  Processing Experiment: exp06\n"
     ]
    },
    {
     "name": "stderr",
     "output_type": "stream",
     "text": [
      "C:\\Users\\benra\\AppData\\Local\\Temp\\ipykernel_28696\\3502057095.py:78: SerializationWarning: Unable to decode time axis into full numpy.datetime64[ns] objects, continuing using cftime.datetime objects instead, reason: dates out of range. To silence this warning use a coarser resolution 'time_unit' or specify 'use_cftime=True'.\n",
      "  model_ds = xr.open_dataset(model_file_path)\n",
      "C:\\Users\\benra\\AppData\\Local\\Temp\\ipykernel_28696\\3502057095.py:78: SerializationWarning: Unable to decode time axis into full numpy.datetime64[ns] objects, continuing using cftime.datetime objects instead, reason: dates out of range. To silence this warning use a coarser resolution 'time_unit' or specify 'use_cftime=True'.\n",
      "  model_ds = xr.open_dataset(model_file_path)\n"
     ]
    },
    {
     "name": "stdout",
     "output_type": "stream",
     "text": [
      "    Warning: Model file not found for UAF_PISM2 in exp06. Skipping.\n"
     ]
    },
    {
     "name": "stderr",
     "output_type": "stream",
     "text": [
      "C:\\Users\\benra\\anaconda3\\Lib\\site-packages\\sklearn\\cluster\\_kmeans.py:1382: UserWarning: KMeans is known to have a memory leak on Windows with MKL, when there are less chunks than available threads. You can avoid it by setting the environment variable OMP_NUM_THREADS=1.\n",
      "  warnings.warn(\n",
      "C:\\Users\\benra\\AppData\\Local\\Temp\\ipykernel_28696\\3502057095.py:162: UserWarning: You passed a edgecolor/edgecolors ('black') for an unfilled marker ('+').  Matplotlib is ignoring the edgecolor in favor of the facecolor.  This behavior may change in the future.\n",
      "  ax_2d.scatter(\n"
     ]
    },
    {
     "name": "stdout",
     "output_type": "stream",
     "text": [
      "  Generated PCA plot for Basin NW, Experiment exp06\n",
      "  Processing Experiment: exp07\n"
     ]
    },
    {
     "name": "stderr",
     "output_type": "stream",
     "text": [
      "C:\\Users\\benra\\AppData\\Local\\Temp\\ipykernel_28696\\3502057095.py:78: SerializationWarning: Unable to decode time axis into full numpy.datetime64[ns] objects, continuing using cftime.datetime objects instead, reason: dates out of range. To silence this warning use a coarser resolution 'time_unit' or specify 'use_cftime=True'.\n",
      "  model_ds = xr.open_dataset(model_file_path)\n",
      "C:\\Users\\benra\\AppData\\Local\\Temp\\ipykernel_28696\\3502057095.py:78: SerializationWarning: Unable to decode time axis into full numpy.datetime64[ns] objects, continuing using cftime.datetime objects instead, reason: dates out of range. To silence this warning use a coarser resolution 'time_unit' or specify 'use_cftime=True'.\n",
      "  model_ds = xr.open_dataset(model_file_path)\n"
     ]
    },
    {
     "name": "stdout",
     "output_type": "stream",
     "text": [
      "    Warning: Model file not found for UAF_PISM2 in exp07. Skipping.\n"
     ]
    },
    {
     "name": "stderr",
     "output_type": "stream",
     "text": [
      "C:\\Users\\benra\\anaconda3\\Lib\\site-packages\\sklearn\\cluster\\_kmeans.py:1382: UserWarning: KMeans is known to have a memory leak on Windows with MKL, when there are less chunks than available threads. You can avoid it by setting the environment variable OMP_NUM_THREADS=1.\n",
      "  warnings.warn(\n",
      "C:\\Users\\benra\\AppData\\Local\\Temp\\ipykernel_28696\\3502057095.py:162: UserWarning: You passed a edgecolor/edgecolors ('black') for an unfilled marker ('+').  Matplotlib is ignoring the edgecolor in favor of the facecolor.  This behavior may change in the future.\n",
      "  ax_2d.scatter(\n"
     ]
    },
    {
     "name": "stdout",
     "output_type": "stream",
     "text": [
      "  Generated PCA plot for Basin NW, Experiment exp07\n",
      "  Processing Experiment: exp08\n"
     ]
    },
    {
     "name": "stderr",
     "output_type": "stream",
     "text": [
      "C:\\Users\\benra\\AppData\\Local\\Temp\\ipykernel_28696\\3502057095.py:78: SerializationWarning: Unable to decode time axis into full numpy.datetime64[ns] objects, continuing using cftime.datetime objects instead, reason: dates out of range. To silence this warning use a coarser resolution 'time_unit' or specify 'use_cftime=True'.\n",
      "  model_ds = xr.open_dataset(model_file_path)\n",
      "C:\\Users\\benra\\AppData\\Local\\Temp\\ipykernel_28696\\3502057095.py:78: SerializationWarning: Unable to decode time axis into full numpy.datetime64[ns] objects, continuing using cftime.datetime objects instead, reason: dates out of range. To silence this warning use a coarser resolution 'time_unit' or specify 'use_cftime=True'.\n",
      "  model_ds = xr.open_dataset(model_file_path)\n"
     ]
    },
    {
     "name": "stdout",
     "output_type": "stream",
     "text": [
      "    Warning: Model file not found for UAF_PISM2 in exp08. Skipping.\n"
     ]
    },
    {
     "name": "stderr",
     "output_type": "stream",
     "text": [
      "C:\\Users\\benra\\anaconda3\\Lib\\site-packages\\sklearn\\cluster\\_kmeans.py:1382: UserWarning: KMeans is known to have a memory leak on Windows with MKL, when there are less chunks than available threads. You can avoid it by setting the environment variable OMP_NUM_THREADS=1.\n",
      "  warnings.warn(\n",
      "C:\\Users\\benra\\AppData\\Local\\Temp\\ipykernel_28696\\3502057095.py:162: UserWarning: You passed a edgecolor/edgecolors ('black') for an unfilled marker ('+').  Matplotlib is ignoring the edgecolor in favor of the facecolor.  This behavior may change in the future.\n",
      "  ax_2d.scatter(\n"
     ]
    },
    {
     "name": "stdout",
     "output_type": "stream",
     "text": [
      "  Generated PCA plot for Basin NW, Experiment exp08\n",
      "  Processing Experiment: exp09\n"
     ]
    },
    {
     "name": "stderr",
     "output_type": "stream",
     "text": [
      "C:\\Users\\benra\\AppData\\Local\\Temp\\ipykernel_28696\\3502057095.py:78: SerializationWarning: Unable to decode time axis into full numpy.datetime64[ns] objects, continuing using cftime.datetime objects instead, reason: dates out of range. To silence this warning use a coarser resolution 'time_unit' or specify 'use_cftime=True'.\n",
      "  model_ds = xr.open_dataset(model_file_path)\n",
      "C:\\Users\\benra\\AppData\\Local\\Temp\\ipykernel_28696\\3502057095.py:78: SerializationWarning: Unable to decode time axis into full numpy.datetime64[ns] objects, continuing using cftime.datetime objects instead, reason: dates out of range. To silence this warning use a coarser resolution 'time_unit' or specify 'use_cftime=True'.\n",
      "  model_ds = xr.open_dataset(model_file_path)\n"
     ]
    },
    {
     "name": "stdout",
     "output_type": "stream",
     "text": [
      "    Warning: Model file not found for UAF_PISM2 in exp09. Skipping.\n",
      "    Warning: Model file not found for UCIJPL_ISSM2 in exp09. Skipping.\n",
      "    Warning: Model file not found for VUW_PISM in exp09. Skipping.\n"
     ]
    },
    {
     "name": "stderr",
     "output_type": "stream",
     "text": [
      "C:\\Users\\benra\\anaconda3\\Lib\\site-packages\\sklearn\\cluster\\_kmeans.py:1382: UserWarning: KMeans is known to have a memory leak on Windows with MKL, when there are less chunks than available threads. You can avoid it by setting the environment variable OMP_NUM_THREADS=1.\n",
      "  warnings.warn(\n",
      "C:\\Users\\benra\\AppData\\Local\\Temp\\ipykernel_28696\\3502057095.py:199: RuntimeWarning: invalid value encountered in sqrt\n",
      "  height = 2 * np.sqrt(eigenvalues[1] * chi2_val) # Minor axis\n"
     ]
    },
    {
     "name": "stdout",
     "output_type": "stream",
     "text": [
      "  Generated PCA plot for Basin NW, Experiment exp09\n",
      "  Processing Experiment: exp10\n"
     ]
    },
    {
     "name": "stderr",
     "output_type": "stream",
     "text": [
      "C:\\Users\\benra\\AppData\\Local\\Temp\\ipykernel_28696\\3502057095.py:78: SerializationWarning: Unable to decode time axis into full numpy.datetime64[ns] objects, continuing using cftime.datetime objects instead, reason: dates out of range. To silence this warning use a coarser resolution 'time_unit' or specify 'use_cftime=True'.\n",
      "  model_ds = xr.open_dataset(model_file_path)\n",
      "C:\\Users\\benra\\AppData\\Local\\Temp\\ipykernel_28696\\3502057095.py:78: SerializationWarning: Unable to decode time axis into full numpy.datetime64[ns] objects, continuing using cftime.datetime objects instead, reason: dates out of range. To silence this warning use a coarser resolution 'time_unit' or specify 'use_cftime=True'.\n",
      "  model_ds = xr.open_dataset(model_file_path)\n"
     ]
    },
    {
     "name": "stdout",
     "output_type": "stream",
     "text": [
      "    Warning: Model file not found for UAF_PISM2 in exp10. Skipping.\n",
      "    Warning: Model file not found for UCIJPL_ISSM2 in exp10. Skipping.\n",
      "    Warning: Model file not found for VUW_PISM in exp10. Skipping.\n"
     ]
    },
    {
     "name": "stderr",
     "output_type": "stream",
     "text": [
      "C:\\Users\\benra\\anaconda3\\Lib\\site-packages\\sklearn\\cluster\\_kmeans.py:1382: UserWarning: KMeans is known to have a memory leak on Windows with MKL, when there are less chunks than available threads. You can avoid it by setting the environment variable OMP_NUM_THREADS=1.\n",
      "  warnings.warn(\n"
     ]
    },
    {
     "name": "stdout",
     "output_type": "stream",
     "text": [
      "  Generated PCA plot for Basin NW, Experiment exp10\n",
      "  Processing Experiment: expa01\n",
      "    Warning: Model file not found for IMAU_IMAUICE1 in expa01. Skipping.\n",
      "    Warning: Model file not found for JPL_ISSMPALEO in expa01. Skipping.\n",
      "    Warning: Model file not found for MUN_GSM1 in expa01. Skipping.\n",
      "    Warning: Model file not found for MUN_GSM2 in expa01. Skipping.\n"
     ]
    },
    {
     "name": "stderr",
     "output_type": "stream",
     "text": [
      "C:\\Users\\benra\\AppData\\Local\\Temp\\ipykernel_28696\\3502057095.py:78: SerializationWarning: Unable to decode time axis into full numpy.datetime64[ns] objects, continuing using cftime.datetime objects instead, reason: dates out of range. To silence this warning use a coarser resolution 'time_unit' or specify 'use_cftime=True'.\n",
      "  model_ds = xr.open_dataset(model_file_path)\n",
      "C:\\Users\\benra\\AppData\\Local\\Temp\\ipykernel_28696\\3502057095.py:78: SerializationWarning: Unable to decode time axis into full numpy.datetime64[ns] objects, continuing using cftime.datetime objects instead, reason: dates out of range. To silence this warning use a coarser resolution 'time_unit' or specify 'use_cftime=True'.\n",
      "  model_ds = xr.open_dataset(model_file_path)\n",
      "C:\\Users\\benra\\AppData\\Local\\Temp\\ipykernel_28696\\3502057095.py:78: SerializationWarning: Unable to decode time axis into full numpy.datetime64[ns] objects, continuing using cftime.datetime objects instead, reason: dates out of range. To silence this warning use a coarser resolution 'time_unit' or specify 'use_cftime=True'.\n",
      "  model_ds = xr.open_dataset(model_file_path)\n",
      "C:\\Users\\benra\\AppData\\Local\\Temp\\ipykernel_28696\\3502057095.py:78: SerializationWarning: Unable to decode time axis into full numpy.datetime64[ns] objects, continuing using cftime.datetime objects instead, reason: dates out of range. To silence this warning use a coarser resolution 'time_unit' or specify 'use_cftime=True'.\n",
      "  model_ds = xr.open_dataset(model_file_path)\n"
     ]
    },
    {
     "name": "stdout",
     "output_type": "stream",
     "text": [
      "    Warning: Model file not found for UCIJPL_ISSM2 in expa01. Skipping.\n",
      "    Warning: Model file not found for VUW_PISM in expa01. Skipping.\n"
     ]
    },
    {
     "name": "stderr",
     "output_type": "stream",
     "text": [
      "C:\\Users\\benra\\anaconda3\\Lib\\site-packages\\sklearn\\cluster\\_kmeans.py:1382: UserWarning: KMeans is known to have a memory leak on Windows with MKL, when there are less chunks than available threads. You can avoid it by setting the environment variable OMP_NUM_THREADS=1.\n",
      "  warnings.warn(\n"
     ]
    },
    {
     "name": "stdout",
     "output_type": "stream",
     "text": [
      "  Generated PCA plot for Basin NW, Experiment expa01\n",
      "  Processing Experiment: expa02\n",
      "    Warning: Model file not found for IMAU_IMAUICE1 in expa02. Skipping.\n",
      "    Warning: Model file not found for JPL_ISSMPALEO in expa02. Skipping.\n",
      "    Warning: Model file not found for MUN_GSM1 in expa02. Skipping.\n",
      "    Warning: Model file not found for MUN_GSM2 in expa02. Skipping.\n"
     ]
    },
    {
     "name": "stderr",
     "output_type": "stream",
     "text": [
      "C:\\Users\\benra\\AppData\\Local\\Temp\\ipykernel_28696\\3502057095.py:78: SerializationWarning: Unable to decode time axis into full numpy.datetime64[ns] objects, continuing using cftime.datetime objects instead, reason: dates out of range. To silence this warning use a coarser resolution 'time_unit' or specify 'use_cftime=True'.\n",
      "  model_ds = xr.open_dataset(model_file_path)\n",
      "C:\\Users\\benra\\AppData\\Local\\Temp\\ipykernel_28696\\3502057095.py:78: SerializationWarning: Unable to decode time axis into full numpy.datetime64[ns] objects, continuing using cftime.datetime objects instead, reason: dates out of range. To silence this warning use a coarser resolution 'time_unit' or specify 'use_cftime=True'.\n",
      "  model_ds = xr.open_dataset(model_file_path)\n",
      "C:\\Users\\benra\\AppData\\Local\\Temp\\ipykernel_28696\\3502057095.py:78: SerializationWarning: Unable to decode time axis into full numpy.datetime64[ns] objects, continuing using cftime.datetime objects instead, reason: dates out of range. To silence this warning use a coarser resolution 'time_unit' or specify 'use_cftime=True'.\n",
      "  model_ds = xr.open_dataset(model_file_path)\n",
      "C:\\Users\\benra\\AppData\\Local\\Temp\\ipykernel_28696\\3502057095.py:78: SerializationWarning: Unable to decode time axis into full numpy.datetime64[ns] objects, continuing using cftime.datetime objects instead, reason: dates out of range. To silence this warning use a coarser resolution 'time_unit' or specify 'use_cftime=True'.\n",
      "  model_ds = xr.open_dataset(model_file_path)\n"
     ]
    },
    {
     "name": "stdout",
     "output_type": "stream",
     "text": [
      "    Warning: Model file not found for UCIJPL_ISSM2 in expa02. Skipping.\n",
      "    Warning: Model file not found for VUW_PISM in expa02. Skipping.\n"
     ]
    },
    {
     "name": "stderr",
     "output_type": "stream",
     "text": [
      "C:\\Users\\benra\\anaconda3\\Lib\\site-packages\\sklearn\\cluster\\_kmeans.py:1382: UserWarning: KMeans is known to have a memory leak on Windows with MKL, when there are less chunks than available threads. You can avoid it by setting the environment variable OMP_NUM_THREADS=1.\n",
      "  warnings.warn(\n"
     ]
    },
    {
     "name": "stdout",
     "output_type": "stream",
     "text": [
      "  Generated PCA plot for Basin NW, Experiment expa02\n",
      "  Processing Experiment: expa03\n",
      "    Warning: Model file not found for IMAU_IMAUICE1 in expa03. Skipping.\n",
      "    Warning: Model file not found for JPL_ISSMPALEO in expa03. Skipping.\n",
      "    Warning: Model file not found for MUN_GSM1 in expa03. Skipping.\n",
      "    Warning: Model file not found for MUN_GSM2 in expa03. Skipping.\n"
     ]
    },
    {
     "name": "stderr",
     "output_type": "stream",
     "text": [
      "C:\\Users\\benra\\AppData\\Local\\Temp\\ipykernel_28696\\3502057095.py:78: SerializationWarning: Unable to decode time axis into full numpy.datetime64[ns] objects, continuing using cftime.datetime objects instead, reason: dates out of range. To silence this warning use a coarser resolution 'time_unit' or specify 'use_cftime=True'.\n",
      "  model_ds = xr.open_dataset(model_file_path)\n",
      "C:\\Users\\benra\\AppData\\Local\\Temp\\ipykernel_28696\\3502057095.py:78: SerializationWarning: Unable to decode time axis into full numpy.datetime64[ns] objects, continuing using cftime.datetime objects instead, reason: dates out of range. To silence this warning use a coarser resolution 'time_unit' or specify 'use_cftime=True'.\n",
      "  model_ds = xr.open_dataset(model_file_path)\n",
      "C:\\Users\\benra\\AppData\\Local\\Temp\\ipykernel_28696\\3502057095.py:78: SerializationWarning: Unable to decode time axis into full numpy.datetime64[ns] objects, continuing using cftime.datetime objects instead, reason: dates out of range. To silence this warning use a coarser resolution 'time_unit' or specify 'use_cftime=True'.\n",
      "  model_ds = xr.open_dataset(model_file_path)\n",
      "C:\\Users\\benra\\AppData\\Local\\Temp\\ipykernel_28696\\3502057095.py:78: SerializationWarning: Unable to decode time axis into full numpy.datetime64[ns] objects, continuing using cftime.datetime objects instead, reason: dates out of range. To silence this warning use a coarser resolution 'time_unit' or specify 'use_cftime=True'.\n",
      "  model_ds = xr.open_dataset(model_file_path)\n"
     ]
    },
    {
     "name": "stdout",
     "output_type": "stream",
     "text": [
      "    Warning: Model file not found for UCIJPL_ISSM2 in expa03. Skipping.\n",
      "    Warning: Model file not found for VUW_PISM in expa03. Skipping.\n"
     ]
    },
    {
     "name": "stderr",
     "output_type": "stream",
     "text": [
      "C:\\Users\\benra\\anaconda3\\Lib\\site-packages\\sklearn\\cluster\\_kmeans.py:1382: UserWarning: KMeans is known to have a memory leak on Windows with MKL, when there are less chunks than available threads. You can avoid it by setting the environment variable OMP_NUM_THREADS=1.\n",
      "  warnings.warn(\n",
      "C:\\Users\\benra\\AppData\\Local\\Temp\\ipykernel_28696\\3502057095.py:199: RuntimeWarning: invalid value encountered in sqrt\n",
      "  height = 2 * np.sqrt(eigenvalues[1] * chi2_val) # Minor axis\n"
     ]
    },
    {
     "name": "stdout",
     "output_type": "stream",
     "text": [
      "  Generated PCA plot for Basin NW, Experiment expa03\n",
      "  Generated ARI Heatmap for Basin NW\n",
      "\n",
      "--- Analysis Complete ---\n"
     ]
    }
   ],
   "source": [
    "# This one will compare experiments without the same list of participating models\n",
    "\n",
    "# --- Load Basin Mask ---\n",
    "try:\n",
    "    basin_mask_data = xr.open_dataset(basin_mask_path)\n",
    "    # --- DEBUGGING: Print all data variables to confirm 'IDs' name ---\n",
    "    print(f\"Data variables found in basin mask file: {list(basin_mask_data.data_vars.keys())}\")\n",
    "\n",
    "    # Attempt to load 'IDs' variable, stripping any potential whitespace from its name\n",
    "    # This handles cases where the name might be 'IDs ' or ' IDs'\n",
    "    basin_id_var_name = None\n",
    "    for var_key in basin_mask_data.data_vars.keys():\n",
    "        if var_key.strip() == 'IDs':\n",
    "            basin_id_var_name = var_key\n",
    "            break\n",
    "    \n",
    "    if basin_id_var_name is None:\n",
    "        raise KeyError(\"Could not find 'IDs' variable (even after stripping whitespace) in basin mask NetCDF.\")\n",
    "\n",
    "    basin_ids_grid = basin_mask_data[basin_id_var_name]\n",
    "    unique_basin_ids = np.unique(basin_ids_grid.values[~np.isnan(basin_ids_grid.values)]).astype(int)\n",
    "    print(f\"Found {len(unique_basin_ids)} unique basins: {unique_basin_ids}\")\n",
    "\n",
    "    # Get grid coordinates and shape from the basin mask (assuming it's on the same grid)\n",
    "    x_coords_grid = basin_ids_grid['x'].values if 'x' in basin_ids_grid.coords else basin_ids_grid.coords[basin_ids_grid.dims[1]].values\n",
    "    y_coords_grid = basin_ids_grid['y'].values if 'y' in basin_ids_grid.coords else basin_ids_grid.coords[basin_ids_grid.dims[0]].values\n",
    "    rows_grid, cols_grid = basin_ids_grid.shape\n",
    "except FileNotFoundError:\n",
    "    print(f\"Error: Basin mask file not found at {basin_mask_path}\")\n",
    "    exit()\n",
    "except KeyError as e:\n",
    "    print(f\"Error: {e}. Please check the variable name or file path for the basin mask.\")\n",
    "    exit()\n",
    "except Exception as e:\n",
    "    print(f\"An unexpected error occurred while loading basin mask: {e}\")\n",
    "    exit()\n",
    "\n",
    "\n",
    "# --- Main Analysis Loop: Per Basin ---\n",
    "for basin_id in unique_basin_ids:\n",
    "    # Get the geographic name for the current basin, default to number if not found\n",
    "    basin_geo_name = basin_names.get(basin_id, f\"Basin {basin_id}\")\n",
    "    print(f\"\\n--- Processing Basin: {basin_geo_name} (ID: {basin_id}) ---\")\n",
    "\n",
    "    # Dictionary to store cluster labels AND the list of models present for each experiment for the current basin\n",
    "    # Key: experiment_id, Value: tuple (numpy array of cluster labels, list of model names)\n",
    "    basin_experiment_clustering_results = {} # RENAMED for clarity\n",
    "\n",
    "    # Create a directory for basin-specific plots\n",
    "    # Use the geographic name for the folder for better organization\n",
    "    basin_output_dir = os.path.join(output_plots_dir, f\"Basin_{basin_geo_name}\")\n",
    "    os.makedirs(basin_output_dir, exist_ok=True)\n",
    "\n",
    "    # Dictionary to store PCA scores for plotting (for the 2D clustering plot)\n",
    "    basin_experiment_pca_scores = {}\n",
    "\n",
    "    # Loop through each experiment for the current basin\n",
    "    for exp_id in experiment_ids:\n",
    "        print(f\"  Processing Experiment: {exp_id}\")\n",
    "        current_experiment_basin_deltas = []\n",
    "        current_experiment_models_present = [] # Keep track of models actually loaded\n",
    "\n",
    "        # Construct the actual folder name for the current experiment\n",
    "        experiment_folder_name = f\"{variable_name}_{exp_id}\" # e.g., 'lithk_exp05'\n",
    "\n",
    "        # Loop through each model in the current experiment\n",
    "        for model_name in participating_models:\n",
    "            # --- Construct the model file name based on the new convention ---\n",
    "            # Example: lithk_GIS_AWI-ISSM1_exp05.nc\n",
    "            model_file_name = f\"{variable_name}_GIS_{model_name}_{exp_id}.nc\"\n",
    "            model_file_path = os.path.join(base_data_dir, experiment_folder_name, model_file_name)\n",
    "\n",
    "            if not os.path.exists(model_file_path):\n",
    "                print(f\"    Warning: Model file not found for {model_name} in {exp_id}. Skipping.\")\n",
    "                continue # Skip this model if its file doesn't exist\n",
    "\n",
    "            try:\n",
    "                model_ds = xr.open_dataset(model_file_path)\n",
    "                # Ensure 'time' dimension exists and is sufficient\n",
    "                if 'time' not in model_ds[variable_name].dims or len(model_ds['time']) < 2:\n",
    "                    print(f\"    Warning: '{variable_name}' in {model_name}/{exp_id} has insufficient time dimension. Skipping.\")\n",
    "                    model_ds.close()\n",
    "                    continue\n",
    "\n",
    "                # Calculate delta lithk from 2015 (index 0) to 2100 (last index)\n",
    "                # Assuming time dimension is sorted and 2015 is first, 2100 is last.\n",
    "                delta_lithk = model_ds[variable_name].isel(time=-1) - model_ds[variable_name].isel(time=0)\n",
    "\n",
    "                # Close dataset to free memory\n",
    "                model_ds.close()\n",
    "\n",
    "                # --- FIX FOR MEMORYERROR: Ensure spatial alignment before masking ---\n",
    "                # Rename dimensions of delta_lithk to match basin_ids_grid\n",
    "                target_dims = basin_ids_grid.dims\n",
    "                \n",
    "                if len(delta_lithk.dims) == len(target_dims):\n",
    "                    dim_rename_map = {old_dim: new_dim for old_dim, new_dim in zip(delta_lithk.dims, target_dims)}\n",
    "                    delta_lithk_aligned = delta_lithk.rename(dim_rename_map)\n",
    "                else:\n",
    "                    print(f\"    Warning: Delta_lithk for {model_name} in {exp_id} has unexpected dimensions: {delta_lithk.dims}. Skipping alignment.\")\n",
    "                    delta_lithk_aligned = delta_lithk\n",
    "\n",
    "                delta_lithk_reindexed = delta_lithk_aligned.reindex_like(basin_ids_grid, method='nearest', tolerance=1e-6)\n",
    "\n",
    "                # Now apply the mask using the reindexed delta_lithk\n",
    "                basin_specific_delta = delta_lithk_reindexed.where(basin_ids_grid == basin_id)\n",
    "\n",
    "                # Flatten the 2D basin-specific delta to a 1D array\n",
    "                flattened_delta = basin_specific_delta.values.flatten()\n",
    "                current_experiment_basin_deltas.append(flattened_delta)\n",
    "                current_experiment_models_present.append(model_name)\n",
    "\n",
    "            except Exception as e:\n",
    "                print(f\"    Error processing {model_name} in {exp_id}: {e}. Skipping.\")\n",
    "                if 'model_ds' in locals() and model_ds is not None:\n",
    "                    model_ds.close()\n",
    "                continue\n",
    "\n",
    "        if not current_experiment_models_present:\n",
    "            print(f\"  No valid model data found for Experiment {exp_id} in Basin {basin_id}. Skipping clustering.\")\n",
    "            continue # Skip clustering for this experiment if no data\n",
    "\n",
    "        # Stack all models' basin-specific deltas into a matrix\n",
    "        all_models_basin_data = np.stack(current_experiment_basin_deltas)\n",
    "\n",
    "        # Handle NaNs: Remove grid points that are NaN for *any* model in this basin/experiment\n",
    "        mask_valid_points = ~np.any(np.isnan(all_models_basin_data), axis=0)\n",
    "        data_matrix_for_clustering = all_models_basin_data[:, mask_valid_points]\n",
    "\n",
    "        if data_matrix_for_clustering.shape[1] == 0:\n",
    "            print(f\"  No valid (non-NaN) data points for clustering in Experiment {exp_id}, Basin {basin_id}. Skipping.\")\n",
    "            continue # Skip if no valid spatial points remain after masking\n",
    "\n",
    "        # --- Perform PCA ---\n",
    "        scaler = StandardScaler()\n",
    "        data_matrix_scaled = scaler.fit_transform(data_matrix_for_clustering)\n",
    "\n",
    "        pca = PCA(n_components=n_components_pca)\n",
    "        pca_scores = pca.fit_transform(data_matrix_scaled)\n",
    "        basin_experiment_pca_scores[exp_id] = pca_scores # Store for plotting\n",
    "\n",
    "        # --- Perform K-Means Clustering ---\n",
    "        kmeans = KMeans(n_clusters=n_clusters_kmeans, random_state=0, n_init='auto')\n",
    "        labels = kmeans.fit_predict(pca_scores)\n",
    "        \n",
    "        # Store both labels and the list of models present for this experiment\n",
    "        basin_experiment_clustering_results[exp_id] = (labels, current_experiment_models_present)\n",
    "\n",
    "\n",
    "        # --- Generate 2D PCA Plot for this Basin/Experiment ---\n",
    "        fig_2d, ax_2d = plt.subplots(figsize=(12, 10)) # Increased figure size for legend\n",
    "\n",
    "        # Define cluster colors (matching viridis cmap)\n",
    "        cluster_colors = [plt.cm.viridis(i / (n_clusters_kmeans - 1)) for i in range(n_clusters_kmeans)]\n",
    "\n",
    "        # Loop through models present in THIS experiment to ensure correct labels and plotting\n",
    "        for i, model_name in enumerate(current_experiment_models_present):\n",
    "            cluster_id = labels[i]\n",
    "            color = cluster_colors[cluster_id]\n",
    "            marker = model_to_marker[model_name]\n",
    "\n",
    "            ax_2d.scatter(\n",
    "                pca_scores[i, 0],\n",
    "                pca_scores[i, 1],\n",
    "                c=[color],\n",
    "                marker=marker,\n",
    "                label=None, # Labels are for custom legend handles below\n",
    "                s=250, # Increased marker size\n",
    "                edgecolor='black',\n",
    "                alpha=0.8\n",
    "            )\n",
    "\n",
    "        # --- Add Ellipses for each Cluster in 2D Plot ---\n",
    "        # Chi-squared critical value for 95% confidence with 2 degrees of freedom\n",
    "        confidence_level = 0.95\n",
    "        chi2_val = stats.chi2.ppf(confidence_level, df=2)\n",
    "\n",
    "        for cluster_id in np.unique(labels):\n",
    "            cluster_points = pca_scores[labels == cluster_id, :2] # Select points for this cluster (PC1, PC2)\n",
    "\n",
    "            if len(cluster_points) < 2: # Need at least 2 points to compute covariance for an ellipse\n",
    "                continue\n",
    "\n",
    "            centroid = np.mean(cluster_points, axis=0)\n",
    "            covariance = np.cov(cluster_points, rowvar=False)\n",
    "\n",
    "            eigenvalues, eigenvectors = np.linalg.eigh(covariance)\n",
    "\n",
    "            # Sort eigenvalues and eigenvectors in descending order for correct orientation\n",
    "            order = eigenvalues.argsort()[::-1]\n",
    "            eigenvalues = eigenvalues[order]\n",
    "            eigenvectors = eigenvectors[:, order]\n",
    "\n",
    "            # Calculate angle of rotation for the ellipse\n",
    "            angle = np.degrees(np.arctan2(*eigenvectors[:, 0][::-1]))\n",
    "\n",
    "            # Calculate width and height of the ellipse axes\n",
    "            width = 2 * np.sqrt(eigenvalues[0] * chi2_val) # Major axis\n",
    "            height = 2 * np.sqrt(eigenvalues[1] * chi2_val) # Minor axis\n",
    "\n",
    "            ellipse_color = cluster_colors[cluster_id]\n",
    "            ellipse = Ellipse(xy=centroid, width=width, height=height,\n",
    "                              angle=angle, edgecolor=ellipse_color, fc='None',\n",
    "                              lw=2, alpha=0.7, zorder=0) # zorder to keep it behind points\n",
    "            ax_2d.add_patch(ellipse)\n",
    "\n",
    "        # Create a custom legend for clusters and models\n",
    "        # For clusters\n",
    "        cluster_legend_handles = []\n",
    "        for i in range(n_clusters_kmeans):\n",
    "            cluster_legend_handles.append(plt.Line2D([0], [0], marker='o', color='w',\n",
    "                                                     markerfacecolor=cluster_colors[i], markersize=10,\n",
    "                                                     label=f'Cluster {i}'))\n",
    "\n",
    "        # For models - ENSURE MARKER COLOR MATCHES PLOT COLOR\n",
    "        model_legend_handles = []\n",
    "        for i, model_name in enumerate(current_experiment_models_present): # Use current_experiment_models_present\n",
    "            cluster_id = labels[i] # Get the cluster ID for the current model\n",
    "            model_color = cluster_colors[cluster_id] # Get the color associated with that cluster\n",
    "            model_legend_handles.append(plt.Line2D([0], [0], marker=model_to_marker[model_name], color='w',\n",
    "                                                   markerfacecolor=model_color, # Use the model's cluster color here\n",
    "                                                   markersize=10,\n",
    "                                                   label=model_name, markeredgecolor='black'))\n",
    "\n",
    "        # Add the cluster legend\n",
    "        first_legend = ax_2d.legend(handles=cluster_legend_handles, loc='upper left', title='Clusters', bbox_to_anchor=(1.02, 1))\n",
    "        ax_2d.add_artist(first_legend) # Add the first legend manually to allow a second one\n",
    "\n",
    "        # Add the model legend\n",
    "        ax_2d.legend(handles=model_legend_handles, loc='lower left', title='Models', bbox_to_anchor=(1.02, 0))\n",
    "\n",
    "\n",
    "        ax_2d.set_xlabel(f'Principal Component 1 ({pca.explained_variance_ratio_[0]*100:.2f}%)')\n",
    "        ax_2d.set_ylabel(f'Principal Component 2 ({pca.explained_variance_ratio_[1]*100:.2f}%)')\n",
    "        plt.title(f'PCA Clustering for Basin {basin_geo_name}, Experiment {exp_id}')\n",
    "        plt.grid(True, linestyle='--', alpha=0.6) # Keep grid\n",
    "        plt.tight_layout(rect=[0, 0, 0.85, 1]) # Adjust layout to make space for the legend\n",
    "\n",
    "        # Save 2D plot\n",
    "        plt.savefig(os.path.join(basin_output_dir, f'PCA_Clustering_Basin_{basin_geo_name}_Exp_{exp_id}.png'))\n",
    "        plt.close(fig_2d) # Close the figure to free memory\n",
    "\n",
    "        print(f\"  Generated PCA plot for Basin {basin_geo_name}, Experiment {exp_id}\")\n",
    "\n",
    "    # --- Generate ARI Heatmap for the current basin (after processing all experiments) ---\n",
    "    # MODIFIED: Use basin_experiment_clustering_results to get both labels and model lists\n",
    "    if len(basin_experiment_clustering_results) < 2:\n",
    "        print(f\"  Not enough experiments with valid clustering results for Basin {basin_id} to compute ARI heatmap. Skipping.\")\n",
    "        continue\n",
    "\n",
    "    # Filter experiment_ids to only include those that had valid clustering results\n",
    "    experiments_with_valid_results = list(basin_experiment_clustering_results.keys())\n",
    "    ari_matrix = np.zeros((len(experiments_with_valid_results), len(experiments_with_valid_results)))\n",
    "    ari_df = pd.DataFrame(ari_matrix, index=experiments_with_valid_results, columns=experiments_with_valid_results)\n",
    "\n",
    "    for i, exp1_id in enumerate(experiments_with_valid_results):\n",
    "        for j, exp2_id in enumerate(experiments_with_valid_results):\n",
    "            labels1_full, models1 = basin_experiment_clustering_results[exp1_id]\n",
    "            labels2_full, models2 = basin_experiment_clustering_results[exp2_id]\n",
    "            \n",
    "            # Find common models between the two experiments\n",
    "            common_models = sorted(list(set(models1).intersection(set(models2))))\n",
    "\n",
    "            if len(common_models) < 2: # Need at least 2 common models to compute ARI\n",
    "                ari_score = np.nan\n",
    "            else:\n",
    "                # Create aligned label arrays for only the common models\n",
    "                # Map model names to their original indices to get correct labels\n",
    "                model_to_idx1 = {model: idx for idx, model in enumerate(models1)}\n",
    "                model_to_idx2 = {model: idx for idx, model in enumerate(models2)}\n",
    "                \n",
    "                labels1_common = [labels1_full[model_to_idx1[m]] for m in common_models]\n",
    "                labels2_common = [labels2_full[model_to_idx2[m]] for m in common_models]\n",
    "                \n",
    "                ari_score = adjusted_rand_score(labels1_common, labels2_common)\n",
    "            \n",
    "            ari_df.iloc[i, j] = ari_score\n",
    "\n",
    "    # Plotting the ARI Heatmap\n",
    "    plt.figure(figsize=(12, 10))\n",
    "    sns.heatmap(ari_df, annot=True, cmap='viridis', fmt=\".2f\", linewidths=.5, linecolor='black')\n",
    "    plt.title(f'Adjusted Rand Index (ARI) Heatmap for Basin {basin_geo_name} Clusterings (Common Models)') # Use geo name in title\n",
    "    plt.xlabel('Experiment ID')\n",
    "    plt.ylabel('Experiment ID')\n",
    "    plt.tight_layout()\n",
    "    plt.savefig(os.path.join(basin_output_dir, f'ARI_Heatmap_Basin_{basin_geo_name}.png')) # Use geo name in filename\n",
    "    plt.close()\n",
    "    print(f\"  Generated ARI Heatmap for Basin {basin_geo_name}\")\n",
    "\n",
    "print(\"\\n--- Analysis Complete ---\")"
   ]
  },
  {
   "cell_type": "code",
   "execution_count": 1,
   "id": "2d892097",
   "metadata": {},
   "outputs": [
    {
     "name": "stderr",
     "output_type": "stream",
     "text": [
      "C:\\Users\\benra\\anaconda3\\Lib\\site-packages\\paramiko\\transport.py:219: CryptographyDeprecationWarning: Blowfish has been deprecated and will be removed in a future release\n",
      "  \"class\": algorithms.Blowfish,\n"
     ]
    },
    {
     "name": "stdout",
     "output_type": "stream",
     "text": [
      "Data variables found in basin mask file: ['original_masked_IDs', 'IDs']\n",
      "Found 7 unique basins: [1 2 3 4 5 6 7]\n",
      "\n",
      "--- Processing Basin: NO (ID: 1) ---\n",
      "  Processing Experiment: exp05\n"
     ]
    },
    {
     "name": "stderr",
     "output_type": "stream",
     "text": [
      "C:\\Users\\benra\\AppData\\Local\\Temp\\ipykernel_27320\\2871396845.py:147: SerializationWarning: Unable to decode time axis into full numpy.datetime64[ns] objects, continuing using cftime.datetime objects instead, reason: dates out of range. To silence this warning use a coarser resolution 'time_unit' or specify 'use_cftime=True'.\n",
      "  model_ds = xr.open_dataset(model_file_path)\n",
      "C:\\Users\\benra\\AppData\\Local\\Temp\\ipykernel_27320\\2871396845.py:147: SerializationWarning: Unable to decode time axis into full numpy.datetime64[ns] objects, continuing using cftime.datetime objects instead, reason: dates out of range. To silence this warning use a coarser resolution 'time_unit' or specify 'use_cftime=True'.\n",
      "  model_ds = xr.open_dataset(model_file_path)\n",
      "C:\\Users\\benra\\anaconda3\\Lib\\site-packages\\sklearn\\cluster\\_kmeans.py:1382: UserWarning: KMeans is known to have a memory leak on Windows with MKL, when there are less chunks than available threads. You can avoid it by setting the environment variable OMP_NUM_THREADS=1.\n",
      "  warnings.warn(\n",
      "C:\\Users\\benra\\AppData\\Local\\Temp\\ipykernel_27320\\2871396845.py:242: UserWarning: You passed a edgecolor/edgecolors ('black') for an unfilled marker ('+').  Matplotlib is ignoring the edgecolor in favor of the facecolor.  This behavior may change in the future.\n",
      "  ax_2d.scatter(\n",
      "C:\\Users\\benra\\AppData\\Local\\Temp\\ipykernel_27320\\2871396845.py:279: RuntimeWarning: invalid value encountered in sqrt\n",
      "  height = 2 * np.sqrt(eigenvalues[1] * chi2_val) # Minor axis\n"
     ]
    },
    {
     "name": "stdout",
     "output_type": "stream",
     "text": [
      "  Generated PCA plot for Basin NO, Experiment exp05\n",
      "  Processing Experiment: exp06\n"
     ]
    },
    {
     "name": "stderr",
     "output_type": "stream",
     "text": [
      "C:\\Users\\benra\\AppData\\Local\\Temp\\ipykernel_27320\\2871396845.py:147: SerializationWarning: Unable to decode time axis into full numpy.datetime64[ns] objects, continuing using cftime.datetime objects instead, reason: dates out of range. To silence this warning use a coarser resolution 'time_unit' or specify 'use_cftime=True'.\n",
      "  model_ds = xr.open_dataset(model_file_path)\n",
      "C:\\Users\\benra\\AppData\\Local\\Temp\\ipykernel_27320\\2871396845.py:147: SerializationWarning: Unable to decode time axis into full numpy.datetime64[ns] objects, continuing using cftime.datetime objects instead, reason: dates out of range. To silence this warning use a coarser resolution 'time_unit' or specify 'use_cftime=True'.\n",
      "  model_ds = xr.open_dataset(model_file_path)\n",
      "C:\\Users\\benra\\anaconda3\\Lib\\site-packages\\sklearn\\cluster\\_kmeans.py:1382: UserWarning: KMeans is known to have a memory leak on Windows with MKL, when there are less chunks than available threads. You can avoid it by setting the environment variable OMP_NUM_THREADS=1.\n",
      "  warnings.warn(\n",
      "C:\\Users\\benra\\AppData\\Local\\Temp\\ipykernel_27320\\2871396845.py:242: UserWarning: You passed a edgecolor/edgecolors ('black') for an unfilled marker ('+').  Matplotlib is ignoring the edgecolor in favor of the facecolor.  This behavior may change in the future.\n",
      "  ax_2d.scatter(\n"
     ]
    },
    {
     "name": "stdout",
     "output_type": "stream",
     "text": [
      "  Generated PCA plot for Basin NO, Experiment exp06\n",
      "  Processing Experiment: exp07\n"
     ]
    },
    {
     "name": "stderr",
     "output_type": "stream",
     "text": [
      "C:\\Users\\benra\\AppData\\Local\\Temp\\ipykernel_27320\\2871396845.py:147: SerializationWarning: Unable to decode time axis into full numpy.datetime64[ns] objects, continuing using cftime.datetime objects instead, reason: dates out of range. To silence this warning use a coarser resolution 'time_unit' or specify 'use_cftime=True'.\n",
      "  model_ds = xr.open_dataset(model_file_path)\n",
      "C:\\Users\\benra\\AppData\\Local\\Temp\\ipykernel_27320\\2871396845.py:147: SerializationWarning: Unable to decode time axis into full numpy.datetime64[ns] objects, continuing using cftime.datetime objects instead, reason: dates out of range. To silence this warning use a coarser resolution 'time_unit' or specify 'use_cftime=True'.\n",
      "  model_ds = xr.open_dataset(model_file_path)\n",
      "C:\\Users\\benra\\anaconda3\\Lib\\site-packages\\sklearn\\cluster\\_kmeans.py:1382: UserWarning: KMeans is known to have a memory leak on Windows with MKL, when there are less chunks than available threads. You can avoid it by setting the environment variable OMP_NUM_THREADS=1.\n",
      "  warnings.warn(\n",
      "C:\\Users\\benra\\AppData\\Local\\Temp\\ipykernel_27320\\2871396845.py:242: UserWarning: You passed a edgecolor/edgecolors ('black') for an unfilled marker ('+').  Matplotlib is ignoring the edgecolor in favor of the facecolor.  This behavior may change in the future.\n",
      "  ax_2d.scatter(\n"
     ]
    },
    {
     "name": "stdout",
     "output_type": "stream",
     "text": [
      "  Generated PCA plot for Basin NO, Experiment exp07\n",
      "  Processing Experiment: exp08\n"
     ]
    },
    {
     "name": "stderr",
     "output_type": "stream",
     "text": [
      "C:\\Users\\benra\\AppData\\Local\\Temp\\ipykernel_27320\\2871396845.py:147: SerializationWarning: Unable to decode time axis into full numpy.datetime64[ns] objects, continuing using cftime.datetime objects instead, reason: dates out of range. To silence this warning use a coarser resolution 'time_unit' or specify 'use_cftime=True'.\n",
      "  model_ds = xr.open_dataset(model_file_path)\n",
      "C:\\Users\\benra\\AppData\\Local\\Temp\\ipykernel_27320\\2871396845.py:147: SerializationWarning: Unable to decode time axis into full numpy.datetime64[ns] objects, continuing using cftime.datetime objects instead, reason: dates out of range. To silence this warning use a coarser resolution 'time_unit' or specify 'use_cftime=True'.\n",
      "  model_ds = xr.open_dataset(model_file_path)\n",
      "C:\\Users\\benra\\anaconda3\\Lib\\site-packages\\sklearn\\cluster\\_kmeans.py:1382: UserWarning: KMeans is known to have a memory leak on Windows with MKL, when there are less chunks than available threads. You can avoid it by setting the environment variable OMP_NUM_THREADS=1.\n",
      "  warnings.warn(\n",
      "C:\\Users\\benra\\AppData\\Local\\Temp\\ipykernel_27320\\2871396845.py:242: UserWarning: You passed a edgecolor/edgecolors ('black') for an unfilled marker ('+').  Matplotlib is ignoring the edgecolor in favor of the facecolor.  This behavior may change in the future.\n",
      "  ax_2d.scatter(\n",
      "C:\\Users\\benra\\AppData\\Local\\Temp\\ipykernel_27320\\2871396845.py:279: RuntimeWarning: invalid value encountered in sqrt\n",
      "  height = 2 * np.sqrt(eigenvalues[1] * chi2_val) # Minor axis\n"
     ]
    },
    {
     "name": "stdout",
     "output_type": "stream",
     "text": [
      "  Generated PCA plot for Basin NO, Experiment exp08\n",
      "  Processing Experiment: exp09\n"
     ]
    },
    {
     "name": "stderr",
     "output_type": "stream",
     "text": [
      "C:\\Users\\benra\\AppData\\Local\\Temp\\ipykernel_27320\\2871396845.py:147: SerializationWarning: Unable to decode time axis into full numpy.datetime64[ns] objects, continuing using cftime.datetime objects instead, reason: dates out of range. To silence this warning use a coarser resolution 'time_unit' or specify 'use_cftime=True'.\n",
      "  model_ds = xr.open_dataset(model_file_path)\n",
      "C:\\Users\\benra\\AppData\\Local\\Temp\\ipykernel_27320\\2871396845.py:147: SerializationWarning: Unable to decode time axis into full numpy.datetime64[ns] objects, continuing using cftime.datetime objects instead, reason: dates out of range. To silence this warning use a coarser resolution 'time_unit' or specify 'use_cftime=True'.\n",
      "  model_ds = xr.open_dataset(model_file_path)\n",
      "C:\\Users\\benra\\anaconda3\\Lib\\site-packages\\sklearn\\cluster\\_kmeans.py:1382: UserWarning: KMeans is known to have a memory leak on Windows with MKL, when there are less chunks than available threads. You can avoid it by setting the environment variable OMP_NUM_THREADS=1.\n",
      "  warnings.warn(\n"
     ]
    },
    {
     "name": "stdout",
     "output_type": "stream",
     "text": [
      "  Generated PCA plot for Basin NO, Experiment exp09\n",
      "  Processing Experiment: exp10\n"
     ]
    },
    {
     "name": "stderr",
     "output_type": "stream",
     "text": [
      "C:\\Users\\benra\\AppData\\Local\\Temp\\ipykernel_27320\\2871396845.py:147: SerializationWarning: Unable to decode time axis into full numpy.datetime64[ns] objects, continuing using cftime.datetime objects instead, reason: dates out of range. To silence this warning use a coarser resolution 'time_unit' or specify 'use_cftime=True'.\n",
      "  model_ds = xr.open_dataset(model_file_path)\n",
      "C:\\Users\\benra\\AppData\\Local\\Temp\\ipykernel_27320\\2871396845.py:147: SerializationWarning: Unable to decode time axis into full numpy.datetime64[ns] objects, continuing using cftime.datetime objects instead, reason: dates out of range. To silence this warning use a coarser resolution 'time_unit' or specify 'use_cftime=True'.\n",
      "  model_ds = xr.open_dataset(model_file_path)\n",
      "C:\\Users\\benra\\anaconda3\\Lib\\site-packages\\sklearn\\cluster\\_kmeans.py:1382: UserWarning: KMeans is known to have a memory leak on Windows with MKL, when there are less chunks than available threads. You can avoid it by setting the environment variable OMP_NUM_THREADS=1.\n",
      "  warnings.warn(\n"
     ]
    },
    {
     "name": "stdout",
     "output_type": "stream",
     "text": [
      "  Generated PCA plot for Basin NO, Experiment exp10\n",
      "  Processing Experiment: expa01\n"
     ]
    },
    {
     "name": "stderr",
     "output_type": "stream",
     "text": [
      "C:\\Users\\benra\\AppData\\Local\\Temp\\ipykernel_27320\\2871396845.py:147: SerializationWarning: Unable to decode time axis into full numpy.datetime64[ns] objects, continuing using cftime.datetime objects instead, reason: dates out of range. To silence this warning use a coarser resolution 'time_unit' or specify 'use_cftime=True'.\n",
      "  model_ds = xr.open_dataset(model_file_path)\n",
      "C:\\Users\\benra\\AppData\\Local\\Temp\\ipykernel_27320\\2871396845.py:147: SerializationWarning: Unable to decode time axis into full numpy.datetime64[ns] objects, continuing using cftime.datetime objects instead, reason: dates out of range. To silence this warning use a coarser resolution 'time_unit' or specify 'use_cftime=True'.\n",
      "  model_ds = xr.open_dataset(model_file_path)\n",
      "C:\\Users\\benra\\AppData\\Local\\Temp\\ipykernel_27320\\2871396845.py:147: SerializationWarning: Unable to decode time axis into full numpy.datetime64[ns] objects, continuing using cftime.datetime objects instead, reason: dates out of range. To silence this warning use a coarser resolution 'time_unit' or specify 'use_cftime=True'.\n",
      "  model_ds = xr.open_dataset(model_file_path)\n",
      "C:\\Users\\benra\\AppData\\Local\\Temp\\ipykernel_27320\\2871396845.py:147: SerializationWarning: Unable to decode time axis into full numpy.datetime64[ns] objects, continuing using cftime.datetime objects instead, reason: dates out of range. To silence this warning use a coarser resolution 'time_unit' or specify 'use_cftime=True'.\n",
      "  model_ds = xr.open_dataset(model_file_path)\n",
      "C:\\Users\\benra\\anaconda3\\Lib\\site-packages\\sklearn\\cluster\\_kmeans.py:1382: UserWarning: KMeans is known to have a memory leak on Windows with MKL, when there are less chunks than available threads. You can avoid it by setting the environment variable OMP_NUM_THREADS=1.\n",
      "  warnings.warn(\n"
     ]
    },
    {
     "name": "stdout",
     "output_type": "stream",
     "text": [
      "  Generated PCA plot for Basin NO, Experiment expa01\n",
      "  Processing Experiment: expa02\n"
     ]
    },
    {
     "name": "stderr",
     "output_type": "stream",
     "text": [
      "C:\\Users\\benra\\AppData\\Local\\Temp\\ipykernel_27320\\2871396845.py:147: SerializationWarning: Unable to decode time axis into full numpy.datetime64[ns] objects, continuing using cftime.datetime objects instead, reason: dates out of range. To silence this warning use a coarser resolution 'time_unit' or specify 'use_cftime=True'.\n",
      "  model_ds = xr.open_dataset(model_file_path)\n",
      "C:\\Users\\benra\\AppData\\Local\\Temp\\ipykernel_27320\\2871396845.py:147: SerializationWarning: Unable to decode time axis into full numpy.datetime64[ns] objects, continuing using cftime.datetime objects instead, reason: dates out of range. To silence this warning use a coarser resolution 'time_unit' or specify 'use_cftime=True'.\n",
      "  model_ds = xr.open_dataset(model_file_path)\n",
      "C:\\Users\\benra\\AppData\\Local\\Temp\\ipykernel_27320\\2871396845.py:147: SerializationWarning: Unable to decode time axis into full numpy.datetime64[ns] objects, continuing using cftime.datetime objects instead, reason: dates out of range. To silence this warning use a coarser resolution 'time_unit' or specify 'use_cftime=True'.\n",
      "  model_ds = xr.open_dataset(model_file_path)\n",
      "C:\\Users\\benra\\AppData\\Local\\Temp\\ipykernel_27320\\2871396845.py:147: SerializationWarning: Unable to decode time axis into full numpy.datetime64[ns] objects, continuing using cftime.datetime objects instead, reason: dates out of range. To silence this warning use a coarser resolution 'time_unit' or specify 'use_cftime=True'.\n",
      "  model_ds = xr.open_dataset(model_file_path)\n",
      "C:\\Users\\benra\\anaconda3\\Lib\\site-packages\\sklearn\\cluster\\_kmeans.py:1382: UserWarning: KMeans is known to have a memory leak on Windows with MKL, when there are less chunks than available threads. You can avoid it by setting the environment variable OMP_NUM_THREADS=1.\n",
      "  warnings.warn(\n"
     ]
    },
    {
     "name": "stdout",
     "output_type": "stream",
     "text": [
      "  Generated PCA plot for Basin NO, Experiment expa02\n",
      "  Processing Experiment: expa03\n"
     ]
    },
    {
     "name": "stderr",
     "output_type": "stream",
     "text": [
      "C:\\Users\\benra\\AppData\\Local\\Temp\\ipykernel_27320\\2871396845.py:147: SerializationWarning: Unable to decode time axis into full numpy.datetime64[ns] objects, continuing using cftime.datetime objects instead, reason: dates out of range. To silence this warning use a coarser resolution 'time_unit' or specify 'use_cftime=True'.\n",
      "  model_ds = xr.open_dataset(model_file_path)\n",
      "C:\\Users\\benra\\AppData\\Local\\Temp\\ipykernel_27320\\2871396845.py:147: SerializationWarning: Unable to decode time axis into full numpy.datetime64[ns] objects, continuing using cftime.datetime objects instead, reason: dates out of range. To silence this warning use a coarser resolution 'time_unit' or specify 'use_cftime=True'.\n",
      "  model_ds = xr.open_dataset(model_file_path)\n",
      "C:\\Users\\benra\\AppData\\Local\\Temp\\ipykernel_27320\\2871396845.py:147: SerializationWarning: Unable to decode time axis into full numpy.datetime64[ns] objects, continuing using cftime.datetime objects instead, reason: dates out of range. To silence this warning use a coarser resolution 'time_unit' or specify 'use_cftime=True'.\n",
      "  model_ds = xr.open_dataset(model_file_path)\n",
      "C:\\Users\\benra\\AppData\\Local\\Temp\\ipykernel_27320\\2871396845.py:147: SerializationWarning: Unable to decode time axis into full numpy.datetime64[ns] objects, continuing using cftime.datetime objects instead, reason: dates out of range. To silence this warning use a coarser resolution 'time_unit' or specify 'use_cftime=True'.\n",
      "  model_ds = xr.open_dataset(model_file_path)\n",
      "C:\\Users\\benra\\anaconda3\\Lib\\site-packages\\sklearn\\cluster\\_kmeans.py:1382: UserWarning: KMeans is known to have a memory leak on Windows with MKL, when there are less chunks than available threads. You can avoid it by setting the environment variable OMP_NUM_THREADS=1.\n",
      "  warnings.warn(\n",
      "C:\\Users\\benra\\AppData\\Local\\Temp\\ipykernel_27320\\2871396845.py:279: RuntimeWarning: invalid value encountered in sqrt\n",
      "  height = 2 * np.sqrt(eigenvalues[1] * chi2_val) # Minor axis\n"
     ]
    },
    {
     "name": "stdout",
     "output_type": "stream",
     "text": [
      "  Generated PCA plot for Basin NO, Experiment expa03\n",
      "  Generated ARI Heatmap for Basin NO\n"
     ]
    },
    {
     "data": {
      "image/png": "[encoded data removed]",
      "text/plain": [
       "<Figure size 1200x800 with 1 Axes>"
      ]
     },
     "metadata": {},
     "output_type": "display_data"
    },
    {
     "name": "stdout",
     "output_type": "stream",
     "text": [
      "  Generated Disagreement Score Bar Chart for Basin NO\n",
      "\n",
      "--- Processing Basin: NE (ID: 2) ---\n",
      "  Processing Experiment: exp05\n"
     ]
    },
    {
     "name": "stderr",
     "output_type": "stream",
     "text": [
      "C:\\Users\\benra\\AppData\\Local\\Temp\\ipykernel_27320\\2871396845.py:147: SerializationWarning: Unable to decode time axis into full numpy.datetime64[ns] objects, continuing using cftime.datetime objects instead, reason: dates out of range. To silence this warning use a coarser resolution 'time_unit' or specify 'use_cftime=True'.\n",
      "  model_ds = xr.open_dataset(model_file_path)\n",
      "C:\\Users\\benra\\AppData\\Local\\Temp\\ipykernel_27320\\2871396845.py:147: SerializationWarning: Unable to decode time axis into full numpy.datetime64[ns] objects, continuing using cftime.datetime objects instead, reason: dates out of range. To silence this warning use a coarser resolution 'time_unit' or specify 'use_cftime=True'.\n",
      "  model_ds = xr.open_dataset(model_file_path)\n",
      "C:\\Users\\benra\\anaconda3\\Lib\\site-packages\\sklearn\\cluster\\_kmeans.py:1382: UserWarning: KMeans is known to have a memory leak on Windows with MKL, when there are less chunks than available threads. You can avoid it by setting the environment variable OMP_NUM_THREADS=1.\n",
      "  warnings.warn(\n",
      "C:\\Users\\benra\\AppData\\Local\\Temp\\ipykernel_27320\\2871396845.py:242: UserWarning: You passed a edgecolor/edgecolors ('black') for an unfilled marker ('+').  Matplotlib is ignoring the edgecolor in favor of the facecolor.  This behavior may change in the future.\n",
      "  ax_2d.scatter(\n"
     ]
    },
    {
     "name": "stdout",
     "output_type": "stream",
     "text": [
      "  Generated PCA plot for Basin NE, Experiment exp05\n",
      "  Processing Experiment: exp06\n"
     ]
    },
    {
     "name": "stderr",
     "output_type": "stream",
     "text": [
      "C:\\Users\\benra\\AppData\\Local\\Temp\\ipykernel_27320\\2871396845.py:147: SerializationWarning: Unable to decode time axis into full numpy.datetime64[ns] objects, continuing using cftime.datetime objects instead, reason: dates out of range. To silence this warning use a coarser resolution 'time_unit' or specify 'use_cftime=True'.\n",
      "  model_ds = xr.open_dataset(model_file_path)\n",
      "C:\\Users\\benra\\AppData\\Local\\Temp\\ipykernel_27320\\2871396845.py:147: SerializationWarning: Unable to decode time axis into full numpy.datetime64[ns] objects, continuing using cftime.datetime objects instead, reason: dates out of range. To silence this warning use a coarser resolution 'time_unit' or specify 'use_cftime=True'.\n",
      "  model_ds = xr.open_dataset(model_file_path)\n",
      "C:\\Users\\benra\\anaconda3\\Lib\\site-packages\\sklearn\\cluster\\_kmeans.py:1382: UserWarning: KMeans is known to have a memory leak on Windows with MKL, when there are less chunks than available threads. You can avoid it by setting the environment variable OMP_NUM_THREADS=1.\n",
      "  warnings.warn(\n",
      "C:\\Users\\benra\\AppData\\Local\\Temp\\ipykernel_27320\\2871396845.py:242: UserWarning: You passed a edgecolor/edgecolors ('black') for an unfilled marker ('+').  Matplotlib is ignoring the edgecolor in favor of the facecolor.  This behavior may change in the future.\n",
      "  ax_2d.scatter(\n",
      "C:\\Users\\benra\\AppData\\Local\\Temp\\ipykernel_27320\\2871396845.py:279: RuntimeWarning: invalid value encountered in sqrt\n",
      "  height = 2 * np.sqrt(eigenvalues[1] * chi2_val) # Minor axis\n"
     ]
    },
    {
     "name": "stdout",
     "output_type": "stream",
     "text": [
      "  Generated PCA plot for Basin NE, Experiment exp06\n",
      "  Processing Experiment: exp07\n"
     ]
    },
    {
     "name": "stderr",
     "output_type": "stream",
     "text": [
      "C:\\Users\\benra\\AppData\\Local\\Temp\\ipykernel_27320\\2871396845.py:147: SerializationWarning: Unable to decode time axis into full numpy.datetime64[ns] objects, continuing using cftime.datetime objects instead, reason: dates out of range. To silence this warning use a coarser resolution 'time_unit' or specify 'use_cftime=True'.\n",
      "  model_ds = xr.open_dataset(model_file_path)\n",
      "C:\\Users\\benra\\AppData\\Local\\Temp\\ipykernel_27320\\2871396845.py:147: SerializationWarning: Unable to decode time axis into full numpy.datetime64[ns] objects, continuing using cftime.datetime objects instead, reason: dates out of range. To silence this warning use a coarser resolution 'time_unit' or specify 'use_cftime=True'.\n",
      "  model_ds = xr.open_dataset(model_file_path)\n",
      "C:\\Users\\benra\\anaconda3\\Lib\\site-packages\\sklearn\\cluster\\_kmeans.py:1382: UserWarning: KMeans is known to have a memory leak on Windows with MKL, when there are less chunks than available threads. You can avoid it by setting the environment variable OMP_NUM_THREADS=1.\n",
      "  warnings.warn(\n",
      "C:\\Users\\benra\\AppData\\Local\\Temp\\ipykernel_27320\\2871396845.py:242: UserWarning: You passed a edgecolor/edgecolors ('black') for an unfilled marker ('+').  Matplotlib is ignoring the edgecolor in favor of the facecolor.  This behavior may change in the future.\n",
      "  ax_2d.scatter(\n"
     ]
    },
    {
     "name": "stdout",
     "output_type": "stream",
     "text": [
      "  Generated PCA plot for Basin NE, Experiment exp07\n",
      "  Processing Experiment: exp08\n"
     ]
    },
    {
     "name": "stderr",
     "output_type": "stream",
     "text": [
      "C:\\Users\\benra\\AppData\\Local\\Temp\\ipykernel_27320\\2871396845.py:147: SerializationWarning: Unable to decode time axis into full numpy.datetime64[ns] objects, continuing using cftime.datetime objects instead, reason: dates out of range. To silence this warning use a coarser resolution 'time_unit' or specify 'use_cftime=True'.\n",
      "  model_ds = xr.open_dataset(model_file_path)\n",
      "C:\\Users\\benra\\AppData\\Local\\Temp\\ipykernel_27320\\2871396845.py:147: SerializationWarning: Unable to decode time axis into full numpy.datetime64[ns] objects, continuing using cftime.datetime objects instead, reason: dates out of range. To silence this warning use a coarser resolution 'time_unit' or specify 'use_cftime=True'.\n",
      "  model_ds = xr.open_dataset(model_file_path)\n",
      "C:\\Users\\benra\\anaconda3\\Lib\\site-packages\\sklearn\\cluster\\_kmeans.py:1382: UserWarning: KMeans is known to have a memory leak on Windows with MKL, when there are less chunks than available threads. You can avoid it by setting the environment variable OMP_NUM_THREADS=1.\n",
      "  warnings.warn(\n",
      "C:\\Users\\benra\\AppData\\Local\\Temp\\ipykernel_27320\\2871396845.py:242: UserWarning: You passed a edgecolor/edgecolors ('black') for an unfilled marker ('+').  Matplotlib is ignoring the edgecolor in favor of the facecolor.  This behavior may change in the future.\n",
      "  ax_2d.scatter(\n",
      "C:\\Users\\benra\\AppData\\Local\\Temp\\ipykernel_27320\\2871396845.py:279: RuntimeWarning: invalid value encountered in sqrt\n",
      "  height = 2 * np.sqrt(eigenvalues[1] * chi2_val) # Minor axis\n"
     ]
    },
    {
     "name": "stdout",
     "output_type": "stream",
     "text": [
      "  Generated PCA plot for Basin NE, Experiment exp08\n",
      "  Processing Experiment: exp09\n"
     ]
    },
    {
     "name": "stderr",
     "output_type": "stream",
     "text": [
      "C:\\Users\\benra\\AppData\\Local\\Temp\\ipykernel_27320\\2871396845.py:147: SerializationWarning: Unable to decode time axis into full numpy.datetime64[ns] objects, continuing using cftime.datetime objects instead, reason: dates out of range. To silence this warning use a coarser resolution 'time_unit' or specify 'use_cftime=True'.\n",
      "  model_ds = xr.open_dataset(model_file_path)\n",
      "C:\\Users\\benra\\AppData\\Local\\Temp\\ipykernel_27320\\2871396845.py:147: SerializationWarning: Unable to decode time axis into full numpy.datetime64[ns] objects, continuing using cftime.datetime objects instead, reason: dates out of range. To silence this warning use a coarser resolution 'time_unit' or specify 'use_cftime=True'.\n",
      "  model_ds = xr.open_dataset(model_file_path)\n",
      "C:\\Users\\benra\\anaconda3\\Lib\\site-packages\\sklearn\\cluster\\_kmeans.py:1382: UserWarning: KMeans is known to have a memory leak on Windows with MKL, when there are less chunks than available threads. You can avoid it by setting the environment variable OMP_NUM_THREADS=1.\n",
      "  warnings.warn(\n"
     ]
    },
    {
     "name": "stdout",
     "output_type": "stream",
     "text": [
      "  Generated PCA plot for Basin NE, Experiment exp09\n",
      "  Processing Experiment: exp10\n"
     ]
    },
    {
     "name": "stderr",
     "output_type": "stream",
     "text": [
      "C:\\Users\\benra\\AppData\\Local\\Temp\\ipykernel_27320\\2871396845.py:147: SerializationWarning: Unable to decode time axis into full numpy.datetime64[ns] objects, continuing using cftime.datetime objects instead, reason: dates out of range. To silence this warning use a coarser resolution 'time_unit' or specify 'use_cftime=True'.\n",
      "  model_ds = xr.open_dataset(model_file_path)\n",
      "C:\\Users\\benra\\AppData\\Local\\Temp\\ipykernel_27320\\2871396845.py:147: SerializationWarning: Unable to decode time axis into full numpy.datetime64[ns] objects, continuing using cftime.datetime objects instead, reason: dates out of range. To silence this warning use a coarser resolution 'time_unit' or specify 'use_cftime=True'.\n",
      "  model_ds = xr.open_dataset(model_file_path)\n",
      "C:\\Users\\benra\\anaconda3\\Lib\\site-packages\\sklearn\\cluster\\_kmeans.py:1382: UserWarning: KMeans is known to have a memory leak on Windows with MKL, when there are less chunks than available threads. You can avoid it by setting the environment variable OMP_NUM_THREADS=1.\n",
      "  warnings.warn(\n",
      "C:\\Users\\benra\\AppData\\Local\\Temp\\ipykernel_27320\\2871396845.py:279: RuntimeWarning: invalid value encountered in sqrt\n",
      "  height = 2 * np.sqrt(eigenvalues[1] * chi2_val) # Minor axis\n"
     ]
    },
    {
     "name": "stdout",
     "output_type": "stream",
     "text": [
      "  Generated PCA plot for Basin NE, Experiment exp10\n",
      "  Processing Experiment: expa01\n"
     ]
    },
    {
     "name": "stderr",
     "output_type": "stream",
     "text": [
      "C:\\Users\\benra\\AppData\\Local\\Temp\\ipykernel_27320\\2871396845.py:147: SerializationWarning: Unable to decode time axis into full numpy.datetime64[ns] objects, continuing using cftime.datetime objects instead, reason: dates out of range. To silence this warning use a coarser resolution 'time_unit' or specify 'use_cftime=True'.\n",
      "  model_ds = xr.open_dataset(model_file_path)\n",
      "C:\\Users\\benra\\AppData\\Local\\Temp\\ipykernel_27320\\2871396845.py:147: SerializationWarning: Unable to decode time axis into full numpy.datetime64[ns] objects, continuing using cftime.datetime objects instead, reason: dates out of range. To silence this warning use a coarser resolution 'time_unit' or specify 'use_cftime=True'.\n",
      "  model_ds = xr.open_dataset(model_file_path)\n",
      "C:\\Users\\benra\\AppData\\Local\\Temp\\ipykernel_27320\\2871396845.py:147: SerializationWarning: Unable to decode time axis into full numpy.datetime64[ns] objects, continuing using cftime.datetime objects instead, reason: dates out of range. To silence this warning use a coarser resolution 'time_unit' or specify 'use_cftime=True'.\n",
      "  model_ds = xr.open_dataset(model_file_path)\n",
      "C:\\Users\\benra\\AppData\\Local\\Temp\\ipykernel_27320\\2871396845.py:147: SerializationWarning: Unable to decode time axis into full numpy.datetime64[ns] objects, continuing using cftime.datetime objects instead, reason: dates out of range. To silence this warning use a coarser resolution 'time_unit' or specify 'use_cftime=True'.\n",
      "  model_ds = xr.open_dataset(model_file_path)\n",
      "C:\\Users\\benra\\anaconda3\\Lib\\site-packages\\sklearn\\cluster\\_kmeans.py:1382: UserWarning: KMeans is known to have a memory leak on Windows with MKL, when there are less chunks than available threads. You can avoid it by setting the environment variable OMP_NUM_THREADS=1.\n",
      "  warnings.warn(\n",
      "C:\\Users\\benra\\AppData\\Local\\Temp\\ipykernel_27320\\2871396845.py:279: RuntimeWarning: invalid value encountered in sqrt\n",
      "  height = 2 * np.sqrt(eigenvalues[1] * chi2_val) # Minor axis\n"
     ]
    },
    {
     "name": "stdout",
     "output_type": "stream",
     "text": [
      "  Generated PCA plot for Basin NE, Experiment expa01\n",
      "  Processing Experiment: expa02\n"
     ]
    },
    {
     "name": "stderr",
     "output_type": "stream",
     "text": [
      "C:\\Users\\benra\\AppData\\Local\\Temp\\ipykernel_27320\\2871396845.py:147: SerializationWarning: Unable to decode time axis into full numpy.datetime64[ns] objects, continuing using cftime.datetime objects instead, reason: dates out of range. To silence this warning use a coarser resolution 'time_unit' or specify 'use_cftime=True'.\n",
      "  model_ds = xr.open_dataset(model_file_path)\n",
      "C:\\Users\\benra\\AppData\\Local\\Temp\\ipykernel_27320\\2871396845.py:147: SerializationWarning: Unable to decode time axis into full numpy.datetime64[ns] objects, continuing using cftime.datetime objects instead, reason: dates out of range. To silence this warning use a coarser resolution 'time_unit' or specify 'use_cftime=True'.\n",
      "  model_ds = xr.open_dataset(model_file_path)\n",
      "C:\\Users\\benra\\AppData\\Local\\Temp\\ipykernel_27320\\2871396845.py:147: SerializationWarning: Unable to decode time axis into full numpy.datetime64[ns] objects, continuing using cftime.datetime objects instead, reason: dates out of range. To silence this warning use a coarser resolution 'time_unit' or specify 'use_cftime=True'.\n",
      "  model_ds = xr.open_dataset(model_file_path)\n",
      "C:\\Users\\benra\\AppData\\Local\\Temp\\ipykernel_27320\\2871396845.py:147: SerializationWarning: Unable to decode time axis into full numpy.datetime64[ns] objects, continuing using cftime.datetime objects instead, reason: dates out of range. To silence this warning use a coarser resolution 'time_unit' or specify 'use_cftime=True'.\n",
      "  model_ds = xr.open_dataset(model_file_path)\n",
      "C:\\Users\\benra\\anaconda3\\Lib\\site-packages\\sklearn\\cluster\\_kmeans.py:1382: UserWarning: KMeans is known to have a memory leak on Windows with MKL, when there are less chunks than available threads. You can avoid it by setting the environment variable OMP_NUM_THREADS=1.\n",
      "  warnings.warn(\n",
      "C:\\Users\\benra\\AppData\\Local\\Temp\\ipykernel_27320\\2871396845.py:279: RuntimeWarning: invalid value encountered in sqrt\n",
      "  height = 2 * np.sqrt(eigenvalues[1] * chi2_val) # Minor axis\n"
     ]
    },
    {
     "name": "stdout",
     "output_type": "stream",
     "text": [
      "  Generated PCA plot for Basin NE, Experiment expa02\n",
      "  Processing Experiment: expa03\n"
     ]
    },
    {
     "name": "stderr",
     "output_type": "stream",
     "text": [
      "C:\\Users\\benra\\AppData\\Local\\Temp\\ipykernel_27320\\2871396845.py:147: SerializationWarning: Unable to decode time axis into full numpy.datetime64[ns] objects, continuing using cftime.datetime objects instead, reason: dates out of range. To silence this warning use a coarser resolution 'time_unit' or specify 'use_cftime=True'.\n",
      "  model_ds = xr.open_dataset(model_file_path)\n",
      "C:\\Users\\benra\\AppData\\Local\\Temp\\ipykernel_27320\\2871396845.py:147: SerializationWarning: Unable to decode time axis into full numpy.datetime64[ns] objects, continuing using cftime.datetime objects instead, reason: dates out of range. To silence this warning use a coarser resolution 'time_unit' or specify 'use_cftime=True'.\n",
      "  model_ds = xr.open_dataset(model_file_path)\n",
      "C:\\Users\\benra\\AppData\\Local\\Temp\\ipykernel_27320\\2871396845.py:147: SerializationWarning: Unable to decode time axis into full numpy.datetime64[ns] objects, continuing using cftime.datetime objects instead, reason: dates out of range. To silence this warning use a coarser resolution 'time_unit' or specify 'use_cftime=True'.\n",
      "  model_ds = xr.open_dataset(model_file_path)\n",
      "C:\\Users\\benra\\AppData\\Local\\Temp\\ipykernel_27320\\2871396845.py:147: SerializationWarning: Unable to decode time axis into full numpy.datetime64[ns] objects, continuing using cftime.datetime objects instead, reason: dates out of range. To silence this warning use a coarser resolution 'time_unit' or specify 'use_cftime=True'.\n",
      "  model_ds = xr.open_dataset(model_file_path)\n",
      "C:\\Users\\benra\\anaconda3\\Lib\\site-packages\\sklearn\\cluster\\_kmeans.py:1382: UserWarning: KMeans is known to have a memory leak on Windows with MKL, when there are less chunks than available threads. You can avoid it by setting the environment variable OMP_NUM_THREADS=1.\n",
      "  warnings.warn(\n",
      "C:\\Users\\benra\\AppData\\Local\\Temp\\ipykernel_27320\\2871396845.py:279: RuntimeWarning: invalid value encountered in sqrt\n",
      "  height = 2 * np.sqrt(eigenvalues[1] * chi2_val) # Minor axis\n"
     ]
    },
    {
     "name": "stdout",
     "output_type": "stream",
     "text": [
      "  Generated PCA plot for Basin NE, Experiment expa03\n",
      "  Generated ARI Heatmap for Basin NE\n"
     ]
    },
    {
     "data": {
      "image/png": "[encoded data removed]",
      "text/plain": [
       "<Figure size 1200x800 with 1 Axes>"
      ]
     },
     "metadata": {},
     "output_type": "display_data"
    },
    {
     "name": "stdout",
     "output_type": "stream",
     "text": [
      "  Generated Disagreement Score Bar Chart for Basin NE\n",
      "\n",
      "--- Processing Basin: CE (ID: 3) ---\n",
      "  Processing Experiment: exp05\n"
     ]
    },
    {
     "name": "stderr",
     "output_type": "stream",
     "text": [
      "C:\\Users\\benra\\AppData\\Local\\Temp\\ipykernel_27320\\2871396845.py:147: SerializationWarning: Unable to decode time axis into full numpy.datetime64[ns] objects, continuing using cftime.datetime objects instead, reason: dates out of range. To silence this warning use a coarser resolution 'time_unit' or specify 'use_cftime=True'.\n",
      "  model_ds = xr.open_dataset(model_file_path)\n",
      "C:\\Users\\benra\\AppData\\Local\\Temp\\ipykernel_27320\\2871396845.py:147: SerializationWarning: Unable to decode time axis into full numpy.datetime64[ns] objects, continuing using cftime.datetime objects instead, reason: dates out of range. To silence this warning use a coarser resolution 'time_unit' or specify 'use_cftime=True'.\n",
      "  model_ds = xr.open_dataset(model_file_path)\n",
      "C:\\Users\\benra\\anaconda3\\Lib\\site-packages\\sklearn\\cluster\\_kmeans.py:1382: UserWarning: KMeans is known to have a memory leak on Windows with MKL, when there are less chunks than available threads. You can avoid it by setting the environment variable OMP_NUM_THREADS=1.\n",
      "  warnings.warn(\n",
      "C:\\Users\\benra\\AppData\\Local\\Temp\\ipykernel_27320\\2871396845.py:242: UserWarning: You passed a edgecolor/edgecolors ('black') for an unfilled marker ('+').  Matplotlib is ignoring the edgecolor in favor of the facecolor.  This behavior may change in the future.\n",
      "  ax_2d.scatter(\n"
     ]
    },
    {
     "name": "stdout",
     "output_type": "stream",
     "text": [
      "  Generated PCA plot for Basin CE, Experiment exp05\n",
      "  Processing Experiment: exp06\n"
     ]
    },
    {
     "name": "stderr",
     "output_type": "stream",
     "text": [
      "C:\\Users\\benra\\AppData\\Local\\Temp\\ipykernel_27320\\2871396845.py:147: SerializationWarning: Unable to decode time axis into full numpy.datetime64[ns] objects, continuing using cftime.datetime objects instead, reason: dates out of range. To silence this warning use a coarser resolution 'time_unit' or specify 'use_cftime=True'.\n",
      "  model_ds = xr.open_dataset(model_file_path)\n",
      "C:\\Users\\benra\\AppData\\Local\\Temp\\ipykernel_27320\\2871396845.py:147: SerializationWarning: Unable to decode time axis into full numpy.datetime64[ns] objects, continuing using cftime.datetime objects instead, reason: dates out of range. To silence this warning use a coarser resolution 'time_unit' or specify 'use_cftime=True'.\n",
      "  model_ds = xr.open_dataset(model_file_path)\n",
      "C:\\Users\\benra\\anaconda3\\Lib\\site-packages\\sklearn\\cluster\\_kmeans.py:1382: UserWarning: KMeans is known to have a memory leak on Windows with MKL, when there are less chunks than available threads. You can avoid it by setting the environment variable OMP_NUM_THREADS=1.\n",
      "  warnings.warn(\n",
      "C:\\Users\\benra\\AppData\\Local\\Temp\\ipykernel_27320\\2871396845.py:242: UserWarning: You passed a edgecolor/edgecolors ('black') for an unfilled marker ('+').  Matplotlib is ignoring the edgecolor in favor of the facecolor.  This behavior may change in the future.\n",
      "  ax_2d.scatter(\n"
     ]
    },
    {
     "name": "stdout",
     "output_type": "stream",
     "text": [
      "  Generated PCA plot for Basin CE, Experiment exp06\n",
      "  Processing Experiment: exp07\n"
     ]
    },
    {
     "name": "stderr",
     "output_type": "stream",
     "text": [
      "C:\\Users\\benra\\AppData\\Local\\Temp\\ipykernel_27320\\2871396845.py:147: SerializationWarning: Unable to decode time axis into full numpy.datetime64[ns] objects, continuing using cftime.datetime objects instead, reason: dates out of range. To silence this warning use a coarser resolution 'time_unit' or specify 'use_cftime=True'.\n",
      "  model_ds = xr.open_dataset(model_file_path)\n",
      "C:\\Users\\benra\\AppData\\Local\\Temp\\ipykernel_27320\\2871396845.py:147: SerializationWarning: Unable to decode time axis into full numpy.datetime64[ns] objects, continuing using cftime.datetime objects instead, reason: dates out of range. To silence this warning use a coarser resolution 'time_unit' or specify 'use_cftime=True'.\n",
      "  model_ds = xr.open_dataset(model_file_path)\n",
      "C:\\Users\\benra\\anaconda3\\Lib\\site-packages\\sklearn\\cluster\\_kmeans.py:1382: UserWarning: KMeans is known to have a memory leak on Windows with MKL, when there are less chunks than available threads. You can avoid it by setting the environment variable OMP_NUM_THREADS=1.\n",
      "  warnings.warn(\n",
      "C:\\Users\\benra\\AppData\\Local\\Temp\\ipykernel_27320\\2871396845.py:242: UserWarning: You passed a edgecolor/edgecolors ('black') for an unfilled marker ('+').  Matplotlib is ignoring the edgecolor in favor of the facecolor.  This behavior may change in the future.\n",
      "  ax_2d.scatter(\n"
     ]
    },
    {
     "name": "stdout",
     "output_type": "stream",
     "text": [
      "  Generated PCA plot for Basin CE, Experiment exp07\n",
      "  Processing Experiment: exp08\n"
     ]
    },
    {
     "name": "stderr",
     "output_type": "stream",
     "text": [
      "C:\\Users\\benra\\AppData\\Local\\Temp\\ipykernel_27320\\2871396845.py:147: SerializationWarning: Unable to decode time axis into full numpy.datetime64[ns] objects, continuing using cftime.datetime objects instead, reason: dates out of range. To silence this warning use a coarser resolution 'time_unit' or specify 'use_cftime=True'.\n",
      "  model_ds = xr.open_dataset(model_file_path)\n",
      "C:\\Users\\benra\\AppData\\Local\\Temp\\ipykernel_27320\\2871396845.py:147: SerializationWarning: Unable to decode time axis into full numpy.datetime64[ns] objects, continuing using cftime.datetime objects instead, reason: dates out of range. To silence this warning use a coarser resolution 'time_unit' or specify 'use_cftime=True'.\n",
      "  model_ds = xr.open_dataset(model_file_path)\n",
      "C:\\Users\\benra\\anaconda3\\Lib\\site-packages\\sklearn\\cluster\\_kmeans.py:1382: UserWarning: KMeans is known to have a memory leak on Windows with MKL, when there are less chunks than available threads. You can avoid it by setting the environment variable OMP_NUM_THREADS=1.\n",
      "  warnings.warn(\n",
      "C:\\Users\\benra\\AppData\\Local\\Temp\\ipykernel_27320\\2871396845.py:242: UserWarning: You passed a edgecolor/edgecolors ('black') for an unfilled marker ('+').  Matplotlib is ignoring the edgecolor in favor of the facecolor.  This behavior may change in the future.\n",
      "  ax_2d.scatter(\n"
     ]
    },
    {
     "name": "stdout",
     "output_type": "stream",
     "text": [
      "  Generated PCA plot for Basin CE, Experiment exp08\n",
      "  Processing Experiment: exp09\n"
     ]
    },
    {
     "name": "stderr",
     "output_type": "stream",
     "text": [
      "C:\\Users\\benra\\AppData\\Local\\Temp\\ipykernel_27320\\2871396845.py:147: SerializationWarning: Unable to decode time axis into full numpy.datetime64[ns] objects, continuing using cftime.datetime objects instead, reason: dates out of range. To silence this warning use a coarser resolution 'time_unit' or specify 'use_cftime=True'.\n",
      "  model_ds = xr.open_dataset(model_file_path)\n",
      "C:\\Users\\benra\\AppData\\Local\\Temp\\ipykernel_27320\\2871396845.py:147: SerializationWarning: Unable to decode time axis into full numpy.datetime64[ns] objects, continuing using cftime.datetime objects instead, reason: dates out of range. To silence this warning use a coarser resolution 'time_unit' or specify 'use_cftime=True'.\n",
      "  model_ds = xr.open_dataset(model_file_path)\n",
      "C:\\Users\\benra\\anaconda3\\Lib\\site-packages\\sklearn\\cluster\\_kmeans.py:1382: UserWarning: KMeans is known to have a memory leak on Windows with MKL, when there are less chunks than available threads. You can avoid it by setting the environment variable OMP_NUM_THREADS=1.\n",
      "  warnings.warn(\n"
     ]
    },
    {
     "name": "stdout",
     "output_type": "stream",
     "text": [
      "  Generated PCA plot for Basin CE, Experiment exp09\n",
      "  Processing Experiment: exp10\n"
     ]
    },
    {
     "name": "stderr",
     "output_type": "stream",
     "text": [
      "C:\\Users\\benra\\AppData\\Local\\Temp\\ipykernel_27320\\2871396845.py:147: SerializationWarning: Unable to decode time axis into full numpy.datetime64[ns] objects, continuing using cftime.datetime objects instead, reason: dates out of range. To silence this warning use a coarser resolution 'time_unit' or specify 'use_cftime=True'.\n",
      "  model_ds = xr.open_dataset(model_file_path)\n",
      "C:\\Users\\benra\\AppData\\Local\\Temp\\ipykernel_27320\\2871396845.py:147: SerializationWarning: Unable to decode time axis into full numpy.datetime64[ns] objects, continuing using cftime.datetime objects instead, reason: dates out of range. To silence this warning use a coarser resolution 'time_unit' or specify 'use_cftime=True'.\n",
      "  model_ds = xr.open_dataset(model_file_path)\n",
      "C:\\Users\\benra\\anaconda3\\Lib\\site-packages\\sklearn\\cluster\\_kmeans.py:1382: UserWarning: KMeans is known to have a memory leak on Windows with MKL, when there are less chunks than available threads. You can avoid it by setting the environment variable OMP_NUM_THREADS=1.\n",
      "  warnings.warn(\n"
     ]
    },
    {
     "name": "stdout",
     "output_type": "stream",
     "text": [
      "  Generated PCA plot for Basin CE, Experiment exp10\n",
      "  Processing Experiment: expa01\n"
     ]
    },
    {
     "name": "stderr",
     "output_type": "stream",
     "text": [
      "C:\\Users\\benra\\AppData\\Local\\Temp\\ipykernel_27320\\2871396845.py:147: SerializationWarning: Unable to decode time axis into full numpy.datetime64[ns] objects, continuing using cftime.datetime objects instead, reason: dates out of range. To silence this warning use a coarser resolution 'time_unit' or specify 'use_cftime=True'.\n",
      "  model_ds = xr.open_dataset(model_file_path)\n",
      "C:\\Users\\benra\\AppData\\Local\\Temp\\ipykernel_27320\\2871396845.py:147: SerializationWarning: Unable to decode time axis into full numpy.datetime64[ns] objects, continuing using cftime.datetime objects instead, reason: dates out of range. To silence this warning use a coarser resolution 'time_unit' or specify 'use_cftime=True'.\n",
      "  model_ds = xr.open_dataset(model_file_path)\n",
      "C:\\Users\\benra\\AppData\\Local\\Temp\\ipykernel_27320\\2871396845.py:147: SerializationWarning: Unable to decode time axis into full numpy.datetime64[ns] objects, continuing using cftime.datetime objects instead, reason: dates out of range. To silence this warning use a coarser resolution 'time_unit' or specify 'use_cftime=True'.\n",
      "  model_ds = xr.open_dataset(model_file_path)\n",
      "C:\\Users\\benra\\AppData\\Local\\Temp\\ipykernel_27320\\2871396845.py:147: SerializationWarning: Unable to decode time axis into full numpy.datetime64[ns] objects, continuing using cftime.datetime objects instead, reason: dates out of range. To silence this warning use a coarser resolution 'time_unit' or specify 'use_cftime=True'.\n",
      "  model_ds = xr.open_dataset(model_file_path)\n",
      "C:\\Users\\benra\\anaconda3\\Lib\\site-packages\\sklearn\\cluster\\_kmeans.py:1382: UserWarning: KMeans is known to have a memory leak on Windows with MKL, when there are less chunks than available threads. You can avoid it by setting the environment variable OMP_NUM_THREADS=1.\n",
      "  warnings.warn(\n",
      "C:\\Users\\benra\\AppData\\Local\\Temp\\ipykernel_27320\\2871396845.py:279: RuntimeWarning: invalid value encountered in sqrt\n",
      "  height = 2 * np.sqrt(eigenvalues[1] * chi2_val) # Minor axis\n"
     ]
    },
    {
     "name": "stdout",
     "output_type": "stream",
     "text": [
      "  Generated PCA plot for Basin CE, Experiment expa01\n",
      "  Processing Experiment: expa02\n"
     ]
    },
    {
     "name": "stderr",
     "output_type": "stream",
     "text": [
      "C:\\Users\\benra\\AppData\\Local\\Temp\\ipykernel_27320\\2871396845.py:147: SerializationWarning: Unable to decode time axis into full numpy.datetime64[ns] objects, continuing using cftime.datetime objects instead, reason: dates out of range. To silence this warning use a coarser resolution 'time_unit' or specify 'use_cftime=True'.\n",
      "  model_ds = xr.open_dataset(model_file_path)\n",
      "C:\\Users\\benra\\AppData\\Local\\Temp\\ipykernel_27320\\2871396845.py:147: SerializationWarning: Unable to decode time axis into full numpy.datetime64[ns] objects, continuing using cftime.datetime objects instead, reason: dates out of range. To silence this warning use a coarser resolution 'time_unit' or specify 'use_cftime=True'.\n",
      "  model_ds = xr.open_dataset(model_file_path)\n",
      "C:\\Users\\benra\\AppData\\Local\\Temp\\ipykernel_27320\\2871396845.py:147: SerializationWarning: Unable to decode time axis into full numpy.datetime64[ns] objects, continuing using cftime.datetime objects instead, reason: dates out of range. To silence this warning use a coarser resolution 'time_unit' or specify 'use_cftime=True'.\n",
      "  model_ds = xr.open_dataset(model_file_path)\n",
      "C:\\Users\\benra\\AppData\\Local\\Temp\\ipykernel_27320\\2871396845.py:147: SerializationWarning: Unable to decode time axis into full numpy.datetime64[ns] objects, continuing using cftime.datetime objects instead, reason: dates out of range. To silence this warning use a coarser resolution 'time_unit' or specify 'use_cftime=True'.\n",
      "  model_ds = xr.open_dataset(model_file_path)\n",
      "C:\\Users\\benra\\anaconda3\\Lib\\site-packages\\sklearn\\cluster\\_kmeans.py:1382: UserWarning: KMeans is known to have a memory leak on Windows with MKL, when there are less chunks than available threads. You can avoid it by setting the environment variable OMP_NUM_THREADS=1.\n",
      "  warnings.warn(\n"
     ]
    },
    {
     "name": "stdout",
     "output_type": "stream",
     "text": [
      "  Generated PCA plot for Basin CE, Experiment expa02\n",
      "  Processing Experiment: expa03\n"
     ]
    },
    {
     "name": "stderr",
     "output_type": "stream",
     "text": [
      "C:\\Users\\benra\\AppData\\Local\\Temp\\ipykernel_27320\\2871396845.py:147: SerializationWarning: Unable to decode time axis into full numpy.datetime64[ns] objects, continuing using cftime.datetime objects instead, reason: dates out of range. To silence this warning use a coarser resolution 'time_unit' or specify 'use_cftime=True'.\n",
      "  model_ds = xr.open_dataset(model_file_path)\n",
      "C:\\Users\\benra\\AppData\\Local\\Temp\\ipykernel_27320\\2871396845.py:147: SerializationWarning: Unable to decode time axis into full numpy.datetime64[ns] objects, continuing using cftime.datetime objects instead, reason: dates out of range. To silence this warning use a coarser resolution 'time_unit' or specify 'use_cftime=True'.\n",
      "  model_ds = xr.open_dataset(model_file_path)\n",
      "C:\\Users\\benra\\AppData\\Local\\Temp\\ipykernel_27320\\2871396845.py:147: SerializationWarning: Unable to decode time axis into full numpy.datetime64[ns] objects, continuing using cftime.datetime objects instead, reason: dates out of range. To silence this warning use a coarser resolution 'time_unit' or specify 'use_cftime=True'.\n",
      "  model_ds = xr.open_dataset(model_file_path)\n",
      "C:\\Users\\benra\\AppData\\Local\\Temp\\ipykernel_27320\\2871396845.py:147: SerializationWarning: Unable to decode time axis into full numpy.datetime64[ns] objects, continuing using cftime.datetime objects instead, reason: dates out of range. To silence this warning use a coarser resolution 'time_unit' or specify 'use_cftime=True'.\n",
      "  model_ds = xr.open_dataset(model_file_path)\n",
      "C:\\Users\\benra\\anaconda3\\Lib\\site-packages\\sklearn\\cluster\\_kmeans.py:1382: UserWarning: KMeans is known to have a memory leak on Windows with MKL, when there are less chunks than available threads. You can avoid it by setting the environment variable OMP_NUM_THREADS=1.\n",
      "  warnings.warn(\n",
      "C:\\Users\\benra\\AppData\\Local\\Temp\\ipykernel_27320\\2871396845.py:279: RuntimeWarning: invalid value encountered in sqrt\n",
      "  height = 2 * np.sqrt(eigenvalues[1] * chi2_val) # Minor axis\n"
     ]
    },
    {
     "name": "stdout",
     "output_type": "stream",
     "text": [
      "  Generated PCA plot for Basin CE, Experiment expa03\n",
      "  Generated ARI Heatmap for Basin CE\n"
     ]
    },
    {
     "data": {
      "image/png": "[encoded data removed]",
      "text/plain": [
       "<Figure size 1200x800 with 1 Axes>"
      ]
     },
     "metadata": {},
     "output_type": "display_data"
    },
    {
     "name": "stdout",
     "output_type": "stream",
     "text": [
      "  Generated Disagreement Score Bar Chart for Basin CE\n",
      "\n",
      "--- Processing Basin: SE (ID: 4) ---\n",
      "  Processing Experiment: exp05\n"
     ]
    },
    {
     "name": "stderr",
     "output_type": "stream",
     "text": [
      "C:\\Users\\benra\\AppData\\Local\\Temp\\ipykernel_27320\\2871396845.py:147: SerializationWarning: Unable to decode time axis into full numpy.datetime64[ns] objects, continuing using cftime.datetime objects instead, reason: dates out of range. To silence this warning use a coarser resolution 'time_unit' or specify 'use_cftime=True'.\n",
      "  model_ds = xr.open_dataset(model_file_path)\n",
      "C:\\Users\\benra\\AppData\\Local\\Temp\\ipykernel_27320\\2871396845.py:147: SerializationWarning: Unable to decode time axis into full numpy.datetime64[ns] objects, continuing using cftime.datetime objects instead, reason: dates out of range. To silence this warning use a coarser resolution 'time_unit' or specify 'use_cftime=True'.\n",
      "  model_ds = xr.open_dataset(model_file_path)\n",
      "C:\\Users\\benra\\anaconda3\\Lib\\site-packages\\sklearn\\cluster\\_kmeans.py:1382: UserWarning: KMeans is known to have a memory leak on Windows with MKL, when there are less chunks than available threads. You can avoid it by setting the environment variable OMP_NUM_THREADS=1.\n",
      "  warnings.warn(\n",
      "C:\\Users\\benra\\AppData\\Local\\Temp\\ipykernel_27320\\2871396845.py:242: UserWarning: You passed a edgecolor/edgecolors ('black') for an unfilled marker ('+').  Matplotlib is ignoring the edgecolor in favor of the facecolor.  This behavior may change in the future.\n",
      "  ax_2d.scatter(\n"
     ]
    },
    {
     "name": "stdout",
     "output_type": "stream",
     "text": [
      "  Generated PCA plot for Basin SE, Experiment exp05\n",
      "  Processing Experiment: exp06\n"
     ]
    },
    {
     "name": "stderr",
     "output_type": "stream",
     "text": [
      "C:\\Users\\benra\\AppData\\Local\\Temp\\ipykernel_27320\\2871396845.py:147: SerializationWarning: Unable to decode time axis into full numpy.datetime64[ns] objects, continuing using cftime.datetime objects instead, reason: dates out of range. To silence this warning use a coarser resolution 'time_unit' or specify 'use_cftime=True'.\n",
      "  model_ds = xr.open_dataset(model_file_path)\n",
      "C:\\Users\\benra\\AppData\\Local\\Temp\\ipykernel_27320\\2871396845.py:147: SerializationWarning: Unable to decode time axis into full numpy.datetime64[ns] objects, continuing using cftime.datetime objects instead, reason: dates out of range. To silence this warning use a coarser resolution 'time_unit' or specify 'use_cftime=True'.\n",
      "  model_ds = xr.open_dataset(model_file_path)\n",
      "C:\\Users\\benra\\anaconda3\\Lib\\site-packages\\sklearn\\cluster\\_kmeans.py:1382: UserWarning: KMeans is known to have a memory leak on Windows with MKL, when there are less chunks than available threads. You can avoid it by setting the environment variable OMP_NUM_THREADS=1.\n",
      "  warnings.warn(\n",
      "C:\\Users\\benra\\AppData\\Local\\Temp\\ipykernel_27320\\2871396845.py:242: UserWarning: You passed a edgecolor/edgecolors ('black') for an unfilled marker ('+').  Matplotlib is ignoring the edgecolor in favor of the facecolor.  This behavior may change in the future.\n",
      "  ax_2d.scatter(\n"
     ]
    },
    {
     "name": "stdout",
     "output_type": "stream",
     "text": [
      "  Generated PCA plot for Basin SE, Experiment exp06\n",
      "  Processing Experiment: exp07\n"
     ]
    },
    {
     "name": "stderr",
     "output_type": "stream",
     "text": [
      "C:\\Users\\benra\\AppData\\Local\\Temp\\ipykernel_27320\\2871396845.py:147: SerializationWarning: Unable to decode time axis into full numpy.datetime64[ns] objects, continuing using cftime.datetime objects instead, reason: dates out of range. To silence this warning use a coarser resolution 'time_unit' or specify 'use_cftime=True'.\n",
      "  model_ds = xr.open_dataset(model_file_path)\n",
      "C:\\Users\\benra\\AppData\\Local\\Temp\\ipykernel_27320\\2871396845.py:147: SerializationWarning: Unable to decode time axis into full numpy.datetime64[ns] objects, continuing using cftime.datetime objects instead, reason: dates out of range. To silence this warning use a coarser resolution 'time_unit' or specify 'use_cftime=True'.\n",
      "  model_ds = xr.open_dataset(model_file_path)\n",
      "C:\\Users\\benra\\anaconda3\\Lib\\site-packages\\sklearn\\cluster\\_kmeans.py:1382: UserWarning: KMeans is known to have a memory leak on Windows with MKL, when there are less chunks than available threads. You can avoid it by setting the environment variable OMP_NUM_THREADS=1.\n",
      "  warnings.warn(\n",
      "C:\\Users\\benra\\AppData\\Local\\Temp\\ipykernel_27320\\2871396845.py:242: UserWarning: You passed a edgecolor/edgecolors ('black') for an unfilled marker ('+').  Matplotlib is ignoring the edgecolor in favor of the facecolor.  This behavior may change in the future.\n",
      "  ax_2d.scatter(\n"
     ]
    },
    {
     "name": "stdout",
     "output_type": "stream",
     "text": [
      "  Generated PCA plot for Basin SE, Experiment exp07\n",
      "  Processing Experiment: exp08\n"
     ]
    },
    {
     "name": "stderr",
     "output_type": "stream",
     "text": [
      "C:\\Users\\benra\\AppData\\Local\\Temp\\ipykernel_27320\\2871396845.py:147: SerializationWarning: Unable to decode time axis into full numpy.datetime64[ns] objects, continuing using cftime.datetime objects instead, reason: dates out of range. To silence this warning use a coarser resolution 'time_unit' or specify 'use_cftime=True'.\n",
      "  model_ds = xr.open_dataset(model_file_path)\n",
      "C:\\Users\\benra\\AppData\\Local\\Temp\\ipykernel_27320\\2871396845.py:147: SerializationWarning: Unable to decode time axis into full numpy.datetime64[ns] objects, continuing using cftime.datetime objects instead, reason: dates out of range. To silence this warning use a coarser resolution 'time_unit' or specify 'use_cftime=True'.\n",
      "  model_ds = xr.open_dataset(model_file_path)\n",
      "C:\\Users\\benra\\anaconda3\\Lib\\site-packages\\sklearn\\cluster\\_kmeans.py:1382: UserWarning: KMeans is known to have a memory leak on Windows with MKL, when there are less chunks than available threads. You can avoid it by setting the environment variable OMP_NUM_THREADS=1.\n",
      "  warnings.warn(\n",
      "C:\\Users\\benra\\AppData\\Local\\Temp\\ipykernel_27320\\2871396845.py:242: UserWarning: You passed a edgecolor/edgecolors ('black') for an unfilled marker ('+').  Matplotlib is ignoring the edgecolor in favor of the facecolor.  This behavior may change in the future.\n",
      "  ax_2d.scatter(\n"
     ]
    },
    {
     "name": "stdout",
     "output_type": "stream",
     "text": [
      "  Generated PCA plot for Basin SE, Experiment exp08\n",
      "  Processing Experiment: exp09\n"
     ]
    },
    {
     "name": "stderr",
     "output_type": "stream",
     "text": [
      "C:\\Users\\benra\\AppData\\Local\\Temp\\ipykernel_27320\\2871396845.py:147: SerializationWarning: Unable to decode time axis into full numpy.datetime64[ns] objects, continuing using cftime.datetime objects instead, reason: dates out of range. To silence this warning use a coarser resolution 'time_unit' or specify 'use_cftime=True'.\n",
      "  model_ds = xr.open_dataset(model_file_path)\n",
      "C:\\Users\\benra\\AppData\\Local\\Temp\\ipykernel_27320\\2871396845.py:147: SerializationWarning: Unable to decode time axis into full numpy.datetime64[ns] objects, continuing using cftime.datetime objects instead, reason: dates out of range. To silence this warning use a coarser resolution 'time_unit' or specify 'use_cftime=True'.\n",
      "  model_ds = xr.open_dataset(model_file_path)\n",
      "C:\\Users\\benra\\anaconda3\\Lib\\site-packages\\sklearn\\cluster\\_kmeans.py:1382: UserWarning: KMeans is known to have a memory leak on Windows with MKL, when there are less chunks than available threads. You can avoid it by setting the environment variable OMP_NUM_THREADS=1.\n",
      "  warnings.warn(\n"
     ]
    },
    {
     "name": "stdout",
     "output_type": "stream",
     "text": [
      "  Generated PCA plot for Basin SE, Experiment exp09\n",
      "  Processing Experiment: exp10\n"
     ]
    },
    {
     "name": "stderr",
     "output_type": "stream",
     "text": [
      "C:\\Users\\benra\\AppData\\Local\\Temp\\ipykernel_27320\\2871396845.py:147: SerializationWarning: Unable to decode time axis into full numpy.datetime64[ns] objects, continuing using cftime.datetime objects instead, reason: dates out of range. To silence this warning use a coarser resolution 'time_unit' or specify 'use_cftime=True'.\n",
      "  model_ds = xr.open_dataset(model_file_path)\n",
      "C:\\Users\\benra\\AppData\\Local\\Temp\\ipykernel_27320\\2871396845.py:147: SerializationWarning: Unable to decode time axis into full numpy.datetime64[ns] objects, continuing using cftime.datetime objects instead, reason: dates out of range. To silence this warning use a coarser resolution 'time_unit' or specify 'use_cftime=True'.\n",
      "  model_ds = xr.open_dataset(model_file_path)\n",
      "C:\\Users\\benra\\anaconda3\\Lib\\site-packages\\sklearn\\cluster\\_kmeans.py:1382: UserWarning: KMeans is known to have a memory leak on Windows with MKL, when there are less chunks than available threads. You can avoid it by setting the environment variable OMP_NUM_THREADS=1.\n",
      "  warnings.warn(\n"
     ]
    },
    {
     "name": "stdout",
     "output_type": "stream",
     "text": [
      "  Generated PCA plot for Basin SE, Experiment exp10\n",
      "  Processing Experiment: expa01\n"
     ]
    },
    {
     "name": "stderr",
     "output_type": "stream",
     "text": [
      "C:\\Users\\benra\\AppData\\Local\\Temp\\ipykernel_27320\\2871396845.py:147: SerializationWarning: Unable to decode time axis into full numpy.datetime64[ns] objects, continuing using cftime.datetime objects instead, reason: dates out of range. To silence this warning use a coarser resolution 'time_unit' or specify 'use_cftime=True'.\n",
      "  model_ds = xr.open_dataset(model_file_path)\n",
      "C:\\Users\\benra\\AppData\\Local\\Temp\\ipykernel_27320\\2871396845.py:147: SerializationWarning: Unable to decode time axis into full numpy.datetime64[ns] objects, continuing using cftime.datetime objects instead, reason: dates out of range. To silence this warning use a coarser resolution 'time_unit' or specify 'use_cftime=True'.\n",
      "  model_ds = xr.open_dataset(model_file_path)\n",
      "C:\\Users\\benra\\AppData\\Local\\Temp\\ipykernel_27320\\2871396845.py:147: SerializationWarning: Unable to decode time axis into full numpy.datetime64[ns] objects, continuing using cftime.datetime objects instead, reason: dates out of range. To silence this warning use a coarser resolution 'time_unit' or specify 'use_cftime=True'.\n",
      "  model_ds = xr.open_dataset(model_file_path)\n",
      "C:\\Users\\benra\\AppData\\Local\\Temp\\ipykernel_27320\\2871396845.py:147: SerializationWarning: Unable to decode time axis into full numpy.datetime64[ns] objects, continuing using cftime.datetime objects instead, reason: dates out of range. To silence this warning use a coarser resolution 'time_unit' or specify 'use_cftime=True'.\n",
      "  model_ds = xr.open_dataset(model_file_path)\n",
      "C:\\Users\\benra\\anaconda3\\Lib\\site-packages\\sklearn\\cluster\\_kmeans.py:1382: UserWarning: KMeans is known to have a memory leak on Windows with MKL, when there are less chunks than available threads. You can avoid it by setting the environment variable OMP_NUM_THREADS=1.\n",
      "  warnings.warn(\n",
      "C:\\Users\\benra\\AppData\\Local\\Temp\\ipykernel_27320\\2871396845.py:279: RuntimeWarning: invalid value encountered in sqrt\n",
      "  height = 2 * np.sqrt(eigenvalues[1] * chi2_val) # Minor axis\n"
     ]
    },
    {
     "name": "stdout",
     "output_type": "stream",
     "text": [
      "  Generated PCA plot for Basin SE, Experiment expa01\n",
      "  Processing Experiment: expa02\n"
     ]
    },
    {
     "name": "stderr",
     "output_type": "stream",
     "text": [
      "C:\\Users\\benra\\AppData\\Local\\Temp\\ipykernel_27320\\2871396845.py:147: SerializationWarning: Unable to decode time axis into full numpy.datetime64[ns] objects, continuing using cftime.datetime objects instead, reason: dates out of range. To silence this warning use a coarser resolution 'time_unit' or specify 'use_cftime=True'.\n",
      "  model_ds = xr.open_dataset(model_file_path)\n",
      "C:\\Users\\benra\\AppData\\Local\\Temp\\ipykernel_27320\\2871396845.py:147: SerializationWarning: Unable to decode time axis into full numpy.datetime64[ns] objects, continuing using cftime.datetime objects instead, reason: dates out of range. To silence this warning use a coarser resolution 'time_unit' or specify 'use_cftime=True'.\n",
      "  model_ds = xr.open_dataset(model_file_path)\n",
      "C:\\Users\\benra\\AppData\\Local\\Temp\\ipykernel_27320\\2871396845.py:147: SerializationWarning: Unable to decode time axis into full numpy.datetime64[ns] objects, continuing using cftime.datetime objects instead, reason: dates out of range. To silence this warning use a coarser resolution 'time_unit' or specify 'use_cftime=True'.\n",
      "  model_ds = xr.open_dataset(model_file_path)\n",
      "C:\\Users\\benra\\AppData\\Local\\Temp\\ipykernel_27320\\2871396845.py:147: SerializationWarning: Unable to decode time axis into full numpy.datetime64[ns] objects, continuing using cftime.datetime objects instead, reason: dates out of range. To silence this warning use a coarser resolution 'time_unit' or specify 'use_cftime=True'.\n",
      "  model_ds = xr.open_dataset(model_file_path)\n",
      "C:\\Users\\benra\\anaconda3\\Lib\\site-packages\\sklearn\\cluster\\_kmeans.py:1382: UserWarning: KMeans is known to have a memory leak on Windows with MKL, when there are less chunks than available threads. You can avoid it by setting the environment variable OMP_NUM_THREADS=1.\n",
      "  warnings.warn(\n"
     ]
    },
    {
     "name": "stdout",
     "output_type": "stream",
     "text": [
      "  Generated PCA plot for Basin SE, Experiment expa02\n",
      "  Processing Experiment: expa03\n"
     ]
    },
    {
     "name": "stderr",
     "output_type": "stream",
     "text": [
      "C:\\Users\\benra\\AppData\\Local\\Temp\\ipykernel_27320\\2871396845.py:147: SerializationWarning: Unable to decode time axis into full numpy.datetime64[ns] objects, continuing using cftime.datetime objects instead, reason: dates out of range. To silence this warning use a coarser resolution 'time_unit' or specify 'use_cftime=True'.\n",
      "  model_ds = xr.open_dataset(model_file_path)\n",
      "C:\\Users\\benra\\AppData\\Local\\Temp\\ipykernel_27320\\2871396845.py:147: SerializationWarning: Unable to decode time axis into full numpy.datetime64[ns] objects, continuing using cftime.datetime objects instead, reason: dates out of range. To silence this warning use a coarser resolution 'time_unit' or specify 'use_cftime=True'.\n",
      "  model_ds = xr.open_dataset(model_file_path)\n",
      "C:\\Users\\benra\\AppData\\Local\\Temp\\ipykernel_27320\\2871396845.py:147: SerializationWarning: Unable to decode time axis into full numpy.datetime64[ns] objects, continuing using cftime.datetime objects instead, reason: dates out of range. To silence this warning use a coarser resolution 'time_unit' or specify 'use_cftime=True'.\n",
      "  model_ds = xr.open_dataset(model_file_path)\n",
      "C:\\Users\\benra\\AppData\\Local\\Temp\\ipykernel_27320\\2871396845.py:147: SerializationWarning: Unable to decode time axis into full numpy.datetime64[ns] objects, continuing using cftime.datetime objects instead, reason: dates out of range. To silence this warning use a coarser resolution 'time_unit' or specify 'use_cftime=True'.\n",
      "  model_ds = xr.open_dataset(model_file_path)\n",
      "C:\\Users\\benra\\anaconda3\\Lib\\site-packages\\sklearn\\cluster\\_kmeans.py:1382: UserWarning: KMeans is known to have a memory leak on Windows with MKL, when there are less chunks than available threads. You can avoid it by setting the environment variable OMP_NUM_THREADS=1.\n",
      "  warnings.warn(\n"
     ]
    },
    {
     "name": "stdout",
     "output_type": "stream",
     "text": [
      "  Generated PCA plot for Basin SE, Experiment expa03\n",
      "  Generated ARI Heatmap for Basin SE\n"
     ]
    },
    {
     "data": {
      "image/png": "[encoded data removed]",
      "text/plain": [
       "<Figure size 1200x800 with 1 Axes>"
      ]
     },
     "metadata": {},
     "output_type": "display_data"
    },
    {
     "name": "stdout",
     "output_type": "stream",
     "text": [
      "  Generated Disagreement Score Bar Chart for Basin SE\n",
      "\n",
      "--- Processing Basin: SW (ID: 5) ---\n",
      "  Processing Experiment: exp05\n"
     ]
    },
    {
     "name": "stderr",
     "output_type": "stream",
     "text": [
      "C:\\Users\\benra\\AppData\\Local\\Temp\\ipykernel_27320\\2871396845.py:147: SerializationWarning: Unable to decode time axis into full numpy.datetime64[ns] objects, continuing using cftime.datetime objects instead, reason: dates out of range. To silence this warning use a coarser resolution 'time_unit' or specify 'use_cftime=True'.\n",
      "  model_ds = xr.open_dataset(model_file_path)\n",
      "C:\\Users\\benra\\AppData\\Local\\Temp\\ipykernel_27320\\2871396845.py:147: SerializationWarning: Unable to decode time axis into full numpy.datetime64[ns] objects, continuing using cftime.datetime objects instead, reason: dates out of range. To silence this warning use a coarser resolution 'time_unit' or specify 'use_cftime=True'.\n",
      "  model_ds = xr.open_dataset(model_file_path)\n",
      "C:\\Users\\benra\\anaconda3\\Lib\\site-packages\\sklearn\\cluster\\_kmeans.py:1382: UserWarning: KMeans is known to have a memory leak on Windows with MKL, when there are less chunks than available threads. You can avoid it by setting the environment variable OMP_NUM_THREADS=1.\n",
      "  warnings.warn(\n",
      "C:\\Users\\benra\\AppData\\Local\\Temp\\ipykernel_27320\\2871396845.py:242: UserWarning: You passed a edgecolor/edgecolors ('black') for an unfilled marker ('+').  Matplotlib is ignoring the edgecolor in favor of the facecolor.  This behavior may change in the future.\n",
      "  ax_2d.scatter(\n"
     ]
    },
    {
     "name": "stdout",
     "output_type": "stream",
     "text": [
      "  Generated PCA plot for Basin SW, Experiment exp05\n",
      "  Processing Experiment: exp06\n"
     ]
    },
    {
     "name": "stderr",
     "output_type": "stream",
     "text": [
      "C:\\Users\\benra\\AppData\\Local\\Temp\\ipykernel_27320\\2871396845.py:147: SerializationWarning: Unable to decode time axis into full numpy.datetime64[ns] objects, continuing using cftime.datetime objects instead, reason: dates out of range. To silence this warning use a coarser resolution 'time_unit' or specify 'use_cftime=True'.\n",
      "  model_ds = xr.open_dataset(model_file_path)\n",
      "C:\\Users\\benra\\AppData\\Local\\Temp\\ipykernel_27320\\2871396845.py:147: SerializationWarning: Unable to decode time axis into full numpy.datetime64[ns] objects, continuing using cftime.datetime objects instead, reason: dates out of range. To silence this warning use a coarser resolution 'time_unit' or specify 'use_cftime=True'.\n",
      "  model_ds = xr.open_dataset(model_file_path)\n",
      "C:\\Users\\benra\\anaconda3\\Lib\\site-packages\\sklearn\\cluster\\_kmeans.py:1382: UserWarning: KMeans is known to have a memory leak on Windows with MKL, when there are less chunks than available threads. You can avoid it by setting the environment variable OMP_NUM_THREADS=1.\n",
      "  warnings.warn(\n",
      "C:\\Users\\benra\\AppData\\Local\\Temp\\ipykernel_27320\\2871396845.py:242: UserWarning: You passed a edgecolor/edgecolors ('black') for an unfilled marker ('+').  Matplotlib is ignoring the edgecolor in favor of the facecolor.  This behavior may change in the future.\n",
      "  ax_2d.scatter(\n",
      "C:\\Users\\benra\\AppData\\Local\\Temp\\ipykernel_27320\\2871396845.py:279: RuntimeWarning: invalid value encountered in sqrt\n",
      "  height = 2 * np.sqrt(eigenvalues[1] * chi2_val) # Minor axis\n"
     ]
    },
    {
     "name": "stdout",
     "output_type": "stream",
     "text": [
      "  Generated PCA plot for Basin SW, Experiment exp06\n",
      "  Processing Experiment: exp07\n"
     ]
    },
    {
     "name": "stderr",
     "output_type": "stream",
     "text": [
      "C:\\Users\\benra\\AppData\\Local\\Temp\\ipykernel_27320\\2871396845.py:147: SerializationWarning: Unable to decode time axis into full numpy.datetime64[ns] objects, continuing using cftime.datetime objects instead, reason: dates out of range. To silence this warning use a coarser resolution 'time_unit' or specify 'use_cftime=True'.\n",
      "  model_ds = xr.open_dataset(model_file_path)\n",
      "C:\\Users\\benra\\AppData\\Local\\Temp\\ipykernel_27320\\2871396845.py:147: SerializationWarning: Unable to decode time axis into full numpy.datetime64[ns] objects, continuing using cftime.datetime objects instead, reason: dates out of range. To silence this warning use a coarser resolution 'time_unit' or specify 'use_cftime=True'.\n",
      "  model_ds = xr.open_dataset(model_file_path)\n",
      "C:\\Users\\benra\\anaconda3\\Lib\\site-packages\\sklearn\\cluster\\_kmeans.py:1382: UserWarning: KMeans is known to have a memory leak on Windows with MKL, when there are less chunks than available threads. You can avoid it by setting the environment variable OMP_NUM_THREADS=1.\n",
      "  warnings.warn(\n",
      "C:\\Users\\benra\\AppData\\Local\\Temp\\ipykernel_27320\\2871396845.py:242: UserWarning: You passed a edgecolor/edgecolors ('black') for an unfilled marker ('+').  Matplotlib is ignoring the edgecolor in favor of the facecolor.  This behavior may change in the future.\n",
      "  ax_2d.scatter(\n"
     ]
    },
    {
     "name": "stdout",
     "output_type": "stream",
     "text": [
      "  Generated PCA plot for Basin SW, Experiment exp07\n",
      "  Processing Experiment: exp08\n"
     ]
    },
    {
     "name": "stderr",
     "output_type": "stream",
     "text": [
      "C:\\Users\\benra\\AppData\\Local\\Temp\\ipykernel_27320\\2871396845.py:147: SerializationWarning: Unable to decode time axis into full numpy.datetime64[ns] objects, continuing using cftime.datetime objects instead, reason: dates out of range. To silence this warning use a coarser resolution 'time_unit' or specify 'use_cftime=True'.\n",
      "  model_ds = xr.open_dataset(model_file_path)\n",
      "C:\\Users\\benra\\AppData\\Local\\Temp\\ipykernel_27320\\2871396845.py:147: SerializationWarning: Unable to decode time axis into full numpy.datetime64[ns] objects, continuing using cftime.datetime objects instead, reason: dates out of range. To silence this warning use a coarser resolution 'time_unit' or specify 'use_cftime=True'.\n",
      "  model_ds = xr.open_dataset(model_file_path)\n",
      "C:\\Users\\benra\\anaconda3\\Lib\\site-packages\\sklearn\\cluster\\_kmeans.py:1382: UserWarning: KMeans is known to have a memory leak on Windows with MKL, when there are less chunks than available threads. You can avoid it by setting the environment variable OMP_NUM_THREADS=1.\n",
      "  warnings.warn(\n",
      "C:\\Users\\benra\\AppData\\Local\\Temp\\ipykernel_27320\\2871396845.py:242: UserWarning: You passed a edgecolor/edgecolors ('black') for an unfilled marker ('+').  Matplotlib is ignoring the edgecolor in favor of the facecolor.  This behavior may change in the future.\n",
      "  ax_2d.scatter(\n"
     ]
    },
    {
     "name": "stdout",
     "output_type": "stream",
     "text": [
      "  Generated PCA plot for Basin SW, Experiment exp08\n",
      "  Processing Experiment: exp09\n"
     ]
    },
    {
     "name": "stderr",
     "output_type": "stream",
     "text": [
      "C:\\Users\\benra\\AppData\\Local\\Temp\\ipykernel_27320\\2871396845.py:147: SerializationWarning: Unable to decode time axis into full numpy.datetime64[ns] objects, continuing using cftime.datetime objects instead, reason: dates out of range. To silence this warning use a coarser resolution 'time_unit' or specify 'use_cftime=True'.\n",
      "  model_ds = xr.open_dataset(model_file_path)\n",
      "C:\\Users\\benra\\AppData\\Local\\Temp\\ipykernel_27320\\2871396845.py:147: SerializationWarning: Unable to decode time axis into full numpy.datetime64[ns] objects, continuing using cftime.datetime objects instead, reason: dates out of range. To silence this warning use a coarser resolution 'time_unit' or specify 'use_cftime=True'.\n",
      "  model_ds = xr.open_dataset(model_file_path)\n",
      "C:\\Users\\benra\\anaconda3\\Lib\\site-packages\\sklearn\\cluster\\_kmeans.py:1382: UserWarning: KMeans is known to have a memory leak on Windows with MKL, when there are less chunks than available threads. You can avoid it by setting the environment variable OMP_NUM_THREADS=1.\n",
      "  warnings.warn(\n"
     ]
    },
    {
     "name": "stdout",
     "output_type": "stream",
     "text": [
      "  Generated PCA plot for Basin SW, Experiment exp09\n",
      "  Processing Experiment: exp10\n"
     ]
    },
    {
     "name": "stderr",
     "output_type": "stream",
     "text": [
      "C:\\Users\\benra\\AppData\\Local\\Temp\\ipykernel_27320\\2871396845.py:147: SerializationWarning: Unable to decode time axis into full numpy.datetime64[ns] objects, continuing using cftime.datetime objects instead, reason: dates out of range. To silence this warning use a coarser resolution 'time_unit' or specify 'use_cftime=True'.\n",
      "  model_ds = xr.open_dataset(model_file_path)\n",
      "C:\\Users\\benra\\AppData\\Local\\Temp\\ipykernel_27320\\2871396845.py:147: SerializationWarning: Unable to decode time axis into full numpy.datetime64[ns] objects, continuing using cftime.datetime objects instead, reason: dates out of range. To silence this warning use a coarser resolution 'time_unit' or specify 'use_cftime=True'.\n",
      "  model_ds = xr.open_dataset(model_file_path)\n",
      "C:\\Users\\benra\\anaconda3\\Lib\\site-packages\\sklearn\\cluster\\_kmeans.py:1382: UserWarning: KMeans is known to have a memory leak on Windows with MKL, when there are less chunks than available threads. You can avoid it by setting the environment variable OMP_NUM_THREADS=1.\n",
      "  warnings.warn(\n"
     ]
    },
    {
     "name": "stdout",
     "output_type": "stream",
     "text": [
      "  Generated PCA plot for Basin SW, Experiment exp10\n",
      "  Processing Experiment: expa01\n"
     ]
    },
    {
     "name": "stderr",
     "output_type": "stream",
     "text": [
      "C:\\Users\\benra\\AppData\\Local\\Temp\\ipykernel_27320\\2871396845.py:147: SerializationWarning: Unable to decode time axis into full numpy.datetime64[ns] objects, continuing using cftime.datetime objects instead, reason: dates out of range. To silence this warning use a coarser resolution 'time_unit' or specify 'use_cftime=True'.\n",
      "  model_ds = xr.open_dataset(model_file_path)\n",
      "C:\\Users\\benra\\AppData\\Local\\Temp\\ipykernel_27320\\2871396845.py:147: SerializationWarning: Unable to decode time axis into full numpy.datetime64[ns] objects, continuing using cftime.datetime objects instead, reason: dates out of range. To silence this warning use a coarser resolution 'time_unit' or specify 'use_cftime=True'.\n",
      "  model_ds = xr.open_dataset(model_file_path)\n",
      "C:\\Users\\benra\\AppData\\Local\\Temp\\ipykernel_27320\\2871396845.py:147: SerializationWarning: Unable to decode time axis into full numpy.datetime64[ns] objects, continuing using cftime.datetime objects instead, reason: dates out of range. To silence this warning use a coarser resolution 'time_unit' or specify 'use_cftime=True'.\n",
      "  model_ds = xr.open_dataset(model_file_path)\n",
      "C:\\Users\\benra\\AppData\\Local\\Temp\\ipykernel_27320\\2871396845.py:147: SerializationWarning: Unable to decode time axis into full numpy.datetime64[ns] objects, continuing using cftime.datetime objects instead, reason: dates out of range. To silence this warning use a coarser resolution 'time_unit' or specify 'use_cftime=True'.\n",
      "  model_ds = xr.open_dataset(model_file_path)\n",
      "C:\\Users\\benra\\anaconda3\\Lib\\site-packages\\sklearn\\cluster\\_kmeans.py:1382: UserWarning: KMeans is known to have a memory leak on Windows with MKL, when there are less chunks than available threads. You can avoid it by setting the environment variable OMP_NUM_THREADS=1.\n",
      "  warnings.warn(\n",
      "C:\\Users\\benra\\AppData\\Local\\Temp\\ipykernel_27320\\2871396845.py:279: RuntimeWarning: invalid value encountered in sqrt\n",
      "  height = 2 * np.sqrt(eigenvalues[1] * chi2_val) # Minor axis\n"
     ]
    },
    {
     "name": "stdout",
     "output_type": "stream",
     "text": [
      "  Generated PCA plot for Basin SW, Experiment expa01\n",
      "  Processing Experiment: expa02\n"
     ]
    },
    {
     "name": "stderr",
     "output_type": "stream",
     "text": [
      "C:\\Users\\benra\\AppData\\Local\\Temp\\ipykernel_27320\\2871396845.py:147: SerializationWarning: Unable to decode time axis into full numpy.datetime64[ns] objects, continuing using cftime.datetime objects instead, reason: dates out of range. To silence this warning use a coarser resolution 'time_unit' or specify 'use_cftime=True'.\n",
      "  model_ds = xr.open_dataset(model_file_path)\n",
      "C:\\Users\\benra\\AppData\\Local\\Temp\\ipykernel_27320\\2871396845.py:147: SerializationWarning: Unable to decode time axis into full numpy.datetime64[ns] objects, continuing using cftime.datetime objects instead, reason: dates out of range. To silence this warning use a coarser resolution 'time_unit' or specify 'use_cftime=True'.\n",
      "  model_ds = xr.open_dataset(model_file_path)\n",
      "C:\\Users\\benra\\AppData\\Local\\Temp\\ipykernel_27320\\2871396845.py:147: SerializationWarning: Unable to decode time axis into full numpy.datetime64[ns] objects, continuing using cftime.datetime objects instead, reason: dates out of range. To silence this warning use a coarser resolution 'time_unit' or specify 'use_cftime=True'.\n",
      "  model_ds = xr.open_dataset(model_file_path)\n",
      "C:\\Users\\benra\\AppData\\Local\\Temp\\ipykernel_27320\\2871396845.py:147: SerializationWarning: Unable to decode time axis into full numpy.datetime64[ns] objects, continuing using cftime.datetime objects instead, reason: dates out of range. To silence this warning use a coarser resolution 'time_unit' or specify 'use_cftime=True'.\n",
      "  model_ds = xr.open_dataset(model_file_path)\n",
      "C:\\Users\\benra\\anaconda3\\Lib\\site-packages\\sklearn\\cluster\\_kmeans.py:1382: UserWarning: KMeans is known to have a memory leak on Windows with MKL, when there are less chunks than available threads. You can avoid it by setting the environment variable OMP_NUM_THREADS=1.\n",
      "  warnings.warn(\n"
     ]
    },
    {
     "name": "stdout",
     "output_type": "stream",
     "text": [
      "  Generated PCA plot for Basin SW, Experiment expa02\n",
      "  Processing Experiment: expa03\n"
     ]
    },
    {
     "name": "stderr",
     "output_type": "stream",
     "text": [
      "C:\\Users\\benra\\AppData\\Local\\Temp\\ipykernel_27320\\2871396845.py:147: SerializationWarning: Unable to decode time axis into full numpy.datetime64[ns] objects, continuing using cftime.datetime objects instead, reason: dates out of range. To silence this warning use a coarser resolution 'time_unit' or specify 'use_cftime=True'.\n",
      "  model_ds = xr.open_dataset(model_file_path)\n",
      "C:\\Users\\benra\\AppData\\Local\\Temp\\ipykernel_27320\\2871396845.py:147: SerializationWarning: Unable to decode time axis into full numpy.datetime64[ns] objects, continuing using cftime.datetime objects instead, reason: dates out of range. To silence this warning use a coarser resolution 'time_unit' or specify 'use_cftime=True'.\n",
      "  model_ds = xr.open_dataset(model_file_path)\n",
      "C:\\Users\\benra\\AppData\\Local\\Temp\\ipykernel_27320\\2871396845.py:147: SerializationWarning: Unable to decode time axis into full numpy.datetime64[ns] objects, continuing using cftime.datetime objects instead, reason: dates out of range. To silence this warning use a coarser resolution 'time_unit' or specify 'use_cftime=True'.\n",
      "  model_ds = xr.open_dataset(model_file_path)\n",
      "C:\\Users\\benra\\AppData\\Local\\Temp\\ipykernel_27320\\2871396845.py:147: SerializationWarning: Unable to decode time axis into full numpy.datetime64[ns] objects, continuing using cftime.datetime objects instead, reason: dates out of range. To silence this warning use a coarser resolution 'time_unit' or specify 'use_cftime=True'.\n",
      "  model_ds = xr.open_dataset(model_file_path)\n",
      "C:\\Users\\benra\\anaconda3\\Lib\\site-packages\\sklearn\\cluster\\_kmeans.py:1382: UserWarning: KMeans is known to have a memory leak on Windows with MKL, when there are less chunks than available threads. You can avoid it by setting the environment variable OMP_NUM_THREADS=1.\n",
      "  warnings.warn(\n"
     ]
    },
    {
     "name": "stdout",
     "output_type": "stream",
     "text": [
      "  Generated PCA plot for Basin SW, Experiment expa03\n",
      "  Generated ARI Heatmap for Basin SW\n"
     ]
    },
    {
     "data": {
      "image/png": "[encoded data removed]",
      "text/plain": [
       "<Figure size 1200x800 with 1 Axes>"
      ]
     },
     "metadata": {},
     "output_type": "display_data"
    },
    {
     "name": "stdout",
     "output_type": "stream",
     "text": [
      "  Generated Disagreement Score Bar Chart for Basin SW\n",
      "\n",
      "--- Processing Basin: CW (ID: 6) ---\n",
      "  Processing Experiment: exp05\n"
     ]
    },
    {
     "name": "stderr",
     "output_type": "stream",
     "text": [
      "C:\\Users\\benra\\AppData\\Local\\Temp\\ipykernel_27320\\2871396845.py:147: SerializationWarning: Unable to decode time axis into full numpy.datetime64[ns] objects, continuing using cftime.datetime objects instead, reason: dates out of range. To silence this warning use a coarser resolution 'time_unit' or specify 'use_cftime=True'.\n",
      "  model_ds = xr.open_dataset(model_file_path)\n",
      "C:\\Users\\benra\\AppData\\Local\\Temp\\ipykernel_27320\\2871396845.py:147: SerializationWarning: Unable to decode time axis into full numpy.datetime64[ns] objects, continuing using cftime.datetime objects instead, reason: dates out of range. To silence this warning use a coarser resolution 'time_unit' or specify 'use_cftime=True'.\n",
      "  model_ds = xr.open_dataset(model_file_path)\n",
      "C:\\Users\\benra\\anaconda3\\Lib\\site-packages\\sklearn\\cluster\\_kmeans.py:1382: UserWarning: KMeans is known to have a memory leak on Windows with MKL, when there are less chunks than available threads. You can avoid it by setting the environment variable OMP_NUM_THREADS=1.\n",
      "  warnings.warn(\n",
      "C:\\Users\\benra\\AppData\\Local\\Temp\\ipykernel_27320\\2871396845.py:242: UserWarning: You passed a edgecolor/edgecolors ('black') for an unfilled marker ('+').  Matplotlib is ignoring the edgecolor in favor of the facecolor.  This behavior may change in the future.\n",
      "  ax_2d.scatter(\n"
     ]
    },
    {
     "name": "stdout",
     "output_type": "stream",
     "text": [
      "  Generated PCA plot for Basin CW, Experiment exp05\n",
      "  Processing Experiment: exp06\n"
     ]
    },
    {
     "name": "stderr",
     "output_type": "stream",
     "text": [
      "C:\\Users\\benra\\AppData\\Local\\Temp\\ipykernel_27320\\2871396845.py:147: SerializationWarning: Unable to decode time axis into full numpy.datetime64[ns] objects, continuing using cftime.datetime objects instead, reason: dates out of range. To silence this warning use a coarser resolution 'time_unit' or specify 'use_cftime=True'.\n",
      "  model_ds = xr.open_dataset(model_file_path)\n",
      "C:\\Users\\benra\\AppData\\Local\\Temp\\ipykernel_27320\\2871396845.py:147: SerializationWarning: Unable to decode time axis into full numpy.datetime64[ns] objects, continuing using cftime.datetime objects instead, reason: dates out of range. To silence this warning use a coarser resolution 'time_unit' or specify 'use_cftime=True'.\n",
      "  model_ds = xr.open_dataset(model_file_path)\n",
      "C:\\Users\\benra\\anaconda3\\Lib\\site-packages\\sklearn\\cluster\\_kmeans.py:1382: UserWarning: KMeans is known to have a memory leak on Windows with MKL, when there are less chunks than available threads. You can avoid it by setting the environment variable OMP_NUM_THREADS=1.\n",
      "  warnings.warn(\n",
      "C:\\Users\\benra\\AppData\\Local\\Temp\\ipykernel_27320\\2871396845.py:242: UserWarning: You passed a edgecolor/edgecolors ('black') for an unfilled marker ('+').  Matplotlib is ignoring the edgecolor in favor of the facecolor.  This behavior may change in the future.\n",
      "  ax_2d.scatter(\n"
     ]
    },
    {
     "name": "stdout",
     "output_type": "stream",
     "text": [
      "  Generated PCA plot for Basin CW, Experiment exp06\n",
      "  Processing Experiment: exp07\n"
     ]
    },
    {
     "name": "stderr",
     "output_type": "stream",
     "text": [
      "C:\\Users\\benra\\AppData\\Local\\Temp\\ipykernel_27320\\2871396845.py:147: SerializationWarning: Unable to decode time axis into full numpy.datetime64[ns] objects, continuing using cftime.datetime objects instead, reason: dates out of range. To silence this warning use a coarser resolution 'time_unit' or specify 'use_cftime=True'.\n",
      "  model_ds = xr.open_dataset(model_file_path)\n",
      "C:\\Users\\benra\\AppData\\Local\\Temp\\ipykernel_27320\\2871396845.py:147: SerializationWarning: Unable to decode time axis into full numpy.datetime64[ns] objects, continuing using cftime.datetime objects instead, reason: dates out of range. To silence this warning use a coarser resolution 'time_unit' or specify 'use_cftime=True'.\n",
      "  model_ds = xr.open_dataset(model_file_path)\n",
      "C:\\Users\\benra\\anaconda3\\Lib\\site-packages\\sklearn\\cluster\\_kmeans.py:1382: UserWarning: KMeans is known to have a memory leak on Windows with MKL, when there are less chunks than available threads. You can avoid it by setting the environment variable OMP_NUM_THREADS=1.\n",
      "  warnings.warn(\n",
      "C:\\Users\\benra\\AppData\\Local\\Temp\\ipykernel_27320\\2871396845.py:242: UserWarning: You passed a edgecolor/edgecolors ('black') for an unfilled marker ('+').  Matplotlib is ignoring the edgecolor in favor of the facecolor.  This behavior may change in the future.\n",
      "  ax_2d.scatter(\n"
     ]
    },
    {
     "name": "stdout",
     "output_type": "stream",
     "text": [
      "  Generated PCA plot for Basin CW, Experiment exp07\n",
      "  Processing Experiment: exp08\n"
     ]
    },
    {
     "name": "stderr",
     "output_type": "stream",
     "text": [
      "C:\\Users\\benra\\AppData\\Local\\Temp\\ipykernel_27320\\2871396845.py:147: SerializationWarning: Unable to decode time axis into full numpy.datetime64[ns] objects, continuing using cftime.datetime objects instead, reason: dates out of range. To silence this warning use a coarser resolution 'time_unit' or specify 'use_cftime=True'.\n",
      "  model_ds = xr.open_dataset(model_file_path)\n",
      "C:\\Users\\benra\\AppData\\Local\\Temp\\ipykernel_27320\\2871396845.py:147: SerializationWarning: Unable to decode time axis into full numpy.datetime64[ns] objects, continuing using cftime.datetime objects instead, reason: dates out of range. To silence this warning use a coarser resolution 'time_unit' or specify 'use_cftime=True'.\n",
      "  model_ds = xr.open_dataset(model_file_path)\n",
      "C:\\Users\\benra\\anaconda3\\Lib\\site-packages\\sklearn\\cluster\\_kmeans.py:1382: UserWarning: KMeans is known to have a memory leak on Windows with MKL, when there are less chunks than available threads. You can avoid it by setting the environment variable OMP_NUM_THREADS=1.\n",
      "  warnings.warn(\n",
      "C:\\Users\\benra\\AppData\\Local\\Temp\\ipykernel_27320\\2871396845.py:242: UserWarning: You passed a edgecolor/edgecolors ('black') for an unfilled marker ('+').  Matplotlib is ignoring the edgecolor in favor of the facecolor.  This behavior may change in the future.\n",
      "  ax_2d.scatter(\n"
     ]
    },
    {
     "name": "stdout",
     "output_type": "stream",
     "text": [
      "  Generated PCA plot for Basin CW, Experiment exp08\n",
      "  Processing Experiment: exp09\n"
     ]
    },
    {
     "name": "stderr",
     "output_type": "stream",
     "text": [
      "C:\\Users\\benra\\AppData\\Local\\Temp\\ipykernel_27320\\2871396845.py:147: SerializationWarning: Unable to decode time axis into full numpy.datetime64[ns] objects, continuing using cftime.datetime objects instead, reason: dates out of range. To silence this warning use a coarser resolution 'time_unit' or specify 'use_cftime=True'.\n",
      "  model_ds = xr.open_dataset(model_file_path)\n",
      "C:\\Users\\benra\\AppData\\Local\\Temp\\ipykernel_27320\\2871396845.py:147: SerializationWarning: Unable to decode time axis into full numpy.datetime64[ns] objects, continuing using cftime.datetime objects instead, reason: dates out of range. To silence this warning use a coarser resolution 'time_unit' or specify 'use_cftime=True'.\n",
      "  model_ds = xr.open_dataset(model_file_path)\n",
      "C:\\Users\\benra\\anaconda3\\Lib\\site-packages\\sklearn\\cluster\\_kmeans.py:1382: UserWarning: KMeans is known to have a memory leak on Windows with MKL, when there are less chunks than available threads. You can avoid it by setting the environment variable OMP_NUM_THREADS=1.\n",
      "  warnings.warn(\n"
     ]
    },
    {
     "name": "stdout",
     "output_type": "stream",
     "text": [
      "  Generated PCA plot for Basin CW, Experiment exp09\n",
      "  Processing Experiment: exp10\n"
     ]
    },
    {
     "name": "stderr",
     "output_type": "stream",
     "text": [
      "C:\\Users\\benra\\AppData\\Local\\Temp\\ipykernel_27320\\2871396845.py:147: SerializationWarning: Unable to decode time axis into full numpy.datetime64[ns] objects, continuing using cftime.datetime objects instead, reason: dates out of range. To silence this warning use a coarser resolution 'time_unit' or specify 'use_cftime=True'.\n",
      "  model_ds = xr.open_dataset(model_file_path)\n",
      "C:\\Users\\benra\\AppData\\Local\\Temp\\ipykernel_27320\\2871396845.py:147: SerializationWarning: Unable to decode time axis into full numpy.datetime64[ns] objects, continuing using cftime.datetime objects instead, reason: dates out of range. To silence this warning use a coarser resolution 'time_unit' or specify 'use_cftime=True'.\n",
      "  model_ds = xr.open_dataset(model_file_path)\n",
      "C:\\Users\\benra\\anaconda3\\Lib\\site-packages\\sklearn\\cluster\\_kmeans.py:1382: UserWarning: KMeans is known to have a memory leak on Windows with MKL, when there are less chunks than available threads. You can avoid it by setting the environment variable OMP_NUM_THREADS=1.\n",
      "  warnings.warn(\n"
     ]
    },
    {
     "name": "stdout",
     "output_type": "stream",
     "text": [
      "  Generated PCA plot for Basin CW, Experiment exp10\n",
      "  Processing Experiment: expa01\n"
     ]
    },
    {
     "name": "stderr",
     "output_type": "stream",
     "text": [
      "C:\\Users\\benra\\AppData\\Local\\Temp\\ipykernel_27320\\2871396845.py:147: SerializationWarning: Unable to decode time axis into full numpy.datetime64[ns] objects, continuing using cftime.datetime objects instead, reason: dates out of range. To silence this warning use a coarser resolution 'time_unit' or specify 'use_cftime=True'.\n",
      "  model_ds = xr.open_dataset(model_file_path)\n",
      "C:\\Users\\benra\\AppData\\Local\\Temp\\ipykernel_27320\\2871396845.py:147: SerializationWarning: Unable to decode time axis into full numpy.datetime64[ns] objects, continuing using cftime.datetime objects instead, reason: dates out of range. To silence this warning use a coarser resolution 'time_unit' or specify 'use_cftime=True'.\n",
      "  model_ds = xr.open_dataset(model_file_path)\n",
      "C:\\Users\\benra\\AppData\\Local\\Temp\\ipykernel_27320\\2871396845.py:147: SerializationWarning: Unable to decode time axis into full numpy.datetime64[ns] objects, continuing using cftime.datetime objects instead, reason: dates out of range. To silence this warning use a coarser resolution 'time_unit' or specify 'use_cftime=True'.\n",
      "  model_ds = xr.open_dataset(model_file_path)\n",
      "C:\\Users\\benra\\AppData\\Local\\Temp\\ipykernel_27320\\2871396845.py:147: SerializationWarning: Unable to decode time axis into full numpy.datetime64[ns] objects, continuing using cftime.datetime objects instead, reason: dates out of range. To silence this warning use a coarser resolution 'time_unit' or specify 'use_cftime=True'.\n",
      "  model_ds = xr.open_dataset(model_file_path)\n",
      "C:\\Users\\benra\\anaconda3\\Lib\\site-packages\\sklearn\\cluster\\_kmeans.py:1382: UserWarning: KMeans is known to have a memory leak on Windows with MKL, when there are less chunks than available threads. You can avoid it by setting the environment variable OMP_NUM_THREADS=1.\n",
      "  warnings.warn(\n",
      "C:\\Users\\benra\\AppData\\Local\\Temp\\ipykernel_27320\\2871396845.py:279: RuntimeWarning: invalid value encountered in sqrt\n",
      "  height = 2 * np.sqrt(eigenvalues[1] * chi2_val) # Minor axis\n"
     ]
    },
    {
     "name": "stdout",
     "output_type": "stream",
     "text": [
      "  Generated PCA plot for Basin CW, Experiment expa01\n",
      "  Processing Experiment: expa02\n"
     ]
    },
    {
     "name": "stderr",
     "output_type": "stream",
     "text": [
      "C:\\Users\\benra\\AppData\\Local\\Temp\\ipykernel_27320\\2871396845.py:147: SerializationWarning: Unable to decode time axis into full numpy.datetime64[ns] objects, continuing using cftime.datetime objects instead, reason: dates out of range. To silence this warning use a coarser resolution 'time_unit' or specify 'use_cftime=True'.\n",
      "  model_ds = xr.open_dataset(model_file_path)\n",
      "C:\\Users\\benra\\AppData\\Local\\Temp\\ipykernel_27320\\2871396845.py:147: SerializationWarning: Unable to decode time axis into full numpy.datetime64[ns] objects, continuing using cftime.datetime objects instead, reason: dates out of range. To silence this warning use a coarser resolution 'time_unit' or specify 'use_cftime=True'.\n",
      "  model_ds = xr.open_dataset(model_file_path)\n",
      "C:\\Users\\benra\\AppData\\Local\\Temp\\ipykernel_27320\\2871396845.py:147: SerializationWarning: Unable to decode time axis into full numpy.datetime64[ns] objects, continuing using cftime.datetime objects instead, reason: dates out of range. To silence this warning use a coarser resolution 'time_unit' or specify 'use_cftime=True'.\n",
      "  model_ds = xr.open_dataset(model_file_path)\n",
      "C:\\Users\\benra\\AppData\\Local\\Temp\\ipykernel_27320\\2871396845.py:147: SerializationWarning: Unable to decode time axis into full numpy.datetime64[ns] objects, continuing using cftime.datetime objects instead, reason: dates out of range. To silence this warning use a coarser resolution 'time_unit' or specify 'use_cftime=True'.\n",
      "  model_ds = xr.open_dataset(model_file_path)\n",
      "C:\\Users\\benra\\anaconda3\\Lib\\site-packages\\sklearn\\cluster\\_kmeans.py:1382: UserWarning: KMeans is known to have a memory leak on Windows with MKL, when there are less chunks than available threads. You can avoid it by setting the environment variable OMP_NUM_THREADS=1.\n",
      "  warnings.warn(\n",
      "C:\\Users\\benra\\AppData\\Local\\Temp\\ipykernel_27320\\2871396845.py:279: RuntimeWarning: invalid value encountered in sqrt\n",
      "  height = 2 * np.sqrt(eigenvalues[1] * chi2_val) # Minor axis\n"
     ]
    },
    {
     "name": "stdout",
     "output_type": "stream",
     "text": [
      "  Generated PCA plot for Basin CW, Experiment expa02\n",
      "  Processing Experiment: expa03\n"
     ]
    },
    {
     "name": "stderr",
     "output_type": "stream",
     "text": [
      "C:\\Users\\benra\\AppData\\Local\\Temp\\ipykernel_27320\\2871396845.py:147: SerializationWarning: Unable to decode time axis into full numpy.datetime64[ns] objects, continuing using cftime.datetime objects instead, reason: dates out of range. To silence this warning use a coarser resolution 'time_unit' or specify 'use_cftime=True'.\n",
      "  model_ds = xr.open_dataset(model_file_path)\n",
      "C:\\Users\\benra\\AppData\\Local\\Temp\\ipykernel_27320\\2871396845.py:147: SerializationWarning: Unable to decode time axis into full numpy.datetime64[ns] objects, continuing using cftime.datetime objects instead, reason: dates out of range. To silence this warning use a coarser resolution 'time_unit' or specify 'use_cftime=True'.\n",
      "  model_ds = xr.open_dataset(model_file_path)\n",
      "C:\\Users\\benra\\AppData\\Local\\Temp\\ipykernel_27320\\2871396845.py:147: SerializationWarning: Unable to decode time axis into full numpy.datetime64[ns] objects, continuing using cftime.datetime objects instead, reason: dates out of range. To silence this warning use a coarser resolution 'time_unit' or specify 'use_cftime=True'.\n",
      "  model_ds = xr.open_dataset(model_file_path)\n",
      "C:\\Users\\benra\\AppData\\Local\\Temp\\ipykernel_27320\\2871396845.py:147: SerializationWarning: Unable to decode time axis into full numpy.datetime64[ns] objects, continuing using cftime.datetime objects instead, reason: dates out of range. To silence this warning use a coarser resolution 'time_unit' or specify 'use_cftime=True'.\n",
      "  model_ds = xr.open_dataset(model_file_path)\n",
      "C:\\Users\\benra\\anaconda3\\Lib\\site-packages\\sklearn\\cluster\\_kmeans.py:1382: UserWarning: KMeans is known to have a memory leak on Windows with MKL, when there are less chunks than available threads. You can avoid it by setting the environment variable OMP_NUM_THREADS=1.\n",
      "  warnings.warn(\n"
     ]
    },
    {
     "name": "stdout",
     "output_type": "stream",
     "text": [
      "  Generated PCA plot for Basin CW, Experiment expa03\n",
      "  Generated ARI Heatmap for Basin CW\n"
     ]
    },
    {
     "data": {
      "image/png": "[encoded data removed]",
      "text/plain": [
       "<Figure size 1200x800 with 1 Axes>"
      ]
     },
     "metadata": {},
     "output_type": "display_data"
    },
    {
     "name": "stdout",
     "output_type": "stream",
     "text": [
      "  Generated Disagreement Score Bar Chart for Basin CW\n",
      "\n",
      "--- Processing Basin: NW (ID: 7) ---\n",
      "  Processing Experiment: exp05\n"
     ]
    },
    {
     "name": "stderr",
     "output_type": "stream",
     "text": [
      "C:\\Users\\benra\\AppData\\Local\\Temp\\ipykernel_27320\\2871396845.py:147: SerializationWarning: Unable to decode time axis into full numpy.datetime64[ns] objects, continuing using cftime.datetime objects instead, reason: dates out of range. To silence this warning use a coarser resolution 'time_unit' or specify 'use_cftime=True'.\n",
      "  model_ds = xr.open_dataset(model_file_path)\n",
      "C:\\Users\\benra\\AppData\\Local\\Temp\\ipykernel_27320\\2871396845.py:147: SerializationWarning: Unable to decode time axis into full numpy.datetime64[ns] objects, continuing using cftime.datetime objects instead, reason: dates out of range. To silence this warning use a coarser resolution 'time_unit' or specify 'use_cftime=True'.\n",
      "  model_ds = xr.open_dataset(model_file_path)\n",
      "C:\\Users\\benra\\anaconda3\\Lib\\site-packages\\sklearn\\cluster\\_kmeans.py:1382: UserWarning: KMeans is known to have a memory leak on Windows with MKL, when there are less chunks than available threads. You can avoid it by setting the environment variable OMP_NUM_THREADS=1.\n",
      "  warnings.warn(\n",
      "C:\\Users\\benra\\AppData\\Local\\Temp\\ipykernel_27320\\2871396845.py:242: UserWarning: You passed a edgecolor/edgecolors ('black') for an unfilled marker ('+').  Matplotlib is ignoring the edgecolor in favor of the facecolor.  This behavior may change in the future.\n",
      "  ax_2d.scatter(\n"
     ]
    },
    {
     "name": "stdout",
     "output_type": "stream",
     "text": [
      "  Generated PCA plot for Basin NW, Experiment exp05\n",
      "  Processing Experiment: exp06\n"
     ]
    },
    {
     "name": "stderr",
     "output_type": "stream",
     "text": [
      "C:\\Users\\benra\\AppData\\Local\\Temp\\ipykernel_27320\\2871396845.py:147: SerializationWarning: Unable to decode time axis into full numpy.datetime64[ns] objects, continuing using cftime.datetime objects instead, reason: dates out of range. To silence this warning use a coarser resolution 'time_unit' or specify 'use_cftime=True'.\n",
      "  model_ds = xr.open_dataset(model_file_path)\n",
      "C:\\Users\\benra\\AppData\\Local\\Temp\\ipykernel_27320\\2871396845.py:147: SerializationWarning: Unable to decode time axis into full numpy.datetime64[ns] objects, continuing using cftime.datetime objects instead, reason: dates out of range. To silence this warning use a coarser resolution 'time_unit' or specify 'use_cftime=True'.\n",
      "  model_ds = xr.open_dataset(model_file_path)\n",
      "C:\\Users\\benra\\anaconda3\\Lib\\site-packages\\sklearn\\cluster\\_kmeans.py:1382: UserWarning: KMeans is known to have a memory leak on Windows with MKL, when there are less chunks than available threads. You can avoid it by setting the environment variable OMP_NUM_THREADS=1.\n",
      "  warnings.warn(\n",
      "C:\\Users\\benra\\AppData\\Local\\Temp\\ipykernel_27320\\2871396845.py:242: UserWarning: You passed a edgecolor/edgecolors ('black') for an unfilled marker ('+').  Matplotlib is ignoring the edgecolor in favor of the facecolor.  This behavior may change in the future.\n",
      "  ax_2d.scatter(\n"
     ]
    },
    {
     "name": "stdout",
     "output_type": "stream",
     "text": [
      "  Generated PCA plot for Basin NW, Experiment exp06\n",
      "  Processing Experiment: exp07\n"
     ]
    },
    {
     "name": "stderr",
     "output_type": "stream",
     "text": [
      "C:\\Users\\benra\\AppData\\Local\\Temp\\ipykernel_27320\\2871396845.py:147: SerializationWarning: Unable to decode time axis into full numpy.datetime64[ns] objects, continuing using cftime.datetime objects instead, reason: dates out of range. To silence this warning use a coarser resolution 'time_unit' or specify 'use_cftime=True'.\n",
      "  model_ds = xr.open_dataset(model_file_path)\n",
      "C:\\Users\\benra\\AppData\\Local\\Temp\\ipykernel_27320\\2871396845.py:147: SerializationWarning: Unable to decode time axis into full numpy.datetime64[ns] objects, continuing using cftime.datetime objects instead, reason: dates out of range. To silence this warning use a coarser resolution 'time_unit' or specify 'use_cftime=True'.\n",
      "  model_ds = xr.open_dataset(model_file_path)\n",
      "C:\\Users\\benra\\anaconda3\\Lib\\site-packages\\sklearn\\cluster\\_kmeans.py:1382: UserWarning: KMeans is known to have a memory leak on Windows with MKL, when there are less chunks than available threads. You can avoid it by setting the environment variable OMP_NUM_THREADS=1.\n",
      "  warnings.warn(\n",
      "C:\\Users\\benra\\AppData\\Local\\Temp\\ipykernel_27320\\2871396845.py:242: UserWarning: You passed a edgecolor/edgecolors ('black') for an unfilled marker ('+').  Matplotlib is ignoring the edgecolor in favor of the facecolor.  This behavior may change in the future.\n",
      "  ax_2d.scatter(\n"
     ]
    },
    {
     "name": "stdout",
     "output_type": "stream",
     "text": [
      "  Generated PCA plot for Basin NW, Experiment exp07\n",
      "  Processing Experiment: exp08\n"
     ]
    },
    {
     "name": "stderr",
     "output_type": "stream",
     "text": [
      "C:\\Users\\benra\\AppData\\Local\\Temp\\ipykernel_27320\\2871396845.py:147: SerializationWarning: Unable to decode time axis into full numpy.datetime64[ns] objects, continuing using cftime.datetime objects instead, reason: dates out of range. To silence this warning use a coarser resolution 'time_unit' or specify 'use_cftime=True'.\n",
      "  model_ds = xr.open_dataset(model_file_path)\n",
      "C:\\Users\\benra\\AppData\\Local\\Temp\\ipykernel_27320\\2871396845.py:147: SerializationWarning: Unable to decode time axis into full numpy.datetime64[ns] objects, continuing using cftime.datetime objects instead, reason: dates out of range. To silence this warning use a coarser resolution 'time_unit' or specify 'use_cftime=True'.\n",
      "  model_ds = xr.open_dataset(model_file_path)\n",
      "C:\\Users\\benra\\anaconda3\\Lib\\site-packages\\sklearn\\cluster\\_kmeans.py:1382: UserWarning: KMeans is known to have a memory leak on Windows with MKL, when there are less chunks than available threads. You can avoid it by setting the environment variable OMP_NUM_THREADS=1.\n",
      "  warnings.warn(\n",
      "C:\\Users\\benra\\AppData\\Local\\Temp\\ipykernel_27320\\2871396845.py:242: UserWarning: You passed a edgecolor/edgecolors ('black') for an unfilled marker ('+').  Matplotlib is ignoring the edgecolor in favor of the facecolor.  This behavior may change in the future.\n",
      "  ax_2d.scatter(\n"
     ]
    },
    {
     "name": "stdout",
     "output_type": "stream",
     "text": [
      "  Generated PCA plot for Basin NW, Experiment exp08\n",
      "  Processing Experiment: exp09\n"
     ]
    },
    {
     "name": "stderr",
     "output_type": "stream",
     "text": [
      "C:\\Users\\benra\\AppData\\Local\\Temp\\ipykernel_27320\\2871396845.py:147: SerializationWarning: Unable to decode time axis into full numpy.datetime64[ns] objects, continuing using cftime.datetime objects instead, reason: dates out of range. To silence this warning use a coarser resolution 'time_unit' or specify 'use_cftime=True'.\n",
      "  model_ds = xr.open_dataset(model_file_path)\n",
      "C:\\Users\\benra\\AppData\\Local\\Temp\\ipykernel_27320\\2871396845.py:147: SerializationWarning: Unable to decode time axis into full numpy.datetime64[ns] objects, continuing using cftime.datetime objects instead, reason: dates out of range. To silence this warning use a coarser resolution 'time_unit' or specify 'use_cftime=True'.\n",
      "  model_ds = xr.open_dataset(model_file_path)\n",
      "C:\\Users\\benra\\anaconda3\\Lib\\site-packages\\sklearn\\cluster\\_kmeans.py:1382: UserWarning: KMeans is known to have a memory leak on Windows with MKL, when there are less chunks than available threads. You can avoid it by setting the environment variable OMP_NUM_THREADS=1.\n",
      "  warnings.warn(\n"
     ]
    },
    {
     "name": "stdout",
     "output_type": "stream",
     "text": [
      "  Generated PCA plot for Basin NW, Experiment exp09\n",
      "  Processing Experiment: exp10\n"
     ]
    },
    {
     "name": "stderr",
     "output_type": "stream",
     "text": [
      "C:\\Users\\benra\\AppData\\Local\\Temp\\ipykernel_27320\\2871396845.py:147: SerializationWarning: Unable to decode time axis into full numpy.datetime64[ns] objects, continuing using cftime.datetime objects instead, reason: dates out of range. To silence this warning use a coarser resolution 'time_unit' or specify 'use_cftime=True'.\n",
      "  model_ds = xr.open_dataset(model_file_path)\n",
      "C:\\Users\\benra\\AppData\\Local\\Temp\\ipykernel_27320\\2871396845.py:147: SerializationWarning: Unable to decode time axis into full numpy.datetime64[ns] objects, continuing using cftime.datetime objects instead, reason: dates out of range. To silence this warning use a coarser resolution 'time_unit' or specify 'use_cftime=True'.\n",
      "  model_ds = xr.open_dataset(model_file_path)\n",
      "C:\\Users\\benra\\anaconda3\\Lib\\site-packages\\sklearn\\cluster\\_kmeans.py:1382: UserWarning: KMeans is known to have a memory leak on Windows with MKL, when there are less chunks than available threads. You can avoid it by setting the environment variable OMP_NUM_THREADS=1.\n",
      "  warnings.warn(\n"
     ]
    },
    {
     "name": "stdout",
     "output_type": "stream",
     "text": [
      "  Generated PCA plot for Basin NW, Experiment exp10\n",
      "  Processing Experiment: expa01\n"
     ]
    },
    {
     "name": "stderr",
     "output_type": "stream",
     "text": [
      "C:\\Users\\benra\\AppData\\Local\\Temp\\ipykernel_27320\\2871396845.py:147: SerializationWarning: Unable to decode time axis into full numpy.datetime64[ns] objects, continuing using cftime.datetime objects instead, reason: dates out of range. To silence this warning use a coarser resolution 'time_unit' or specify 'use_cftime=True'.\n",
      "  model_ds = xr.open_dataset(model_file_path)\n",
      "C:\\Users\\benra\\AppData\\Local\\Temp\\ipykernel_27320\\2871396845.py:147: SerializationWarning: Unable to decode time axis into full numpy.datetime64[ns] objects, continuing using cftime.datetime objects instead, reason: dates out of range. To silence this warning use a coarser resolution 'time_unit' or specify 'use_cftime=True'.\n",
      "  model_ds = xr.open_dataset(model_file_path)\n",
      "C:\\Users\\benra\\AppData\\Local\\Temp\\ipykernel_27320\\2871396845.py:147: SerializationWarning: Unable to decode time axis into full numpy.datetime64[ns] objects, continuing using cftime.datetime objects instead, reason: dates out of range. To silence this warning use a coarser resolution 'time_unit' or specify 'use_cftime=True'.\n",
      "  model_ds = xr.open_dataset(model_file_path)\n",
      "C:\\Users\\benra\\AppData\\Local\\Temp\\ipykernel_27320\\2871396845.py:147: SerializationWarning: Unable to decode time axis into full numpy.datetime64[ns] objects, continuing using cftime.datetime objects instead, reason: dates out of range. To silence this warning use a coarser resolution 'time_unit' or specify 'use_cftime=True'.\n",
      "  model_ds = xr.open_dataset(model_file_path)\n",
      "C:\\Users\\benra\\anaconda3\\Lib\\site-packages\\sklearn\\cluster\\_kmeans.py:1382: UserWarning: KMeans is known to have a memory leak on Windows with MKL, when there are less chunks than available threads. You can avoid it by setting the environment variable OMP_NUM_THREADS=1.\n",
      "  warnings.warn(\n",
      "C:\\Users\\benra\\AppData\\Local\\Temp\\ipykernel_27320\\2871396845.py:279: RuntimeWarning: invalid value encountered in sqrt\n",
      "  height = 2 * np.sqrt(eigenvalues[1] * chi2_val) # Minor axis\n"
     ]
    },
    {
     "name": "stdout",
     "output_type": "stream",
     "text": [
      "  Generated PCA plot for Basin NW, Experiment expa01\n",
      "  Processing Experiment: expa02\n"
     ]
    },
    {
     "name": "stderr",
     "output_type": "stream",
     "text": [
      "C:\\Users\\benra\\AppData\\Local\\Temp\\ipykernel_27320\\2871396845.py:147: SerializationWarning: Unable to decode time axis into full numpy.datetime64[ns] objects, continuing using cftime.datetime objects instead, reason: dates out of range. To silence this warning use a coarser resolution 'time_unit' or specify 'use_cftime=True'.\n",
      "  model_ds = xr.open_dataset(model_file_path)\n",
      "C:\\Users\\benra\\AppData\\Local\\Temp\\ipykernel_27320\\2871396845.py:147: SerializationWarning: Unable to decode time axis into full numpy.datetime64[ns] objects, continuing using cftime.datetime objects instead, reason: dates out of range. To silence this warning use a coarser resolution 'time_unit' or specify 'use_cftime=True'.\n",
      "  model_ds = xr.open_dataset(model_file_path)\n",
      "C:\\Users\\benra\\AppData\\Local\\Temp\\ipykernel_27320\\2871396845.py:147: SerializationWarning: Unable to decode time axis into full numpy.datetime64[ns] objects, continuing using cftime.datetime objects instead, reason: dates out of range. To silence this warning use a coarser resolution 'time_unit' or specify 'use_cftime=True'.\n",
      "  model_ds = xr.open_dataset(model_file_path)\n",
      "C:\\Users\\benra\\AppData\\Local\\Temp\\ipykernel_27320\\2871396845.py:147: SerializationWarning: Unable to decode time axis into full numpy.datetime64[ns] objects, continuing using cftime.datetime objects instead, reason: dates out of range. To silence this warning use a coarser resolution 'time_unit' or specify 'use_cftime=True'.\n",
      "  model_ds = xr.open_dataset(model_file_path)\n",
      "C:\\Users\\benra\\anaconda3\\Lib\\site-packages\\sklearn\\cluster\\_kmeans.py:1382: UserWarning: KMeans is known to have a memory leak on Windows with MKL, when there are less chunks than available threads. You can avoid it by setting the environment variable OMP_NUM_THREADS=1.\n",
      "  warnings.warn(\n",
      "C:\\Users\\benra\\AppData\\Local\\Temp\\ipykernel_27320\\2871396845.py:279: RuntimeWarning: invalid value encountered in sqrt\n",
      "  height = 2 * np.sqrt(eigenvalues[1] * chi2_val) # Minor axis\n"
     ]
    },
    {
     "name": "stdout",
     "output_type": "stream",
     "text": [
      "  Generated PCA plot for Basin NW, Experiment expa02\n",
      "  Processing Experiment: expa03\n"
     ]
    },
    {
     "name": "stderr",
     "output_type": "stream",
     "text": [
      "C:\\Users\\benra\\AppData\\Local\\Temp\\ipykernel_27320\\2871396845.py:147: SerializationWarning: Unable to decode time axis into full numpy.datetime64[ns] objects, continuing using cftime.datetime objects instead, reason: dates out of range. To silence this warning use a coarser resolution 'time_unit' or specify 'use_cftime=True'.\n",
      "  model_ds = xr.open_dataset(model_file_path)\n",
      "C:\\Users\\benra\\AppData\\Local\\Temp\\ipykernel_27320\\2871396845.py:147: SerializationWarning: Unable to decode time axis into full numpy.datetime64[ns] objects, continuing using cftime.datetime objects instead, reason: dates out of range. To silence this warning use a coarser resolution 'time_unit' or specify 'use_cftime=True'.\n",
      "  model_ds = xr.open_dataset(model_file_path)\n",
      "C:\\Users\\benra\\AppData\\Local\\Temp\\ipykernel_27320\\2871396845.py:147: SerializationWarning: Unable to decode time axis into full numpy.datetime64[ns] objects, continuing using cftime.datetime objects instead, reason: dates out of range. To silence this warning use a coarser resolution 'time_unit' or specify 'use_cftime=True'.\n",
      "  model_ds = xr.open_dataset(model_file_path)\n",
      "C:\\Users\\benra\\AppData\\Local\\Temp\\ipykernel_27320\\2871396845.py:147: SerializationWarning: Unable to decode time axis into full numpy.datetime64[ns] objects, continuing using cftime.datetime objects instead, reason: dates out of range. To silence this warning use a coarser resolution 'time_unit' or specify 'use_cftime=True'.\n",
      "  model_ds = xr.open_dataset(model_file_path)\n",
      "C:\\Users\\benra\\anaconda3\\Lib\\site-packages\\sklearn\\cluster\\_kmeans.py:1382: UserWarning: KMeans is known to have a memory leak on Windows with MKL, when there are less chunks than available threads. You can avoid it by setting the environment variable OMP_NUM_THREADS=1.\n",
      "  warnings.warn(\n"
     ]
    },
    {
     "name": "stdout",
     "output_type": "stream",
     "text": [
      "  Generated PCA plot for Basin NW, Experiment expa03\n",
      "  Generated ARI Heatmap for Basin NW\n"
     ]
    },
    {
     "data": {
      "image/png": "[encoded data removed]",
      "text/plain": [
       "<Figure size 1200x800 with 1 Axes>"
      ]
     },
     "metadata": {},
     "output_type": "display_data"
    },
    {
     "name": "stdout",
     "output_type": "stream",
     "text": [
      "  Generated Disagreement Score Bar Chart for Basin NW\n",
      "\n",
      "--- Analysis Complete ---\n"
     ]
    }
   ],
   "source": [
    "# --- Disagreement Score Calc/Plot with Average Distance Between Models in PCA Space ---\n",
    "\n",
    "import os\n",
    "import xarray as xr\n",
    "import numpy as np\n",
    "import pandas as pd\n",
    "from sklearn.preprocessing import StandardScaler\n",
    "from sklearn.decomposition import PCA\n",
    "from sklearn.cluster import KMeans\n",
    "from sklearn.metrics import adjusted_rand_score\n",
    "import matplotlib.pyplot as plt\n",
    "import seaborn as sns\n",
    "from skimage.transform import resize \n",
    "from matplotlib.patches import Ellipse\n",
    "import scipy.stats as stats \n",
    "from itertools import combinations \n",
    "\n",
    "# --- Configuration ---\n",
    "# Base directory where your experiment folders are located\n",
    "base_data_dir = r\"C:\\Users\\benra\"\n",
    "# Path to your basin mask NetCDF file\n",
    "basin_mask_path = r\"C:\\Users\\benra\\output_combined_masked_basins.nc\"\n",
    "\n",
    "# List of all experiment IDs (folder names)\n",
    "experiment_ids = [\n",
    "    'exp05', 'exp06', 'exp07', 'exp08', 'exp09', 'exp10', 'expa01', 'expa02', 'expa03'\n",
    "]\n",
    "\n",
    "# List of all model names (NetCDF file names within each experiment folder, without .nc)\n",
    "# Ensure this list is comprehensive for all models across all experiments\n",
    "participating_models = [\n",
    "    'AWI_ISSM1', 'AWI_ISSM2', 'AWI_ISSM3', 'BGC_BISICLES', 'GSFC_ISSM',\n",
    "    'ILTS_PIK_SICOPOLIS1', 'ILTS_PIK_SICOPOLIS2', 'IMAU_IMAUICE1', 'IMAU_IMAUICE2', 'JPL_ISSM',\n",
    "    'JPL_ISSMPALEO', 'LSCE_GRISLI', 'MUN_GSM1', 'MUN_GSM2', 'NCAR_CISM',\n",
    "    'UAF_PISM1', 'UAF_PISM2', 'UCIJPL_ISSM1', 'UCIJPL_ISSM2', 'VUB_GISM', 'VUW_PISM'\n",
    "]\n",
    "\n",
    "\n",
    "# Variable name for ice thickness in your NetCDF files\n",
    "variable_name = 'lithk' # Assuming 'lithk' for ice thickness\n",
    "\n",
    "# PCA and K-means parameters\n",
    "n_components_pca = 4  # For 2D plotting and clustering\n",
    "n_clusters_kmeans = 5 # Number of clusters for K-means\n",
    "\n",
    "# Output directory for plots\n",
    "output_plots_dir = \"Basin_ARI_Analysis_Plots\"\n",
    "os.makedirs(output_plots_dir, exist_ok=True)\n",
    "\n",
    "# --- Basin Geographic Names Mapping ---\n",
    "basin_names = {\n",
    "    1: 'NO',\n",
    "    2: 'NE',\n",
    "    3: 'CE',\n",
    "    4: 'SE',\n",
    "    5: 'SW',\n",
    "    6: 'CW',\n",
    "    7: 'NW'\n",
    "}\n",
    "\n",
    "# --- Define Marker Styles for Models ---\n",
    "# Create a list of distinct markers to cycle through for each model\n",
    "# Ensure you have enough markers for all your participating_models\n",
    "markers = ['o', 's', '^', 'D', 'P', 'X', '*', 'h', 'v', '<', '>', 'p', 'H', 'd', '8', 'v', '^', '<', '>', 'P', '+']\n",
    "model_to_marker = {model: markers[i % len(markers)] for i, model in enumerate(participating_models)}\n",
    "\n",
    "# --- Load Basin Mask ---\n",
    "try:\n",
    "    basin_mask_data = xr.open_dataset(basin_mask_path)\n",
    "    # --- DEBUGGING: Print all data variables to confirm 'IDs' name ---\n",
    "    print(f\"Data variables found in basin mask file: {list(basin_mask_data.data_vars.keys())}\")\n",
    "\n",
    "    # Attempt to load 'IDs' variable, stripping any potential whitespace from its name\n",
    "    # This handles cases where the name might be 'IDs ' or ' IDs'\n",
    "    basin_id_var_name = None\n",
    "    for var_key in basin_mask_data.data_vars.keys():\n",
    "        if var_key.strip() == 'IDs':\n",
    "            basin_id_var_name = var_key\n",
    "            break\n",
    "    \n",
    "    if basin_id_var_name is None:\n",
    "        raise KeyError(\"Could not find 'IDs' variable (even after stripping whitespace) in basin mask NetCDF.\")\n",
    "\n",
    "    basin_ids_grid = basin_mask_data[basin_id_var_name]\n",
    "    unique_basin_ids = np.unique(basin_ids_grid.values[~np.isnan(basin_ids_grid.values)]).astype(int)\n",
    "    print(f\"Found {len(unique_basin_ids)} unique basins: {unique_basin_ids}\")\n",
    "\n",
    "    # Get grid coordinates and shape from the basin mask (assuming it's on the same grid)\n",
    "    x_coords_grid = basin_ids_grid['x'].values if 'x' in basin_ids_grid.coords else basin_ids_grid.coords[basin_ids_grid.dims[1]].values\n",
    "    y_coords_grid = basin_ids_grid['y'].values if 'y' in basin_ids_grid.coords else basin_ids_grid.coords[basin_ids_grid.dims[0]].values\n",
    "    rows_grid, cols_grid = basin_ids_grid.shape\n",
    "except FileNotFoundError:\n",
    "    print(f\"Error: Basin mask file not found at {basin_mask_path}\")\n",
    "    exit()\n",
    "except KeyError as e:\n",
    "    print(f\"Error: {e}. Please check the variable name or file path for the basin mask.\")\n",
    "    exit()\n",
    "except Exception as e:\n",
    "    print(f\"An unexpected error occurred while loading basin mask: {e}\")\n",
    "    exit()\n",
    "\n",
    "\n",
    "# --- Main Analysis Loop: Per Basin ---\n",
    "for basin_id in unique_basin_ids:\n",
    "    # Get the geographic name for the current basin, default to number if not found\n",
    "    basin_geo_name = basin_names.get(basin_id, f\"Basin {basin_id}\")\n",
    "    print(f\"\\n--- Processing Basin: {basin_geo_name} (ID: {basin_id}) ---\")\n",
    "\n",
    "    # Dictionary to store cluster labels AND the list of models present for each experiment for the current basin\n",
    "    # Key: experiment_id, Value: tuple (numpy array of cluster labels, list of model names)\n",
    "    basin_experiment_clustering_results = {} # RENAMED for clarity\n",
    "\n",
    "    # Dictionary to store average pairwise distances for each experiment\n",
    "    basin_experiment_disagreement_scores = {}\n",
    "\n",
    "    # Create a directory for basin-specific plots\n",
    "    # Use the geographic name for the folder for better organization\n",
    "    basin_output_dir = os.path.join(output_plots_dir, f\"Basin_{basin_geo_name}\")\n",
    "    os.makedirs(basin_output_dir, exist_ok=True)\n",
    "\n",
    "    # Dictionary to store PCA scores for plotting (for the 2D clustering plot)\n",
    "    basin_experiment_pca_scores = {}\n",
    "\n",
    "    # Loop through each experiment for the current basin\n",
    "    for exp_id in experiment_ids:\n",
    "        print(f\"  Processing Experiment: {exp_id}\")\n",
    "        current_experiment_basin_deltas = []\n",
    "        current_experiment_models_present = [] # Keep track of models actually loaded\n",
    "\n",
    "        # Construct the actual folder name for the current experiment\n",
    "        experiment_folder_name = f\"{variable_name}_{exp_id}\" # e.g., 'lithk_exp05'\n",
    "\n",
    "        # Loop through each model in the current experiment\n",
    "        for model_name in participating_models:\n",
    "            # --- Construct the model file name based on naming convention ---\n",
    "            # Example: lithk_GIS_AWI-ISSM1_exp05.nc\n",
    "            model_file_name = f\"{variable_name}_GIS_{model_name}_{exp_id}.nc\"\n",
    "            model_file_path = os.path.join(base_data_dir, experiment_folder_name, model_file_name)\n",
    "\n",
    "            if not os.path.exists(model_file_path):\n",
    "                # print(f\"    Warning: Model file not found for {model_name} in {exp_id}. Skipping.\")\n",
    "                continue # Skip this model if its file doesn't exist\n",
    "\n",
    "            try:\n",
    "                model_ds = xr.open_dataset(model_file_path)\n",
    "                # Ensure 'time' dimension exists and is sufficient\n",
    "                if 'time' not in model_ds[variable_name].dims or len(model_ds['time']) < 2:\n",
    "                    print(f\"    Warning: '{variable_name}' in {model_name}/{exp_id} has insufficient time dimension. Skipping.\")\n",
    "                    model_ds.close()\n",
    "                    continue\n",
    "\n",
    "                # Calculate delta lithk from 2015 (index 0) to 2100 (last index)\n",
    "                # Assuming time dimension is sorted and 2015 is first, 2100 is last.\n",
    "                delta_lithk = model_ds[variable_name].isel(time=-1) - model_ds[variable_name].isel(time=0)\n",
    "\n",
    "                # Close dataset to free memory\n",
    "                model_ds.close()\n",
    "\n",
    "                # --- FIX FOR MEMORYERROR: Ensure spatial alignment before masking ---\n",
    "                # Rename dimensions of delta_lithk to match basin_ids_grid\n",
    "                target_dims = basin_ids_grid.dims\n",
    "                \n",
    "                if len(delta_lithk.dims) == len(target_dims):\n",
    "                    dim_rename_map = {old_dim: new_dim for old_dim, new_dim in zip(delta_lithk.dims, target_dims)}\n",
    "                    delta_lithk_aligned = delta_lithk.rename(dim_rename_map)\n",
    "                else:\n",
    "                    print(f\"    Warning: Delta_lithk for {model_name} in {exp_id} has unexpected dimensions: {delta_lithk.dims}. Skipping alignment.\")\n",
    "                    delta_lithk_aligned = delta_lithk\n",
    "\n",
    "                delta_lithk_reindexed = delta_lithk_aligned.reindex_like(basin_ids_grid, method='nearest', tolerance=1e-6)\n",
    "\n",
    "                # Now apply the mask using the reindexed delta_lithk\n",
    "                basin_specific_delta = delta_lithk_reindexed.where(basin_ids_grid == basin_id)\n",
    "\n",
    "                # Flatten the 2D basin-specific delta to a 1D array\n",
    "                flattened_delta = basin_specific_delta.values.flatten()\n",
    "                current_experiment_basin_deltas.append(flattened_delta)\n",
    "                current_experiment_models_present.append(model_name)\n",
    "\n",
    "            except Exception as e:\n",
    "                print(f\"    Error processing {model_name} in {exp_id}: {e}. Skipping.\")\n",
    "                if 'model_ds' in locals() and model_ds is not None:\n",
    "                    model_ds.close()\n",
    "                continue\n",
    "\n",
    "        if not current_experiment_models_present:\n",
    "            print(f\"  No valid model data found for Experiment {exp_id} in Basin {basin_id}. Skipping clustering.\")\n",
    "            continue # Skip clustering for this experiment if no data\n",
    "\n",
    "        # Stack all models' basin-specific deltas into a matrix\n",
    "        all_models_basin_data = np.stack(current_experiment_basin_deltas)\n",
    "\n",
    "        # Handle NaNs: Remove grid points that are NaN for *any* model in this basin/experiment\n",
    "        mask_valid_points = ~np.any(np.isnan(all_models_basin_data), axis=0)\n",
    "        data_matrix_for_clustering = all_models_basin_data[:, mask_valid_points]\n",
    "\n",
    "        if data_matrix_for_clustering.shape[1] == 0:\n",
    "            print(f\"  No valid (non-NaN) data points for clustering in Experiment {exp_id}, Basin {basin_id}. Skipping.\")\n",
    "            continue # Skip if no valid spatial points remain after masking\n",
    "\n",
    "        # --- Perform PCA ---\n",
    "        scaler = StandardScaler()\n",
    "        data_matrix_scaled = scaler.fit_transform(data_matrix_for_clustering)\n",
    "\n",
    "        pca = PCA(n_components=n_components_pca)\n",
    "        pca_scores = pca.fit_transform(data_matrix_scaled)\n",
    "        basin_experiment_pca_scores[exp_id] = pca_scores # Store for plotting\n",
    "\n",
    "        # --- NEW: Calculate average pairwise distance for this experiment's ensemble ---\n",
    "        if pca_scores.shape[0] >= 2: # Need at least 2 models to calculate pairwise distances\n",
    "            pairwise_distances = []\n",
    "            for m1, m2 in combinations(range(pca_scores.shape[0]), 2):\n",
    "                dist = np.linalg.norm(pca_scores[m1] - pca_scores[m2])\n",
    "                pairwise_distances.append(dist)\n",
    "            avg_pairwise_distance = np.mean(pairwise_distances)\n",
    "            basin_experiment_disagreement_scores[exp_id] = avg_pairwise_distance\n",
    "        else:\n",
    "            basin_experiment_disagreement_scores[exp_id] = np.nan # Not enough models for meaningful distance\n",
    "\n",
    "        # --- Perform K-Means Clustering ---\n",
    "        kmeans = KMeans(n_clusters=n_clusters_kmeans, random_state=0, n_init='auto')\n",
    "        labels = kmeans.fit_predict(pca_scores)\n",
    "        \n",
    "        # Store both labels and the list of models present for this experiment\n",
    "        basin_experiment_clustering_results[exp_id] = (labels, current_experiment_models_present)\n",
    "\n",
    "\n",
    "        # --- Generate 2D PCA Plot for this Basin/Experiment ---\n",
    "        fig_2d, ax_2d = plt.subplots(figsize=(12, 10)) # Increased figure size for legend\n",
    "\n",
    "        # Define cluster colors (matching viridis cmap)\n",
    "        cluster_colors = [plt.cm.viridis(i / (n_clusters_kmeans - 1)) for i in range(n_clusters_kmeans)]\n",
    "\n",
    "        # Loop through models present in THIS experiment to ensure correct labels and plotting\n",
    "        for i, model_name in enumerate(current_experiment_models_present):\n",
    "            cluster_id = labels[i]\n",
    "            color = cluster_colors[cluster_id]\n",
    "            marker = model_to_marker[model_name]\n",
    "\n",
    "            ax_2d.scatter(\n",
    "                pca_scores[i, 0],\n",
    "                pca_scores[i, 1],\n",
    "                c=[color],\n",
    "                marker=marker,\n",
    "                label=None, # Labels are for custom legend handles below\n",
    "                s=250, # Increased marker size\n",
    "                edgecolor='black',\n",
    "                alpha=0.8\n",
    "            )\n",
    "\n",
    "        # --- Add Ellipses for each Cluster in 2D Plot ---\n",
    "        # Chi-squared critical value for 95% confidence with 2 degrees of freedom\n",
    "        confidence_level = 0.95\n",
    "        chi2_val = stats.chi2.ppf(confidence_level, df=2)\n",
    "\n",
    "        for cluster_id in np.unique(labels):\n",
    "            cluster_points = pca_scores[labels == cluster_id, :2] # Select points for this cluster (PC1, PC2)\n",
    "\n",
    "            if len(cluster_points) < 2: # Need at least 2 points to compute covariance for an ellipse\n",
    "                continue\n",
    "\n",
    "            centroid = np.mean(cluster_points, axis=0)\n",
    "            covariance = np.cov(cluster_points, rowvar=False)\n",
    "\n",
    "            eigenvalues, eigenvectors = np.linalg.eigh(covariance)\n",
    "\n",
    "            # Sort eigenvalues and eigenvectors in descending order for correct orientation\n",
    "            order = eigenvalues.argsort()[::-1]\n",
    "            eigenvalues = eigenvalues[order]\n",
    "            eigenvectors = eigenvectors[:, order]\n",
    "\n",
    "            # Calculate angle of rotation for the ellipse\n",
    "            angle = np.degrees(np.arctan2(*eigenvectors[:, 0][::-1]))\n",
    "\n",
    "            # Calculate width and height of the ellipse axes\n",
    "            width = 2 * np.sqrt(eigenvalues[0] * chi2_val) # Major axis\n",
    "            height = 2 * np.sqrt(eigenvalues[1] * chi2_val) # Minor axis\n",
    "\n",
    "            ellipse_color = cluster_colors[cluster_id]\n",
    "            ellipse = Ellipse(xy=centroid, width=width, height=height,\n",
    "                              angle=angle, edgecolor=ellipse_color, fc='None',\n",
    "                              lw=2, alpha=0.7, zorder=0) # zorder to keep it behind points\n",
    "            ax_2d.add_patch(ellipse)\n",
    "\n",
    "        # Create a custom legend for clusters and models\n",
    "        # For clusters\n",
    "        cluster_legend_handles = []\n",
    "        for i in range(n_clusters_kmeans):\n",
    "            cluster_legend_handles.append(plt.Line2D([0], [0], marker='o', color='w',\n",
    "                                                     markerfacecolor=cluster_colors[i], markersize=10,\n",
    "                                                     label=f'Cluster {i}'))\n",
    "\n",
    "        # For models - ENSURE MARKER COLOR MATCHES PLOT COLOR\n",
    "        model_legend_handles = []\n",
    "        for i, model_name in enumerate(current_experiment_models_present): # Use current_experiment_models_present\n",
    "            cluster_id = labels[i] # Get the cluster ID for the current model\n",
    "            model_color = cluster_colors[cluster_id] # Get the color associated with that cluster\n",
    "            model_legend_handles.append(plt.Line2D([0], [0], marker=model_to_marker[model_name], color='w',\n",
    "                                                   markerfacecolor=model_color, # Use the model's cluster color here\n",
    "                                                   markersize=10,\n",
    "                                                   label=model_name, markeredgecolor='black'))\n",
    "\n",
    "        # Add the cluster legend\n",
    "        first_legend = ax_2d.legend(handles=cluster_legend_handles, loc='upper left', title='Clusters', bbox_to_anchor=(1.02, 1))\n",
    "        ax_2d.add_artist(first_legend) # Add the first legend manually to allow a second one\n",
    "\n",
    "        # Add the model legend\n",
    "        ax_2d.legend(handles=model_legend_handles, loc='lower left', title='Models', bbox_to_anchor=(1.02, 0))\n",
    "\n",
    "\n",
    "        ax_2d.set_xlabel(f'Principal Component 1 ({pca.explained_variance_ratio_[0]*100:.2f}%)')\n",
    "        ax_2d.set_ylabel(f'Principal Component 2 ({pca.explained_variance_ratio_[1]*100:.2f}%)')\n",
    "        plt.title(f'PCA Clustering for Basin {basin_geo_name}, Experiment {exp_id}')\n",
    "        plt.grid(True, linestyle='--', alpha=0.6) # Keep grid\n",
    "        plt.tight_layout(rect=[0, 0, 0.85, 1]) # Adjust layout to make space for the legend\n",
    "\n",
    "        # Save 2D plot\n",
    "        plt.savefig(os.path.join(basin_output_dir, f'PCA_Clustering_Basin_{basin_geo_name}_Exp_{exp_id}.png'))\n",
    "        plt.close(fig_2d) # Close the figure to free memory\n",
    "\n",
    "        print(f\"  Generated PCA plot for Basin {basin_geo_name}, Experiment {exp_id}\")\n",
    "\n",
    "    # --- Generate ARI Heatmap for the current basin (after processing all experiments) ---\n",
    "    # Use basin_experiment_clustering_results to get both labels and model lists\n",
    "    if len(basin_experiment_clustering_results) < 2:\n",
    "        print(f\"  Not enough experiments with valid clustering results for Basin {basin_id} to compute ARI heatmap. Skipping.\")\n",
    "        # Also skip disagreement plot if not enough data\n",
    "        if len(basin_experiment_disagreement_scores) < 2:\n",
    "            print(f\"  Not enough experiments with valid disagreement scores for Basin {basin_id} to plot. Skipping.\")\n",
    "        continue\n",
    "\n",
    "    # Filter experiment_ids to only include those that had valid clustering results\n",
    "    experiments_with_valid_results = list(basin_experiment_clustering_results.keys())\n",
    "    ari_matrix = np.zeros((len(experiments_with_valid_results), len(experiments_with_valid_results)))\n",
    "    ari_df = pd.DataFrame(ari_matrix, index=experiments_with_valid_results, columns=experiments_with_valid_results)\n",
    "\n",
    "    for i, exp1_id in enumerate(experiments_with_valid_results):\n",
    "        for j, exp2_id in enumerate(experiments_with_valid_results):\n",
    "            labels1_full, models1 = basin_experiment_clustering_results[exp1_id]\n",
    "            labels2_full, models2 = basin_experiment_clustering_results[exp2_id]\n",
    "            \n",
    "            # Find common models between the two experiments\n",
    "            common_models = sorted(list(set(models1).intersection(set(models2))))\n",
    "\n",
    "            if len(common_models) < 2: # Need at least 2 common models to compute ARI\n",
    "                ari_score = np.nan\n",
    "            else:\n",
    "                # Create aligned label arrays for only the common models\n",
    "                # Map model names to their original indices to get correct labels\n",
    "                model_to_idx1 = {model: idx for idx, model in enumerate(models1)}\n",
    "                model_to_idx2 = {model: idx for idx, model in enumerate(models2)}\n",
    "                \n",
    "                labels1_common = [labels1_full[model_to_idx1[m]] for m in common_models]\n",
    "                labels2_common = [labels2_full[model_to_idx2[m]] for m in common_models]\n",
    "                \n",
    "                ari_score = adjusted_rand_score(labels1_common, labels2_common)\n",
    "            \n",
    "            ari_df.iloc[i, j] = ari_score\n",
    "\n",
    "    # Plotting the ARI Heatmap\n",
    "    plt.figure(figsize=(12, 10))\n",
    "    sns.heatmap(ari_df, annot=True, cmap='viridis', fmt=\".2f\", linewidths=.5, linecolor='black')\n",
    "    plt.title(f'Adjusted Rand Index (ARI) Heatmap for Basin {basin_geo_name} Clusterings (Common Models)') # Use geo name in title\n",
    "    plt.xlabel('Experiment ID')\n",
    "    plt.ylabel('Experiment ID')\n",
    "    plt.tight_layout()\n",
    "    plt.savefig(os.path.join(basin_output_dir, f'ARI_Heatmap_Basin_{basin_geo_name}.png')) # Use geo name in filename\n",
    "    plt.close()\n",
    "    print(f\"  Generated ARI Heatmap for Basin {basin_geo_name}\")\n",
    "\n",
    "    # --- Generate Disagreement Score Bar Chart for the current basin ---\n",
    "    if len(basin_experiment_disagreement_scores) > 0:\n",
    "        disagreement_series = pd.Series(basin_experiment_disagreement_scores).sort_values(ascending=False)\n",
    "        \n",
    "        plt.figure(figsize=(12, 8))\n",
    "        sns.barplot(x=disagreement_series.index, y=disagreement_series.values, palette='viridis')\n",
    "        plt.title(f'Average Pairwise Disagreement (PCA Space) for Basin {basin_geo_name}')\n",
    "        plt.xlabel('Experiment ID')\n",
    "        plt.ylabel('Average Pairwise Euclidean Distance in PCA Space')\n",
    "        plt.xticks(rotation=45, ha='right')\n",
    "        plt.tight_layout()\n",
    "        plt.savefig(os.path.join(basin_output_dir, f'Disagreement_Bar_Basin_{basin_geo_name}.png'))\n",
    "        plt.show()\n",
    "        print(f\"  Generated Disagreement Score Bar Chart for Basin {basin_geo_name}\")\n",
    "    else:\n",
    "        print(f\"  No valid disagreement scores to plot for Basin {basin_id}. Skipping bar chart.\")\n",
    "\n",
    "\n",
    "print(\"\\n--- Analysis Complete ---\")\n"
   ]
  },
  {
   "cell_type": "code",
   "execution_count": null,
   "id": "957ed807",
   "metadata": {},
   "outputs": [],
   "source": []
  }
 ],
 "metadata": {
  "kernelspec": {
   "display_name": "Python 3 (ipykernel)",
   "language": "python",
   "name": "python3"
  },
  "language_info": {
   "codemirror_mode": {
    "name": "ipython",
    "version": 3
   },
   "file_extension": ".py",
   "mimetype": "text/x-python",
   "name": "python",
   "nbconvert_exporter": "python",
   "pygments_lexer": "ipython3",
   "version": "3.11.7"
  }
 },
 "nbformat": 4,
 "nbformat_minor": 5
}
